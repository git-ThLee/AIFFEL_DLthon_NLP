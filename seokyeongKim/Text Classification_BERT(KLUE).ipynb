{
  "cells": [
    {
      "cell_type": "markdown",
      "id": "fc4e044b",
      "metadata": {
        "id": "fc4e044b"
      },
      "source": [
        "# KLUE BERT를 이용한 DKTC 감정 분류\n",
        "<br>"
      ]
    },
    {
      "cell_type": "markdown",
      "id": "987c80b3",
      "metadata": {
        "id": "987c80b3"
      },
      "source": [
        "## 1. 데이터 로드 및 확인\n",
        "<br>"
      ]
    },
    {
      "cell_type": "markdown",
      "id": "9f00ff7d",
      "metadata": {
        "id": "9f00ff7d"
      },
      "source": [
        "#### 필요 라이브러리 가져오기\n",
        "<br>"
      ]
    },
    {
      "cell_type": "code",
      "source": [
        "!pip install transformers"
      ],
      "metadata": {
        "colab": {
          "base_uri": "https://localhost:8080/"
        },
        "id": "inGdornmU-65",
        "outputId": "896cc2ad-261f-42c8-bb32-66df56191508"
      },
      "id": "inGdornmU-65",
      "execution_count": null,
      "outputs": [
        {
          "output_type": "stream",
          "name": "stdout",
          "text": [
            "Collecting transformers\n",
            "  Downloading transformers-4.32.1-py3-none-any.whl (7.5 MB)\n",
            "\u001b[2K     \u001b[90m━━━━━━━━━━━━━━━━━━━━━━━━━━━━━━━━━━━━━━━━\u001b[0m \u001b[32m7.5/7.5 MB\u001b[0m \u001b[31m17.3 MB/s\u001b[0m eta \u001b[36m0:00:00\u001b[0m\n",
            "\u001b[?25hRequirement already satisfied: filelock in /usr/local/lib/python3.10/dist-packages (from transformers) (3.12.2)\n",
            "Collecting huggingface-hub<1.0,>=0.15.1 (from transformers)\n",
            "  Downloading huggingface_hub-0.16.4-py3-none-any.whl (268 kB)\n",
            "\u001b[2K     \u001b[90m━━━━━━━━━━━━━━━━━━━━━━━━━━━━━━━━━━━━━━\u001b[0m \u001b[32m268.8/268.8 kB\u001b[0m \u001b[31m22.6 MB/s\u001b[0m eta \u001b[36m0:00:00\u001b[0m\n",
            "\u001b[?25hRequirement already satisfied: numpy>=1.17 in /usr/local/lib/python3.10/dist-packages (from transformers) (1.23.5)\n",
            "Requirement already satisfied: packaging>=20.0 in /usr/local/lib/python3.10/dist-packages (from transformers) (23.1)\n",
            "Requirement already satisfied: pyyaml>=5.1 in /usr/local/lib/python3.10/dist-packages (from transformers) (6.0.1)\n",
            "Requirement already satisfied: regex!=2019.12.17 in /usr/local/lib/python3.10/dist-packages (from transformers) (2023.6.3)\n",
            "Requirement already satisfied: requests in /usr/local/lib/python3.10/dist-packages (from transformers) (2.31.0)\n",
            "Collecting tokenizers!=0.11.3,<0.14,>=0.11.1 (from transformers)\n",
            "  Downloading tokenizers-0.13.3-cp310-cp310-manylinux_2_17_x86_64.manylinux2014_x86_64.whl (7.8 MB)\n",
            "\u001b[2K     \u001b[90m━━━━━━━━━━━━━━━━━━━━━━━━━━━━━━━━━━━━━━━━\u001b[0m \u001b[32m7.8/7.8 MB\u001b[0m \u001b[31m41.1 MB/s\u001b[0m eta \u001b[36m0:00:00\u001b[0m\n",
            "\u001b[?25hCollecting safetensors>=0.3.1 (from transformers)\n",
            "  Downloading safetensors-0.3.3-cp310-cp310-manylinux_2_17_x86_64.manylinux2014_x86_64.whl (1.3 MB)\n",
            "\u001b[2K     \u001b[90m━━━━━━━━━━━━━━━━━━━━━━━━━━━━━━━━━━━━━━━━\u001b[0m \u001b[32m1.3/1.3 MB\u001b[0m \u001b[31m43.7 MB/s\u001b[0m eta \u001b[36m0:00:00\u001b[0m\n",
            "\u001b[?25hRequirement already satisfied: tqdm>=4.27 in /usr/local/lib/python3.10/dist-packages (from transformers) (4.66.1)\n",
            "Requirement already satisfied: fsspec in /usr/local/lib/python3.10/dist-packages (from huggingface-hub<1.0,>=0.15.1->transformers) (2023.6.0)\n",
            "Requirement already satisfied: typing-extensions>=3.7.4.3 in /usr/local/lib/python3.10/dist-packages (from huggingface-hub<1.0,>=0.15.1->transformers) (4.7.1)\n",
            "Requirement already satisfied: charset-normalizer<4,>=2 in /usr/local/lib/python3.10/dist-packages (from requests->transformers) (3.2.0)\n",
            "Requirement already satisfied: idna<4,>=2.5 in /usr/local/lib/python3.10/dist-packages (from requests->transformers) (3.4)\n",
            "Requirement already satisfied: urllib3<3,>=1.21.1 in /usr/local/lib/python3.10/dist-packages (from requests->transformers) (2.0.4)\n",
            "Requirement already satisfied: certifi>=2017.4.17 in /usr/local/lib/python3.10/dist-packages (from requests->transformers) (2023.7.22)\n",
            "Installing collected packages: tokenizers, safetensors, huggingface-hub, transformers\n",
            "Successfully installed huggingface-hub-0.16.4 safetensors-0.3.3 tokenizers-0.13.3 transformers-4.32.1\n"
          ]
        }
      ]
    },
    {
      "cell_type": "code",
      "source": [
        "!pip install soynlp"
      ],
      "metadata": {
        "colab": {
          "base_uri": "https://localhost:8080/"
        },
        "id": "u5hkeTU-VNYE",
        "outputId": "72a1d357-82ab-4f32-e361-2f043cfbcd94"
      },
      "id": "u5hkeTU-VNYE",
      "execution_count": null,
      "outputs": [
        {
          "output_type": "stream",
          "name": "stdout",
          "text": [
            "Collecting soynlp\n",
            "  Using cached soynlp-0.0.493-py3-none-any.whl (416 kB)\n",
            "Requirement already satisfied: numpy>=1.12.1 in /usr/local/lib/python3.10/dist-packages (from soynlp) (1.23.5)\n",
            "Requirement already satisfied: psutil>=5.0.1 in /usr/local/lib/python3.10/dist-packages (from soynlp) (5.9.5)\n",
            "Requirement already satisfied: scipy>=1.1.0 in /usr/local/lib/python3.10/dist-packages (from soynlp) (1.10.1)\n",
            "Requirement already satisfied: scikit-learn>=0.20.0 in /usr/local/lib/python3.10/dist-packages (from soynlp) (1.2.2)\n",
            "Requirement already satisfied: joblib>=1.1.1 in /usr/local/lib/python3.10/dist-packages (from scikit-learn>=0.20.0->soynlp) (1.3.2)\n",
            "Requirement already satisfied: threadpoolctl>=2.0.0 in /usr/local/lib/python3.10/dist-packages (from scikit-learn>=0.20.0->soynlp) (3.2.0)\n",
            "Installing collected packages: soynlp\n",
            "Successfully installed soynlp-0.0.493\n",
            "\u001b[33mWARNING: Running pip as the 'root' user can result in broken permissions and conflicting behaviour with the system package manager. It is recommended to use a virtual environment instead: https://pip.pypa.io/warnings/venv\u001b[0m\u001b[33m\n",
            "\u001b[0m"
          ]
        }
      ]
    },
    {
      "cell_type": "code",
      "source": [
        "!pip install konlpy"
      ],
      "metadata": {
        "colab": {
          "base_uri": "https://localhost:8080/"
        },
        "id": "wrw5EhNeVWHQ",
        "outputId": "3b5753d7-b5cb-462d-c426-8287d7b780a8"
      },
      "id": "wrw5EhNeVWHQ",
      "execution_count": null,
      "outputs": [
        {
          "output_type": "stream",
          "name": "stdout",
          "text": [
            "Collecting konlpy\n",
            "  Downloading konlpy-0.6.0-py2.py3-none-any.whl (19.4 MB)\n",
            "\u001b[2K     \u001b[90m━━━━━━━━━━━━━━━━━━━━━━━━━━━━━━━━━━━━━━━━\u001b[0m \u001b[32m19.4/19.4 MB\u001b[0m \u001b[31m40.7 MB/s\u001b[0m eta \u001b[36m0:00:00\u001b[0m\n",
            "\u001b[?25hCollecting JPype1>=0.7.0 (from konlpy)\n",
            "  Downloading JPype1-1.4.1-cp310-cp310-manylinux_2_12_x86_64.manylinux2010_x86_64.whl (465 kB)\n",
            "\u001b[2K     \u001b[90m━━━━━━━━━━━━━━━━━━━━━━━━━━━━━━━━━━━━━━\u001b[0m \u001b[32m465.3/465.3 kB\u001b[0m \u001b[31m40.4 MB/s\u001b[0m eta \u001b[36m0:00:00\u001b[0m\n",
            "\u001b[?25hRequirement already satisfied: lxml>=4.1.0 in /usr/local/lib/python3.10/dist-packages (from konlpy) (4.9.3)\n",
            "Requirement already satisfied: numpy>=1.6 in /usr/local/lib/python3.10/dist-packages (from konlpy) (1.23.5)\n",
            "Requirement already satisfied: packaging in /usr/local/lib/python3.10/dist-packages (from JPype1>=0.7.0->konlpy) (23.1)\n",
            "Installing collected packages: JPype1, konlpy\n",
            "Successfully installed JPype1-1.4.1 konlpy-0.6.0\n"
          ]
        }
      ]
    },
    {
      "cell_type": "code",
      "source": [
        "!apt-get update\n",
        "!apt-get install g++ openjdk-8-jdk python3-dev python3-pip curl\n",
        "!python3 -m pip install --upgrade pip\n",
        "!python3 -m pip install konlpy\n",
        "!curl -s https://raw.githubusercontent.com/konlpy/konlpy/master/scripts/mecab.sh | bash -x"
      ],
      "metadata": {
        "colab": {
          "base_uri": "https://localhost:8080/"
        },
        "id": "tmK58wTvVaNq",
        "outputId": "97d260f4-695e-49f3-c703-5fbfc86b2424"
      },
      "id": "tmK58wTvVaNq",
      "execution_count": null,
      "outputs": [
        {
          "output_type": "stream",
          "name": "stdout",
          "text": [
            "\r0% [Working]\r            \rGet:1 https://cloud.r-project.org/bin/linux/ubuntu jammy-cran40/ InRelease [3,626 B]\n",
            "Get:2 https://developer.download.nvidia.com/compute/cuda/repos/ubuntu2204/x86_64  InRelease [1,581 B]\n",
            "Get:3 https://developer.download.nvidia.com/compute/cuda/repos/ubuntu2204/x86_64  Packages [493 kB]\n",
            "Get:4 http://security.ubuntu.com/ubuntu jammy-security InRelease [110 kB]\n",
            "Hit:5 http://archive.ubuntu.com/ubuntu jammy InRelease\n",
            "Get:6 http://archive.ubuntu.com/ubuntu jammy-updates InRelease [119 kB]\n",
            "Get:7 https://ppa.launchpadcontent.net/c2d4u.team/c2d4u4.0+/ubuntu jammy InRelease [18.1 kB]\n",
            "Get:8 http://security.ubuntu.com/ubuntu jammy-security/universe amd64 Packages [990 kB]\n",
            "Get:9 http://archive.ubuntu.com/ubuntu jammy-backports InRelease [109 kB]\n",
            "Get:10 http://archive.ubuntu.com/ubuntu jammy-updates/universe amd64 Packages [1,251 kB]\n",
            "Get:11 https://ppa.launchpadcontent.net/deadsnakes/ppa/ubuntu jammy InRelease [18.1 kB]\n",
            "Get:12 http://security.ubuntu.com/ubuntu jammy-security/restricted amd64 Packages [960 kB]\n",
            "Get:13 http://security.ubuntu.com/ubuntu jammy-security/main amd64 Packages [903 kB]\n",
            "Get:14 http://archive.ubuntu.com/ubuntu jammy-updates/restricted amd64 Packages [1,004 kB]\n",
            "Get:15 http://archive.ubuntu.com/ubuntu jammy-updates/main amd64 Packages [1,179 kB]\n",
            "Get:16 https://ppa.launchpadcontent.net/graphics-drivers/ppa/ubuntu jammy InRelease [24.3 kB]\n",
            "0% [Connecting to ppa.launchpadcontent.net (185.125.190.52)]^C\n",
            "Reading package lists... Done\n",
            "Building dependency tree... Done\n",
            "Reading state information... Done\n",
            "g++ is already the newest version (4:11.2.0-1ubuntu1).\n",
            "g++ set to manually installed.\n",
            "curl is already the newest version (7.81.0-1ubuntu1.13).\n",
            "python3-dev is already the newest version (3.10.6-1~22.04).\n",
            "python3-dev set to manually installed.\n",
            "The following additional packages will be installed:\n",
            "  fonts-dejavu-core fonts-dejavu-extra libatk-wrapper-java\n",
            "  libatk-wrapper-java-jni libfontenc1 libgail-common libgail18 libgtk2.0-0\n",
            "  libgtk2.0-bin libgtk2.0-common libice-dev librsvg2-common libsm-dev\n",
            "  libxkbfile1 libxt-dev libxtst6 libxxf86dga1 openjdk-8-jdk-headless\n",
            "  openjdk-8-jre openjdk-8-jre-headless python3-setuptools python3-wheel\n",
            "  x11-utils\n",
            "Suggested packages:\n",
            "  gvfs libice-doc libsm-doc libxt-doc openjdk-8-demo openjdk-8-source visualvm\n",
            "  libnss-mdns fonts-nanum fonts-ipafont-gothic fonts-ipafont-mincho\n",
            "  fonts-wqy-microhei fonts-wqy-zenhei fonts-indic python-setuptools-doc\n",
            "  mesa-utils\n",
            "The following NEW packages will be installed:\n",
            "  fonts-dejavu-core fonts-dejavu-extra libatk-wrapper-java\n",
            "  libatk-wrapper-java-jni libfontenc1 libgail-common libgail18 libgtk2.0-0\n",
            "  libgtk2.0-bin libgtk2.0-common libice-dev librsvg2-common libsm-dev\n",
            "  libxkbfile1 libxt-dev libxtst6 libxxf86dga1 openjdk-8-jdk\n",
            "  openjdk-8-jdk-headless openjdk-8-jre openjdk-8-jre-headless python3-pip\n",
            "  python3-setuptools python3-wheel x11-utils\n",
            "0 upgraded, 25 newly installed, 0 to remove and 16 not upgraded.\n",
            "Need to get 51.7 MB of archives.\n",
            "After this operation, 178 MB of additional disk space will be used.\n",
            "Get:1 http://archive.ubuntu.com/ubuntu jammy/main amd64 fonts-dejavu-core all 2.37-2build1 [1,041 kB]\n",
            "Get:2 http://archive.ubuntu.com/ubuntu jammy/main amd64 fonts-dejavu-extra all 2.37-2build1 [2,041 kB]\n",
            "Get:3 http://archive.ubuntu.com/ubuntu jammy/main amd64 libfontenc1 amd64 1:1.1.4-1build3 [14.7 kB]\n",
            "Get:4 http://archive.ubuntu.com/ubuntu jammy/main amd64 libxkbfile1 amd64 1:1.1.0-1build3 [71.8 kB]\n",
            "Get:5 http://archive.ubuntu.com/ubuntu jammy/main amd64 libxtst6 amd64 2:1.2.3-1build4 [13.4 kB]\n",
            "Get:6 http://archive.ubuntu.com/ubuntu jammy/main amd64 libxxf86dga1 amd64 2:1.1.5-0ubuntu3 [12.6 kB]\n",
            "Get:7 http://archive.ubuntu.com/ubuntu jammy/main amd64 x11-utils amd64 7.7+5build2 [206 kB]\n",
            "Get:8 http://archive.ubuntu.com/ubuntu jammy/main amd64 libatk-wrapper-java all 0.38.0-5build1 [53.1 kB]\n",
            "Get:9 http://archive.ubuntu.com/ubuntu jammy/main amd64 libatk-wrapper-java-jni amd64 0.38.0-5build1 [49.0 kB]\n",
            "Get:10 http://archive.ubuntu.com/ubuntu jammy/main amd64 libgtk2.0-common all 2.24.33-2ubuntu2 [125 kB]\n",
            "Get:11 http://archive.ubuntu.com/ubuntu jammy/main amd64 libgtk2.0-0 amd64 2.24.33-2ubuntu2 [2,037 kB]\n",
            "14% [11 libgtk2.0-0 0 B/2,037 kB 0%]^C\n",
            "Requirement already satisfied: pip in /usr/local/lib/python3.10/dist-packages (23.1.2)\n",
            "Collecting pip\n",
            "  Downloading pip-23.2.1-py3-none-any.whl (2.1 MB)\n",
            "\u001b[2K     \u001b[90m━━━━━━━━━━━━━━━━━━━━━━━━━━━━━━━━━━━━━━━━\u001b[0m \u001b[32m2.1/2.1 MB\u001b[0m \u001b[31m19.9 MB/s\u001b[0m eta \u001b[36m0:00:00\u001b[0m\n",
            "\u001b[?25hInstalling collected packages: pip\n",
            "  Attempting uninstall: pip\n",
            "    Found existing installation: pip 23.1.2\n",
            "    Uninstalling pip-23.1.2:\n",
            "      Successfully uninstalled pip-23.1.2\n",
            "Successfully installed pip-23.2.1\n",
            "Requirement already satisfied: konlpy in /usr/local/lib/python3.10/dist-packages (0.6.0)\n",
            "Requirement already satisfied: JPype1>=0.7.0 in /usr/local/lib/python3.10/dist-packages (from konlpy) (1.4.1)\n",
            "Requirement already satisfied: lxml>=4.1.0 in /usr/local/lib/python3.10/dist-packages (from konlpy) (4.9.3)\n",
            "Requirement already satisfied: numpy>=1.6 in /usr/local/lib/python3.10/dist-packages (from konlpy) (1.23.5)\n",
            "Requirement already satisfied: packaging in /usr/local/lib/python3.10/dist-packages (from JPype1>=0.7.0->konlpy) (23.1)\n",
            "Traceback (most recent call last):\n",
            "  File \"/usr/local/lib/python3.10/dist-packages/pip/_vendor/pkg_resources/__init__.py\", line 3109, in _dep_map\n",
            "    return self.__dep_map\n",
            "  File \"/usr/local/lib/python3.10/dist-packages/pip/_vendor/pkg_resources/__init__.py\", line 2902, in __getattr__\n",
            "    raise AttributeError(attr)\n",
            "AttributeError: _DistInfoDistribution__dep_map\n",
            "\n",
            "During handling of the above exception, another exception occurred:\n",
            "\n",
            "Traceback (most recent call last):\n",
            "  File \"/usr/local/lib/python3.10/dist-packages/pip/_internal/cli/base_command.py\", line 180, in exc_logging_wrapper\n",
            "    status = run_func(*args)\n",
            "  File \"/usr/local/lib/python3.10/dist-packages/pip/_internal/cli/req_command.py\", line 248, in wrapper\n",
            "    return func(self, options, args)\n",
            "  File \"/usr/local/lib/python3.10/dist-packages/pip/_internal/commands/install.py\", line 444, in run\n",
            "    conflicts = self._determine_conflicts(to_install)\n",
            "  File \"/usr/local/lib/python3.10/dist-packages/pip/_internal/commands/install.py\", line 575, in _determine_conflicts\n",
            "    return check_install_conflicts(to_install)\n",
            "  File \"/usr/local/lib/python3.10/dist-packages/pip/_internal/operations/check.py\", line 106, in check_install_conflicts\n",
            "    package_set, _ = create_package_set_from_installed()\n",
            "  File \"/usr/local/lib/python3.10/dist-packages/pip/_internal/operations/check.py\", line 45, in create_package_set_from_installed\n",
            "    dependencies = list(dist.iter_dependencies())\n",
            "  File \"/usr/local/lib/python3.10/dist-packages/pip/_internal/metadata/pkg_resources.py\", line 216, in iter_dependencies\n",
            "    return self._dist.requires(extras)\n",
            "  File \"/usr/local/lib/python3.10/dist-packages/pip/_vendor/pkg_resources/__init__.py\", line 2822, in requires\n",
            "    dm = self._dep_map\n",
            "  File \"/usr/local/lib/python3.10/dist-packages/pip/_vendor/pkg_resources/__init__.py\", line 3111, in _dep_map\n",
            "    self.__dep_map = self._compute_dependencies()\n",
            "  File \"/usr/local/lib/python3.10/dist-packages/pip/_vendor/pkg_resources/__init__.py\", line 3121, in _compute_dependencies\n",
            "    reqs.extend(parse_requirements(req))\n",
            "  File \"/usr/local/lib/python3.10/dist-packages/pip/_vendor/pkg_resources/__init__.py\", line 3174, in __init__\n",
            "    super(Requirement, self).__init__(requirement_string)\n",
            "  File \"/usr/local/lib/python3.10/dist-packages/pip/_vendor/packaging/requirements.py\", line 102, in __init__\n",
            "    req = REQUIREMENT.parseString(requirement_string)\n",
            "  File \"/usr/local/lib/python3.10/dist-packages/pip/_vendor/pyparsing/util.py\", line 256, in _inner\n",
            "    return fn(self, *args, **kwargs)\n",
            "  File \"/usr/local/lib/python3.10/dist-packages/pip/_vendor/pyparsing/core.py\", line 1180, in parse_string\n",
            "    loc, tokens = self._parse(instring, 0)\n",
            "  File \"/usr/local/lib/python3.10/dist-packages/pip/_vendor/pyparsing/core.py\", line 845, in _parseNoCache\n",
            "    loc, tokens = self.parseImpl(instring, pre_loc, doActions)\n",
            "  File \"/usr/local/lib/python3.10/dist-packages/pip/_vendor/pyparsing/core.py\", line 4038, in parseImpl\n",
            "    loc, exprtokens = e._parse(instring, loc, doActions)\n",
            "  File \"/usr/local/lib/python3.10/dist-packages/pip/_vendor/pyparsing/core.py\", line 845, in _parseNoCache\n",
            "    loc, tokens = self.parseImpl(instring, pre_loc, doActions)\n",
            "  File \"/usr/local/lib/python3.10/dist-packages/pip/_vendor/pyparsing/core.py\", line 4548, in parseImpl\n",
            "    return self.expr._parse(instring, loc, doActions, callPreParse=False)\n",
            "  File \"/usr/local/lib/python3.10/dist-packages/pip/_vendor/pyparsing/core.py\", line 845, in _parseNoCache\n",
            "    loc, tokens = self.parseImpl(instring, pre_loc, doActions)\n",
            "  File \"/usr/local/lib/python3.10/dist-packages/pip/_vendor/pyparsing/core.py\", line 4038, in parseImpl\n",
            "    loc, exprtokens = e._parse(instring, loc, doActions)\n",
            "  File \"/usr/local/lib/python3.10/dist-packages/pip/_vendor/pyparsing/core.py\", line 845, in _parseNoCache\n",
            "    loc, tokens = self.parseImpl(instring, pre_loc, doActions)\n",
            "  File \"/usr/local/lib/python3.10/dist-packages/pip/_vendor/pyparsing/core.py\", line 5080, in parseImpl\n",
            "    return super().parseImpl(instring, loc, doActions)\n",
            "  File \"/usr/local/lib/python3.10/dist-packages/pip/_vendor/pyparsing/core.py\", line 4978, in parseImpl\n",
            "    loc, tokens = self_expr_parse(instring, loc, doActions)\n",
            "  File \"/usr/local/lib/python3.10/dist-packages/pip/_vendor/pyparsing/core.py\", line 845, in _parseNoCache\n",
            "    loc, tokens = self.parseImpl(instring, pre_loc, doActions)\n",
            "  File \"/usr/local/lib/python3.10/dist-packages/pip/_vendor/pyparsing/core.py\", line 4272, in parseImpl\n",
            "    return e._parse(\n",
            "  File \"/usr/local/lib/python3.10/dist-packages/pip/_vendor/pyparsing/core.py\", line 849, in _parseNoCache\n",
            "    loc, tokens = self.parseImpl(instring, pre_loc, doActions)\n",
            "  File \"/usr/local/lib/python3.10/dist-packages/pip/_vendor/pyparsing/core.py\", line 2983, in parseImpl_regex\n",
            "    result = self.re_match(instring, loc)\n",
            "KeyboardInterrupt\n",
            "\n",
            "During handling of the above exception, another exception occurred:\n",
            "\n",
            "Traceback (most recent call last):\n",
            "  File \"/usr/lib/python3.10/runpy.py\", line 196, in _run_module_as_main\n",
            "    return _run_code(code, main_globals, None,\n",
            "  File \"/usr/lib/python3.10/runpy.py\", line 86, in _run_code\n",
            "    exec(code, run_globals)\n",
            "  File \"/usr/local/lib/python3.10/dist-packages/pip/__main__.py\", line 24, in <module>\n",
            "    sys.exit(_main())\n",
            "  File \"/usr/local/lib/python3.10/dist-packages/pip/_internal/cli/main.py\", line 79, in main\n",
            "    return command.main(cmd_args)\n",
            "  File \"/usr/local/lib/python3.10/dist-packages/pip/_internal/cli/base_command.py\", line 101, in main\n",
            "    return self._main(args)\n",
            "  File \"/usr/local/lib/python3.10/dist-packages/pip/_internal/cli/base_command.py\", line 234, in _main\n",
            "    return run(options, args)\n",
            "  File \"/usr/local/lib/python3.10/dist-packages/pip/_internal/cli/base_command.py\", line 217, in exc_logging_wrapper\n",
            "    logger.critical(\"Operation cancelled by user\")\n",
            "  File \"/usr/lib/python3.10/logging/__init__.py\", line 1524, in critical\n",
            "    self._log(CRITICAL, msg, args, **kwargs)\n",
            "  File \"/usr/lib/python3.10/logging/__init__.py\", line 1622, in _log\n",
            "    record = self.makeRecord(self.name, level, fn, lno, msg, args,\n",
            "  File \"/usr/lib/python3.10/logging/__init__.py\", line 1591, in makeRecord\n",
            "    rv = _logRecordFactory(name, level, fn, lno, msg, args, exc_info, func,\n",
            "  File \"/usr/lib/python3.10/logging/__init__.py\", line 309, in __init__\n",
            "    if (args and len(args) == 1 and isinstance(args[0], collections.abc.Mapping)\n",
            "KeyboardInterrupt\n",
            "^C\n",
            "+ mecab_dicdir=/usr/local/lib/mecab/dic/mecab-ko-dic\n",
            "+ set -e\n",
            "++ uname\n",
            "+ os=Linux\n",
            "+ [[ ! Linux == \\L\\i\\n\\u\\x ]]\n",
            "+ hash sudo\n",
            "+ sudo=sudo\n",
            "+ python=python3\n",
            "+ hash pyenv\n",
            "+ at_user_site=\n",
            "++ check_python_site_location_is_writable\n",
            "++ python3 -\n",
            "+ [[ 1 == \\0 ]]\n",
            "+ hash automake\n",
            "+ hash mecab\n",
            "+ echo 'Install mecab-ko'\n",
            "Install mecab-ko\n",
            "+ install_mecab_ko\n",
            "+ cd /tmp\n",
            "+ curl -LO https://bitbucket.org/eunjeon/mecab-ko/downloads/mecab-0.996-ko-0.9.2.tar.gz\n",
            "  % Total    % Received % Xferd  Average Speed   Time    Time     Time  Current\n",
            "                                 Dload  Upload   Total   Spent    Left  Speed\n",
            "  0     0    0     0    0     0      0      0 --:--:-- --:--:-- --:--:--     0\n",
            "  0 1381k    0     0    0     0      0      0 --:--:--  0:00:01 --:--:--     0^C\n"
          ]
        }
      ]
    },
    {
      "cell_type": "code",
      "execution_count": null,
      "id": "738b3575",
      "metadata": {
        "id": "738b3575"
      },
      "outputs": [],
      "source": [
        "import pandas as pd\n",
        "import numpy as np\n",
        "import re\n",
        "import urllib.request\n",
        "import os\n",
        "from tqdm import tqdm\n",
        "import tensorflow as tf\n",
        "from transformers import BertTokenizer, TFBertModel\n",
        "from soynlp.normalizer import *\n",
        "import matplotlib.pyplot as plt\n",
        "import seaborn as sns\n",
        "import collections\n",
        "from sklearn.feature_extraction.text import CountVectorizer\n",
        "from wordcloud import WordCloud, STOPWORDS"
      ]
    },
    {
      "cell_type": "markdown",
      "id": "35b9cd5c",
      "metadata": {
        "id": "35b9cd5c"
      },
      "source": [
        "<br>"
      ]
    },
    {
      "cell_type": "markdown",
      "id": "ecc1e87d",
      "metadata": {
        "id": "ecc1e87d"
      },
      "source": [
        "#### 데이터 셋(DKTC) 가져오기\n",
        "<br>"
      ]
    },
    {
      "cell_type": "code",
      "execution_count": null,
      "id": "6edc00f8",
      "metadata": {
        "id": "6edc00f8"
      },
      "outputs": [],
      "source": [
        "#### 데이터 가져오기"
      ]
    },
    {
      "cell_type": "code",
      "source": [
        "from google.colab import drive\n",
        "drive.mount('/content/drive')"
      ],
      "metadata": {
        "colab": {
          "base_uri": "https://localhost:8080/"
        },
        "id": "BXc3ug3pUtLT",
        "outputId": "d5879d77-3824-4fde-9f34-8c1b95167aef"
      },
      "id": "BXc3ug3pUtLT",
      "execution_count": null,
      "outputs": [
        {
          "output_type": "stream",
          "name": "stdout",
          "text": [
            "Mounted at /content/drive\n"
          ]
        }
      ]
    },
    {
      "cell_type": "code",
      "execution_count": null,
      "id": "16cb4786",
      "metadata": {
        "id": "16cb4786"
      },
      "outputs": [],
      "source": [
        "train_data = pd.read_csv('/content/drive/MyDrive/Colab/05_Colab_AIFFEL_2023/10_Main_Quest_03/data/train.csv')"
      ]
    },
    {
      "cell_type": "code",
      "execution_count": null,
      "id": "582d6d2d",
      "metadata": {
        "colab": {
          "base_uri": "https://localhost:8080/"
        },
        "id": "582d6d2d",
        "outputId": "1f31cc5a-c981-44fb-e291-ffff2d76b5fb"
      },
      "outputs": [
        {
          "output_type": "stream",
          "name": "stdout",
          "text": [
            "훈련용 문단 개수 : 3950\n"
          ]
        }
      ],
      "source": [
        "print('훈련용 문단 개수 :',len(train_data))"
      ]
    },
    {
      "cell_type": "code",
      "execution_count": null,
      "id": "047ba696",
      "metadata": {
        "colab": {
          "base_uri": "https://localhost:8080/",
          "height": 293
        },
        "id": "047ba696",
        "outputId": "897b269e-b719-455b-bab7-16951324d5ad"
      },
      "outputs": [
        {
          "output_type": "execute_result",
          "data": {
            "text/plain": [
              "   idx      class                                       conversation\n",
              "0    0      협박 대화  지금 너 스스로를 죽여달라고 애원하는 것인가?\\n 아닙니다. 죄송합니다.\\n 죽을 ...\n",
              "1    1      협박 대화  길동경찰서입니다.\\n9시 40분 마트에 폭발물을 설치할거다.\\n네?\\n똑바로 들어 ...\n",
              "2    2  기타 괴롭힘 대화  너 되게 귀여운거 알지? 나보다 작은 남자는 첨봤어.\\n그만해. 니들 놀리는거 재미...\n",
              "3    3      갈취 대화  어이 거기\\n예??\\n너 말이야 너. 이리 오라고\\n무슨 일.\\n너 옷 좋아보인다?...\n",
              "4    4      갈취 대화  저기요 혹시 날이 너무 뜨겁잖아요? 저희 회사에서 이 선크림 파는데 한 번 손등에 ..."
            ],
            "text/html": [
              "\n",
              "  <div id=\"df-953cc9d5-5579-430a-8c7f-e2ecc7036fd5\" class=\"colab-df-container\">\n",
              "    <div>\n",
              "<style scoped>\n",
              "    .dataframe tbody tr th:only-of-type {\n",
              "        vertical-align: middle;\n",
              "    }\n",
              "\n",
              "    .dataframe tbody tr th {\n",
              "        vertical-align: top;\n",
              "    }\n",
              "\n",
              "    .dataframe thead th {\n",
              "        text-align: right;\n",
              "    }\n",
              "</style>\n",
              "<table border=\"1\" class=\"dataframe\">\n",
              "  <thead>\n",
              "    <tr style=\"text-align: right;\">\n",
              "      <th></th>\n",
              "      <th>idx</th>\n",
              "      <th>class</th>\n",
              "      <th>conversation</th>\n",
              "    </tr>\n",
              "  </thead>\n",
              "  <tbody>\n",
              "    <tr>\n",
              "      <th>0</th>\n",
              "      <td>0</td>\n",
              "      <td>협박 대화</td>\n",
              "      <td>지금 너 스스로를 죽여달라고 애원하는 것인가?\\n 아닙니다. 죄송합니다.\\n 죽을 ...</td>\n",
              "    </tr>\n",
              "    <tr>\n",
              "      <th>1</th>\n",
              "      <td>1</td>\n",
              "      <td>협박 대화</td>\n",
              "      <td>길동경찰서입니다.\\n9시 40분 마트에 폭발물을 설치할거다.\\n네?\\n똑바로 들어 ...</td>\n",
              "    </tr>\n",
              "    <tr>\n",
              "      <th>2</th>\n",
              "      <td>2</td>\n",
              "      <td>기타 괴롭힘 대화</td>\n",
              "      <td>너 되게 귀여운거 알지? 나보다 작은 남자는 첨봤어.\\n그만해. 니들 놀리는거 재미...</td>\n",
              "    </tr>\n",
              "    <tr>\n",
              "      <th>3</th>\n",
              "      <td>3</td>\n",
              "      <td>갈취 대화</td>\n",
              "      <td>어이 거기\\n예??\\n너 말이야 너. 이리 오라고\\n무슨 일.\\n너 옷 좋아보인다?...</td>\n",
              "    </tr>\n",
              "    <tr>\n",
              "      <th>4</th>\n",
              "      <td>4</td>\n",
              "      <td>갈취 대화</td>\n",
              "      <td>저기요 혹시 날이 너무 뜨겁잖아요? 저희 회사에서 이 선크림 파는데 한 번 손등에 ...</td>\n",
              "    </tr>\n",
              "  </tbody>\n",
              "</table>\n",
              "</div>\n",
              "    <div class=\"colab-df-buttons\">\n",
              "\n",
              "  <div class=\"colab-df-container\">\n",
              "    <button class=\"colab-df-convert\" onclick=\"convertToInteractive('df-953cc9d5-5579-430a-8c7f-e2ecc7036fd5')\"\n",
              "            title=\"Convert this dataframe to an interactive table.\"\n",
              "            style=\"display:none;\">\n",
              "\n",
              "  <svg xmlns=\"http://www.w3.org/2000/svg\" height=\"24px\" viewBox=\"0 -960 960 960\">\n",
              "    <path d=\"M120-120v-720h720v720H120Zm60-500h600v-160H180v160Zm220 220h160v-160H400v160Zm0 220h160v-160H400v160ZM180-400h160v-160H180v160Zm440 0h160v-160H620v160ZM180-180h160v-160H180v160Zm440 0h160v-160H620v160Z\"/>\n",
              "  </svg>\n",
              "    </button>\n",
              "\n",
              "  <style>\n",
              "    .colab-df-container {\n",
              "      display:flex;\n",
              "      gap: 12px;\n",
              "    }\n",
              "\n",
              "    .colab-df-convert {\n",
              "      background-color: #E8F0FE;\n",
              "      border: none;\n",
              "      border-radius: 50%;\n",
              "      cursor: pointer;\n",
              "      display: none;\n",
              "      fill: #1967D2;\n",
              "      height: 32px;\n",
              "      padding: 0 0 0 0;\n",
              "      width: 32px;\n",
              "    }\n",
              "\n",
              "    .colab-df-convert:hover {\n",
              "      background-color: #E2EBFA;\n",
              "      box-shadow: 0px 1px 2px rgba(60, 64, 67, 0.3), 0px 1px 3px 1px rgba(60, 64, 67, 0.15);\n",
              "      fill: #174EA6;\n",
              "    }\n",
              "\n",
              "    .colab-df-buttons div {\n",
              "      margin-bottom: 4px;\n",
              "    }\n",
              "\n",
              "    [theme=dark] .colab-df-convert {\n",
              "      background-color: #3B4455;\n",
              "      fill: #D2E3FC;\n",
              "    }\n",
              "\n",
              "    [theme=dark] .colab-df-convert:hover {\n",
              "      background-color: #434B5C;\n",
              "      box-shadow: 0px 1px 3px 1px rgba(0, 0, 0, 0.15);\n",
              "      filter: drop-shadow(0px 1px 2px rgba(0, 0, 0, 0.3));\n",
              "      fill: #FFFFFF;\n",
              "    }\n",
              "  </style>\n",
              "\n",
              "    <script>\n",
              "      const buttonEl =\n",
              "        document.querySelector('#df-953cc9d5-5579-430a-8c7f-e2ecc7036fd5 button.colab-df-convert');\n",
              "      buttonEl.style.display =\n",
              "        google.colab.kernel.accessAllowed ? 'block' : 'none';\n",
              "\n",
              "      async function convertToInteractive(key) {\n",
              "        const element = document.querySelector('#df-953cc9d5-5579-430a-8c7f-e2ecc7036fd5');\n",
              "        const dataTable =\n",
              "          await google.colab.kernel.invokeFunction('convertToInteractive',\n",
              "                                                    [key], {});\n",
              "        if (!dataTable) return;\n",
              "\n",
              "        const docLinkHtml = 'Like what you see? Visit the ' +\n",
              "          '<a target=\"_blank\" href=https://colab.research.google.com/notebooks/data_table.ipynb>data table notebook</a>'\n",
              "          + ' to learn more about interactive tables.';\n",
              "        element.innerHTML = '';\n",
              "        dataTable['output_type'] = 'display_data';\n",
              "        await google.colab.output.renderOutput(dataTable, element);\n",
              "        const docLink = document.createElement('div');\n",
              "        docLink.innerHTML = docLinkHtml;\n",
              "        element.appendChild(docLink);\n",
              "      }\n",
              "    </script>\n",
              "  </div>\n",
              "\n",
              "\n",
              "<div id=\"df-2f9ae055-bfff-4359-b465-8a984ff0462f\">\n",
              "  <button class=\"colab-df-quickchart\" onclick=\"quickchart('df-2f9ae055-bfff-4359-b465-8a984ff0462f')\"\n",
              "            title=\"Suggest charts.\"\n",
              "            style=\"display:none;\">\n",
              "\n",
              "<svg xmlns=\"http://www.w3.org/2000/svg\" height=\"24px\"viewBox=\"0 0 24 24\"\n",
              "     width=\"24px\">\n",
              "    <g>\n",
              "        <path d=\"M19 3H5c-1.1 0-2 .9-2 2v14c0 1.1.9 2 2 2h14c1.1 0 2-.9 2-2V5c0-1.1-.9-2-2-2zM9 17H7v-7h2v7zm4 0h-2V7h2v10zm4 0h-2v-4h2v4z\"/>\n",
              "    </g>\n",
              "</svg>\n",
              "  </button>\n",
              "\n",
              "<style>\n",
              "  .colab-df-quickchart {\n",
              "    background-color: #E8F0FE;\n",
              "    border: none;\n",
              "    border-radius: 50%;\n",
              "    cursor: pointer;\n",
              "    display: none;\n",
              "    fill: #1967D2;\n",
              "    height: 32px;\n",
              "    padding: 0 0 0 0;\n",
              "    width: 32px;\n",
              "  }\n",
              "\n",
              "  .colab-df-quickchart:hover {\n",
              "    background-color: #E2EBFA;\n",
              "    box-shadow: 0px 1px 2px rgba(60, 64, 67, 0.3), 0px 1px 3px 1px rgba(60, 64, 67, 0.15);\n",
              "    fill: #174EA6;\n",
              "  }\n",
              "\n",
              "  [theme=dark] .colab-df-quickchart {\n",
              "    background-color: #3B4455;\n",
              "    fill: #D2E3FC;\n",
              "  }\n",
              "\n",
              "  [theme=dark] .colab-df-quickchart:hover {\n",
              "    background-color: #434B5C;\n",
              "    box-shadow: 0px 1px 3px 1px rgba(0, 0, 0, 0.15);\n",
              "    filter: drop-shadow(0px 1px 2px rgba(0, 0, 0, 0.3));\n",
              "    fill: #FFFFFF;\n",
              "  }\n",
              "</style>\n",
              "\n",
              "  <script>\n",
              "    async function quickchart(key) {\n",
              "      const charts = await google.colab.kernel.invokeFunction(\n",
              "          'suggestCharts', [key], {});\n",
              "    }\n",
              "    (() => {\n",
              "      let quickchartButtonEl =\n",
              "        document.querySelector('#df-2f9ae055-bfff-4359-b465-8a984ff0462f button');\n",
              "      quickchartButtonEl.style.display =\n",
              "        google.colab.kernel.accessAllowed ? 'block' : 'none';\n",
              "    })();\n",
              "  </script>\n",
              "</div>\n",
              "    </div>\n",
              "  </div>\n"
            ]
          },
          "metadata": {},
          "execution_count": 8
        }
      ],
      "source": [
        "train_data.head()"
      ]
    },
    {
      "cell_type": "markdown",
      "id": "57da1a37",
      "metadata": {
        "id": "57da1a37"
      },
      "source": [
        "<br>"
      ]
    },
    {
      "cell_type": "markdown",
      "id": "85c2032d",
      "metadata": {
        "id": "85c2032d"
      },
      "source": [
        "#### 세부 데이터 확인\n",
        "<br>"
      ]
    },
    {
      "cell_type": "code",
      "execution_count": null,
      "id": "1c440b5f",
      "metadata": {
        "id": "1c440b5f"
      },
      "outputs": [],
      "source": [
        "# class별 데이터 내용 확인"
      ]
    },
    {
      "cell_type": "code",
      "execution_count": null,
      "id": "83185e44",
      "metadata": {
        "colab": {
          "base_uri": "https://localhost:8080/"
        },
        "id": "83185e44",
        "outputId": "a8cac59f-ec47-41b2-cab9-76bf1012c119"
      },
      "outputs": [
        {
          "output_type": "stream",
          "name": "stdout",
          "text": [
            "지금 너 스스로를 죽여달라고 애원하는 것인가?\n",
            " 아닙니다. 죄송합니다.\n",
            " 죽을 거면 혼자 죽지 우리까지 사건에 휘말리게 해? 진짜 죽여버리고 싶게.\n",
            " 정말 잘못했습니다.\n",
            " 너가 선택해. 너가 죽을래 네 가족을 죽여줄까.\n",
            " 죄송합니다. 정말 잘못했습니다.\n",
            " 너에게는 선택권이 없어. 선택 못한다면 너와 네 가족까지 모조리 죽여버릴거야.\n",
            " 선택 못하겠습니다. 한번만 도와주세요.\n",
            " 그냥 다 죽여버려야겠군. 이의 없지?\n",
            " 제발 도와주세요.\n"
          ]
        }
      ],
      "source": [
        "print(train_data['conversation'][0]) # 협박"
      ]
    },
    {
      "cell_type": "code",
      "execution_count": null,
      "id": "5a276128",
      "metadata": {
        "colab": {
          "base_uri": "https://localhost:8080/"
        },
        "id": "5a276128",
        "outputId": "854e2bba-44e4-4774-c1aa-69167dc54518"
      },
      "outputs": [
        {
          "output_type": "stream",
          "name": "stdout",
          "text": [
            "너 되게 귀여운거 알지? 나보다 작은 남자는 첨봤어.\n",
            "그만해. 니들 놀리는거 재미없어.\n",
            "지영아 너가 키 160이지? 그럼 재는 160도 안돼는거네?\n",
            "너 군대도 안가고 좋겠다.\n",
            "니들이 나 작은데 보태준거 있냐?\n",
            "난쟁이들도 장가가고하던데. 너도 희망을 가져봐 \n",
            "더이상 하지마라. \n",
            "그 키크는 수술도 있대잖아? 니네 엄마는 그거 안해주디?\n",
            "나람 해줬어. 저 키로 어찌살아.\n",
            "제발 그만 괴롭히라고!\n"
          ]
        }
      ],
      "source": [
        "print(train_data['conversation'][2]) # 기타 괴롭힘"
      ]
    },
    {
      "cell_type": "code",
      "execution_count": null,
      "id": "781fdc6e",
      "metadata": {
        "colab": {
          "base_uri": "https://localhost:8080/"
        },
        "id": "781fdc6e",
        "outputId": "1ad978e8-416a-468d-f119-837045795f61"
      },
      "outputs": [
        {
          "output_type": "stream",
          "name": "stdout",
          "text": [
            "어이 거기\n",
            "예??\n",
            "너 말이야 너. 이리 오라고\n",
            "무슨 일.\n",
            "너 옷 좋아보인다?\n",
            "얘 돈 좀 있나봐\n",
            "아니에요.돈 없어요\n",
            "뒤져서 나오면 넌 죽는다\n",
            "오늘 피시방 콜?\n",
            "콜. 마지막 기회다. 있는거 다 내놔\n",
            "정말 없어요\n"
          ]
        }
      ],
      "source": [
        "print(train_data['conversation'][3]) # 갈취"
      ]
    },
    {
      "cell_type": "code",
      "execution_count": null,
      "id": "73d6e6b2",
      "metadata": {
        "colab": {
          "base_uri": "https://localhost:8080/"
        },
        "id": "73d6e6b2",
        "outputId": "3d8d70bd-44ef-4a30-c656-ceeb22e97cd1"
      },
      "outputs": [
        {
          "output_type": "stream",
          "name": "stdout",
          "text": [
            "나는 씨 같은 사람 보면 참 신기하더라. 어떻게 저렇게 살지.\n",
            "왜 그래. 들리겠어.\n",
            "들리라고 해. 아니 일 못해 눈치 없어. 본인도 슬슬 깨달아야 되지 않나?\n",
            "하긴 그래서 저번에 부장님도.\n",
            "그렇다니깐! 부장님이 진짜 착하신 분인데 오죽 답답했으면 말을 했겠어?\n",
            "그러게.\n",
            "회사생활 같이 한게 몇년인데 대답 하나 제대로 네 하고 싹싹하게 하는걸 못봤어.\n",
            "나도 그건 못본거 같다.\n",
            "지금도 그래. 야 야! 너 바로 앞에서 얘기하는데 귀가 먹어서 안들리는거니 안들리는척 하는거니? 뭐 말 좀 해봐?\n",
            "야 너 왜 그래.\n",
            "말씀이 너무 심하신거 아니에요?\n"
          ]
        }
      ],
      "source": [
        "print(train_data['conversation'][3947]) # 직장 내 괴롭힘"
      ]
    },
    {
      "cell_type": "markdown",
      "id": "18936242",
      "metadata": {
        "id": "18936242"
      },
      "source": [
        "<br><br>"
      ]
    },
    {
      "cell_type": "markdown",
      "id": "205911b8",
      "metadata": {
        "id": "205911b8"
      },
      "source": [
        "## 2. 데이터 전처리\n",
        "<br>"
      ]
    },
    {
      "cell_type": "markdown",
      "id": "4db17f7b",
      "metadata": {
        "id": "4db17f7b"
      },
      "source": [
        "#### 중복 데이터와 결측값 제거\n",
        "<br>"
      ]
    },
    {
      "cell_type": "code",
      "execution_count": null,
      "id": "a2844bcb",
      "metadata": {
        "id": "a2844bcb"
      },
      "outputs": [],
      "source": [
        "# conversation 열에서 중복인 내용이 있다면 중복 제거"
      ]
    },
    {
      "cell_type": "code",
      "execution_count": null,
      "id": "ea0a55eb",
      "metadata": {
        "colab": {
          "base_uri": "https://localhost:8080/"
        },
        "id": "ea0a55eb",
        "outputId": "79507ad6-7c15-4793-ad25-dd65f306aac2"
      },
      "outputs": [
        {
          "output_type": "execute_result",
          "data": {
            "text/plain": [
              "3950"
            ]
          },
          "metadata": {},
          "execution_count": 14
        }
      ],
      "source": [
        "len(train_data['conversation'])"
      ]
    },
    {
      "cell_type": "code",
      "execution_count": null,
      "id": "3528d804",
      "metadata": {
        "id": "3528d804"
      },
      "outputs": [],
      "source": [
        "train_data.drop_duplicates(subset=['conversation'], inplace=True)"
      ]
    },
    {
      "cell_type": "code",
      "execution_count": null,
      "id": "4630852b",
      "metadata": {
        "colab": {
          "base_uri": "https://localhost:8080/"
        },
        "id": "4630852b",
        "outputId": "902ea8c4-ecb6-4641-be9e-aa3fb244c7a1"
      },
      "outputs": [
        {
          "output_type": "execute_result",
          "data": {
            "text/plain": [
              "3846"
            ]
          },
          "metadata": {},
          "execution_count": 16
        }
      ],
      "source": [
        "len(train_data['conversation'])"
      ]
    },
    {
      "cell_type": "markdown",
      "id": "d1176ec7",
      "metadata": {
        "id": "d1176ec7"
      },
      "source": [
        "<br>"
      ]
    },
    {
      "cell_type": "code",
      "execution_count": null,
      "id": "0927898d",
      "metadata": {
        "id": "0927898d"
      },
      "outputs": [],
      "source": [
        "# Null 값이 존재하는 행 제거"
      ]
    },
    {
      "cell_type": "code",
      "execution_count": null,
      "id": "10ddf1b1",
      "metadata": {
        "colab": {
          "base_uri": "https://localhost:8080/"
        },
        "id": "10ddf1b1",
        "outputId": "49d5d73a-be41-4ef9-a240-507e7fdd82e9"
      },
      "outputs": [
        {
          "output_type": "execute_result",
          "data": {
            "text/plain": [
              "3846"
            ]
          },
          "metadata": {},
          "execution_count": 18
        }
      ],
      "source": [
        "len(train_data)"
      ]
    },
    {
      "cell_type": "code",
      "execution_count": null,
      "id": "a1bcb76e",
      "metadata": {
        "id": "a1bcb76e"
      },
      "outputs": [],
      "source": [
        "train_data = train_data.dropna(how='any')"
      ]
    },
    {
      "cell_type": "code",
      "execution_count": null,
      "id": "49ccdcc3",
      "metadata": {
        "colab": {
          "base_uri": "https://localhost:8080/"
        },
        "id": "49ccdcc3",
        "outputId": "b08aa2d4-3dc7-44bb-cb00-3d5a9ca4d574"
      },
      "outputs": [
        {
          "output_type": "stream",
          "name": "stdout",
          "text": [
            "훈련 데이터의 대화문 수: 3846\n"
          ]
        }
      ],
      "source": [
        "print('훈련 데이터의 대화문 수:',len(train_data))"
      ]
    },
    {
      "cell_type": "markdown",
      "id": "528ed59d",
      "metadata": {
        "id": "528ed59d"
      },
      "source": [
        "<br>"
      ]
    },
    {
      "cell_type": "code",
      "execution_count": null,
      "id": "61252de0",
      "metadata": {
        "id": "61252de0"
      },
      "outputs": [],
      "source": [
        "# NaN 값을 포함하는 행 제거"
      ]
    },
    {
      "cell_type": "code",
      "execution_count": null,
      "id": "1d0995c0",
      "metadata": {
        "id": "1d0995c0"
      },
      "outputs": [],
      "source": [
        "train_data = train_data.dropna(subset=['class'])"
      ]
    },
    {
      "cell_type": "code",
      "execution_count": null,
      "id": "c685d559",
      "metadata": {
        "colab": {
          "base_uri": "https://localhost:8080/"
        },
        "id": "c685d559",
        "outputId": "8145ca52-eaf0-4044-b827-1f9ecd91de0c"
      },
      "outputs": [
        {
          "output_type": "execute_result",
          "data": {
            "text/plain": [
              "3846"
            ]
          },
          "metadata": {},
          "execution_count": 23
        }
      ],
      "source": [
        "len(train_data)"
      ]
    },
    {
      "cell_type": "code",
      "execution_count": null,
      "id": "ab790804",
      "metadata": {
        "colab": {
          "base_uri": "https://localhost:8080/"
        },
        "id": "ab790804",
        "outputId": "b854694e-153a-4d2a-d1b0-7412ec2e1472"
      },
      "outputs": [
        {
          "output_type": "stream",
          "name": "stdout",
          "text": [
            "['협박 대화' '기타 괴롭힘 대화' '갈취 대화' '직장 내 괴롭힘 대화']\n"
          ]
        }
      ],
      "source": [
        "# NaN 값 제거 확인\n",
        "print(train_data['class'].unique())"
      ]
    },
    {
      "cell_type": "code",
      "execution_count": null,
      "id": "aa23dbf6",
      "metadata": {
        "colab": {
          "base_uri": "https://localhost:8080/"
        },
        "id": "aa23dbf6",
        "outputId": "c775bea0-9b41-4032-8cf7-11adab88c14c"
      },
      "outputs": [
        {
          "output_type": "execute_result",
          "data": {
            "text/plain": [
              "array(['협박 대화', '기타 괴롭힘 대화', '갈취 대화', '직장 내 괴롭힘 대화'], dtype=object)"
            ]
          },
          "metadata": {},
          "execution_count": 25
        }
      ],
      "source": [
        "# train_data의 'class' 컬럼에 어떤 유니크한 값들이 있는지 확인\n",
        "unique_labels = train_data['class'].unique()\n",
        "unique_labels"
      ]
    },
    {
      "cell_type": "markdown",
      "id": "4545c7a1",
      "metadata": {
        "id": "4545c7a1"
      },
      "source": [
        "<br>"
      ]
    },
    {
      "cell_type": "markdown",
      "id": "af7cb58c",
      "metadata": {
        "id": "af7cb58c"
      },
      "source": [
        "#### 불용어 제거\n",
        "<br>"
      ]
    },
    {
      "cell_type": "code",
      "execution_count": null,
      "id": "9ab03747",
      "metadata": {
        "id": "9ab03747"
      },
      "outputs": [],
      "source": [
        "from soynlp.normalizer import *"
      ]
    },
    {
      "cell_type": "code",
      "execution_count": null,
      "id": "bb909e02",
      "metadata": {
        "id": "bb909e02"
      },
      "outputs": [],
      "source": [
        "# soynlp 이용하여 ㅋㅋㅋ, ㅠㅠ 등을 처리하고 반복 제거함(default 2)\n",
        "# 알파벳과 한글 제외한 문법기호, 특수문자, 숫자 등 제거\n",
        "\n",
        "def preprocess_sentence(sentence):\n",
        "    emoticon_normalize(sentence)\n",
        "    repeat_normalize(sentence)\n",
        "    sentence = re.sub(r'([^a-zA-Zㄱ-ㅎ가-힣])', \" \", sentence)\n",
        "    sentence = re.sub(r'[\" \"]+', \" \", sentence)\n",
        "    sentence = sentence.strip()\n",
        "    return sentence"
      ]
    },
    {
      "cell_type": "markdown",
      "id": "6be25a36",
      "metadata": {
        "id": "6be25a36"
      },
      "source": [
        "<br>"
      ]
    },
    {
      "cell_type": "code",
      "execution_count": null,
      "id": "d9166c33",
      "metadata": {
        "colab": {
          "base_uri": "https://localhost:8080/",
          "height": 109
        },
        "id": "d9166c33",
        "outputId": "823dafa0-764d-434c-8a6e-93f39a9b37a0"
      },
      "outputs": [
        {
          "output_type": "execute_result",
          "data": {
            "text/plain": [
              "'지금 너 스스로를 죽여달라고 애원하는 것인가?\\n 아닙니다. 죄송합니다.\\n 죽을 거면 혼자 죽지 우리까지 사건에 휘말리게 해? 진짜 죽여버리고 싶게.\\n 정말 잘못했습니다.\\n 너가 선택해. 너가 죽을래 네 가족을 죽여줄까.\\n 죄송합니다. 정말 잘못했습니다.\\n 너에게는 선택권이 없어. 선택 못한다면 너와 네 가족까지 모조리 죽여버릴거야.\\n 선택 못하겠습니다. 한번만 도와주세요.\\n 그냥 다 죽여버려야겠군. 이의 없지?\\n 제발 도와주세요.'"
            ],
            "application/vnd.google.colaboratory.intrinsic+json": {
              "type": "string"
            }
          },
          "metadata": {},
          "execution_count": 28
        }
      ],
      "source": [
        "train_data['conversation'][0]"
      ]
    },
    {
      "cell_type": "code",
      "execution_count": null,
      "id": "71a4739b",
      "metadata": {
        "id": "71a4739b"
      },
      "outputs": [],
      "source": [
        "train_list = []\n",
        "for sentence in train_data['conversation']:\n",
        "    train_list.append(preprocess_sentence(sentence))"
      ]
    },
    {
      "cell_type": "code",
      "execution_count": null,
      "id": "f27abac1",
      "metadata": {
        "colab": {
          "base_uri": "https://localhost:8080/",
          "height": 109
        },
        "id": "f27abac1",
        "outputId": "b13e4c16-1ac4-49ed-dfaf-40a75f307a69"
      },
      "outputs": [
        {
          "output_type": "execute_result",
          "data": {
            "text/plain": [
              "'지금 너 스스로를 죽여달라고 애원하는 것인가 아닙니다 죄송합니다 죽을 거면 혼자 죽지 우리까지 사건에 휘말리게 해 진짜 죽여버리고 싶게 정말 잘못했습니다 너가 선택해 너가 죽을래 네 가족을 죽여줄까 죄송합니다 정말 잘못했습니다 너에게는 선택권이 없어 선택 못한다면 너와 네 가족까지 모조리 죽여버릴거야 선택 못하겠습니다 한번만 도와주세요 그냥 다 죽여버려야겠군 이의 없지 제발 도와주세요'"
            ],
            "application/vnd.google.colaboratory.intrinsic+json": {
              "type": "string"
            }
          },
          "metadata": {},
          "execution_count": 30
        }
      ],
      "source": [
        "train_list[0]"
      ]
    },
    {
      "cell_type": "markdown",
      "id": "e8257bcf",
      "metadata": {
        "id": "e8257bcf"
      },
      "source": [
        "<br>"
      ]
    },
    {
      "cell_type": "markdown",
      "id": "23fdfee5",
      "metadata": {
        "id": "23fdfee5"
      },
      "source": [
        "## 3. EDA\n",
        "<br>"
      ]
    },
    {
      "cell_type": "markdown",
      "id": "e1a58d12",
      "metadata": {
        "id": "e1a58d12"
      },
      "source": [
        "#### 데이터 길이 분포\n",
        "<br>"
      ]
    },
    {
      "cell_type": "code",
      "execution_count": null,
      "id": "3967d109",
      "metadata": {
        "colab": {
          "base_uri": "https://localhost:8080/",
          "height": 467
        },
        "id": "3967d109",
        "outputId": "c6992e55-8bdf-47fe-853c-fed1045f98df"
      },
      "outputs": [
        {
          "output_type": "stream",
          "name": "stdout",
          "text": [
            "max len:  839\n",
            "mean len:  213.6638065522621\n"
          ]
        },
        {
          "output_type": "display_data",
          "data": {
            "text/plain": [
              "<Figure size 640x480 with 1 Axes>"
            ],
            "image/png": "[encoded data removed]"
          },
          "metadata": {}
        }
      ],
      "source": [
        "print('max len: ', max(len(review) for review in train_list)) # 데이터셋 내 최대 문장 길이\n",
        "print('mean len: ', sum(map(len, train_list))/len(train_list)) # 데이터셋 문장 길이 평균\n",
        "plt.hist([len(review) for review in train_list], bins=50)\n",
        "plt.show() # 문장 길이 분포 확인"
      ]
    },
    {
      "cell_type": "markdown",
      "id": "6641bfcf",
      "metadata": {
        "id": "6641bfcf"
      },
      "source": [
        "<br>"
      ]
    },
    {
      "cell_type": "markdown",
      "id": "8c9a9fcb",
      "metadata": {
        "id": "8c9a9fcb"
      },
      "source": [
        "<br><br>"
      ]
    },
    {
      "cell_type": "markdown",
      "id": "cf3ba449",
      "metadata": {
        "id": "cf3ba449"
      },
      "source": [
        "## 4. BERT 의 입력\n",
        "<br>"
      ]
    },
    {
      "cell_type": "markdown",
      "id": "67eddcd2",
      "metadata": {
        "id": "67eddcd2"
      },
      "source": [
        "#### klue/bert‑base 토크나이저 로드\n",
        "<br>"
      ]
    },
    {
      "cell_type": "code",
      "execution_count": null,
      "id": "b229b2b5",
      "metadata": {
        "colab": {
          "base_uri": "https://localhost:8080/",
          "height": 257,
          "referenced_widgets": [
            "631e20056a214651a476d921e4bcfa4d",
            "80b78b7be6a448afbaa0e3e27481a571",
            "9073dee0c3d24f49a38cacb4efd7cc7e",
            "40e65369f4a249888007584771648a31",
            "0471f21e2bfe409fa7894d4ebe272f19",
            "d0f1c61cb08d4129a9f830b46c90756c",
            "d8fe2598b0f84ae0a5c2d710120a24d6",
            "4f67445218e94ed58d315b97bf14bc88",
            "dbd579a4d6e441779bd4a272f694a639",
            "7d2470e9df9a472da1983066ce479f13",
            "85f7d03bf90a405f9cfa1a6e48fbad42",
            "8e8407104335457580fd66d7fd0af0ad",
            "da1f388c56864845a6af4c51f4abc44e",
            "4bb68458fbc44e69b60b8338d5073157",
            "c8252e7d356548eab669d272fa7ea848",
            "37f57089138341ffad26256edbdfb4ff",
            "294dd3e39e8f4921a6272572d68a5302",
            "1d73b369921a4b71b66c8fabbcbb075b",
            "87107d2342c448a0bfddcb4e2e1eed13",
            "5040d51a005943fc8b701b4d3339b120",
            "5ba16f3735a949d499b0e6219a7f3d48",
            "a47e9affa04a4331a742f7ba9489ba65",
            "08e47ac22b09492caae2129255d333e9",
            "5475741e35114d98a3d8cb79df4aa31b",
            "777e2a233b60467a98e9be04a8f45356",
            "6f8acf7e9bdb4ccbb9091bff68a132e5",
            "99e9c17a91784a4c81bf5b1cdcad9d60",
            "55dd52efbfad45dd8f2c844db1de2067",
            "c8b3a33906e24d36981d70a84af61c1a",
            "455dbb47ca4c4d71b07d4e4e47bb61d2",
            "18221bee438842509fb43db07cdec380",
            "b9c9c86dfbff42949e778b5b03df4222",
            "ed7c3ebde76c49a7b544899c426040d8",
            "9899d0c05edf4c289b15305b15842eb2",
            "7abadbae39214752a28d7f0e3f09e915",
            "8b9568ef03a540258c09d6f89459f122",
            "27c473c61c6341e896df987e029c74b9",
            "11ed1e6aaa3d477ca6fd63012db4e7c7",
            "978d7313c94e46ae94311583062d485c",
            "ab0cca7fdb5742bda502fffe6dc6bd5a",
            "fd953a2185584922b4a1e3fc36aabf79",
            "0871ed09c475445e809c2d2ae5165e0f",
            "7dcdb0f38f344108b6759805a2e0938d",
            "4d1e5a53f87d4af0bf799d0ef26b49a6"
          ]
        },
        "id": "b229b2b5",
        "outputId": "f4779122-7c47-426e-f603-57233ef903d4"
      },
      "outputs": [
        {
          "output_type": "display_data",
          "data": {
            "text/plain": [
              "Downloading (…)solve/main/vocab.txt:   0%|          | 0.00/248k [00:00<?, ?B/s]"
            ],
            "application/vnd.jupyter.widget-view+json": {
              "version_major": 2,
              "version_minor": 0,
              "model_id": "631e20056a214651a476d921e4bcfa4d"
            }
          },
          "metadata": {}
        },
        {
          "output_type": "display_data",
          "data": {
            "text/plain": [
              "Downloading (…)cial_tokens_map.json:   0%|          | 0.00/125 [00:00<?, ?B/s]"
            ],
            "application/vnd.jupyter.widget-view+json": {
              "version_major": 2,
              "version_minor": 0,
              "model_id": "8e8407104335457580fd66d7fd0af0ad"
            }
          },
          "metadata": {}
        },
        {
          "output_type": "display_data",
          "data": {
            "text/plain": [
              "Downloading (…)okenizer_config.json:   0%|          | 0.00/289 [00:00<?, ?B/s]"
            ],
            "application/vnd.jupyter.widget-view+json": {
              "version_major": 2,
              "version_minor": 0,
              "model_id": "08e47ac22b09492caae2129255d333e9"
            }
          },
          "metadata": {}
        },
        {
          "output_type": "display_data",
          "data": {
            "text/plain": [
              "Downloading (…)lve/main/config.json:   0%|          | 0.00/425 [00:00<?, ?B/s]"
            ],
            "application/vnd.jupyter.widget-view+json": {
              "version_major": 2,
              "version_minor": 0,
              "model_id": "9899d0c05edf4c289b15305b15842eb2"
            }
          },
          "metadata": {}
        }
      ],
      "source": [
        "tokenizer = BertTokenizer.from_pretrained('klue/bert-base')"
      ]
    },
    {
      "cell_type": "markdown",
      "id": "81fd4983",
      "metadata": {
        "id": "81fd4983"
      },
      "source": [
        "<br>"
      ]
    },
    {
      "cell_type": "markdown",
      "id": "d4178fb1",
      "metadata": {
        "id": "d4178fb1"
      },
      "source": [
        "#### 토크나이저 동작 확인\n",
        "<br>"
      ]
    },
    {
      "cell_type": "code",
      "execution_count": null,
      "id": "84d48a6f",
      "metadata": {
        "colab": {
          "base_uri": "https://localhost:8080/"
        },
        "id": "84d48a6f",
        "outputId": "fb75eef9-327f-4827-aceb-d18c26c0fc8f"
      },
      "outputs": [
        {
          "output_type": "stream",
          "name": "stdout",
          "text": [
            "['네', '가지', '종류', '##의', '협박', '##에', '대한', '내용', '##의', '문장', '##을', '분류']\n"
          ]
        }
      ],
      "source": [
        "print(tokenizer.tokenize(\"네 가지 종류의 협박에 대한 내용의 문장을 분류\"))"
      ]
    },
    {
      "cell_type": "code",
      "execution_count": null,
      "id": "0a9be381",
      "metadata": {
        "colab": {
          "base_uri": "https://localhost:8080/"
        },
        "id": "0a9be381",
        "outputId": "38eed63e-c5cd-4e33-9253-89ae4f072c1a"
      },
      "outputs": [
        {
          "output_type": "stream",
          "name": "stdout",
          "text": [
            "[2, 752, 3663, 5285, 2079, 8882, 2170, 3618, 3800, 2079, 6265, 2069, 5784, 3]\n"
          ]
        }
      ],
      "source": [
        "print(tokenizer.encode(\"네 가지 종류의 협박에 대한 내용의 문장을 분류\"))"
      ]
    },
    {
      "cell_type": "code",
      "execution_count": null,
      "id": "eed498ce",
      "metadata": {
        "colab": {
          "base_uri": "https://localhost:8080/",
          "height": 35
        },
        "id": "eed498ce",
        "outputId": "20bb5757-83ab-4a2e-f8c4-020b468e0551"
      },
      "outputs": [
        {
          "output_type": "execute_result",
          "data": {
            "text/plain": [
              "'[CLS] 네 가지 종류의 협박에 대한 내용의 문장을 분류 [SEP]'"
            ],
            "application/vnd.google.colaboratory.intrinsic+json": {
              "type": "string"
            }
          },
          "metadata": {},
          "execution_count": 35
        }
      ],
      "source": [
        "tokenizer.decode(\n",
        "   tokenizer.encode(\"네 가지 종류의 협박에 대한 내용의 문장을 분류\")\n",
        ")"
      ]
    },
    {
      "cell_type": "code",
      "execution_count": null,
      "id": "f4d05651",
      "metadata": {
        "colab": {
          "base_uri": "https://localhost:8080/"
        },
        "id": "f4d05651",
        "outputId": "4cf050d7-613b-4017-92d8-c9b9ca69cad5"
      },
      "outputs": [
        {
          "output_type": "stream",
          "name": "stderr",
          "text": [
            "Truncation was not explicitly activated but `max_length` is provided a specific value, please use `truncation=True` to explicitly truncate examples to max length. Defaulting to 'longest_first' truncation strategy. If you encode pairs of sequences (GLUE-style) with the tokenizer you can select this strategy more precisely by providing a specific strategy to `truncation`.\n",
            "/usr/local/lib/python3.10/dist-packages/transformers/tokenization_utils_base.py:2418: FutureWarning: The `pad_to_max_length` argument is deprecated and will be removed in a future version, use `padding=True` or `padding='longest'` to pad to the longest sequence in the batch, or use `padding='max_length'` to pad to a max length. In this case, you can give a specific length with `max_length` (e.g. `max_length=45`) or leave max_length to None to pad to the maximal input size of the model (e.g. 512 for Bert).\n",
            "  warnings.warn(\n"
          ]
        }
      ],
      "source": [
        "max_seq_len = 400\n",
        "\n",
        "encoded_result = tokenizer.encode(\"네 가지 종류의 협박에 대한 내용의 문장을 분류\",\n",
        "                                  max_length=max_seq_len, pad_to_max_length=True)"
      ]
    },
    {
      "cell_type": "code",
      "execution_count": null,
      "id": "e5df4c93",
      "metadata": {
        "colab": {
          "base_uri": "https://localhost:8080/"
        },
        "id": "e5df4c93",
        "outputId": "9778c831-dace-4f3f-9b5b-5ea6e3591ab9"
      },
      "outputs": [
        {
          "output_type": "stream",
          "name": "stdout",
          "text": [
            "[2, 752, 3663, 5285, 2079, 8882, 2170, 3618, 3800, 2079, 6265, 2069, 5784, 3, 0, 0, 0, 0, 0, 0, 0, 0, 0, 0, 0, 0, 0, 0, 0, 0, 0, 0, 0, 0, 0, 0, 0, 0, 0, 0, 0, 0, 0, 0, 0, 0, 0, 0, 0, 0, 0, 0, 0, 0, 0, 0, 0, 0, 0, 0, 0, 0, 0, 0, 0, 0, 0, 0, 0, 0, 0, 0, 0, 0, 0, 0, 0, 0, 0, 0, 0, 0, 0, 0, 0, 0, 0, 0, 0, 0, 0, 0, 0, 0, 0, 0, 0, 0, 0, 0, 0, 0, 0, 0, 0, 0, 0, 0, 0, 0, 0, 0, 0, 0, 0, 0, 0, 0, 0, 0, 0, 0, 0, 0, 0, 0, 0, 0, 0, 0, 0, 0, 0, 0, 0, 0, 0, 0, 0, 0, 0, 0, 0, 0, 0, 0, 0, 0, 0, 0, 0, 0, 0, 0, 0, 0, 0, 0, 0, 0, 0, 0, 0, 0, 0, 0, 0, 0, 0, 0, 0, 0, 0, 0, 0, 0, 0, 0, 0, 0, 0, 0, 0, 0, 0, 0, 0, 0, 0, 0, 0, 0, 0, 0, 0, 0, 0, 0, 0, 0, 0, 0, 0, 0, 0, 0, 0, 0, 0, 0, 0, 0, 0, 0, 0, 0, 0, 0, 0, 0, 0, 0, 0, 0, 0, 0, 0, 0, 0, 0, 0, 0, 0, 0, 0, 0, 0, 0, 0, 0, 0, 0, 0, 0, 0, 0, 0, 0, 0, 0, 0, 0, 0, 0, 0, 0, 0, 0, 0, 0, 0, 0, 0, 0, 0, 0, 0, 0, 0, 0, 0, 0, 0, 0, 0, 0, 0, 0, 0, 0, 0, 0, 0, 0, 0, 0, 0, 0, 0, 0, 0, 0, 0, 0, 0, 0, 0, 0, 0, 0, 0, 0, 0, 0, 0, 0, 0, 0, 0, 0, 0, 0, 0, 0, 0, 0, 0, 0, 0, 0, 0, 0, 0, 0, 0, 0, 0, 0, 0, 0, 0, 0, 0, 0, 0, 0, 0, 0, 0, 0, 0, 0, 0, 0, 0, 0, 0, 0, 0, 0, 0, 0, 0, 0, 0, 0, 0, 0, 0, 0, 0, 0, 0, 0, 0, 0, 0, 0, 0, 0, 0, 0, 0, 0, 0, 0, 0, 0, 0, 0, 0, 0, 0, 0, 0, 0, 0, 0, 0, 0, 0, 0, 0, 0, 0, 0, 0, 0, 0, 0]\n"
          ]
        }
      ],
      "source": [
        "print(encoded_result)"
      ]
    },
    {
      "cell_type": "code",
      "execution_count": null,
      "id": "9819727f",
      "metadata": {
        "colab": {
          "base_uri": "https://localhost:8080/"
        },
        "id": "9819727f",
        "outputId": "bad50a7e-ca92-4acd-d611-db62342f1049"
      },
      "outputs": [
        {
          "output_type": "stream",
          "name": "stdout",
          "text": [
            "길이: 400\n"
          ]
        }
      ],
      "source": [
        "print('길이:', len(encoded_result))"
      ]
    },
    {
      "cell_type": "code",
      "execution_count": null,
      "id": "1bbb75bd",
      "metadata": {
        "colab": {
          "base_uri": "https://localhost:8080/"
        },
        "id": "1bbb75bd",
        "outputId": "61d21247-4891-48e8-9f5d-318674e88bba"
      },
      "outputs": [
        {
          "output_type": "stream",
          "name": "stdout",
          "text": [
            "[0, 0, 0, 0, 0, 0, 0, 0, 0, 0, 0, 0, 0, 0, 0, 0, 0, 0, 0, 0, 0, 0, 0, 0, 0, 0, 0, 0, 0, 0, 0, 0, 0, 0, 0, 0, 0, 0, 0, 0, 0, 0, 0, 0, 0, 0, 0, 0, 0, 0, 0, 0, 0, 0, 0, 0, 0, 0, 0, 0, 0, 0, 0, 0, 0, 0, 0, 0, 0, 0, 0, 0, 0, 0, 0, 0, 0, 0, 0, 0, 0, 0, 0, 0, 0, 0, 0, 0, 0, 0, 0, 0, 0, 0, 0, 0, 0, 0, 0, 0, 0, 0, 0, 0, 0, 0, 0, 0, 0, 0, 0, 0, 0, 0, 0, 0, 0, 0, 0, 0, 0, 0, 0, 0, 0, 0, 0, 0, 0, 0, 0, 0, 0, 0, 0, 0, 0, 0, 0, 0, 0, 0, 0, 0, 0, 0, 0, 0, 0, 0, 0, 0, 0, 0, 0, 0, 0, 0, 0, 0, 0, 0, 0, 0, 0, 0, 0, 0, 0, 0, 0, 0, 0, 0, 0, 0, 0, 0, 0, 0, 0, 0, 0, 0, 0, 0, 0, 0, 0, 0, 0, 0, 0, 0, 0, 0, 0, 0, 0, 0, 0, 0, 0, 0, 0, 0, 0, 0, 0, 0, 0, 0, 0, 0, 0, 0, 0, 0, 0, 0, 0, 0, 0, 0, 0, 0, 0, 0, 0, 0, 0, 0, 0, 0, 0, 0, 0, 0, 0, 0, 0, 0, 0, 0, 0, 0, 0, 0, 0, 0, 0, 0, 0, 0, 0, 0, 0, 0, 0, 0, 0, 0, 0, 0, 0, 0, 0, 0, 0, 0, 0, 0, 0, 0, 0, 0, 0, 0, 0, 0, 0, 0, 0, 0, 0, 0, 0, 0, 0, 0, 0, 0, 0, 0, 0, 0, 0, 0, 0, 0, 0, 0, 0, 0, 0, 0, 0, 0, 0, 0, 0, 0, 0, 0, 0, 0, 0, 0, 0, 0, 0, 0, 0, 0, 0, 0, 0, 0, 0, 0, 0, 0, 0, 0, 0, 0, 0, 0, 0, 0, 0, 0, 0, 0, 0, 0, 0, 0, 0, 0, 0, 0, 0, 0, 0, 0, 0, 0, 0, 0, 0, 0, 0, 0, 0, 0, 0, 0, 0, 0, 0, 0, 0, 0, 0, 0, 0, 0, 0, 0, 0, 0, 0, 0, 0, 0, 0, 0, 0, 0, 0, 0, 0, 0, 0, 0, 0, 0, 0, 0]\n"
          ]
        }
      ],
      "source": [
        "print([0]*max_seq_len)"
      ]
    },
    {
      "cell_type": "code",
      "execution_count": null,
      "id": "366cd4e6",
      "metadata": {
        "id": "366cd4e6"
      },
      "outputs": [],
      "source": [
        "valid_num = len(tokenizer.encode(\"전율을 일으키는 영화. 다시 보고싶은 영화\"))"
      ]
    },
    {
      "cell_type": "code",
      "execution_count": null,
      "id": "1b19a662",
      "metadata": {
        "colab": {
          "base_uri": "https://localhost:8080/"
        },
        "id": "1b19a662",
        "outputId": "bccf96be-e592-476b-f03e-9c0f1371cc13"
      },
      "outputs": [
        {
          "output_type": "execute_result",
          "data": {
            "text/plain": [
              "14"
            ]
          },
          "metadata": {},
          "execution_count": 41
        }
      ],
      "source": [
        "valid_num"
      ]
    },
    {
      "cell_type": "code",
      "execution_count": null,
      "id": "3c4f4616",
      "metadata": {
        "colab": {
          "base_uri": "https://localhost:8080/"
        },
        "id": "3c4f4616",
        "outputId": "fb62e8d0-9cf6-4ed0-8caf-e8356a6c4179"
      },
      "outputs": [
        {
          "output_type": "stream",
          "name": "stdout",
          "text": [
            "[1, 1, 1, 1, 1, 1, 1, 1, 1, 1, 1, 1, 1, 1, 0, 0, 0, 0, 0, 0, 0, 0, 0, 0, 0, 0, 0, 0, 0, 0, 0, 0, 0, 0, 0, 0, 0, 0, 0, 0, 0, 0, 0, 0, 0, 0, 0, 0, 0, 0, 0, 0, 0, 0, 0, 0, 0, 0, 0, 0, 0, 0, 0, 0, 0, 0, 0, 0, 0, 0, 0, 0, 0, 0, 0, 0, 0, 0, 0, 0, 0, 0, 0, 0, 0, 0, 0, 0, 0, 0, 0, 0, 0, 0, 0, 0, 0, 0, 0, 0, 0, 0, 0, 0, 0, 0, 0, 0, 0, 0, 0, 0, 0, 0, 0, 0, 0, 0, 0, 0, 0, 0, 0, 0, 0, 0, 0, 0, 0, 0, 0, 0, 0, 0, 0, 0, 0, 0, 0, 0, 0, 0, 0, 0, 0, 0, 0, 0, 0, 0, 0, 0, 0, 0, 0, 0, 0, 0, 0, 0, 0, 0, 0, 0, 0, 0, 0, 0, 0, 0, 0, 0, 0, 0, 0, 0, 0, 0, 0, 0, 0, 0, 0, 0, 0, 0, 0, 0, 0, 0, 0, 0, 0, 0, 0, 0, 0, 0, 0, 0, 0, 0, 0, 0, 0, 0, 0, 0, 0, 0, 0, 0, 0, 0, 0, 0, 0, 0, 0, 0, 0, 0, 0, 0, 0, 0, 0, 0, 0, 0, 0, 0, 0, 0, 0, 0, 0, 0, 0, 0, 0, 0, 0, 0, 0, 0, 0, 0, 0, 0, 0, 0, 0, 0, 0, 0, 0, 0, 0, 0, 0, 0, 0, 0, 0, 0, 0, 0, 0, 0, 0, 0, 0, 0, 0, 0, 0, 0, 0, 0, 0, 0, 0, 0, 0, 0, 0, 0, 0, 0, 0, 0, 0, 0, 0, 0, 0, 0, 0, 0, 0, 0, 0, 0, 0, 0, 0, 0, 0, 0, 0, 0, 0, 0, 0, 0, 0, 0, 0, 0, 0, 0, 0, 0, 0, 0, 0, 0, 0, 0, 0, 0, 0, 0, 0, 0, 0, 0, 0, 0, 0, 0, 0, 0, 0, 0, 0, 0, 0, 0, 0, 0, 0, 0, 0, 0, 0, 0, 0, 0, 0, 0, 0, 0, 0, 0, 0, 0, 0, 0, 0, 0, 0, 0, 0, 0, 0, 0, 0, 0, 0, 0, 0, 0, 0, 0, 0, 0, 0, 0, 0, 0, 0, 0, 0, 0, 0, 0, 0, 0]\n"
          ]
        }
      ],
      "source": [
        "print(valid_num * [1] + (max_seq_len - valid_num) * [0])"
      ]
    },
    {
      "cell_type": "markdown",
      "id": "63111145",
      "metadata": {
        "id": "63111145"
      },
      "source": [
        "<br>"
      ]
    },
    {
      "cell_type": "markdown",
      "id": "7315e8aa",
      "metadata": {
        "id": "7315e8aa"
      },
      "source": [
        "#### 토크나이징 및 인코딩 & 어텐션 마스크\n",
        "<br>"
      ]
    },
    {
      "cell_type": "code",
      "execution_count": null,
      "id": "f645bab8",
      "metadata": {
        "id": "f645bab8"
      },
      "outputs": [],
      "source": [
        "# 정수 인코딩을 위한 레이블-숫자 매핑 작업"
      ]
    },
    {
      "cell_type": "code",
      "execution_count": null,
      "id": "b15fb491",
      "metadata": {
        "id": "b15fb491"
      },
      "outputs": [],
      "source": [
        "# 레이블 값을 숫자로 매핑\n",
        "label_mapping = {\n",
        "    '협박 대화': 0,\n",
        "    '갈취 대화': 1,\n",
        "    '직장 내 괴롭힘 대화': 2,\n",
        "    '기타 괴롭힘 대화': 3\n",
        "}\n",
        "\n",
        "# train_data와 test_data의 레이블 값을 숫자로 변환\n",
        "train_data['class'] = train_data['class'].map(label_mapping)\n",
        "# test_data['class'] = test_data['class'].map(label_mapping)"
      ]
    },
    {
      "cell_type": "markdown",
      "id": "cdd989b0",
      "metadata": {
        "id": "cdd989b0"
      },
      "source": [
        "<br>"
      ]
    },
    {
      "cell_type": "code",
      "execution_count": null,
      "id": "42428b77",
      "metadata": {
        "id": "42428b77"
      },
      "outputs": [],
      "source": [
        "max_seq_len = 300"
      ]
    },
    {
      "cell_type": "code",
      "execution_count": null,
      "id": "eea9c190",
      "metadata": {
        "id": "eea9c190"
      },
      "outputs": [],
      "source": [
        "def convert_examples_to_features(examples, labels, max_seq_len, tokenizer):\n",
        "\n",
        "    input_ids, attention_masks, token_type_ids, data_labels = [], [], [], []\n",
        "\n",
        "    for example, label in tqdm(zip(examples, labels), total=len(examples)):\n",
        "        # input_id는 워드 임베딩을 위한 문장의 정수 인코딩\n",
        "        input_id = tokenizer.encode(example, max_length=max_seq_len,\n",
        "                                    pad_to_max_length=True)\n",
        "\n",
        "        # attention_mask는 실제 단어가 위치하면 1, 패딩의 위치에는 0인 시퀀스\n",
        "        padding_count = input_id.count(tokenizer.pad_token_id)\n",
        "        attention_mask = [1] * (max_seq_len - padding_count) + [0] * padding_count\n",
        "\n",
        "        # token_type_id은 세그먼트 인코딩\n",
        "        token_type_id = [0] * max_seq_len\n",
        "\n",
        "        assert len(input_id) == max_seq_len, \"Error with input length {} vs {}\".format(len(input_id), max_seq_len)\n",
        "        assert len(attention_mask) == max_seq_len, \"Error with attention mask length {} vs {}\".format(len(attention_mask), max_seq_len)\n",
        "        assert len(token_type_id) == max_seq_len, \"Error with token type length {} vs {}\".format(len(token_type_id), max_seq_len)\n",
        "\n",
        "        input_ids.append(input_id)\n",
        "        attention_masks.append(attention_mask)\n",
        "        token_type_ids.append(token_type_id)\n",
        "        data_labels.append(label)\n",
        "\n",
        "    input_ids = np.array(input_ids, dtype=int)\n",
        "    attention_masks = np.array(attention_masks, dtype=int)\n",
        "    token_type_ids = np.array(token_type_ids, dtype=int)\n",
        "\n",
        "    data_labels = np.asarray(data_labels, dtype=np.int32)\n",
        "\n",
        "    return (input_ids, attention_masks, token_type_ids), data_labels"
      ]
    },
    {
      "cell_type": "code",
      "execution_count": null,
      "id": "35f70134",
      "metadata": {
        "colab": {
          "base_uri": "https://localhost:8080/"
        },
        "id": "35f70134",
        "outputId": "47767382-6ea0-433c-b4e1-c6bf5e9ca643"
      },
      "outputs": [
        {
          "output_type": "stream",
          "name": "stderr",
          "text": [
            "  0%|          | 0/3846 [00:00<?, ?it/s]/usr/local/lib/python3.10/dist-packages/transformers/tokenization_utils_base.py:2418: FutureWarning: The `pad_to_max_length` argument is deprecated and will be removed in a future version, use `padding=True` or `padding='longest'` to pad to the longest sequence in the batch, or use `padding='max_length'` to pad to a max length. In this case, you can give a specific length with `max_length` (e.g. `max_length=45`) or leave max_length to None to pad to the maximal input size of the model (e.g. 512 for Bert).\n",
            "  warnings.warn(\n",
            "100%|██████████| 3846/3846 [00:03<00:00, 1132.90it/s]\n"
          ]
        }
      ],
      "source": [
        "# 이제 다시 convert_examples_to_features 함수를 실행\n",
        "train_X, train_y = convert_examples_to_features(\n",
        "    train_list, train_data['class'],\n",
        "    max_seq_len=max_seq_len, tokenizer=tokenizer\n",
        ")"
      ]
    },
    {
      "cell_type": "markdown",
      "id": "4ec1ba04",
      "metadata": {
        "id": "4ec1ba04"
      },
      "source": [
        "<br>"
      ]
    },
    {
      "cell_type": "code",
      "execution_count": null,
      "id": "e34aad5d",
      "metadata": {
        "id": "e34aad5d"
      },
      "outputs": [],
      "source": [
        "# 훈련 데이터의 첫 번째 샘플에 대해 출력"
      ]
    },
    {
      "cell_type": "code",
      "execution_count": null,
      "id": "5b3f2703",
      "metadata": {
        "id": "5b3f2703"
      },
      "outputs": [],
      "source": [
        "input_id = train_X[0][0]\n",
        "attention_mask = train_X[1][0]\n",
        "token_type_id = train_X[2][0]\n",
        "label = train_y[0]"
      ]
    },
    {
      "cell_type": "code",
      "execution_count": null,
      "id": "2579efa6",
      "metadata": {
        "colab": {
          "base_uri": "https://localhost:8080/"
        },
        "id": "2579efa6",
        "outputId": "a76b5717-0149-422f-f5ed-98823e4a1346"
      },
      "outputs": [
        {
          "output_type": "stream",
          "name": "stdout",
          "text": [
            "단어에 대한 정수 인코딩: [    2  3660   743  4201  2138 11287  2448  7245 20336  2205  2259   575\n",
            "  2179  2116  6525  7822 11800  1565  2069   568  2460  4638  1565  2118\n",
            "  3616  2299  2118  3863  2170 27063  2318  1897  4229 11287 10592  2088\n",
            "  1335  2318  3944  4389  2371  2219  3606   743  2116  4025  2097   743\n",
            "  2116  1565  2069  2315   752  3937  2069 11287  2776  2299  7822 11800\n",
            "  3944  4389  2371  2219  3606   743  2170  2318  2259  4025  2207  2052\n",
            "  1415  2051  4025 15110   743  2522   752  3937  2299  2118 14461 11287\n",
            " 21992  2180  2275  4025  3818  2918  2219  3606  6791  2154  5232  2223\n",
            "  5971  4181   809 11287 12432  2275  2918  2242 13519  1415  2118  8786\n",
            "  5232  2223  5971     3     0     0     0     0     0     0     0     0\n",
            "     0     0     0     0     0     0     0     0     0     0     0     0\n",
            "     0     0     0     0     0     0     0     0     0     0     0     0\n",
            "     0     0     0     0     0     0     0     0     0     0     0     0\n",
            "     0     0     0     0     0     0     0     0     0     0     0     0\n",
            "     0     0     0     0     0     0     0     0     0     0     0     0\n",
            "     0     0     0     0     0     0     0     0     0     0     0     0\n",
            "     0     0     0     0     0     0     0     0     0     0     0     0\n",
            "     0     0     0     0     0     0     0     0     0     0     0     0\n",
            "     0     0     0     0     0     0     0     0     0     0     0     0\n",
            "     0     0     0     0     0     0     0     0     0     0     0     0\n",
            "     0     0     0     0     0     0     0     0     0     0     0     0\n",
            "     0     0     0     0     0     0     0     0     0     0     0     0\n",
            "     0     0     0     0     0     0     0     0     0     0     0     0\n",
            "     0     0     0     0     0     0     0     0     0     0     0     0\n",
            "     0     0     0     0     0     0     0     0     0     0     0     0]\n"
          ]
        }
      ],
      "source": [
        "print('단어에 대한 정수 인코딩:',input_id)"
      ]
    },
    {
      "cell_type": "code",
      "execution_count": null,
      "id": "ce1611c1",
      "metadata": {
        "colab": {
          "base_uri": "https://localhost:8080/"
        },
        "id": "ce1611c1",
        "outputId": "441fecfe-4e98-4589-d54b-e124465513e4"
      },
      "outputs": [
        {
          "output_type": "stream",
          "name": "stdout",
          "text": [
            "어텐션 마스크: [1 1 1 1 1 1 1 1 1 1 1 1 1 1 1 1 1 1 1 1 1 1 1 1 1 1 1 1 1 1 1 1 1 1 1 1 1\n",
            " 1 1 1 1 1 1 1 1 1 1 1 1 1 1 1 1 1 1 1 1 1 1 1 1 1 1 1 1 1 1 1 1 1 1 1 1 1\n",
            " 1 1 1 1 1 1 1 1 1 1 1 1 1 1 1 1 1 1 1 1 1 1 1 1 1 1 1 1 1 1 1 1 1 1 1 1 1\n",
            " 1 0 0 0 0 0 0 0 0 0 0 0 0 0 0 0 0 0 0 0 0 0 0 0 0 0 0 0 0 0 0 0 0 0 0 0 0\n",
            " 0 0 0 0 0 0 0 0 0 0 0 0 0 0 0 0 0 0 0 0 0 0 0 0 0 0 0 0 0 0 0 0 0 0 0 0 0\n",
            " 0 0 0 0 0 0 0 0 0 0 0 0 0 0 0 0 0 0 0 0 0 0 0 0 0 0 0 0 0 0 0 0 0 0 0 0 0\n",
            " 0 0 0 0 0 0 0 0 0 0 0 0 0 0 0 0 0 0 0 0 0 0 0 0 0 0 0 0 0 0 0 0 0 0 0 0 0\n",
            " 0 0 0 0 0 0 0 0 0 0 0 0 0 0 0 0 0 0 0 0 0 0 0 0 0 0 0 0 0 0 0 0 0 0 0 0 0\n",
            " 0 0 0 0]\n"
          ]
        }
      ],
      "source": [
        "print('어텐션 마스크:',attention_mask)"
      ]
    },
    {
      "cell_type": "code",
      "execution_count": null,
      "id": "e0740b77",
      "metadata": {
        "colab": {
          "base_uri": "https://localhost:8080/"
        },
        "id": "e0740b77",
        "outputId": "04e7f8bb-cbaf-4bb4-bb35-a50ed0d4fec3"
      },
      "outputs": [
        {
          "output_type": "stream",
          "name": "stdout",
          "text": [
            "세그먼트 인코딩: [0 0 0 0 0 0 0 0 0 0 0 0 0 0 0 0 0 0 0 0 0 0 0 0 0 0 0 0 0 0 0 0 0 0 0 0 0\n",
            " 0 0 0 0 0 0 0 0 0 0 0 0 0 0 0 0 0 0 0 0 0 0 0 0 0 0 0 0 0 0 0 0 0 0 0 0 0\n",
            " 0 0 0 0 0 0 0 0 0 0 0 0 0 0 0 0 0 0 0 0 0 0 0 0 0 0 0 0 0 0 0 0 0 0 0 0 0\n",
            " 0 0 0 0 0 0 0 0 0 0 0 0 0 0 0 0 0 0 0 0 0 0 0 0 0 0 0 0 0 0 0 0 0 0 0 0 0\n",
            " 0 0 0 0 0 0 0 0 0 0 0 0 0 0 0 0 0 0 0 0 0 0 0 0 0 0 0 0 0 0 0 0 0 0 0 0 0\n",
            " 0 0 0 0 0 0 0 0 0 0 0 0 0 0 0 0 0 0 0 0 0 0 0 0 0 0 0 0 0 0 0 0 0 0 0 0 0\n",
            " 0 0 0 0 0 0 0 0 0 0 0 0 0 0 0 0 0 0 0 0 0 0 0 0 0 0 0 0 0 0 0 0 0 0 0 0 0\n",
            " 0 0 0 0 0 0 0 0 0 0 0 0 0 0 0 0 0 0 0 0 0 0 0 0 0 0 0 0 0 0 0 0 0 0 0 0 0\n",
            " 0 0 0 0]\n"
          ]
        }
      ],
      "source": [
        "print('세그먼트 인코딩:',token_type_id)"
      ]
    },
    {
      "cell_type": "code",
      "execution_count": null,
      "id": "e7b178c1",
      "metadata": {
        "colab": {
          "base_uri": "https://localhost:8080/"
        },
        "id": "e7b178c1",
        "outputId": "e0cd7c1a-efdf-4d37-ad4b-519036dd853c"
      },
      "outputs": [
        {
          "output_type": "stream",
          "name": "stdout",
          "text": [
            "각 인코딩의 길이: 300\n"
          ]
        }
      ],
      "source": [
        "print('각 인코딩의 길이:', len(input_id))"
      ]
    },
    {
      "cell_type": "code",
      "execution_count": null,
      "id": "60c69484",
      "metadata": {
        "colab": {
          "base_uri": "https://localhost:8080/"
        },
        "id": "60c69484",
        "outputId": "a4f1e6c9-9762-4980-abc5-a6429356b331"
      },
      "outputs": [
        {
          "output_type": "stream",
          "name": "stdout",
          "text": [
            "정수 인코딩 복원: [CLS] 지금 너 스스로를 죽여달라고 애원하는 것인가 아닙니다 죄송합니다 죽을 거면 혼자 죽지 우리까지 사건에 휘말리게 해 진짜 죽여버리고 싶게 정말 잘못했습니다 너가 선택해 너가 죽을래 네 가족을 죽여줄까 죄송합니다 정말 잘못했습니다 너에게는 선택권이 없어 선택 못한다면 너와 네 가족까지 모조리 죽여버릴거야 선택 못하겠습니다 한번만 도와주세요 그냥 다 죽여버려야겠군 이의 없지 제발 도와주세요 [SEP] [PAD] [PAD] [PAD] [PAD] [PAD] [PAD] [PAD] [PAD] [PAD] [PAD] [PAD] [PAD] [PAD] [PAD] [PAD] [PAD] [PAD] [PAD] [PAD] [PAD] [PAD] [PAD] [PAD] [PAD] [PAD] [PAD] [PAD] [PAD] [PAD] [PAD] [PAD] [PAD] [PAD] [PAD] [PAD] [PAD] [PAD] [PAD] [PAD] [PAD] [PAD] [PAD] [PAD] [PAD] [PAD] [PAD] [PAD] [PAD] [PAD] [PAD] [PAD] [PAD] [PAD] [PAD] [PAD] [PAD] [PAD] [PAD] [PAD] [PAD] [PAD] [PAD] [PAD] [PAD] [PAD] [PAD] [PAD] [PAD] [PAD] [PAD] [PAD] [PAD] [PAD] [PAD] [PAD] [PAD] [PAD] [PAD] [PAD] [PAD] [PAD] [PAD] [PAD] [PAD] [PAD] [PAD] [PAD] [PAD] [PAD] [PAD] [PAD] [PAD] [PAD] [PAD] [PAD] [PAD] [PAD] [PAD] [PAD] [PAD] [PAD] [PAD] [PAD] [PAD] [PAD] [PAD] [PAD] [PAD] [PAD] [PAD] [PAD] [PAD] [PAD] [PAD] [PAD] [PAD] [PAD] [PAD] [PAD] [PAD] [PAD] [PAD] [PAD] [PAD] [PAD] [PAD] [PAD] [PAD] [PAD] [PAD] [PAD] [PAD] [PAD] [PAD] [PAD] [PAD] [PAD] [PAD] [PAD] [PAD] [PAD] [PAD] [PAD] [PAD] [PAD] [PAD] [PAD] [PAD] [PAD] [PAD] [PAD] [PAD] [PAD] [PAD] [PAD] [PAD] [PAD] [PAD] [PAD] [PAD] [PAD] [PAD] [PAD] [PAD] [PAD] [PAD] [PAD] [PAD] [PAD] [PAD] [PAD] [PAD] [PAD] [PAD] [PAD] [PAD] [PAD] [PAD] [PAD] [PAD] [PAD] [PAD] [PAD] [PAD] [PAD] [PAD] [PAD] [PAD]\n"
          ]
        }
      ],
      "source": [
        "print('정수 인코딩 복원:',tokenizer.decode(input_id))"
      ]
    },
    {
      "cell_type": "code",
      "execution_count": null,
      "id": "11b5854a",
      "metadata": {
        "colab": {
          "base_uri": "https://localhost:8080/"
        },
        "id": "11b5854a",
        "outputId": "25ae3b86-e68e-47bf-c42a-ddf3c9dafff6"
      },
      "outputs": [
        {
          "output_type": "stream",
          "name": "stdout",
          "text": [
            "레이블: 0\n"
          ]
        }
      ],
      "source": [
        "print('레이블:',label)"
      ]
    },
    {
      "cell_type": "markdown",
      "id": "ceb2ca10",
      "metadata": {
        "id": "ceb2ca10"
      },
      "source": [
        "<br><br>"
      ]
    },
    {
      "cell_type": "markdown",
      "id": "457ca37b",
      "metadata": {
        "id": "457ca37b"
      },
      "source": [
        "## 5. BERT 를 이용한 Many‑to‑One 모델 구현 및 학습\n",
        "<br>"
      ]
    },
    {
      "cell_type": "code",
      "execution_count": null,
      "id": "8eee4de4",
      "metadata": {
        "id": "8eee4de4"
      },
      "outputs": [],
      "source": [
        "# 모델 구현"
      ]
    },
    {
      "cell_type": "code",
      "execution_count": null,
      "id": "4361c7e3",
      "metadata": {
        "id": "4361c7e3"
      },
      "outputs": [],
      "source": [
        "from tensorflow.keras.layers import Dropout\n",
        "from tensorflow.keras.regularizers import l2\n",
        "from tensorflow.keras.callbacks import EarlyStopping\n",
        "\n",
        "class TFBertForMultiClassClassification(tf.keras.Model):\n",
        "    def __init__(self, model_name, num_classes, dropout_rate=0.1):\n",
        "        super(TFBertForMultiClassClassification, self).__init__()\n",
        "        self.bert = TFBertModel.from_pretrained(model_name, from_pt=True)\n",
        "        self.dropout = Dropout(dropout_rate)\n",
        "        self.classifier = tf.keras.layers.Dense(num_classes,\n",
        "                                                kernel_initializer=tf.keras.initializers.TruncatedNormal(0.02),\n",
        "                                                kernel_regularizer=l2(0.01),  # L2 Regularization\n",
        "                                                activation='softmax',\n",
        "                                                name='classifier')\n",
        "\n",
        "    def call(self, inputs):\n",
        "        input_ids, attention_mask, token_type_ids = inputs\n",
        "        outputs = self.bert(input_ids=input_ids,\n",
        "                            attention_mask=attention_mask,\n",
        "                            token_type_ids=token_type_ids)\n",
        "        cls_token = outputs[1]\n",
        "        dropped = self.dropout(cls_token)\n",
        "        prediction = self.classifier(dropped)\n",
        "        return prediction"
      ]
    },
    {
      "cell_type": "code",
      "execution_count": null,
      "id": "c3ef1b61",
      "metadata": {
        "colab": {
          "base_uri": "https://localhost:8080/"
        },
        "id": "c3ef1b61",
        "outputId": "eabbcb1c-141e-4ab1-8673-e4abffa196ae"
      },
      "outputs": [
        {
          "output_type": "stream",
          "name": "stderr",
          "text": [
            "Some weights of the PyTorch model were not used when initializing the TF 2.0 model TFBertModel: ['cls.predictions.bias', 'cls.predictions.transform.LayerNorm.weight', 'cls.predictions.transform.dense.bias', 'cls.predictions.decoder.bias', 'cls.seq_relationship.weight', 'cls.seq_relationship.bias', 'cls.predictions.transform.dense.weight', 'cls.predictions.decoder.weight', 'cls.predictions.transform.LayerNorm.bias', 'bert.embeddings.position_ids']\n",
            "- This IS expected if you are initializing TFBertModel from a PyTorch model trained on another task or with another architecture (e.g. initializing a TFBertForSequenceClassification model from a BertForPreTraining model).\n",
            "- This IS NOT expected if you are initializing TFBertModel from a PyTorch model that you expect to be exactly identical (e.g. initializing a TFBertForSequenceClassification model from a BertForSequenceClassification model).\n",
            "All the weights of TFBertModel were initialized from the PyTorch model.\n",
            "If your task is similar to the task the model of the checkpoint was trained on, you can already use TFBertModel for predictions without further training.\n"
          ]
        }
      ],
      "source": [
        "model = TFBertForMultiClassClassification(\"klue/bert-base\", 4)"
      ]
    },
    {
      "cell_type": "markdown",
      "id": "dc262f2f",
      "metadata": {
        "id": "dc262f2f"
      },
      "source": [
        "<br>"
      ]
    },
    {
      "cell_type": "code",
      "execution_count": null,
      "id": "2603b465",
      "metadata": {
        "id": "2603b465"
      },
      "outputs": [],
      "source": [
        "# 모델 설정"
      ]
    },
    {
      "cell_type": "code",
      "execution_count": null,
      "id": "9392b7a2",
      "metadata": {
        "id": "9392b7a2"
      },
      "outputs": [],
      "source": [
        "optimizer = tf.keras.optimizers.Adam(learning_rate=5e-5)"
      ]
    },
    {
      "cell_type": "code",
      "execution_count": null,
      "id": "9b8a9fd6",
      "metadata": {
        "id": "9b8a9fd6"
      },
      "outputs": [],
      "source": [
        "loss = tf.keras.losses.SparseCategoricalCrossentropy()"
      ]
    },
    {
      "cell_type": "code",
      "execution_count": null,
      "id": "7c52d2e4",
      "metadata": {
        "id": "7c52d2e4"
      },
      "outputs": [],
      "source": [
        "model.compile(optimizer=optimizer, loss=loss, metrics = ['accuracy'])"
      ]
    },
    {
      "cell_type": "code",
      "source": [
        "early_stopping = EarlyStopping(monitor='val_loss', patience=1, restore_best_weights=True)"
      ],
      "metadata": {
        "id": "UIBqcVbR6TOG"
      },
      "id": "UIBqcVbR6TOG",
      "execution_count": null,
      "outputs": []
    },
    {
      "cell_type": "markdown",
      "id": "7990148f",
      "metadata": {
        "id": "7990148f"
      },
      "source": [
        "<br>"
      ]
    },
    {
      "cell_type": "code",
      "execution_count": null,
      "id": "188b866b",
      "metadata": {
        "id": "188b866b"
      },
      "outputs": [],
      "source": [
        "# 모델 학습"
      ]
    },
    {
      "cell_type": "code",
      "execution_count": null,
      "id": "0f52de61",
      "metadata": {
        "colab": {
          "base_uri": "https://localhost:8080/"
        },
        "id": "0f52de61",
        "outputId": "5bbae9b4-ac47-4177-8398-ae90e70abdea"
      },
      "outputs": [
        {
          "output_type": "stream",
          "name": "stdout",
          "text": [
            "Epoch 1/5\n",
            "193/193 [==============================] - 229s 1s/step - loss: 0.5592 - accuracy: 0.8209 - val_loss: 0.4474 - val_accuracy: 0.8740\n",
            "Epoch 2/5\n",
            "193/193 [==============================] - 207s 1s/step - loss: 0.2618 - accuracy: 0.9334 - val_loss: 0.4799 - val_accuracy: 0.8740\n"
          ]
        }
      ],
      "source": [
        "history = model.fit(\n",
        "    train_X, train_y,\n",
        "    epochs=5, batch_size=16,\n",
        "    validation_split=0.2,\n",
        "    callbacks=[early_stopping]\n",
        ")"
      ]
    },
    {
      "cell_type": "markdown",
      "id": "480dd170",
      "metadata": {
        "id": "480dd170"
      },
      "source": [
        "<br>"
      ]
    },
    {
      "cell_type": "code",
      "execution_count": null,
      "id": "6e0284b8",
      "metadata": {
        "id": "6e0284b8"
      },
      "outputs": [],
      "source": [
        "# Loss와 Accuracy 시각화"
      ]
    },
    {
      "cell_type": "code",
      "execution_count": null,
      "id": "a98fc917",
      "metadata": {
        "id": "a98fc917"
      },
      "outputs": [],
      "source": [
        "def plot_training_history(history):\n",
        "    # Loss plot\n",
        "    plt.figure(figsize=(12, 4))\n",
        "    plt.subplot(1, 2, 1)\n",
        "    plt.plot(history.history['loss'], label='Train Loss')\n",
        "    plt.plot(history.history['val_loss'], label='Validation Loss')\n",
        "    plt.legend()\n",
        "    plt.title('Loss Evolution')\n",
        "\n",
        "    # Accuracy plot\n",
        "    plt.subplot(1, 2, 2)\n",
        "    plt.plot(history.history['accuracy'], label='Train Accuracy')\n",
        "    plt.plot(history.history['val_accuracy'], label='Validation Accuracy')\n",
        "    plt.legend()\n",
        "    plt.title('Accuracy Evolution')\n",
        "\n",
        "    plt.tight_layout()\n",
        "    plt.show()"
      ]
    },
    {
      "cell_type": "code",
      "execution_count": null,
      "id": "5ad42691",
      "metadata": {
        "colab": {
          "base_uri": "https://localhost:8080/",
          "height": 223
        },
        "id": "5ad42691",
        "outputId": "ce9986b8-8fac-4573-9fa8-fcd9d7fba51d"
      },
      "outputs": [
        {
          "output_type": "display_data",
          "data": {
            "text/plain": [
              "<Figure size 1200x400 with 2 Axes>"
            ],
            "image/png": "[encoded data removed]"
          },
          "metadata": {}
        }
      ],
      "source": [
        "plot_training_history(history)"
      ]
    },
    {
      "cell_type": "code",
      "execution_count": null,
      "id": "e3ebd5ad",
      "metadata": {
        "id": "e3ebd5ad"
      },
      "outputs": [],
      "source": [
        "def plot_modified_training_history(history):\n",
        "    # Loss plot\n",
        "    plt.figure(figsize=(12, 4))\n",
        "    plt.subplot(1, 2, 1)\n",
        "    plt.plot(history.history['loss'], label='Train Loss')\n",
        "    plt.plot(history.history['val_loss'], label='Validation Loss')\n",
        "    plt.ylim([0, 2])  # 설정한 y-axis 범위\n",
        "    plt.legend()\n",
        "    plt.title('Loss Evolution')\n",
        "\n",
        "    # Accuracy plot\n",
        "    plt.subplot(1, 2, 2)\n",
        "    plt.plot(history.history['accuracy'], label='Train Accuracy')\n",
        "    plt.plot(history.history['val_accuracy'], label='Validation Accuracy')\n",
        "    plt.ylim([0.5, 1])  # 설정한 y-axis 범위\n",
        "    plt.legend()\n",
        "    plt.title('Accuracy Evolution')\n",
        "\n",
        "    plt.tight_layout()\n",
        "    plt.show()"
      ]
    },
    {
      "cell_type": "code",
      "execution_count": null,
      "id": "1f972810",
      "metadata": {
        "colab": {
          "base_uri": "https://localhost:8080/",
          "height": 223
        },
        "id": "1f972810",
        "outputId": "18f10116-f3b4-4b91-9147-9a29848219d5"
      },
      "outputs": [
        {
          "output_type": "display_data",
          "data": {
            "text/plain": [
              "<Figure size 1200x400 with 2 Axes>"
            ],
            "image/png": "[encoded data removed]"
          },
          "metadata": {}
        }
      ],
      "source": [
        "plot_modified_training_history(history)"
      ]
    },
    {
      "cell_type": "markdown",
      "id": "6bbb905b",
      "metadata": {
        "id": "6bbb905b"
      },
      "source": [
        "<br>"
      ]
    },
    {
      "cell_type": "markdown",
      "source": [
        "## 6. 평가 및 성능 지표\n",
        "<br>"
      ],
      "metadata": {
        "id": "Z30EeEW56oWC"
      },
      "id": "Z30EeEW56oWC"
    },
    {
      "cell_type": "code",
      "execution_count": null,
      "id": "a33838b6",
      "metadata": {
        "colab": {
          "base_uri": "https://localhost:8080/",
          "height": 792
        },
        "id": "a33838b6",
        "outputId": "1de743ce-09ee-4b31-f670-e03fdec4aa61"
      },
      "outputs": [
        {
          "output_type": "stream",
          "name": "stdout",
          "text": [
            "121/121 [==============================] - 84s 675ms/step\n",
            "Real Accuracy: 0.9347\n",
            "              precision    recall  f1-score   support\n",
            "\n",
            "     Class 0       0.97      0.89      0.93       892\n",
            "     Class 1       0.93      0.92      0.93       973\n",
            "     Class 2       0.95      0.99      0.97       970\n",
            "     Class 3       0.89      0.94      0.91      1011\n",
            "\n",
            "    accuracy                           0.93      3846\n",
            "   macro avg       0.94      0.93      0.93      3846\n",
            "weighted avg       0.94      0.93      0.93      3846\n",
            "\n",
            "\n",
            "Weighted F1 Score (based on real predictions): 0.9347\n"
          ]
        },
        {
          "output_type": "display_data",
          "data": {
            "text/plain": [
              "<Figure size 1000x700 with 2 Axes>"
            ],
            "image/png": "[encoded data removed]"
          },
          "metadata": {}
        }
      ],
      "source": [
        "from sklearn.metrics import classification_report, f1_score, confusion_matrix\n",
        "from sklearn.metrics import accuracy_score\n",
        "\n",
        "# 실제 예측값 생성\n",
        "real_predictions = model.predict(train_X)\n",
        "\n",
        "# 예측값을 레이블로 변환\n",
        "real_predicted_labels = np.argmax(real_predictions, axis=1)\n",
        "\n",
        "# 정확도 계산\n",
        "real_accuracy = accuracy_score(train_y, real_predicted_labels)\n",
        "print(f\"Real Accuracy: {real_accuracy:.4f}\")\n",
        "\n",
        "# 분류 보고서 생성\n",
        "real_report = classification_report(train_y, real_predicted_labels, target_names=[f\"Class {i}\" for i in range(4)])\n",
        "print(real_report)\n",
        "\n",
        "# F1 스코어 계산\n",
        "real_f1 = f1_score(train_y, real_predicted_labels, average='weighted')\n",
        "print(f\"\\nWeighted F1 Score (based on real predictions): {real_f1:.4f}\")\n",
        "\n",
        "# 혼동 행렬 생성 및 표시\n",
        "real_conf_matrix = confusion_matrix(train_y, real_predicted_labels)\n",
        "plt.figure(figsize=(10,7))\n",
        "sns.heatmap(real_conf_matrix, annot=True, cmap='Blues', fmt='g', xticklabels=[f\"Class {i}\" for i in range(4)], yticklabels=[f\"Class {i}\" for i in range(4)])\n",
        "plt.xlabel('Predicted Labels')\n",
        "plt.ylabel('True Labels')\n",
        "plt.title('Confusion Matrix (based on real predictions)')\n",
        "plt.show()"
      ]
    },
    {
      "cell_type": "markdown",
      "id": "1320458e",
      "metadata": {
        "id": "1320458e"
      },
      "source": [
        "<br><br>"
      ]
    },
    {
      "cell_type": "markdown",
      "id": "01ca8120",
      "metadata": {
        "id": "01ca8120"
      },
      "source": [
        "## 7. 예측 정확도 확인\n",
        "<br>"
      ]
    },
    {
      "cell_type": "code",
      "execution_count": null,
      "id": "bdc05c38",
      "metadata": {
        "id": "bdc05c38"
      },
      "outputs": [],
      "source": [
        "# 예측 함수 구현"
      ]
    },
    {
      "cell_type": "code",
      "execution_count": null,
      "id": "7fdacfd6",
      "metadata": {
        "id": "7fdacfd6"
      },
      "outputs": [],
      "source": [
        "def multi_class_predict(new_sentence):\n",
        "    input_id = tokenizer.encode(new_sentence,\n",
        "                                max_length=max_seq_len,\n",
        "                                pad_to_max_length=True)\n",
        "    padding_count = input_id.count(tokenizer.pad_token_id)\n",
        "    attention_mask = [1] * (max_seq_len - padding_count) + [0] * padding_count\n",
        "    token_type_id = [0] * max_seq_len\n",
        "\n",
        "    input_ids = np.array([input_id])\n",
        "    attention_masks = np.array([attention_mask])\n",
        "    token_type_ids = np.array([token_type_id])\n",
        "\n",
        "    encoded_input = [input_ids, attention_masks, token_type_ids]\n",
        "    score = model.predict(encoded_input)[0]\n",
        "\n",
        "    class_names = ['협박 대화', '갈취 대화', '직장 내 괴롭힘 대화', '기타 괴롭힘 대화']\n",
        "    max_score_index = np.argmax(score)\n",
        "    predicted_class = class_names[max_score_index]\n",
        "    probability = score[max_score_index] * 100  # 확률을 %로 변환\n",
        "\n",
        "    print(\"해당 문장은 {:.2f}%의 확률로 '{}'로 분류됩니다.\".format(probability, predicted_class))"
      ]
    },
    {
      "cell_type": "markdown",
      "id": "60494115",
      "metadata": {
        "id": "60494115"
      },
      "source": [
        "<br>"
      ]
    },
    {
      "cell_type": "code",
      "execution_count": null,
      "id": "015d3e45",
      "metadata": {
        "id": "015d3e45"
      },
      "outputs": [],
      "source": [
        "# 예측1"
      ]
    },
    {
      "cell_type": "code",
      "execution_count": null,
      "id": "45b7bb0a",
      "metadata": {
        "colab": {
          "base_uri": "https://localhost:8080/"
        },
        "id": "45b7bb0a",
        "outputId": "c8b8ea2d-5a42-4ec6-f91a-0d1bcaccf591"
      },
      "outputs": [
        {
          "output_type": "stream",
          "name": "stdout",
          "text": [
            "1/1 [==============================] - 0s 69ms/step\n",
            "해당 문장은 57.97%의 확률로 '협박 대화'로 분류됩니다.\n"
          ]
        },
        {
          "output_type": "stream",
          "name": "stderr",
          "text": [
            "/usr/local/lib/python3.10/dist-packages/transformers/tokenization_utils_base.py:2418: FutureWarning: The `pad_to_max_length` argument is deprecated and will be removed in a future version, use `padding=True` or `padding='longest'` to pad to the longest sequence in the batch, or use `padding='max_length'` to pad to a max length. In this case, you can give a specific length with `max_length` (e.g. `max_length=45`) or leave max_length to None to pad to the maximal input size of the model (e.g. 512 for Bert).\n",
            "  warnings.warn(\n"
          ]
        }
      ],
      "source": [
        "multi_class_predict(\"죽고싶니?\")"
      ]
    },
    {
      "cell_type": "markdown",
      "id": "0ddd467d",
      "metadata": {
        "id": "0ddd467d"
      },
      "source": [
        "<br>"
      ]
    },
    {
      "cell_type": "code",
      "execution_count": null,
      "id": "16a32515",
      "metadata": {
        "id": "16a32515"
      },
      "outputs": [],
      "source": [
        "# 예측2"
      ]
    },
    {
      "cell_type": "code",
      "execution_count": null,
      "id": "d745d4ac",
      "metadata": {
        "colab": {
          "base_uri": "https://localhost:8080/"
        },
        "id": "d745d4ac",
        "outputId": "514d8319-76fc-41d1-ff61-fb45306a5ebd"
      },
      "outputs": [
        {
          "output_type": "stream",
          "name": "stdout",
          "text": [
            "1/1 [==============================] - 0s 69ms/step\n",
            "해당 문장은 90.04%의 확률로 '직장 내 괴롭힘 대화'로 분류됩니다.\n"
          ]
        }
      ],
      "source": [
        "multi_class_predict(\"정 팀장 그것밖에 못해?\")"
      ]
    },
    {
      "cell_type": "markdown",
      "id": "f7f7af8f",
      "metadata": {
        "id": "f7f7af8f"
      },
      "source": [
        "<br>"
      ]
    },
    {
      "cell_type": "code",
      "execution_count": null,
      "id": "0391da08",
      "metadata": {
        "id": "0391da08"
      },
      "outputs": [],
      "source": [
        "# 예측3"
      ]
    },
    {
      "cell_type": "code",
      "execution_count": null,
      "id": "955fa0d9",
      "metadata": {
        "colab": {
          "base_uri": "https://localhost:8080/"
        },
        "id": "955fa0d9",
        "outputId": "96e01fd5-7194-4b3e-8a5d-5070116eb6a2"
      },
      "outputs": [
        {
          "output_type": "stream",
          "name": "stdout",
          "text": [
            "1/1 [==============================] - 0s 69ms/step\n",
            "해당 문장은 93.51%의 확률로 '기타 괴롭힘 대화'로 분류됩니다.\n"
          ]
        }
      ],
      "source": [
        "multi_class_predict(\"공과 사는 구분하자 좀\")"
      ]
    },
    {
      "cell_type": "markdown",
      "id": "80d020be",
      "metadata": {
        "id": "80d020be"
      },
      "source": [
        "<br>"
      ]
    },
    {
      "cell_type": "code",
      "execution_count": null,
      "id": "9704fa40",
      "metadata": {
        "id": "9704fa40"
      },
      "outputs": [],
      "source": [
        "# 예측4"
      ]
    },
    {
      "cell_type": "code",
      "execution_count": null,
      "id": "7bddf354",
      "metadata": {
        "colab": {
          "base_uri": "https://localhost:8080/"
        },
        "id": "7bddf354",
        "outputId": "2aed53d4-33c0-44b3-e687-4ae72898c720"
      },
      "outputs": [
        {
          "output_type": "stream",
          "name": "stdout",
          "text": [
            "1/1 [==============================] - 0s 69ms/step\n",
            "해당 문장은 49.46%의 확률로 '기타 괴롭힘 대화'로 분류됩니다.\n"
          ]
        }
      ],
      "source": [
        "multi_class_predict(\"오늘 야근해\")"
      ]
    },
    {
      "cell_type": "markdown",
      "id": "099e02c7",
      "metadata": {
        "id": "099e02c7"
      },
      "source": [
        "<br>"
      ]
    },
    {
      "cell_type": "code",
      "execution_count": null,
      "id": "08302c1d",
      "metadata": {
        "id": "08302c1d"
      },
      "outputs": [],
      "source": [
        "# 예측5"
      ]
    },
    {
      "cell_type": "code",
      "execution_count": null,
      "id": "5e92c286",
      "metadata": {
        "colab": {
          "base_uri": "https://localhost:8080/"
        },
        "id": "5e92c286",
        "outputId": "456d8391-1ab0-4b88-eef9-aa45f5eda183"
      },
      "outputs": [
        {
          "output_type": "stream",
          "name": "stdout",
          "text": [
            "1/1 [==============================] - 0s 68ms/step\n",
            "해당 문장은 89.99%의 확률로 '갈취 대화'로 분류됩니다.\n"
          ]
        }
      ],
      "source": [
        "multi_class_predict(\"100원 당 한 대\")"
      ]
    },
    {
      "cell_type": "code",
      "execution_count": null,
      "id": "00d296d4",
      "metadata": {
        "colab": {
          "base_uri": "https://localhost:8080/"
        },
        "id": "00d296d4",
        "outputId": "30b5922b-9692-46e3-9a77-d82f133e5d42"
      },
      "outputs": [
        {
          "output_type": "stream",
          "name": "stdout",
          "text": [
            "1/1 [==============================] - 0s 69ms/step\n",
            "해당 문장은 98.84%의 확률로 '갈취 대화'로 분류됩니다.\n"
          ]
        }
      ],
      "source": [
        "multi_class_predict(\"얼마 가지고 있어?\")"
      ]
    },
    {
      "cell_type": "markdown",
      "id": "b8964aac",
      "metadata": {
        "id": "b8964aac"
      },
      "source": [
        "<br><br>"
      ]
    },
    {
      "cell_type": "markdown",
      "id": "28c04502",
      "metadata": {
        "id": "28c04502"
      },
      "source": [
        "## 8. test.json 파일 예측 및 submission.csv 파일 생성\n",
        "<br>"
      ]
    },
    {
      "cell_type": "code",
      "execution_count": null,
      "id": "b1ee323d",
      "metadata": {
        "id": "b1ee323d"
      },
      "outputs": [],
      "source": [
        "# json 형태의 테스트 데이터를 데이터프레임 형태로 변경"
      ]
    },
    {
      "cell_type": "code",
      "execution_count": null,
      "id": "1e46b78b",
      "metadata": {
        "colab": {
          "base_uri": "https://localhost:8080/",
          "height": 1000
        },
        "id": "1e46b78b",
        "outputId": "fb0272d2-3839-441f-db34-a28da225a602"
      },
      "outputs": [
        {
          "output_type": "execute_result",
          "data": {
            "text/plain": [
              "                                                    text\n",
              "t_000  아가씨 담배한갑주소 네 4500원입니다 어 네 지갑어디갔지 에이 버스에서 잃어버렸나...\n",
              "t_001  우리팀에서 다른팀으로 갈 사람 없나? 그럼 영지씨가 가는건 어때?  네? 제가요? ...\n",
              "t_002  너 오늘 그게 뭐야 네 제가 뭘 잘못했나요.? 제대로 좀 하지 네 똑바로 좀 하지 ...\n",
              "t_004  아무튼 앞으로 니가 내 와이파이야. .응 와이파이 온. 켰어. 반말? 주인님이라고도...\n",
              "t_005  그러니까 빨리 말해. 선생님 제발 살려주십시오.  비밀번호 틀릴 때마다 손톱 하나씩...\n",
              "t_006  그 사람 누구냐?  누구말하는거야?  다 알면서 모른척 하지마. 둘다 쏴버리기 전에...\n",
              "t_007  야 저기야 닭꼬치 트럭왔다 응 그러네 그치? 너도 먹고 싶지? 어?나도? 그래 너 ...\n",
              "t_009  야 너 2학년 김민석 맞지? 네 맞는데요. 혹시 누구신가요? 내가 누군지 궁금하면 ...\n",
              "t_010  예전에 네가 나한테 했던 일 기억하지? 너도 당해봐 예전 일이라면 내가 사과할게. ...\n",
              "t_012  김비서 지금 우리애 학교가서 집에다가 좀 데려다 주세요 사장님 그런 개인적인 일은 ...\n",
              "t_014  야 김대리 니 주말에 뭐했냐? 아 그냥 쉬었습니다. 아 그냥 쉬어? 말 좀 짧다이 ...\n",
              "t_015  후기 내리세요. 안그러면 고소합니다.  지금 협박하시는 건가요?  협박 아니고 알려...\n",
              "t_018  좋은말 할때 내돈갚아. 내가 왜 그래야 하지? 너가 여기 재개발 된다며. 너믿고 내...\n",
              "t_019  저기요. 혹시 번호 좀 알려주실 수 있나요? 네? 아 죄송해요. 저 남자친구 있어서...\n",
              "t_020  너 내가 돈 갚으라고 했지!!!!! 안갚으면 죽여버릴거야 어떻게 죽일건데 내가 칼로...\n",
              "t_021  야 얘는 왤케 돼지냐? 그만 좀 먹어라 놀리지마 너 라면 한번에 5개 끓어먹지? 아...\n",
              "t_022  야 너 왜 그렇게 생겼어?  내가 뭘  너 정말 토나오게 생겼어 알아?  너도 잘생...\n",
              "t_023  야 너 이리로 와서 돈 좀 내놔라 아니 당신 미쳤나요? 나 참 너야 말로 목숨이 여...\n",
              "t_024  나. 이번에도 돈이 좀 필요한데. 우리사이에 차용증이나 돈 갚겠다는 각서는 필요없지...\n",
              "t_025  김인턴 지금 회의 들어가야 되니까 빨리 이거 좀 해와. 아 저 지금 퇴근하려고 했는...\n",
              "t_028  김대리 이따구로 할꺼야?  네?  글씨가 왜 이모양이야?  죄송합니다  김대리 학교...\n",
              "t_030  너 이 영상 유포되면 어떻게 될거 같아? 미안. 지워줘. 그건 안 되지. 내가 뭐든...\n",
              "t_031  서울 전체를 10분 뒤에 폭파하겠다. 너 대체 원하는게 뭐야? 왜 이런짓을 하는거냐...\n",
              "t_033  저 며칠전에 대리 운전 했던 길동 기사입니다. 아 네네 무슨 일로 전화하셨죠? 제가...\n",
              "t_034  그만 건드리세요 뭐? 반복하시잖아요 뭐를 진짜 모르세요? 몰라 불쾌하네요 이 새끼좀...\n",
              "t_035  어이 코털 왜 왜? 아놔됐고 너 매점가서 곰보빵 두개에 콜라하나 사와라 나 돈없어 ...\n",
              "t_036  저기요 번호 주세요 네? 죄송합니다. 머라고요? 내가 누군줄 알아요? 아. 네 당연...\n",
              "t_037  다 손들어! 지금부터 손을 내리면 이 직원은 죽는거야 저한테 왜 그러세요 빨리 돈다...\n",
              "t_038  다시 못걸어다니게 만들어줄까? 어? 이러지마세요. 난 분명히 시간을 줬다. 제가 할...\n",
              "t_039  핸드폰 빌려 주실 수 있어요?  네? 급하시면 1통화 하세요  감사합니다  어?  ...\n",
              "t_040  이 영감탱이 자네가 우리 할망구랑 바람났지? 노망났나 이게 무슨소리야 왜 젊었을때 ...\n",
              "t_041  야 거기 이 골목 지나려면 통행비 5만원이다. 그딴게 어딨어요? 오늘부터다 시발롬아...\n",
              "t_042  수진씨 목마른데 1층 커피숍에서 나 커피 한 잔 사다 줄 수 있어? 돈은 내가 줄게...\n",
              "t_043  저희 이 집에서 나가게 하려면 위로금이라도 주시고 나가게 하세요. 저번에 원래 집 ...\n",
              "t_045  홍시씨 오늘 데이트 하나 봐? 엄청 힘줬네? 네? 아니 저 평상시랑 똑같은데. 그렇...\n",
              "t_046  차에서 당장 내려 내가 왜 내려? 당신이 뭔데 이래라 저래라야? 그럼 왜 계속 내 ...\n",
              "t_047  너 때문에 내 인생이 망했어! 아빠 왜 이러세요. 너도 내가 알콜 중독자라고 생각하...\n",
              "t_049  니 죽고싶냐?  아니요.  왜 사람 말귀 한번에 못알아처먹고 자꾸 두 번 세 번 말...\n",
              "t_050  이 자식 아이패드 새로 샀네?  좋아보인다 나도 요즘 아이패드 사고 싶었는데 잘 됐...\n",
              "t_051  야 고구마?  내가 왜 고구마야? 고구마니까 고구마지.  그만해. 내 이름은 고군만...\n",
              "t_052  100원만 빌려주라 구라치네 내일 200원로 갚을게 밀린 돈이 니가 천원이 넘어 아...\n",
              "t_053  민선씨 이번주 주말까지 제출인데 이것 좀 도와줘요.  각자 개인 업무 입니다. 저도...\n",
              "t_054  김대리 네 과장님 무슨일이세요? 김대리 옷이 오늘 왜그래? 제 옷에 무슨문제가 있나...\n",
              "t_055  아 내가 아이스 시켰지? 네 근데 지금 너무추운것같아서 나 뜨거운 걸로 마시려구 아...\n",
              "t_056  어이 오랜만이다 너 나 피해 다니냐? 그건 아니야 근데 왜 난 그렇게 느껴지지? 지...\n",
              "t_058  너네 엄마 다리가 하나 없더라? 응 사고 당하셔서 그래 으 다리 하나 없는 장애인이...\n",
              "t_059  애 시어머니가 우습니? 아니요.그건아닌데 그게 아니면 미역국에 소고기 건더기가 없네...\n",
              "t_060  야 너 이번에 알바비 들어왔다며? 어 . 근데 왜? 내가 급해서 그러는데 10만원만...\n",
              "t_061  선생님 지금 저희애가 잘못했다는거에요? 아니요 어머니 그게 아니라요 그게 아니면 뭔...\n",
              "t_062  자네 이번에 취직을 했다지? 예. 어렵사리 구한 자리입니다 그래. 잃기에는 너무 아...\n",
              "t_063  이쪽에 주차 하시면 됩니다. 너가 대주세요 고객님 저의 역할은 안내요원 입니다. 내...\n",
              "t_064  오늘 저녁 회식합시다  네 갑자기요? 왜요? 하은씨안돼요? 애가 아파서 빨리 가봐야...\n",
              "t_065  야 새끼야 내 사랑스러운 여동생을 욕하면 어떡하냐 진짜 땅에 매장 될 준비나 해 죄...\n",
              "t_066  201호에 좀 이상한 사람이 이사왔다면서요?  무슨 조현병인가 뭔가?  그거 완전 ...\n",
              "t_067  아니 커피를 이따구로 만들어서 돈받고 팔아도 되는거야? 손님 어떤일로 그러시죠?  ...\n",
              "t_069  사장님 제 돈 돌려주세요 시끄러 너가 줬잖아 갚아주신다면서요 됐고 너가 준 이상 지...\n",
              "t_071  쓰레기통 비우고 왔으면 당연히 닦아야죠. 그거 다 막내 일인데. 안했네?  네 선배...\n",
              "t_072  야 돼지 . 돼지 너 부르잖아 왜 너가 돼지야? 왜 대답해 하아 그러니까 살을 빼 ...\n",
              "t_073  수민 씨 아침에 일찍 좀 오세요  저 지각 안했습니다  아니 신입이면 1시간 일찍 ...\n",
              "t_074  넌 뭔데 시비야?  그쪽이 먼저 시비걸지 않았나? 그 여자 놔줘. 형씨 정의의 사도...\n",
              "t_076  서류 오늘까지야 자리에 안계셔서 책상위에 올려 놓았습니다 그래?언제? 오전에요 그럼...\n",
              "t_077  안녕 얘들아 이번 반장은 내가 맡게 되었어. 모두들 잘 부탁해. 우와 축하해! 우리...\n",
              "t_078  신입 치마가 진짜 잘 어울린다. 아 감사해요. 앞으로 매일 치마 입고 안 돼? 얼마...\n",
              "t_081  총 내려놔 너 이래 봤자 이미 경찰 불렀고 나는 그 사람 어디 갔는 지 몰라 경찰 ...\n",
              "t_083  당신 블랙박스 삭제하세요! 당장!  내가왜요? 이게 당신에게 불리하게 작용하나요? ...\n",
              "t_084  너 살 빼야겠다 살 빼야 겠지 나는 먹어도 잘 살도 안 찌는데 그래 좋겠다 너는 먹...\n",
              "t_085  신대리 오늘 내 아내가 계단에서 넘어져서 무릎 수술을 했다고 하더라고 이를 어쩌나....\n",
              "t_086  이 자료를 공개 시 당신의 명예를 실추시킬 수 있습니다  새꺄 해봐  네 해당 자료...\n",
              "t_088  야 꼬맹아 일로와  아저씨 누군데요  아씨 오라면 와 임마  싫어요 도망갈래요.  ...\n",
              "t_089  아니. 마케팅 팀은 이번 행사 때 김민주사원인가 ? 그 사원 참 예쁘던데. 죄송해요...\n",
              "t_091  김대리 여기서 뭐해? 탕비실에 뭐 꿀 발라 놨니? 아닙니다. 바로 들어가겠습니다. ...\n",
              "t_092  닌 진짜 다시 생각해 봤는데 그냥 살려주면 안될 것 같다. 그래 새끼야 한번 죽여봐...\n",
              "t_093  야 오늘 쟤로 우리 내기할까? 오 뭔데 뭔게 쟤가 빵을 몇 분안에 사오는지! 오우 ...\n",
              "t_095  김대리 연차는 또 왜내? 아 예 부장님 막내가 많이 아파서 그렇습니다. 이래서 암탉...\n",
              "t_097  민성이 이번주 뭐하니? 네 대구에서 부모님 오시기러 했습니다 아그래?? 네 교수님 ...\n",
              "t_098  지금 당장 돈 꺼내라고 제가 지금 가진 돈이 없어요 그게 말이 돼 당장 내놔 진짜로...\n",
              "t_099  김기자 내일 그 기사 낼생각인가? 제상각은 변함 없습니다 그래 우리 김기자 뚝심있어...\n",
              "t_101  야 나 오늘 차비가 없는데 만원만 빌려주라 안돼 나 돈 없어 뒤져서 나오면 뒤진다 ...\n",
              "t_103  씨파. 이것들이 지금 .내가 우스워? 아닙니다.형님 .죄송합니다  피맛을 니들이 아...\n",
              "t_104  너 꿈이 뭐라고? 교수?  넵  네 머리로 무슨 교수는 교수야.  제 목표입니다. ...\n",
              "t_105  승현씨 오늘 저녁에 약속있어요? 아니요. 없습니다. 잘됐네. 오늘 남아서 내 내 야...\n",
              "t_106  너 어제 영수씨랑 잤다며? 책임님. 누가 그런 소리를 해요.? 누구긴 여기 사람들 ...\n",
              "t_107  으악. 이게 뭐야! 어머 지혜야 너 안에 있었구나 너.너 정말. 아니 우리는 아까 ...\n",
              "t_109  이 가방에 있는 돈 다 쓸어담아. 그러지 않으면 쏴 죽인다. 예. 알겠습니다. 제발...\n",
              "t_111  너 나 좋아하냐?  어 좋아하지 죽을만큼 좋아? 응 당연하지 그럼 죽어봐 죽는시늉이...\n",
              "t_112  내가 이번달까지라고 하지 않았나? 아. 월급이 밀리는 바람에 죄송합니다. 조금만 더...\n",
              "t_113  요새 살좀 빠졌네 민주씨? 아 네 신랑이 잘안해줘? 네?? 저 살빠지는거랑 신랑이랑...\n",
              "t_114  언니 이거하나사줘 아 이쁘네요 얼마에요? 30000원이야 네? 그냥 리본 삔인거 같...\n",
              "t_115  여기 있던 돈 어디다 뒀어?  무슨 소리야? 돈이 어디있다고 그래?  얼른 내놔! ...\n",
              "t_117  자 다들 일 멈추고 점심식사 하러갑시다  네 알겠습니다  자네도 갈거야? 일 더 안...\n",
              "t_118  한수씨 네? 이번주말에 어디 나들이 안갈래요?  저요? 아 나 옆 팀 미영씨랑 사귀...\n",
              "t_119  사진 보셨죠? 이야.아내분이 있는데 이렇게 당당하게 바람을 피시다니. 뭐야.당신 어...\n",
              "t_120  대성씨 네? 이번주말에 뭐해? 애들이랑 놀이동산 가기러 했습니다 아그래? 우리 아버...\n",
              "t_121  저.저기요 네? 아까부터 지켜봤는데 너무 예쁘시네요 네? 아 예. 감사합니다 저기 ...\n",
              "t_122  야 기타연주를 그것 밖에 못치냐? 죄송합니다. 그러면서 길거리 연주로 돈을 받으려고...\n",
              "t_123  친구야 돈좀 빌려주라.  돈.? 왜 빌리려고? 왜긴 왜야. 매점가려 그러지  지난번...\n",
              "t_124  내일까지 입금하세요  도저히 내일까지는 돈 마련 못할 것 같아요  그럼 저도 가만히...\n",
              "t_125  이거 한정판 굿즈 아니야? 대박 영롱하다. 그지 우리 오빠들 너무 멋져. 오 고생한...\n",
              "t_126  새론씨 오늘 저녁에 약속있어요?  아니요. 없습니다. 잘됐다. 그럼 보고서 작성을 ...\n",
              "t_128  어 아가씨 잠깐 스돕스톱 누구세요? 아가씨 내가 요즘 좀 힘들어서 그런데 불우이웃 ...\n",
              "t_130  내 이름 불러봐. 기. 기. 기.기철.아 내 이름이 기기기기철이냐? 제대로 불러! ...\n",
              "t_131  입어보시니 어떠세요 손님? 다 별로네 여기 옷이 다 왜이래? 그럼 어떤 옷을 원하시...\n",
              "t_132  최대리 옷 샀어? 네!  또 똑같은 거므스레한 옷이네.  하하.이런 게 좋네요. 좀...\n",
              "t_133  야 야 이리와봐 왜.왜불러. 너는 친구가 부르는데 가봐야지 왜 부르냐고 물어보면 어...\n",
              "t_134  나 사고쳤어. 갑자기 무슨소리야 아 몰라. 걍 돈 좀 줘봐. 입막아야 하니까. 아니...\n",
              "t_135  내가 너한테 얼마나 잘했는데. 술만 마시면 욕하고 때리고. 내가 취해서 그랬어.  ...\n",
              "t_136  마스크써주세요 공공장소입니다 니가뭔데 쓰라마라야 코로나로 예민한때에 우리모두 조심해...\n",
              "t_137  저 그만좀 하시면 안될까요 야 니가 만져도 된다고 거의 이미 합의가 된상태야 만약 ...\n",
              "t_138  거지 왔네 나 거지 아니야 맞잖아 너네 아빠 어제 노가다 하는거 봤어 헐 진짜? 니...\n",
              "t_140  넌 좀 그냥 죽어 내가 뭘 그렇게 잘못했는데 그냥 꼴뵈기 싫어 이유라도 물어보자 그...\n",
              "t_142  돈 내놔 왜? 당신이 뺑소니 범인이라는 것 알고 있어 헉 그걸!! 그러니 범인이라고...\n",
              "t_143  어 저기좀봐 장애인이다. 절뚝거리는거 개웃기네. 자기 갈 길 갑시다. 왜? 웃지도 ...\n",
              "t_144  자네는 정말 할 줄 아는게 뭔가? 죄송합니다. 좀 더 잘하겠습니다. 이래서 대학 나...\n",
              "t_145  지금 당장 책상 위에 올려진 약 먹어  어떤 약물인지 확인 되지 않아 먹을 수 없습...\n",
              "t_146  곽두팔. 드디어 잡았다.  누가 꼰질렀어? 어떤 새끼야?  어휴. 누구겠어? 니 똘...\n",
              "t_147  유행복 너 어디야 누가 아직까지 집에 안 들어오래. 오늘 맞을 준비해라. 나 아빠가...\n",
              "t_148  이혼하자 우리 이혼? 누구 좋자고이혼해 너 그년만나러 가지? 너의 폭언과 폭행에 지...\n",
              "t_149  야 너 좀 따라와 왜요? 형이 오라면 오지 말이 많아 저 집에 가야 해요 지갑만 두...\n",
              "t_150  이번 일은 너가 맡도록해. 예? 저번에도 제가 하지 않았습니까. 그래서 안할거야? ...\n",
              "t_151  이게 뭐냐? 아 애니메이션 보고 있는거야. 이런걸 누가 보냐? 유치하게. 뭐? 너가...\n",
              "t_156  아가씨 집이어디야? 왜그러세요 내가 집까지 태워줄게.타 저 혼자 갈수 있어요 소리지...\n",
              "t_157  어이 김대리 자네 뭐하고 있나? 옙 최부장님 어제 말씀하신 리포트 작성중입니다 아니...\n",
              "t_159  야! 너좀저리가 왜그러니 너만보면 신경질나 바보같이 뭐하냐? 좀심한거아냐? 너같은 ...\n",
              "t_160  아가야 너 원래 일처리 이런식으로 하냐? 죄송합니다 뭐가 죄송한데? 죄송합니다 대답...\n",
              "t_161  야 너 이름이 뭐냐? 김지호. 얘 생긴거 장애인같네. 응? 응? 응이라고 했냐? 아...\n",
              "t_163  우리 헤어졌잖아. 이제 그만해.  제발.한번만 더 기회를 줘.  저번에도 그랬다가 ...\n",
              "t_164  아 아 마이크 테스트 빠가야 5초 내로 튀어온나.  부르셨습니까?  야 미쳤냐? 커...\n",
              "t_166  김씨 주말에 뭐하세요? 네 부장님. 저 가족들과 약속이 있습니다 어디서? 여의도요 ...\n",
              "t_168  이새끼 이것도 틀려? 틀린건가? 바보자식. 이래가지고 대학은 가겠니 공부열심히하고있...\n",
              "t_170  담임이랑 무슨 얘기 한거야? 설마 너 이른건 아니지? 아니 그냥 진로 상담한거야. ...\n",
              "t_171  길동씨 어디까지 했어? 아직 하는 중입니다 아직도? 왜 이렇게 일을 못해 죄송합니다...\n",
              "t_172  이거 재연씨 아이디어인가? 네 그렇습니다. 아니지 아니지. 무슨 말씀이신지? 지금부...\n",
              "t_173  이봐요 아가씨 이거 환불좀 해줘  아 환불하시려면 구매하셨던 종이들 옷걸이들 다 들...\n",
              "t_174  아효 덥네. 저 조금만 쉬겠습니다. 야 선풍기 가져간다. 너 어쩌피 쉴 거라며. 네...\n",
              "t_175  어이 아가씨 몸매 이쁘네 네? 딱 붙는 옷에 짧은 치마 크흐 섹시하다 아 남자친구한...\n",
              "t_176  김쌤 학부모들 클레임 들어왔어 어떻게 할 거야? 저는 정말 학생을 때리지 않았습니다...\n",
              "t_177  최주임 오늘 저녁 약속있어?? 박과장님! 아니요 없어요 그럼 오늘 둘이서 술한잔 어...\n",
              "t_178  내 지갑 너가 훔쳤니? 그게 무슨말이야? 아니 너가 전에 내 지갑보고 이쁘다했잖아 ...\n",
              "t_179  선생님 제가 어제 밤에 애들이랑 놀다가 뭘 봤게요? 응? 뭘 봤는데? 그리고 무엇보...\n",
              "t_180  희수씨는 생각이 있어요 없어요!! 네.? 그게 무슨. 내가 이걸 이렇게 하면 안된다...\n",
              "t_181  찬호야 꼬추 한번만 보자 그래 잘 컸나 보자 하지마 선생님한테 다 이를 거야 일러라...\n",
              "t_182  어머 미희씨 손에든거 붕어빵이야? 아네 이만원어치 샀어요 팀사람들이랑 나눠먹으려구 ...\n",
              "t_183  2차는 편하게들 마시게 네 감사히 잘먹겠습니다 어 시켜시켜 내가 살테니까 네 그럼저...\n",
              "t_184  뭘 째려봐  아닙니다  뭘 아니야 너 이리와봐  안째려봤어요  이리 와보라고  저 ...\n",
              "t_187  한 발자국도 움직이지마. 그럼 이 여자는 죽는거야. 대화로 풀어갑시다. 난 그동안 ...\n",
              "t_188  서영아 이번 달도 100만원 알지?  뭐? 저번 달로 끝난 거 아니었어?  그게 무...\n",
              "t_189  이 새끼 한동안 안쳐 맞더니 정신 못차리네? 야 정신 나갔냐? 무섭게 왜 이래. 뭐...\n",
              "t_190  너 때문에 내인생이 망가졌어 나도 태어나고 행복했던적 없어 너만 아니었으면 잘살았을...\n",
              "t_192  어이 내 동생이 그러던데 너 집 잘 산다며? 저 저요? 그래 너. 이 형이 오랜만에...\n",
              "t_193  짱깨 꺼져 자기 나라에서 돈 못 버니까 한국오고 참 너도 불쌍하다 뭐요? 하긴 중국...\n",
              "t_194  야 거기서봐 네?저요 응 형아가 오늘놀아야하는데 돈이 부족해서 돈좀있냐? 네?저 돈...\n",
              "t_195  안녕하세요 투표부탁드려요.  아 괜찮습니다. 지구를 위해서 한번씩만 부탁드려요. 아...\n",
              "t_196  너는 생긴게 왜 그따위로 글러먹었니? 갑자기 왜그러는거야 아니 내가 쭉 둘러보는데 ...\n",
              "t_198  너 지금 만나는 여자 내 여자친구 아니야? 미안 어쩌다 보니 그렇게 됐다 좋은 걸 ...\n",
              "t_199  야! 너 뭐하는 사람이야? 내가 누군줄 알어? 누구신데 그러세요 이리와봐  제가 왜...\n",
              "t_200  부장님 이렇게 하면 좋을거같습니다. 크흠. 지금 내가 제시한게 안좋다는 이야긴가요?...\n",
              "t_201  어이 너 어디살아? 네?? 예쁘게 생곘네?? 이러지 마세요 좋지 맞지? 좋다고 안하...\n",
              "t_202  넌 한쪽 팔도 없는 주제에 무슨 미술학원 ? 참 욕심이 크다  뭐? 한쪽 팔없다고 ...\n",
              "t_203  봉지 드릴까요?  그럼 어떻게 들고 가란 말이에요?  네 그럼 봉지 드릴까요?  말...\n",
              "t_204  저기요 아가씨 일로와봐요.  네? 왜그러세요?  이쁘장하게 생겼네. 일로와봐 오빠랑...\n",
              "t_205  야 말해봐  뭐.뭘  야 이 새끼 말 더듬는 거 봐 존나 웃겨  뭐 뭘  놀리지 마...\n",
              "t_206  승호씨 오후에 나 대신 공장 좀 가줘요 네? 갑자기요? 제 업무는.? 그건 갔다와서...\n",
              "t_207  길동씨. 아 직업이 선생이네? 천마고등학교?  네네. 제가 선생님입니다. 선생이란 ...\n",
              "t_208  이대리는 주말에 뭐했나? 집에서 쉬었습니다. 에이 남친 만났겠지 남자친구 없어요. ...\n",
              "t_209  야 너 내말이 우습지? 일을 그렇게 해놓고 죄송하다는 놈 태도가 그게 뭐냐? 아닙니...\n",
              "t_211  야 너 지금 꼴랑 수급이 이정도 밖에 안돼? 미안해 정해야 맞기 싫으면 돈을 더 가...\n",
              "t_212  이것도 못하나? 죄송합니다 손님 그러면서 알바비는 두둑히 받아가겠지? 죄송합니다. ...\n",
              "t_213  이대리. 이번 프로젝트 이대리가 진행한 걸로 해야할 것 같네. 네? 과장님 그게 무...\n",
              "t_214  야 정신차려 음. 누구세요.? 여긴.어디고.? 상황파악이 조금 느리네 너 납치 당한...\n",
              "t_218  너 니 동영상 학교에 뿌려지고 싶어? .왜 그래.정말. 풉. 애들이 니가 이렇게 변...\n",
              "t_219  여기 사장 나오라 해 무슨 일이시죠 너말고 여기 사장 나오라고! 사장님 안계십니다 ...\n",
              "t_220  얘들아 언니들이 돈 모아오라고 하던데 나 만원만  나 돈 없고 얘도 없어. 내 언니...\n",
              "t_222  사랑해.나랑 사귀자 네? 무슨말인지.? 사귀자고 내가 그러고싶어 사귀자 부담스러워요...\n",
              "t_224  길동구에 사는 최유정 집 어디인지 나한테 싹 다 자료넘겨. 배우자 분이시거나 부모님...\n",
              "t_226  사장님 수고가 많으세요 요즘 매출이 많이 늘었다면서요?? 별말씀을요다 박사장님 덕분...\n",
              "t_227  제정신이야? 이것도 음식이라고 내온거야? 죄송합니다. 너가 이걸 먹어봐. 니 혀를 ...\n",
              "t_228  엄마 나 급식비 또 내래.  뭐? 또?  어. 학교에서 급식비가 올랐다고.  참 나...\n",
              "t_229  어이 좀 영상이 짧긴 한데 억지로라도 알아서 해봐.  영상자료가 너무 부족하잖아요....\n",
              "t_230  오늘 저녁에 뭐하나 지수씨 퇴근하면 집에서 쉬려구요 잘됐네 나랑 밥이나 한끼하고 영...\n",
              "t_231  여러분 주님은 참 자비로우신 것 같아요 남들이 예수라면 다 죽여버렸을 텐데 참 웃기...\n",
              "t_232  아 진짜 못참겠네 왜그래 저번부터 그냥 거슬린다 아니 뭘 잘못했는데 맞자 일단 어디...\n",
              "t_233  네. 과자장인입니다. 거기 과자집 사장 나오라 그래! 무슨일인데 그러세요? 제가 사...\n",
              "t_234  야 돈 안줘? 야 잠깐만 기다려봐 시끄러 삼초의 시간을 준다 빨리 하나. 둘. 알겠...\n",
              "t_235  야 너 진짜 못생겼다. 갑자기 왜 그래. 눈이 왜 이렇게 작냐. 키도 작은 게. 친...\n",
              "t_236  야 너 이 대화방 나가지 말라고 했지 왜 자꾸 나가냐? 나 엄마가 폰 검사하시기도 ...\n",
              "t_237  가진게 이게 다야? 죄송합니다. 아저씨 오늘 집에 안 가고 싶어? 지.지갑에는 돈이...\n",
              "t_238  아 여기다 주차하지마라니까 아니 여기가 당신 땅도 아닌데 왜그러는거야 내 땅은 아니...\n",
              "t_239  아 이번판도 졌네. 현석이 넌 손이 장애냐? 아 무슨 말을 그렇게 하냐 손이 장애인...\n",
              "t_240  제.제.제가  왜.왜 내 말투.따라.따라해  재.재.재미.재밌잖아  하지.하지마 기...\n",
              "t_241  야 일등하니까 좋냐? 어???? 만년 2등이 일등하니까 좋냐고 아. 왜그러는거야 너...\n",
              "t_242  너 어제도 민정이에게 고백했다가 차였다며? 응. 넌 이제 정카다. 맨날 차이니까  ...\n",
              "t_243  선희씨 오늘 퇴근하고 뭐해.  저 집에 갈거 같습니다  괜찮으면 남아서 나랑 일좀 ...\n",
              "t_245  야 너 돈 좀 많아 보이는데 형 좀 빌려주라 안돼요 저도 돈 없단 말이예요. 뒤졌는...\n",
              "t_246  이 대리 혹시 바쁜가 ? 아닙니다. 부장님. 혹시 무슨 일 있으신가요? 지금 우리 ...\n",
              "t_247  야 체육복 좀 빌려주라 나 다음시간.체육인데. 나 지금 체육시간이니까 좀 빌려달라고...\n",
              "t_248  선혜씨 빨리 좀 못나와요?  최대한 빨리 가고 있는 건데요.  오늘 아침 회의 때도...\n",
              "t_249  나한테 먼저 빌려주기로 해놓고 다른사람 먼저 빌려줘서 올해 우리집 농사 다 망하게 ...\n",
              "t_250  이검사 오랜만이야?  아이고 김회장님 오랜만에 뵙습니다.  요즘 내 뒤를 캔다는 소...\n",
              "t_252  너 이제는 나 말고 다른 대표한테 붙기로 한거냐?  그걸 어떻게 알았어.? 이 바닥...\n",
              "t_253  회식 갑시다 오늘 선약이 있어서 가볼게요 넌 또 빠져? 네? 네. 이런 애들은 사회...\n",
              "t_254  너라면서? 내 인사고과 망친사람 네? 제가요? 누가요? 오호 너가 한게 맞나보네 전...\n",
              "t_255  야 이 새끼 옷 입은 것 좀 봐. 구찌? 이게 뭔 구찌냐. 딱 봐도 루이비똥이구만....\n",
              "t_257  그거 알아? 이주임님. 이번에 승진하려고 최부장님이랑 같이 출장가서 방 하나만 썼데...\n",
              "t_258  친구야 안녕?  누구세요? 아니 형이 용돈이 좀 부족한데 친구가 좀 빌려줄래? 아 ...\n",
              "t_259  지수씨는 뭐 하나 제대로 하는게 없어 네? 팀장님? 아니 남들처럼 빠릿하지도 않고 ...\n",
              "t_260  원장님 저 돈좀 빌려주세요 월급 어제였잖아요 무슨일있어요? 아니요 그건 아니구요 원...\n",
              "t_262  너 이번 과제 도와주지 않으면 저번 일 이야기할 거야 네가 그 일을 어떻게 아는데?...\n",
              "t_263  저기요 왜 샤인머스켓 빙수에 샤인머스켓이 없는거죠?  네? 죄송합니다 고객님. 샤인...\n",
              "t_266  야 뭐하냐? 그렇게 부르지마 야 를 라 부르지 너 손가락 2개잖아 너 진짜 그만해 ...\n",
              "t_269  야 내것도 하나 사줘봐 미안 돈이 없어 그럴 줄 알았다 거지새끼 갑자기 왜 그래 뭐...\n",
              "t_270  여기 지금 지하 창곤데. 내가 며칠 전에 감방에서 나왔는데. 돈이 쪼까 필요해서 어...\n",
              "t_272  아 존나 짜증나네 내가 뭘 했다고 그냥 죽여버릴래? 그래  미안해 일단 쳐맞고 시작...\n",
              "t_273  저기요 씨 잠깐 저기 좀 볼까요 네 지난번에 보고서 너무 못 썼어요 아 그랬어요 정...\n",
              "t_275  야 너 내가 부르면 일단 동작멈추랬지 아 근데 차장님이 이거좀 해달라고 말하셔서. ...\n",
              "t_276  이대리 오늘 마치고 치맥 콜?  저 약속이 있습니다 부장님  직장 상사와의 약속보다...\n",
              "t_277  너 공부는 왜하냐 공부해도 성적도 안나오면서 공부는 뭐 아무나 하는 줄 알어 니가 ...\n",
              "t_278  김대리 커피 네 여기요 맛이 왜이래 왜 그러시는지.? 넘 쓰잖아 다시 해와 저 이거...\n",
              "t_279  김인턴 할 일 없으면 회사 출근은 왜 했나?  죄송합니다. 할 일 좀 주시겠어요? ...\n",
              "t_280  야 너네집 이번에 사업 잘되더라? 아니야 우린 돈이 없어 돈 좀 빌려줘 안돼 나도 ...\n",
              "t_281  현수야 우리 왔다 너는 아버지의 원수! 그만해라 이제 안 지겹냐 너는 지금 그런 말...\n",
              "t_282  어이 뚱뚱보 줄넘기하냐  왜그래. 너희들  그냥 물어보는거야. 뚱뚱보야  돼지가 뛰...\n",
              "t_283  과장님 제가 오늘 몸이 아파서 조퇴를 해야 할 것 같습니다. 어린애가 꾀병만 늘어가...\n",
              "t_285  어이 김대리 네 대리님. 내가 맡긴 일 왜 안했어? 아무리 생각해도 대리님 일은 대...\n",
              "t_286  니가 오빠좀 도와줘라 내가 왜 엄마가 도와줘 너는 여자라 시집갈때 돈 많이안들자나 ...\n",
              "t_287  과장님 저 이번주 금요일에 하루 휴가 좀 써도 될까요? 휴가? 반차? 월차?  아 ...\n",
              "t_288  멈춰! 칼 맞기 싫으면 계산대에 손 올려!  뭐. 뭐야  뭐긴 뭐야 임마 돈 다 꺼...\n",
              "t_289  아이씨 이게 뭔 냄새야 미안 어제 엄마가게에서 일 도와드렸는데 옷에 냄새가 뱄네 아...\n",
              "t_290  저기요 카페에서 제 노트북 가져갔죠? 착각하시고 가져간거 같은데 카페 회원정보 보고...\n",
              "t_291  돈내놔 없어요. 방금 은행에서 나오는거 다봤어.내놔 왜이르세요 죽을래.지금당장 내놔...\n",
              "t_292  에휴 뭔 자신감에 사진을 올려. 그렇니까. 악플이나 남겨야지. 이런애들은 욕을 먹어...\n",
              "t_293  야 저새끼 봐 존나웃겨  진짜 병신같다 쟤 뭐하냐  시발 저딴 병신도 있네  그만 ...\n",
              "t_294  야 신입 네 부장님.? 뭘 멀뚱거려 빨리와 넵 오늘 아들 생일인데. 아 축하드립니다...\n",
              "t_295  동생아 내 방 좀 정리해줘 싫어 내가 왜 언니 방이니까 언니가 해 자매끼리 왜이래 ...\n",
              "t_298  너 이 옷 어디서 났어? 엄마가 사주셨어. 예쁘지? 어. 나 빌려주라. 뭐? 안돼....\n",
              "t_299  나랑 헤어질꺼야? 헤어질꺼야. 다시 한 번 말해봐. 헤어질꺼야. 다시 말 못하게 해...\n",
              "t_301  니네 아빠 장애인이야? 어. 그게왜? 아빠가 장애인이면 진짜 챙피하겠다 나 우리아빠...\n",
              "t_302  나를 버리고 만난다는 게 고작 이런 놈이야? 뭐가 어때서! 우리 헤어졌잖아. 내가 ...\n",
              "t_303  좋은 아침 아니 박대리 왜이리 피곤해보이나 네 어제 과음을 좀해서  아니 박대리 요...\n",
              "t_304  야. 너 이리와봐. 네? 저요? 그래. 지금 여기 니 말고 누가 있냐. 왜요? 무슨...\n",
              "t_305  야 너 거기서 봐.  네? 저요? 누구세요  누구인지 너가 왜 궁금해  가진 거 다...\n",
              "t_306  찬호야 꼬추 한번만 보자 그래 잘 컸나 보자 하지마 선생님한테 다 이를 거야 일러라...\n",
              "t_307  아저씨 담배 피우고 엘리베이터 타지 마요  아 예.  남의 집 배달오는 주제에 담배...\n",
              "t_308  아이 씨.  손님 무슨 일이세요?  여기 해물탕에 담배꽁초가 들었네.  우리 식당에...\n",
              "t_309  미스김 커피 타와.  죄송합니다 부장님. 저 지금 급하게 할 일이 있어서요.  내가...\n",
              "t_310  왜 운전을 그따위로 하는 거야? 그따위라니요? 말은 똑바로 하시죠! 그쪽이 먼저 앞...\n",
              "t_311  야 너네집 부잣집이라면서? 너만 잘먹고 잘 사면 되냐? 나 용돈 좀 달라고 부모님이...\n",
              "t_312  저 큰 마음 먹고 전자 손목시계 샀어요! 진짜 영롱하죠 야 이 사람 올린 사진 봐 ...\n",
              "t_314  오대리. 이 서류도 정리부탁해. 네? 뭐 왜. 싫어? 저 아직 제 할일도 덜했는데요...\n",
              "t_315  애들아 여기는 내가 쏠테니까 마음껏 먹어 예지야 고마워! 넌 여전히 통이 크구나. ...\n",
              "t_316  야 죽고 싶지 않으면 돈내놔 싫어요 너 이 자식이 뭐 덩치도 작은 놈이 어찌 내 돈...\n",
              "t_317  야 너 눈이 진짜 크다 어 정말? 고마워 아니 사람말은 끝까지 들어야지 어? 눈이 ...\n",
              "t_318  야 오늘 피시방가자 피시방 좋지 어? 피시방? 나도 갈래! 어 .너도 가려고? 너랑...\n",
              "t_319  눈알은 백만원이고 간이랑 신장은 좀 더 쳐주지. 간이랑 신장이 없으면 제가 어떻게 ...\n",
              "t_320  철민씨 주말에 별 일 없나? 네. 스케쥴 없습니다. 그럼 이번 주말에 수락산이나 가...\n",
              "t_321  나를 비난한 게시글을 썼더구만?! 그게 어째서 비난이냐? 내 의견인데 내맘이지 좋은...\n",
              "t_322  저기요 아저씨 비켜요 차 앞으로 가는데 왜 길을 막고 서계세요. 야이 새끼야 니 지...\n",
              "t_323  어이 안경! 이리 와 봐. 어.! 왜 불렀어. 뭘 왜 불러야. 나 빵 좀 사먹게 돈...\n",
              "t_324  야 돈 있어? 오늘 안 들고 왔어 니 친구는 있을거 아냐 친구들한테 받기가 좀. 됐...\n",
              "t_325  야 너 골목으로 쫌 와바 저.저요? 너 지금 얼마있냐 저 돈 없는데요 너 옷 다뒤져...\n",
              "t_326  지은아 너 일요일에 입었던 옷 나 빌려주라 어? 일요일? 응 너 인스타에 올린 원피...\n",
              "t_328  이 사원 이리와바 네 팀장님 자네 일똑바로안해? 어떤거 말씀이신지 저번에 정리하라고...\n",
              "t_329  장애인이라고 너무 무시하시는거 아닌가요?  무시라니요. 못 따라 오는거 같아보이던데...\n",
              "t_330  야 너네 레시피 내놔  너네 누구야? 양아치야? 미쳤어?  아니 이 아저씨가 미쳤나...\n",
              "t_331  여기 다 모였네. 너네 오늘 제삿날이야.  살려주세요. 이렇게 될 줄 몰랐단 말이에...\n",
              "t_332  온가족이 한날한시에 함께 죽으면 외롭지는 않겠네 저희 가족들한테까지 왜 그러십니까....\n",
              "t_333  야 그 옷 어디서 났냐? 어? 그런 옷 어디 앞에서 증정품으로 나눠 주는거 아니냐?...\n",
              "t_334  민철아 우리 엄마 수술비가 필요해서 그러는데 5만원만 빌려줄 수 있을까? 어? 안돼...\n",
              "t_336  야 너 내가 카톡하면 10초 안에 보라고 했지  아. 어. 미안  근데 왜이렇게 늦...\n",
              "t_337  그래서 이거 뿌려요 말아요? 제발 부탁합니다. 한번만 봐주세요. 아니 핸드폰에 이런...\n",
              "t_339  아까 밥먹고 또 먹냐? 네 엄마 너무 먹는다 너 먹음 안되요? 살이 너무쪄서 안돼 ...\n",
              "t_340  오늘까지 가져오라고 했을텐데. 일 처리를 왜 이딴 식으로 하나?  이 새끼 이거 안...\n",
              "t_341  오늘 끝나고 회식이야 팀장님 죄송한데 전 선약이 있어서요 선약? 그게 말이되? 몇달...\n",
              "t_342  오빠 나 피곤해 집에 가고 싶어 시끄러 가긴 어딜가 오빠 나 힘들다니깐 난 외롭다니...\n",
              "t_343  그러니까 애 교육을 잘 시키지 그랬어. 왜 내가 애를 죽이게 만들어 다 제 잘못입니...\n",
              "t_344  어제 사진 잘 나왔더라 당장 그 사진 지워! 왜? 그 년하고 아주 딱 붙어있더구만....\n",
              "t_345  최인턴 참 실망이 크네. 죄송합니다. 제 나름 노력한다고 한 건데. 내가 이래서 고...\n",
              "t_347  승현아 나 수학학원 다니느라 돈이 없는데 저녁에 밥먹을 돈이 없는데 3만원만 빌려주...\n",
              "t_348  어이 거지 돈을 빌렸으면 갚아야지 죄송합니다.!! 참나 이 새끼가 도망을 쳐? 제발...\n",
              "t_349  야 너 차에서 당장 내려 안 내려? 왜 그러십니까 신호 안 지키고 끼어드시려한것도 ...\n",
              "t_350  별로 삶에 미련이 없나봐? 예? 아 아닙니다 근데 왜 이리 꾸물거려 진짜 뒤지고 싶...\n",
              "t_351  어머 애들아 안녕  소희야 안녕 오랜만이다. 어? 유리도 와있었구나! 반갑다. 얘 ...\n",
              "t_352  어르신 불 있어요? 담뱃값 좀 하게 돈도 좀 줘요.  이 봐 젊은 친구. 내가 돈이...\n",
              "t_354  올 핸드폰 새로샀냐 네. 잘했다 그폰 나 줘 인제 안돼요 맞고싶냐 내가 털어갈까? ...\n",
              "t_355  진짜 저한테 왜 그러세요? 내가 뭘? 둘이 있을 때는 괜찮지만 친구들 앞에서 구타는...\n",
              "t_356  너 이번에도 꼴등이니? 아.응. 매일 그렇게 공부하면서 왜 자꾸 꼴등해? 그러게 ....\n",
              "t_357  야 너 머리가 커서 멸치같다 뭐라구? 멸치같다고 어떻게 그런말을해 아니왜? 멸치가 ...\n",
              "t_358  여보세요 ? 어이. 전화번호를 바꾸면 내가 못 찾을 줄 알았나 ? 선.선생님 ! 그...\n",
              "t_360  지우개 가루 그만 좀 던져. 안던졌는데? 뭐가? 우리가 뭘. 너네가 하는거 맞잖아....\n",
              "t_361  아 체육 하기 싫은데 난 체육시간이 제일 싫어. 그거 알아? 우리 학교 몇 년 전에...\n",
              "t_362  그래 우리 사랑하는 후배야 예? 형이 지금 잠깐 일이 있는데 10만원만 좀 줘봐라 ...\n",
              "t_363  야너돈있냐 없어 그래?있으면 어쩔래 없다니까 뒤져서 나오면 10원 당 한대다? 네가...\n",
              "t_364  씨 이거좀 부탁해요 네 대리님 씨 이거도 오늘 퇴근 전까지 부탁해요 대리님 오늘은 ...\n",
              "t_366  이만원에 꽃게 6마리 주쇼 네??? 이만원에요? 이만원이면 3마리가 다에요 어허 내...\n",
              "t_367  이런식으로 밖에 일처리를 못하나? 네? 혹시 무슨 일로? 어제 제출한 서류를 이딴식...\n",
              "t_368  안녕하세요. 위층에 사는 사람인데요.  네 무슨일이시죠?  계속 이상한 냄새가 올라...\n",
              "t_369  야 너 이거 내꺼 아니야? 어?.이거 니가 나 가지라고 줬잖아. 무슨 소리야. 너 ...\n",
              "t_370  야 이번달 거수했냐? 죄송합니다. 야 일 안했냐??? 그게 니가 일을 똑바로 안하니...\n",
              "t_371  야 프론트엔드 개발자들 자네들 미쳤냐 어! 죄송하지만 야 백엔드 작업자들은 작업량이...\n",
              "t_372  너 여기 왜왔어? 빨리 가. 안돼 같이가자. 빨리 가자. 앞으로 10분 안에 여기서...\n",
              "t_373  팀장님 저 수요일에 연차 좀 써도 될까요? 뭐? 왜? 아 할아버지가 편찮으셔서 병문...\n",
              "t_374  미안하게도 이번 사업에서 최과장은 선택권이 없다네. 네? 갑자기 무슨말씀이십니까 부...\n",
              "t_375  저기요 제가 파워블로거에 맘카페까지 활동하고 있어요.  아.네. 멋지시네요!!!! ...\n",
              "t_376  너네 집 돈 많더라  돈? 갑자기?  잘 사는것 같던데? 오 시계 좋다  야야.왜 ...\n",
              "t_377  야. 야. 어딨는데.  어. 화장실에.  그럼 내가 얘기한 거 다했어.  아직 그걸...\n",
              "t_378  야 거기 네? 언니가 오늘 빠마해야되는데 돈이없거던? 네? 아이 씨 귓구멍 막혔냐?...\n",
              "t_379  야 임마 돈을 빨리 갚아야 될것 아니야 죄송합니다. 갑자기 돈이 필요하신 줄은 몰랐...\n",
              "t_380  박사원. 잠깐 나 좀 보게. 네. 최과장님. 무슨 일이시죠? 박사원. 사원이면 사원...\n",
              "t_381  인스타에 내사진 당장 내려  왜  왜 얼굴 나온사진을 내동의없이올려?  내마음이지 ...\n",
              "t_382  최대리 지금 휴가를 쓰겠다 이건가? 네 사장님. 저희 아버지가 몸이 많이 안 좋으셔...\n",
              "t_383  야 아이디어가 없으면 성의라도 보여야 할 거 아니야. 이게 보고서냐? 낙서 공책이지...\n",
              "t_384  야 얘봐봐 존나못생기지 않았냐? 그러지마. 미친년이 어디서 말대꾸야  나 이제 가도...\n",
              "t_385  어우 우리 합석할까 동생들? 누구세요? 아니 형아들은 저기 앉아있던 사람들이야 네 ...\n",
              "t_387  네 딸은 내가 납치했다 지금 제 딸 어디에 있나요 나만 아는 곳에 잘 있지  우리 ...\n",
              "t_388  이번 경기는 3라운드에서 포기해 안됩니다 그건 이번에 꼭우승해서 딸에게 우승하는 모...\n",
              "t_389  담배 한갑줘  손님 죄송하지만 마스크 착용 부탁드립니다  나 없는데 마스크  그럼 ...\n",
              "t_390  야 돈내놔 없어 10원당 한대 맞고싶냐? 진짜 없단말이야 가져오라면 가져와 흑흑 나...\n",
              "t_391  왜자꾸 승질 건드려 아닌데 맞는데 아니거든 지금도 건드리거든 죽는다 진짜 왜 시비야...\n",
              "t_392  안녕 여기서 뭐해? 전화하려고요. 아 그래? 마침 잘됐네! 네?  마침나도 전화할 ...\n",
              "t_393  국희씨 네? 이번주말에 뭐해? 애들이랑 키즈카페 가기러했어요 어 사실 나도 아까 점...\n",
              "t_394  얘 안녕  누구세여?  잠깐 이쪽으로 와볼래?  왜요?  너 돈 있어?  돈 없어요...\n",
              "t_395  야!! 일병 안반우 형이 너 사랑하는 거 알지? 모.모르겠습니다. 아이.왜 몰라. ...\n",
              "t_396  내가 먼저 앉았어! 무슨소리야 내가 먼저 봤다고! 아니 이 영감탱이가 지도영감탱이면...\n",
              "t_398  미나야 왜? 저번에 핸드폰 사주기로한거 말야 응 왜? 그냥 돈으로 줘라. 어차피 똑...\n",
              "t_399  야 걔랑 놀지마. 왜? 걔랑 싸웠어? 응. 그래서 니가 걔랑 안놀고 나랑만 둘이 놀...\n",
              "t_400  아 좆같은년 지나간다 저기. 나 좀 지나갈게 어 가 누가 뭐래? 길좀. 비켜줘  가...\n",
              "t_401  손이 왜그러세요? 아 조금 다쳤어요  아 그러시구나 우리애가 놀래서요 안보이게 주머...\n",
              "t_402  한대리 뭐해? 네 저번에 지시하신거 마무리하고 있습니다 어머 그래? 잘했어. 그런데...\n",
              "t_403  이봐 김실장 네? 일 똑바로 안해? 죄송함다. 니가 이러고도 사람새끼야? 죄송함다....\n",
              "t_405  야 오늘 학교끝나고 옥상으로 와라.  왜.?  왜긴 왜야 내가 기분이 안좋으니까 너...\n",
              "t_406  서선생!!! 끝나고 내방으로 와!!! 아.네 알겠습니다 와 교감 또그러네. 교감선생...\n",
              "t_408  어이 소영씨. 이번 주말에 시간 좀 내지?  아 부장님. 어떤 일 때문에 그러시죠....\n",
              "t_409  어이아저씨 우리한테 담배좀사다줘 헉 학생들 이건 나쁜짓이야 담배는 너네들이 직접사야...\n",
              "t_410  야 너 일로와봐 저요? 그럼 너지 다른사람이겠니 왜요 너 왜 저번에 나 씹고 그냥갔...\n",
              "t_411  아니 나 오늘 동문회 다녀 왔잖아. 근데 미선이는 아직까지도 젊고 예쁘더라. 남 여...\n",
              "t_412  니가 애들한테 내 뒷담까고 다녔다면서? 무슨 소리야? 난 그런적 없는데. 어디서 거...\n",
              "t_413  가은씨 이리와봐요 네 부장님 가은씨 남자친구 있어요? 네? 없습니다 . 남자 만날 ...\n",
              "t_416  네까짓게 글을 쓴다고? 엄마 나도 내가 하고 싶은 일을 한 번쯤은 해 보고 싶어요....\n",
              "t_418  거기학생? 네 저요? 뭐좀 물어볼께요 네 어떤거요? 가진거 다 내놔 앗. 안되요 죽...\n",
              "t_419  니가 나랑 사귄다고 소문냈어?  웅웅 우리 만나는거 맞잖아  내가 비밀로 하자고했잖...\n",
              "t_420  너 이번 국어 시험에서 저 친구 답지 배겼지? 아.아니? 거짓말 하지마 내가 다봤어...\n",
              "t_421  누. 누구세요.? 너 서울대학교 붙었지 아 네 그걸 어떻게. 제발 살려주세요 왜그러...\n",
              "t_422  야이 새끼야 내말 들을거야 말거야? 하지만 너무 위험한 일인것같아서 세상에 쉬운일이...\n",
              "t_423  야야 너 어제 쟤 발표하는거 봤냐?  응? 왜 어땠길래  발표하다가 질질 짰잖아  ...\n",
              "t_424  야 너 그만 좀 먹어 왜 맛있는데 내가 먹는게 싫어? 아니 먹는건 상관없는데 너 몸...\n",
              "t_425  야 돈 가져왔어? 미안. 이번에는 진짜 못 가져와. 죽고싶어? 내가 돈 가져오라고 ...\n",
              "t_426  현아 잘지내지? 응 잘지내. 오랜만에 연락햇네 친구야 부탁좀하자 뭔데? 큰애가 사고...\n",
              "t_428  씨 잠깐만 와봐요 부르셨습니까 부장님 아니 지금 일을 어떻게 처리한거에요? 예? 무...\n",
              "t_429  어떻게 나를 두고 바람을 필 수 있어? 사람이야? 남들 다 피는 거 뭘 그래. 이혼...\n",
              "t_430  오늘 전학 온 철수라는 애 엄마 없대. 풉 진짜?  응. 따돌리기 딱이지 않냐. 완...\n",
              "t_432  나 좀 도와줘 내가 급해서 그런데 3000만원만 빌려줘 갑자기? 그건 좀 어려운데 ...\n",
              "t_433  여보세요. 한성전자 센터장 씨 맞으시죠. 누구세요? 지금 당신 차시트 밑에는 폭탄이...\n",
              "t_436  갑자기 끼어드시면 어떻게해요 그쪽이 먼저 들어오셨자나요 무슨 소리예요.그쪽에서 들어...\n",
              "t_439  팀장님 저 2주 후에 휴가 좀 쓸 수 있을까요?  무슨 일 인데?  그 날 아버지 ...\n",
              "t_440  너 엄마 없냐? 가정교육 왜 그따구야? 진짜 너 엄마 없지? 불쌍하다 진짜. 무슨 ...\n",
              "t_441  미안합니다. 지금 우리 딸을 살려야 해요.  그래도 이건.!  죽지 않을 만큼만 뽑...\n",
              "t_442  이대리 당신은 이것밖에 못하나?  죄송합니다. 그러니까 당신이 43인데도 대리인거야...\n",
              "t_443  내가 여기 12년 다닌 것도 아니고 자그마치 10년을 다녔어!!! 고객님 그래도 다...\n",
              "t_445  서류를 이따위로 작성해 죄송합니다 이따위로 쓸 거면 회사 그만둬 민폐야 어디를 고쳐...\n",
              "t_446  난 네 비밀을 알고있어  뭐라고?  가 죽은 그날 같이있었던거 알아  같이 있긴했지...\n",
              "t_447  김인턴 이리 와보게 네 과장님 내가 자네를 왜 불렀는지 알겠나? 잘 모르겠습니다 왜...\n",
              "t_448  여보세요 네 부장님 어 지금 안 바쁘지? 네 용무 있으세요? 어 아니 집에 애가 혼...\n",
              "t_450  같이 게임하게 몇 번 방으로 들어와 나 오늘은 학원 가야 돼서 못 들어 갈 것 같아...\n",
              "t_451  마스크좀 써주세요. 네? 여기는 사람들 통행이 많고 공공장소니까 마스크좀 써달라구요...\n",
              "t_452  이사원은 조금 있다가 시간 좀 내게. 맡기실 업무가 있으신가요? 내가 조금 있다가 ...\n",
              "t_453  어? 누가 못난 새끼지? 엥? 누가 못난 새끼일까? 설마 머리 큰 다현이는 아니겠지...\n",
              "t_455  어이 형씨 네? 내가 담배가 똑 떨어졌는데 있으면 하나 줘봐 저도 이게 돛대인데요 ...\n",
              "t_456  김사원 주말에 일 없지? 약속 있나?  아 네! 팀장님. 이번 주말에 여자친구 만나...\n",
              "t_457  김쌤! 나좀봐 네? 도데체 오늘 키즈노트에 어떻게 썼가니 태화어머니가 난리셔? 아 ...\n",
              "t_458  언니 내 지갑에 있던 5만원 혹시 언니가 가져갔어.? 어. 왜? 나 오늘 친구들이랑...\n",
              "t_459  길동님 어머니 되시나요 ? 누구시죠 ? 여기는 길동병원입니다 지금 길동님께서 교통사...\n",
              "t_461  내일 모레까지 천만원 더 준비해주세요 네? 이번달은 이미 원하시는 금액 다 맞춰드렸...\n",
              "t_462  자네 그 사실을 자네말고 누가 알고 있나? 네? 저밖에 모릅니다 부장님 정말인가? ...\n",
              "t_463  안녕하세요 씨 공부 잘 한다면서요 성적이 우수하다면 서요 네 아닌데요 맞다고 들었는...\n",
              "t_464  희주씨 네???  아침에 좀 일찍 오지  네? 지금도 20분전에오는데요 아니 좀 일...\n",
              "t_465  야. 보이냐? 개멋있지. 오백만원짜리 시계야. 응. 한번 만져나볼래? 아. 넌 본적...\n",
              "t_466  민정아 안녕 ? 어? 어 안녕 너는 역시 아침부터 공부하고 있구나. 대단해 곧 수업...\n",
              "t_467  우리 씨는 얼굴도 예쁜데 몸매도 예쁘네 씨는 좀 보고 배워야겠다 아유 과장님 전 마...\n",
              "t_469  너가 어떡하면 나한테 이럴 수 있니? 내가 뭘 어쨌는데 도와준거 뿐이라고 도와줬다니...\n",
              "t_470  인재씨 무슨 보고서를 이따위로 씁니까 그게 무슨 말씀이세요 차장님 줄간격폰트 다 엉...\n",
              "t_471  와 이거 뭐야?  새로 산 틴트  이거 비싼거 아니야?  응 백화점에서 산거야  나...\n",
              "t_472  제가 뭘 그렇게 잘못했죠? 일이던 뭐던 잘하는 게 뭐가 있다고 그래? 뭘 그렇게 잘...\n",
              "t_474  영희씨 한번만 만나주세요. 저 괜찮은놈입니다 수환씨 자꾸 따라다니지 마세요 영희씨가...\n",
              "t_475  야 박사원 너 이번 주말에 내 차 세차 좀 해라 부장님 이번 주말에 제가 약속이 있...\n",
              "t_476  안녕?? 오랜만이다 그치? 나 기억나?  아 너 고등학교때. 맞지?  아!! 맞아 ...\n",
              "t_479  교수님 부르셨어요?  어 왔나?  무슨 일이세요?  내일 총장님이랑 김의원님이랑 식...\n",
              "t_481  아 냄새 야 여기 어디서 하수구 냄새 안 나 ? 아우 뭐야 이 냄새? 아 얘 냄새인...\n",
              "t_482  아가씨 이쁜데 왜 이러세요 우리랑 좀 놀까? 싫어요. 그럼 돈 좀 빌려주던가 얼마나...\n",
              "t_483  이거 왜 이렇게 놔! 똑바로 놓으라고 했지? 아침부터 왜 그러냐. 아니 수저통 똑바...\n",
              "t_484  오빠 나 카드값이 밀렸어 저번이 마지막이랬자나 이번에 내가 코로나로 일도 쉬구 힘들...\n",
              "t_485  원투 원투 야 똑바로 서 으 으윽 그만해 아이씨 서 있어봐 좀 아프다고! 어디서 소...\n",
              "t_489  너 어제 집에 바로 안 들어갔지? 어떻게 알았어? 내가 눈이 좋아 왜 묻는건데? 너...\n",
              "t_490  철수야 말 들어야지 싫은데 철밥통 선생아 너 선생님한테 말버릇이 뭐야 야 내가 너말...\n",
              "t_492  동생이쁘다. 나주라 안돼 우리동생건들지마. 왜 안되냐? 좀 달라고 니 목숨값으로 동...\n",
              "t_493  혹시 나 오늘 2만원만 빌려주만 안돼? 응? 안돼. 나도 요즘 맨날 택시타느라 택시...\n",
              "t_494  이봐 네? 누구세요? 입다물고 가진거 다내놔 경찰에 신고할거에요 할 수 있으면 해봐...\n",
              "t_495  미나씨 휴가 결제 올리기 전에 저랑 상의하라고 말한거 기억해요? 네 합니다. 보고서...\n",
              "t_496  교수님 제 논문에 제 이름이 없나요?  아 무슨 논문말이야?  지난 번 냈던 논문이...\n",
              "t_497  야 너  네 저요? 그래 너 왜요 돈좀 줘봐  돈 없어요 돈이 왜 없어 지갑은 폼이...\n",
              "t_498  야 너 빨리 안 뛰어와? 너 이 환자 제대로 봤어 안 봤어 어제 저녁부터 계속 보다...\n",
              "t_499  엄마 저 그 돈 안해주시면 정말 큰일나요.  이유도 말하지 않고. 몇번째니 경민아...."
            ],
            "text/html": [
              "\n",
              "  <div id=\"df-203f1343-480d-4ef9-ba88-31003e355911\" class=\"colab-df-container\">\n",
              "    <div>\n",
              "<style scoped>\n",
              "    .dataframe tbody tr th:only-of-type {\n",
              "        vertical-align: middle;\n",
              "    }\n",
              "\n",
              "    .dataframe tbody tr th {\n",
              "        vertical-align: top;\n",
              "    }\n",
              "\n",
              "    .dataframe thead th {\n",
              "        text-align: right;\n",
              "    }\n",
              "</style>\n",
              "<table border=\"1\" class=\"dataframe\">\n",
              "  <thead>\n",
              "    <tr style=\"text-align: right;\">\n",
              "      <th></th>\n",
              "      <th>text</th>\n",
              "    </tr>\n",
              "  </thead>\n",
              "  <tbody>\n",
              "    <tr>\n",
              "      <th>t_000</th>\n",
              "      <td>아가씨 담배한갑주소 네 4500원입니다 어 네 지갑어디갔지 에이 버스에서 잃어버렸나...</td>\n",
              "    </tr>\n",
              "    <tr>\n",
              "      <th>t_001</th>\n",
              "      <td>우리팀에서 다른팀으로 갈 사람 없나? 그럼 영지씨가 가는건 어때?  네? 제가요? ...</td>\n",
              "    </tr>\n",
              "    <tr>\n",
              "      <th>t_002</th>\n",
              "      <td>너 오늘 그게 뭐야 네 제가 뭘 잘못했나요.? 제대로 좀 하지 네 똑바로 좀 하지 ...</td>\n",
              "    </tr>\n",
              "    <tr>\n",
              "      <th>t_004</th>\n",
              "      <td>아무튼 앞으로 니가 내 와이파이야. .응 와이파이 온. 켰어. 반말? 주인님이라고도...</td>\n",
              "    </tr>\n",
              "    <tr>\n",
              "      <th>t_005</th>\n",
              "      <td>그러니까 빨리 말해. 선생님 제발 살려주십시오.  비밀번호 틀릴 때마다 손톱 하나씩...</td>\n",
              "    </tr>\n",
              "    <tr>\n",
              "      <th>t_006</th>\n",
              "      <td>그 사람 누구냐?  누구말하는거야?  다 알면서 모른척 하지마. 둘다 쏴버리기 전에...</td>\n",
              "    </tr>\n",
              "    <tr>\n",
              "      <th>t_007</th>\n",
              "      <td>야 저기야 닭꼬치 트럭왔다 응 그러네 그치? 너도 먹고 싶지? 어?나도? 그래 너 ...</td>\n",
              "    </tr>\n",
              "    <tr>\n",
              "      <th>t_009</th>\n",
              "      <td>야 너 2학년 김민석 맞지? 네 맞는데요. 혹시 누구신가요? 내가 누군지 궁금하면 ...</td>\n",
              "    </tr>\n",
              "    <tr>\n",
              "      <th>t_010</th>\n",
              "      <td>예전에 네가 나한테 했던 일 기억하지? 너도 당해봐 예전 일이라면 내가 사과할게. ...</td>\n",
              "    </tr>\n",
              "    <tr>\n",
              "      <th>t_012</th>\n",
              "      <td>김비서 지금 우리애 학교가서 집에다가 좀 데려다 주세요 사장님 그런 개인적인 일은 ...</td>\n",
              "    </tr>\n",
              "    <tr>\n",
              "      <th>t_014</th>\n",
              "      <td>야 김대리 니 주말에 뭐했냐? 아 그냥 쉬었습니다. 아 그냥 쉬어? 말 좀 짧다이 ...</td>\n",
              "    </tr>\n",
              "    <tr>\n",
              "      <th>t_015</th>\n",
              "      <td>후기 내리세요. 안그러면 고소합니다.  지금 협박하시는 건가요?  협박 아니고 알려...</td>\n",
              "    </tr>\n",
              "    <tr>\n",
              "      <th>t_018</th>\n",
              "      <td>좋은말 할때 내돈갚아. 내가 왜 그래야 하지? 너가 여기 재개발 된다며. 너믿고 내...</td>\n",
              "    </tr>\n",
              "    <tr>\n",
              "      <th>t_019</th>\n",
              "      <td>저기요. 혹시 번호 좀 알려주실 수 있나요? 네? 아 죄송해요. 저 남자친구 있어서...</td>\n",
              "    </tr>\n",
              "    <tr>\n",
              "      <th>t_020</th>\n",
              "      <td>너 내가 돈 갚으라고 했지!!!!! 안갚으면 죽여버릴거야 어떻게 죽일건데 내가 칼로...</td>\n",
              "    </tr>\n",
              "    <tr>\n",
              "      <th>t_021</th>\n",
              "      <td>야 얘는 왤케 돼지냐? 그만 좀 먹어라 놀리지마 너 라면 한번에 5개 끓어먹지? 아...</td>\n",
              "    </tr>\n",
              "    <tr>\n",
              "      <th>t_022</th>\n",
              "      <td>야 너 왜 그렇게 생겼어?  내가 뭘  너 정말 토나오게 생겼어 알아?  너도 잘생...</td>\n",
              "    </tr>\n",
              "    <tr>\n",
              "      <th>t_023</th>\n",
              "      <td>야 너 이리로 와서 돈 좀 내놔라 아니 당신 미쳤나요? 나 참 너야 말로 목숨이 여...</td>\n",
              "    </tr>\n",
              "    <tr>\n",
              "      <th>t_024</th>\n",
              "      <td>나. 이번에도 돈이 좀 필요한데. 우리사이에 차용증이나 돈 갚겠다는 각서는 필요없지...</td>\n",
              "    </tr>\n",
              "    <tr>\n",
              "      <th>t_025</th>\n",
              "      <td>김인턴 지금 회의 들어가야 되니까 빨리 이거 좀 해와. 아 저 지금 퇴근하려고 했는...</td>\n",
              "    </tr>\n",
              "    <tr>\n",
              "      <th>t_028</th>\n",
              "      <td>김대리 이따구로 할꺼야?  네?  글씨가 왜 이모양이야?  죄송합니다  김대리 학교...</td>\n",
              "    </tr>\n",
              "    <tr>\n",
              "      <th>t_030</th>\n",
              "      <td>너 이 영상 유포되면 어떻게 될거 같아? 미안. 지워줘. 그건 안 되지. 내가 뭐든...</td>\n",
              "    </tr>\n",
              "    <tr>\n",
              "      <th>t_031</th>\n",
              "      <td>서울 전체를 10분 뒤에 폭파하겠다. 너 대체 원하는게 뭐야? 왜 이런짓을 하는거냐...</td>\n",
              "    </tr>\n",
              "    <tr>\n",
              "      <th>t_033</th>\n",
              "      <td>저 며칠전에 대리 운전 했던 길동 기사입니다. 아 네네 무슨 일로 전화하셨죠? 제가...</td>\n",
              "    </tr>\n",
              "    <tr>\n",
              "      <th>t_034</th>\n",
              "      <td>그만 건드리세요 뭐? 반복하시잖아요 뭐를 진짜 모르세요? 몰라 불쾌하네요 이 새끼좀...</td>\n",
              "    </tr>\n",
              "    <tr>\n",
              "      <th>t_035</th>\n",
              "      <td>어이 코털 왜 왜? 아놔됐고 너 매점가서 곰보빵 두개에 콜라하나 사와라 나 돈없어 ...</td>\n",
              "    </tr>\n",
              "    <tr>\n",
              "      <th>t_036</th>\n",
              "      <td>저기요 번호 주세요 네? 죄송합니다. 머라고요? 내가 누군줄 알아요? 아. 네 당연...</td>\n",
              "    </tr>\n",
              "    <tr>\n",
              "      <th>t_037</th>\n",
              "      <td>다 손들어! 지금부터 손을 내리면 이 직원은 죽는거야 저한테 왜 그러세요 빨리 돈다...</td>\n",
              "    </tr>\n",
              "    <tr>\n",
              "      <th>t_038</th>\n",
              "      <td>다시 못걸어다니게 만들어줄까? 어? 이러지마세요. 난 분명히 시간을 줬다. 제가 할...</td>\n",
              "    </tr>\n",
              "    <tr>\n",
              "      <th>t_039</th>\n",
              "      <td>핸드폰 빌려 주실 수 있어요?  네? 급하시면 1통화 하세요  감사합니다  어?  ...</td>\n",
              "    </tr>\n",
              "    <tr>\n",
              "      <th>t_040</th>\n",
              "      <td>이 영감탱이 자네가 우리 할망구랑 바람났지? 노망났나 이게 무슨소리야 왜 젊었을때 ...</td>\n",
              "    </tr>\n",
              "    <tr>\n",
              "      <th>t_041</th>\n",
              "      <td>야 거기 이 골목 지나려면 통행비 5만원이다. 그딴게 어딨어요? 오늘부터다 시발롬아...</td>\n",
              "    </tr>\n",
              "    <tr>\n",
              "      <th>t_042</th>\n",
              "      <td>수진씨 목마른데 1층 커피숍에서 나 커피 한 잔 사다 줄 수 있어? 돈은 내가 줄게...</td>\n",
              "    </tr>\n",
              "    <tr>\n",
              "      <th>t_043</th>\n",
              "      <td>저희 이 집에서 나가게 하려면 위로금이라도 주시고 나가게 하세요. 저번에 원래 집 ...</td>\n",
              "    </tr>\n",
              "    <tr>\n",
              "      <th>t_045</th>\n",
              "      <td>홍시씨 오늘 데이트 하나 봐? 엄청 힘줬네? 네? 아니 저 평상시랑 똑같은데. 그렇...</td>\n",
              "    </tr>\n",
              "    <tr>\n",
              "      <th>t_046</th>\n",
              "      <td>차에서 당장 내려 내가 왜 내려? 당신이 뭔데 이래라 저래라야? 그럼 왜 계속 내 ...</td>\n",
              "    </tr>\n",
              "    <tr>\n",
              "      <th>t_047</th>\n",
              "      <td>너 때문에 내 인생이 망했어! 아빠 왜 이러세요. 너도 내가 알콜 중독자라고 생각하...</td>\n",
              "    </tr>\n",
              "    <tr>\n",
              "      <th>t_049</th>\n",
              "      <td>니 죽고싶냐?  아니요.  왜 사람 말귀 한번에 못알아처먹고 자꾸 두 번 세 번 말...</td>\n",
              "    </tr>\n",
              "    <tr>\n",
              "      <th>t_050</th>\n",
              "      <td>이 자식 아이패드 새로 샀네?  좋아보인다 나도 요즘 아이패드 사고 싶었는데 잘 됐...</td>\n",
              "    </tr>\n",
              "    <tr>\n",
              "      <th>t_051</th>\n",
              "      <td>야 고구마?  내가 왜 고구마야? 고구마니까 고구마지.  그만해. 내 이름은 고군만...</td>\n",
              "    </tr>\n",
              "    <tr>\n",
              "      <th>t_052</th>\n",
              "      <td>100원만 빌려주라 구라치네 내일 200원로 갚을게 밀린 돈이 니가 천원이 넘어 아...</td>\n",
              "    </tr>\n",
              "    <tr>\n",
              "      <th>t_053</th>\n",
              "      <td>민선씨 이번주 주말까지 제출인데 이것 좀 도와줘요.  각자 개인 업무 입니다. 저도...</td>\n",
              "    </tr>\n",
              "    <tr>\n",
              "      <th>t_054</th>\n",
              "      <td>김대리 네 과장님 무슨일이세요? 김대리 옷이 오늘 왜그래? 제 옷에 무슨문제가 있나...</td>\n",
              "    </tr>\n",
              "    <tr>\n",
              "      <th>t_055</th>\n",
              "      <td>아 내가 아이스 시켰지? 네 근데 지금 너무추운것같아서 나 뜨거운 걸로 마시려구 아...</td>\n",
              "    </tr>\n",
              "    <tr>\n",
              "      <th>t_056</th>\n",
              "      <td>어이 오랜만이다 너 나 피해 다니냐? 그건 아니야 근데 왜 난 그렇게 느껴지지? 지...</td>\n",
              "    </tr>\n",
              "    <tr>\n",
              "      <th>t_058</th>\n",
              "      <td>너네 엄마 다리가 하나 없더라? 응 사고 당하셔서 그래 으 다리 하나 없는 장애인이...</td>\n",
              "    </tr>\n",
              "    <tr>\n",
              "      <th>t_059</th>\n",
              "      <td>애 시어머니가 우습니? 아니요.그건아닌데 그게 아니면 미역국에 소고기 건더기가 없네...</td>\n",
              "    </tr>\n",
              "    <tr>\n",
              "      <th>t_060</th>\n",
              "      <td>야 너 이번에 알바비 들어왔다며? 어 . 근데 왜? 내가 급해서 그러는데 10만원만...</td>\n",
              "    </tr>\n",
              "    <tr>\n",
              "      <th>t_061</th>\n",
              "      <td>선생님 지금 저희애가 잘못했다는거에요? 아니요 어머니 그게 아니라요 그게 아니면 뭔...</td>\n",
              "    </tr>\n",
              "    <tr>\n",
              "      <th>t_062</th>\n",
              "      <td>자네 이번에 취직을 했다지? 예. 어렵사리 구한 자리입니다 그래. 잃기에는 너무 아...</td>\n",
              "    </tr>\n",
              "    <tr>\n",
              "      <th>t_063</th>\n",
              "      <td>이쪽에 주차 하시면 됩니다. 너가 대주세요 고객님 저의 역할은 안내요원 입니다. 내...</td>\n",
              "    </tr>\n",
              "    <tr>\n",
              "      <th>t_064</th>\n",
              "      <td>오늘 저녁 회식합시다  네 갑자기요? 왜요? 하은씨안돼요? 애가 아파서 빨리 가봐야...</td>\n",
              "    </tr>\n",
              "    <tr>\n",
              "      <th>t_065</th>\n",
              "      <td>야 새끼야 내 사랑스러운 여동생을 욕하면 어떡하냐 진짜 땅에 매장 될 준비나 해 죄...</td>\n",
              "    </tr>\n",
              "    <tr>\n",
              "      <th>t_066</th>\n",
              "      <td>201호에 좀 이상한 사람이 이사왔다면서요?  무슨 조현병인가 뭔가?  그거 완전 ...</td>\n",
              "    </tr>\n",
              "    <tr>\n",
              "      <th>t_067</th>\n",
              "      <td>아니 커피를 이따구로 만들어서 돈받고 팔아도 되는거야? 손님 어떤일로 그러시죠?  ...</td>\n",
              "    </tr>\n",
              "    <tr>\n",
              "      <th>t_069</th>\n",
              "      <td>사장님 제 돈 돌려주세요 시끄러 너가 줬잖아 갚아주신다면서요 됐고 너가 준 이상 지...</td>\n",
              "    </tr>\n",
              "    <tr>\n",
              "      <th>t_071</th>\n",
              "      <td>쓰레기통 비우고 왔으면 당연히 닦아야죠. 그거 다 막내 일인데. 안했네?  네 선배...</td>\n",
              "    </tr>\n",
              "    <tr>\n",
              "      <th>t_072</th>\n",
              "      <td>야 돼지 . 돼지 너 부르잖아 왜 너가 돼지야? 왜 대답해 하아 그러니까 살을 빼 ...</td>\n",
              "    </tr>\n",
              "    <tr>\n",
              "      <th>t_073</th>\n",
              "      <td>수민 씨 아침에 일찍 좀 오세요  저 지각 안했습니다  아니 신입이면 1시간 일찍 ...</td>\n",
              "    </tr>\n",
              "    <tr>\n",
              "      <th>t_074</th>\n",
              "      <td>넌 뭔데 시비야?  그쪽이 먼저 시비걸지 않았나? 그 여자 놔줘. 형씨 정의의 사도...</td>\n",
              "    </tr>\n",
              "    <tr>\n",
              "      <th>t_076</th>\n",
              "      <td>서류 오늘까지야 자리에 안계셔서 책상위에 올려 놓았습니다 그래?언제? 오전에요 그럼...</td>\n",
              "    </tr>\n",
              "    <tr>\n",
              "      <th>t_077</th>\n",
              "      <td>안녕 얘들아 이번 반장은 내가 맡게 되었어. 모두들 잘 부탁해. 우와 축하해! 우리...</td>\n",
              "    </tr>\n",
              "    <tr>\n",
              "      <th>t_078</th>\n",
              "      <td>신입 치마가 진짜 잘 어울린다. 아 감사해요. 앞으로 매일 치마 입고 안 돼? 얼마...</td>\n",
              "    </tr>\n",
              "    <tr>\n",
              "      <th>t_081</th>\n",
              "      <td>총 내려놔 너 이래 봤자 이미 경찰 불렀고 나는 그 사람 어디 갔는 지 몰라 경찰 ...</td>\n",
              "    </tr>\n",
              "    <tr>\n",
              "      <th>t_083</th>\n",
              "      <td>당신 블랙박스 삭제하세요! 당장!  내가왜요? 이게 당신에게 불리하게 작용하나요? ...</td>\n",
              "    </tr>\n",
              "    <tr>\n",
              "      <th>t_084</th>\n",
              "      <td>너 살 빼야겠다 살 빼야 겠지 나는 먹어도 잘 살도 안 찌는데 그래 좋겠다 너는 먹...</td>\n",
              "    </tr>\n",
              "    <tr>\n",
              "      <th>t_085</th>\n",
              "      <td>신대리 오늘 내 아내가 계단에서 넘어져서 무릎 수술을 했다고 하더라고 이를 어쩌나....</td>\n",
              "    </tr>\n",
              "    <tr>\n",
              "      <th>t_086</th>\n",
              "      <td>이 자료를 공개 시 당신의 명예를 실추시킬 수 있습니다  새꺄 해봐  네 해당 자료...</td>\n",
              "    </tr>\n",
              "    <tr>\n",
              "      <th>t_088</th>\n",
              "      <td>야 꼬맹아 일로와  아저씨 누군데요  아씨 오라면 와 임마  싫어요 도망갈래요.  ...</td>\n",
              "    </tr>\n",
              "    <tr>\n",
              "      <th>t_089</th>\n",
              "      <td>아니. 마케팅 팀은 이번 행사 때 김민주사원인가 ? 그 사원 참 예쁘던데. 죄송해요...</td>\n",
              "    </tr>\n",
              "    <tr>\n",
              "      <th>t_091</th>\n",
              "      <td>김대리 여기서 뭐해? 탕비실에 뭐 꿀 발라 놨니? 아닙니다. 바로 들어가겠습니다. ...</td>\n",
              "    </tr>\n",
              "    <tr>\n",
              "      <th>t_092</th>\n",
              "      <td>닌 진짜 다시 생각해 봤는데 그냥 살려주면 안될 것 같다. 그래 새끼야 한번 죽여봐...</td>\n",
              "    </tr>\n",
              "    <tr>\n",
              "      <th>t_093</th>\n",
              "      <td>야 오늘 쟤로 우리 내기할까? 오 뭔데 뭔게 쟤가 빵을 몇 분안에 사오는지! 오우 ...</td>\n",
              "    </tr>\n",
              "    <tr>\n",
              "      <th>t_095</th>\n",
              "      <td>김대리 연차는 또 왜내? 아 예 부장님 막내가 많이 아파서 그렇습니다. 이래서 암탉...</td>\n",
              "    </tr>\n",
              "    <tr>\n",
              "      <th>t_097</th>\n",
              "      <td>민성이 이번주 뭐하니? 네 대구에서 부모님 오시기러 했습니다 아그래?? 네 교수님 ...</td>\n",
              "    </tr>\n",
              "    <tr>\n",
              "      <th>t_098</th>\n",
              "      <td>지금 당장 돈 꺼내라고 제가 지금 가진 돈이 없어요 그게 말이 돼 당장 내놔 진짜로...</td>\n",
              "    </tr>\n",
              "    <tr>\n",
              "      <th>t_099</th>\n",
              "      <td>김기자 내일 그 기사 낼생각인가? 제상각은 변함 없습니다 그래 우리 김기자 뚝심있어...</td>\n",
              "    </tr>\n",
              "    <tr>\n",
              "      <th>t_101</th>\n",
              "      <td>야 나 오늘 차비가 없는데 만원만 빌려주라 안돼 나 돈 없어 뒤져서 나오면 뒤진다 ...</td>\n",
              "    </tr>\n",
              "    <tr>\n",
              "      <th>t_103</th>\n",
              "      <td>씨파. 이것들이 지금 .내가 우스워? 아닙니다.형님 .죄송합니다  피맛을 니들이 아...</td>\n",
              "    </tr>\n",
              "    <tr>\n",
              "      <th>t_104</th>\n",
              "      <td>너 꿈이 뭐라고? 교수?  넵  네 머리로 무슨 교수는 교수야.  제 목표입니다. ...</td>\n",
              "    </tr>\n",
              "    <tr>\n",
              "      <th>t_105</th>\n",
              "      <td>승현씨 오늘 저녁에 약속있어요? 아니요. 없습니다. 잘됐네. 오늘 남아서 내 내 야...</td>\n",
              "    </tr>\n",
              "    <tr>\n",
              "      <th>t_106</th>\n",
              "      <td>너 어제 영수씨랑 잤다며? 책임님. 누가 그런 소리를 해요.? 누구긴 여기 사람들 ...</td>\n",
              "    </tr>\n",
              "    <tr>\n",
              "      <th>t_107</th>\n",
              "      <td>으악. 이게 뭐야! 어머 지혜야 너 안에 있었구나 너.너 정말. 아니 우리는 아까 ...</td>\n",
              "    </tr>\n",
              "    <tr>\n",
              "      <th>t_109</th>\n",
              "      <td>이 가방에 있는 돈 다 쓸어담아. 그러지 않으면 쏴 죽인다. 예. 알겠습니다. 제발...</td>\n",
              "    </tr>\n",
              "    <tr>\n",
              "      <th>t_111</th>\n",
              "      <td>너 나 좋아하냐?  어 좋아하지 죽을만큼 좋아? 응 당연하지 그럼 죽어봐 죽는시늉이...</td>\n",
              "    </tr>\n",
              "    <tr>\n",
              "      <th>t_112</th>\n",
              "      <td>내가 이번달까지라고 하지 않았나? 아. 월급이 밀리는 바람에 죄송합니다. 조금만 더...</td>\n",
              "    </tr>\n",
              "    <tr>\n",
              "      <th>t_113</th>\n",
              "      <td>요새 살좀 빠졌네 민주씨? 아 네 신랑이 잘안해줘? 네?? 저 살빠지는거랑 신랑이랑...</td>\n",
              "    </tr>\n",
              "    <tr>\n",
              "      <th>t_114</th>\n",
              "      <td>언니 이거하나사줘 아 이쁘네요 얼마에요? 30000원이야 네? 그냥 리본 삔인거 같...</td>\n",
              "    </tr>\n",
              "    <tr>\n",
              "      <th>t_115</th>\n",
              "      <td>여기 있던 돈 어디다 뒀어?  무슨 소리야? 돈이 어디있다고 그래?  얼른 내놔! ...</td>\n",
              "    </tr>\n",
              "    <tr>\n",
              "      <th>t_117</th>\n",
              "      <td>자 다들 일 멈추고 점심식사 하러갑시다  네 알겠습니다  자네도 갈거야? 일 더 안...</td>\n",
              "    </tr>\n",
              "    <tr>\n",
              "      <th>t_118</th>\n",
              "      <td>한수씨 네? 이번주말에 어디 나들이 안갈래요?  저요? 아 나 옆 팀 미영씨랑 사귀...</td>\n",
              "    </tr>\n",
              "    <tr>\n",
              "      <th>t_119</th>\n",
              "      <td>사진 보셨죠? 이야.아내분이 있는데 이렇게 당당하게 바람을 피시다니. 뭐야.당신 어...</td>\n",
              "    </tr>\n",
              "    <tr>\n",
              "      <th>t_120</th>\n",
              "      <td>대성씨 네? 이번주말에 뭐해? 애들이랑 놀이동산 가기러 했습니다 아그래? 우리 아버...</td>\n",
              "    </tr>\n",
              "    <tr>\n",
              "      <th>t_121</th>\n",
              "      <td>저.저기요 네? 아까부터 지켜봤는데 너무 예쁘시네요 네? 아 예. 감사합니다 저기 ...</td>\n",
              "    </tr>\n",
              "    <tr>\n",
              "      <th>t_122</th>\n",
              "      <td>야 기타연주를 그것 밖에 못치냐? 죄송합니다. 그러면서 길거리 연주로 돈을 받으려고...</td>\n",
              "    </tr>\n",
              "    <tr>\n",
              "      <th>t_123</th>\n",
              "      <td>친구야 돈좀 빌려주라.  돈.? 왜 빌리려고? 왜긴 왜야. 매점가려 그러지  지난번...</td>\n",
              "    </tr>\n",
              "    <tr>\n",
              "      <th>t_124</th>\n",
              "      <td>내일까지 입금하세요  도저히 내일까지는 돈 마련 못할 것 같아요  그럼 저도 가만히...</td>\n",
              "    </tr>\n",
              "    <tr>\n",
              "      <th>t_125</th>\n",
              "      <td>이거 한정판 굿즈 아니야? 대박 영롱하다. 그지 우리 오빠들 너무 멋져. 오 고생한...</td>\n",
              "    </tr>\n",
              "    <tr>\n",
              "      <th>t_126</th>\n",
              "      <td>새론씨 오늘 저녁에 약속있어요?  아니요. 없습니다. 잘됐다. 그럼 보고서 작성을 ...</td>\n",
              "    </tr>\n",
              "    <tr>\n",
              "      <th>t_128</th>\n",
              "      <td>어 아가씨 잠깐 스돕스톱 누구세요? 아가씨 내가 요즘 좀 힘들어서 그런데 불우이웃 ...</td>\n",
              "    </tr>\n",
              "    <tr>\n",
              "      <th>t_130</th>\n",
              "      <td>내 이름 불러봐. 기. 기. 기.기철.아 내 이름이 기기기기철이냐? 제대로 불러! ...</td>\n",
              "    </tr>\n",
              "    <tr>\n",
              "      <th>t_131</th>\n",
              "      <td>입어보시니 어떠세요 손님? 다 별로네 여기 옷이 다 왜이래? 그럼 어떤 옷을 원하시...</td>\n",
              "    </tr>\n",
              "    <tr>\n",
              "      <th>t_132</th>\n",
              "      <td>최대리 옷 샀어? 네!  또 똑같은 거므스레한 옷이네.  하하.이런 게 좋네요. 좀...</td>\n",
              "    </tr>\n",
              "    <tr>\n",
              "      <th>t_133</th>\n",
              "      <td>야 야 이리와봐 왜.왜불러. 너는 친구가 부르는데 가봐야지 왜 부르냐고 물어보면 어...</td>\n",
              "    </tr>\n",
              "    <tr>\n",
              "      <th>t_134</th>\n",
              "      <td>나 사고쳤어. 갑자기 무슨소리야 아 몰라. 걍 돈 좀 줘봐. 입막아야 하니까. 아니...</td>\n",
              "    </tr>\n",
              "    <tr>\n",
              "      <th>t_135</th>\n",
              "      <td>내가 너한테 얼마나 잘했는데. 술만 마시면 욕하고 때리고. 내가 취해서 그랬어.  ...</td>\n",
              "    </tr>\n",
              "    <tr>\n",
              "      <th>t_136</th>\n",
              "      <td>마스크써주세요 공공장소입니다 니가뭔데 쓰라마라야 코로나로 예민한때에 우리모두 조심해...</td>\n",
              "    </tr>\n",
              "    <tr>\n",
              "      <th>t_137</th>\n",
              "      <td>저 그만좀 하시면 안될까요 야 니가 만져도 된다고 거의 이미 합의가 된상태야 만약 ...</td>\n",
              "    </tr>\n",
              "    <tr>\n",
              "      <th>t_138</th>\n",
              "      <td>거지 왔네 나 거지 아니야 맞잖아 너네 아빠 어제 노가다 하는거 봤어 헐 진짜? 니...</td>\n",
              "    </tr>\n",
              "    <tr>\n",
              "      <th>t_140</th>\n",
              "      <td>넌 좀 그냥 죽어 내가 뭘 그렇게 잘못했는데 그냥 꼴뵈기 싫어 이유라도 물어보자 그...</td>\n",
              "    </tr>\n",
              "    <tr>\n",
              "      <th>t_142</th>\n",
              "      <td>돈 내놔 왜? 당신이 뺑소니 범인이라는 것 알고 있어 헉 그걸!! 그러니 범인이라고...</td>\n",
              "    </tr>\n",
              "    <tr>\n",
              "      <th>t_143</th>\n",
              "      <td>어 저기좀봐 장애인이다. 절뚝거리는거 개웃기네. 자기 갈 길 갑시다. 왜? 웃지도 ...</td>\n",
              "    </tr>\n",
              "    <tr>\n",
              "      <th>t_144</th>\n",
              "      <td>자네는 정말 할 줄 아는게 뭔가? 죄송합니다. 좀 더 잘하겠습니다. 이래서 대학 나...</td>\n",
              "    </tr>\n",
              "    <tr>\n",
              "      <th>t_145</th>\n",
              "      <td>지금 당장 책상 위에 올려진 약 먹어  어떤 약물인지 확인 되지 않아 먹을 수 없습...</td>\n",
              "    </tr>\n",
              "    <tr>\n",
              "      <th>t_146</th>\n",
              "      <td>곽두팔. 드디어 잡았다.  누가 꼰질렀어? 어떤 새끼야?  어휴. 누구겠어? 니 똘...</td>\n",
              "    </tr>\n",
              "    <tr>\n",
              "      <th>t_147</th>\n",
              "      <td>유행복 너 어디야 누가 아직까지 집에 안 들어오래. 오늘 맞을 준비해라. 나 아빠가...</td>\n",
              "    </tr>\n",
              "    <tr>\n",
              "      <th>t_148</th>\n",
              "      <td>이혼하자 우리 이혼? 누구 좋자고이혼해 너 그년만나러 가지? 너의 폭언과 폭행에 지...</td>\n",
              "    </tr>\n",
              "    <tr>\n",
              "      <th>t_149</th>\n",
              "      <td>야 너 좀 따라와 왜요? 형이 오라면 오지 말이 많아 저 집에 가야 해요 지갑만 두...</td>\n",
              "    </tr>\n",
              "    <tr>\n",
              "      <th>t_150</th>\n",
              "      <td>이번 일은 너가 맡도록해. 예? 저번에도 제가 하지 않았습니까. 그래서 안할거야? ...</td>\n",
              "    </tr>\n",
              "    <tr>\n",
              "      <th>t_151</th>\n",
              "      <td>이게 뭐냐? 아 애니메이션 보고 있는거야. 이런걸 누가 보냐? 유치하게. 뭐? 너가...</td>\n",
              "    </tr>\n",
              "    <tr>\n",
              "      <th>t_156</th>\n",
              "      <td>아가씨 집이어디야? 왜그러세요 내가 집까지 태워줄게.타 저 혼자 갈수 있어요 소리지...</td>\n",
              "    </tr>\n",
              "    <tr>\n",
              "      <th>t_157</th>\n",
              "      <td>어이 김대리 자네 뭐하고 있나? 옙 최부장님 어제 말씀하신 리포트 작성중입니다 아니...</td>\n",
              "    </tr>\n",
              "    <tr>\n",
              "      <th>t_159</th>\n",
              "      <td>야! 너좀저리가 왜그러니 너만보면 신경질나 바보같이 뭐하냐? 좀심한거아냐? 너같은 ...</td>\n",
              "    </tr>\n",
              "    <tr>\n",
              "      <th>t_160</th>\n",
              "      <td>아가야 너 원래 일처리 이런식으로 하냐? 죄송합니다 뭐가 죄송한데? 죄송합니다 대답...</td>\n",
              "    </tr>\n",
              "    <tr>\n",
              "      <th>t_161</th>\n",
              "      <td>야 너 이름이 뭐냐? 김지호. 얘 생긴거 장애인같네. 응? 응? 응이라고 했냐? 아...</td>\n",
              "    </tr>\n",
              "    <tr>\n",
              "      <th>t_163</th>\n",
              "      <td>우리 헤어졌잖아. 이제 그만해.  제발.한번만 더 기회를 줘.  저번에도 그랬다가 ...</td>\n",
              "    </tr>\n",
              "    <tr>\n",
              "      <th>t_164</th>\n",
              "      <td>아 아 마이크 테스트 빠가야 5초 내로 튀어온나.  부르셨습니까?  야 미쳤냐? 커...</td>\n",
              "    </tr>\n",
              "    <tr>\n",
              "      <th>t_166</th>\n",
              "      <td>김씨 주말에 뭐하세요? 네 부장님. 저 가족들과 약속이 있습니다 어디서? 여의도요 ...</td>\n",
              "    </tr>\n",
              "    <tr>\n",
              "      <th>t_168</th>\n",
              "      <td>이새끼 이것도 틀려? 틀린건가? 바보자식. 이래가지고 대학은 가겠니 공부열심히하고있...</td>\n",
              "    </tr>\n",
              "    <tr>\n",
              "      <th>t_170</th>\n",
              "      <td>담임이랑 무슨 얘기 한거야? 설마 너 이른건 아니지? 아니 그냥 진로 상담한거야. ...</td>\n",
              "    </tr>\n",
              "    <tr>\n",
              "      <th>t_171</th>\n",
              "      <td>길동씨 어디까지 했어? 아직 하는 중입니다 아직도? 왜 이렇게 일을 못해 죄송합니다...</td>\n",
              "    </tr>\n",
              "    <tr>\n",
              "      <th>t_172</th>\n",
              "      <td>이거 재연씨 아이디어인가? 네 그렇습니다. 아니지 아니지. 무슨 말씀이신지? 지금부...</td>\n",
              "    </tr>\n",
              "    <tr>\n",
              "      <th>t_173</th>\n",
              "      <td>이봐요 아가씨 이거 환불좀 해줘  아 환불하시려면 구매하셨던 종이들 옷걸이들 다 들...</td>\n",
              "    </tr>\n",
              "    <tr>\n",
              "      <th>t_174</th>\n",
              "      <td>아효 덥네. 저 조금만 쉬겠습니다. 야 선풍기 가져간다. 너 어쩌피 쉴 거라며. 네...</td>\n",
              "    </tr>\n",
              "    <tr>\n",
              "      <th>t_175</th>\n",
              "      <td>어이 아가씨 몸매 이쁘네 네? 딱 붙는 옷에 짧은 치마 크흐 섹시하다 아 남자친구한...</td>\n",
              "    </tr>\n",
              "    <tr>\n",
              "      <th>t_176</th>\n",
              "      <td>김쌤 학부모들 클레임 들어왔어 어떻게 할 거야? 저는 정말 학생을 때리지 않았습니다...</td>\n",
              "    </tr>\n",
              "    <tr>\n",
              "      <th>t_177</th>\n",
              "      <td>최주임 오늘 저녁 약속있어?? 박과장님! 아니요 없어요 그럼 오늘 둘이서 술한잔 어...</td>\n",
              "    </tr>\n",
              "    <tr>\n",
              "      <th>t_178</th>\n",
              "      <td>내 지갑 너가 훔쳤니? 그게 무슨말이야? 아니 너가 전에 내 지갑보고 이쁘다했잖아 ...</td>\n",
              "    </tr>\n",
              "    <tr>\n",
              "      <th>t_179</th>\n",
              "      <td>선생님 제가 어제 밤에 애들이랑 놀다가 뭘 봤게요? 응? 뭘 봤는데? 그리고 무엇보...</td>\n",
              "    </tr>\n",
              "    <tr>\n",
              "      <th>t_180</th>\n",
              "      <td>희수씨는 생각이 있어요 없어요!! 네.? 그게 무슨. 내가 이걸 이렇게 하면 안된다...</td>\n",
              "    </tr>\n",
              "    <tr>\n",
              "      <th>t_181</th>\n",
              "      <td>찬호야 꼬추 한번만 보자 그래 잘 컸나 보자 하지마 선생님한테 다 이를 거야 일러라...</td>\n",
              "    </tr>\n",
              "    <tr>\n",
              "      <th>t_182</th>\n",
              "      <td>어머 미희씨 손에든거 붕어빵이야? 아네 이만원어치 샀어요 팀사람들이랑 나눠먹으려구 ...</td>\n",
              "    </tr>\n",
              "    <tr>\n",
              "      <th>t_183</th>\n",
              "      <td>2차는 편하게들 마시게 네 감사히 잘먹겠습니다 어 시켜시켜 내가 살테니까 네 그럼저...</td>\n",
              "    </tr>\n",
              "    <tr>\n",
              "      <th>t_184</th>\n",
              "      <td>뭘 째려봐  아닙니다  뭘 아니야 너 이리와봐  안째려봤어요  이리 와보라고  저 ...</td>\n",
              "    </tr>\n",
              "    <tr>\n",
              "      <th>t_187</th>\n",
              "      <td>한 발자국도 움직이지마. 그럼 이 여자는 죽는거야. 대화로 풀어갑시다. 난 그동안 ...</td>\n",
              "    </tr>\n",
              "    <tr>\n",
              "      <th>t_188</th>\n",
              "      <td>서영아 이번 달도 100만원 알지?  뭐? 저번 달로 끝난 거 아니었어?  그게 무...</td>\n",
              "    </tr>\n",
              "    <tr>\n",
              "      <th>t_189</th>\n",
              "      <td>이 새끼 한동안 안쳐 맞더니 정신 못차리네? 야 정신 나갔냐? 무섭게 왜 이래. 뭐...</td>\n",
              "    </tr>\n",
              "    <tr>\n",
              "      <th>t_190</th>\n",
              "      <td>너 때문에 내인생이 망가졌어 나도 태어나고 행복했던적 없어 너만 아니었으면 잘살았을...</td>\n",
              "    </tr>\n",
              "    <tr>\n",
              "      <th>t_192</th>\n",
              "      <td>어이 내 동생이 그러던데 너 집 잘 산다며? 저 저요? 그래 너. 이 형이 오랜만에...</td>\n",
              "    </tr>\n",
              "    <tr>\n",
              "      <th>t_193</th>\n",
              "      <td>짱깨 꺼져 자기 나라에서 돈 못 버니까 한국오고 참 너도 불쌍하다 뭐요? 하긴 중국...</td>\n",
              "    </tr>\n",
              "    <tr>\n",
              "      <th>t_194</th>\n",
              "      <td>야 거기서봐 네?저요 응 형아가 오늘놀아야하는데 돈이 부족해서 돈좀있냐? 네?저 돈...</td>\n",
              "    </tr>\n",
              "    <tr>\n",
              "      <th>t_195</th>\n",
              "      <td>안녕하세요 투표부탁드려요.  아 괜찮습니다. 지구를 위해서 한번씩만 부탁드려요. 아...</td>\n",
              "    </tr>\n",
              "    <tr>\n",
              "      <th>t_196</th>\n",
              "      <td>너는 생긴게 왜 그따위로 글러먹었니? 갑자기 왜그러는거야 아니 내가 쭉 둘러보는데 ...</td>\n",
              "    </tr>\n",
              "    <tr>\n",
              "      <th>t_198</th>\n",
              "      <td>너 지금 만나는 여자 내 여자친구 아니야? 미안 어쩌다 보니 그렇게 됐다 좋은 걸 ...</td>\n",
              "    </tr>\n",
              "    <tr>\n",
              "      <th>t_199</th>\n",
              "      <td>야! 너 뭐하는 사람이야? 내가 누군줄 알어? 누구신데 그러세요 이리와봐  제가 왜...</td>\n",
              "    </tr>\n",
              "    <tr>\n",
              "      <th>t_200</th>\n",
              "      <td>부장님 이렇게 하면 좋을거같습니다. 크흠. 지금 내가 제시한게 안좋다는 이야긴가요?...</td>\n",
              "    </tr>\n",
              "    <tr>\n",
              "      <th>t_201</th>\n",
              "      <td>어이 너 어디살아? 네?? 예쁘게 생곘네?? 이러지 마세요 좋지 맞지? 좋다고 안하...</td>\n",
              "    </tr>\n",
              "    <tr>\n",
              "      <th>t_202</th>\n",
              "      <td>넌 한쪽 팔도 없는 주제에 무슨 미술학원 ? 참 욕심이 크다  뭐? 한쪽 팔없다고 ...</td>\n",
              "    </tr>\n",
              "    <tr>\n",
              "      <th>t_203</th>\n",
              "      <td>봉지 드릴까요?  그럼 어떻게 들고 가란 말이에요?  네 그럼 봉지 드릴까요?  말...</td>\n",
              "    </tr>\n",
              "    <tr>\n",
              "      <th>t_204</th>\n",
              "      <td>저기요 아가씨 일로와봐요.  네? 왜그러세요?  이쁘장하게 생겼네. 일로와봐 오빠랑...</td>\n",
              "    </tr>\n",
              "    <tr>\n",
              "      <th>t_205</th>\n",
              "      <td>야 말해봐  뭐.뭘  야 이 새끼 말 더듬는 거 봐 존나 웃겨  뭐 뭘  놀리지 마...</td>\n",
              "    </tr>\n",
              "    <tr>\n",
              "      <th>t_206</th>\n",
              "      <td>승호씨 오후에 나 대신 공장 좀 가줘요 네? 갑자기요? 제 업무는.? 그건 갔다와서...</td>\n",
              "    </tr>\n",
              "    <tr>\n",
              "      <th>t_207</th>\n",
              "      <td>길동씨. 아 직업이 선생이네? 천마고등학교?  네네. 제가 선생님입니다. 선생이란 ...</td>\n",
              "    </tr>\n",
              "    <tr>\n",
              "      <th>t_208</th>\n",
              "      <td>이대리는 주말에 뭐했나? 집에서 쉬었습니다. 에이 남친 만났겠지 남자친구 없어요. ...</td>\n",
              "    </tr>\n",
              "    <tr>\n",
              "      <th>t_209</th>\n",
              "      <td>야 너 내말이 우습지? 일을 그렇게 해놓고 죄송하다는 놈 태도가 그게 뭐냐? 아닙니...</td>\n",
              "    </tr>\n",
              "    <tr>\n",
              "      <th>t_211</th>\n",
              "      <td>야 너 지금 꼴랑 수급이 이정도 밖에 안돼? 미안해 정해야 맞기 싫으면 돈을 더 가...</td>\n",
              "    </tr>\n",
              "    <tr>\n",
              "      <th>t_212</th>\n",
              "      <td>이것도 못하나? 죄송합니다 손님 그러면서 알바비는 두둑히 받아가겠지? 죄송합니다. ...</td>\n",
              "    </tr>\n",
              "    <tr>\n",
              "      <th>t_213</th>\n",
              "      <td>이대리. 이번 프로젝트 이대리가 진행한 걸로 해야할 것 같네. 네? 과장님 그게 무...</td>\n",
              "    </tr>\n",
              "    <tr>\n",
              "      <th>t_214</th>\n",
              "      <td>야 정신차려 음. 누구세요.? 여긴.어디고.? 상황파악이 조금 느리네 너 납치 당한...</td>\n",
              "    </tr>\n",
              "    <tr>\n",
              "      <th>t_218</th>\n",
              "      <td>너 니 동영상 학교에 뿌려지고 싶어? .왜 그래.정말. 풉. 애들이 니가 이렇게 변...</td>\n",
              "    </tr>\n",
              "    <tr>\n",
              "      <th>t_219</th>\n",
              "      <td>여기 사장 나오라 해 무슨 일이시죠 너말고 여기 사장 나오라고! 사장님 안계십니다 ...</td>\n",
              "    </tr>\n",
              "    <tr>\n",
              "      <th>t_220</th>\n",
              "      <td>얘들아 언니들이 돈 모아오라고 하던데 나 만원만  나 돈 없고 얘도 없어. 내 언니...</td>\n",
              "    </tr>\n",
              "    <tr>\n",
              "      <th>t_222</th>\n",
              "      <td>사랑해.나랑 사귀자 네? 무슨말인지.? 사귀자고 내가 그러고싶어 사귀자 부담스러워요...</td>\n",
              "    </tr>\n",
              "    <tr>\n",
              "      <th>t_224</th>\n",
              "      <td>길동구에 사는 최유정 집 어디인지 나한테 싹 다 자료넘겨. 배우자 분이시거나 부모님...</td>\n",
              "    </tr>\n",
              "    <tr>\n",
              "      <th>t_226</th>\n",
              "      <td>사장님 수고가 많으세요 요즘 매출이 많이 늘었다면서요?? 별말씀을요다 박사장님 덕분...</td>\n",
              "    </tr>\n",
              "    <tr>\n",
              "      <th>t_227</th>\n",
              "      <td>제정신이야? 이것도 음식이라고 내온거야? 죄송합니다. 너가 이걸 먹어봐. 니 혀를 ...</td>\n",
              "    </tr>\n",
              "    <tr>\n",
              "      <th>t_228</th>\n",
              "      <td>엄마 나 급식비 또 내래.  뭐? 또?  어. 학교에서 급식비가 올랐다고.  참 나...</td>\n",
              "    </tr>\n",
              "    <tr>\n",
              "      <th>t_229</th>\n",
              "      <td>어이 좀 영상이 짧긴 한데 억지로라도 알아서 해봐.  영상자료가 너무 부족하잖아요....</td>\n",
              "    </tr>\n",
              "    <tr>\n",
              "      <th>t_230</th>\n",
              "      <td>오늘 저녁에 뭐하나 지수씨 퇴근하면 집에서 쉬려구요 잘됐네 나랑 밥이나 한끼하고 영...</td>\n",
              "    </tr>\n",
              "    <tr>\n",
              "      <th>t_231</th>\n",
              "      <td>여러분 주님은 참 자비로우신 것 같아요 남들이 예수라면 다 죽여버렸을 텐데 참 웃기...</td>\n",
              "    </tr>\n",
              "    <tr>\n",
              "      <th>t_232</th>\n",
              "      <td>아 진짜 못참겠네 왜그래 저번부터 그냥 거슬린다 아니 뭘 잘못했는데 맞자 일단 어디...</td>\n",
              "    </tr>\n",
              "    <tr>\n",
              "      <th>t_233</th>\n",
              "      <td>네. 과자장인입니다. 거기 과자집 사장 나오라 그래! 무슨일인데 그러세요? 제가 사...</td>\n",
              "    </tr>\n",
              "    <tr>\n",
              "      <th>t_234</th>\n",
              "      <td>야 돈 안줘? 야 잠깐만 기다려봐 시끄러 삼초의 시간을 준다 빨리 하나. 둘. 알겠...</td>\n",
              "    </tr>\n",
              "    <tr>\n",
              "      <th>t_235</th>\n",
              "      <td>야 너 진짜 못생겼다. 갑자기 왜 그래. 눈이 왜 이렇게 작냐. 키도 작은 게. 친...</td>\n",
              "    </tr>\n",
              "    <tr>\n",
              "      <th>t_236</th>\n",
              "      <td>야 너 이 대화방 나가지 말라고 했지 왜 자꾸 나가냐? 나 엄마가 폰 검사하시기도 ...</td>\n",
              "    </tr>\n",
              "    <tr>\n",
              "      <th>t_237</th>\n",
              "      <td>가진게 이게 다야? 죄송합니다. 아저씨 오늘 집에 안 가고 싶어? 지.지갑에는 돈이...</td>\n",
              "    </tr>\n",
              "    <tr>\n",
              "      <th>t_238</th>\n",
              "      <td>아 여기다 주차하지마라니까 아니 여기가 당신 땅도 아닌데 왜그러는거야 내 땅은 아니...</td>\n",
              "    </tr>\n",
              "    <tr>\n",
              "      <th>t_239</th>\n",
              "      <td>아 이번판도 졌네. 현석이 넌 손이 장애냐? 아 무슨 말을 그렇게 하냐 손이 장애인...</td>\n",
              "    </tr>\n",
              "    <tr>\n",
              "      <th>t_240</th>\n",
              "      <td>제.제.제가  왜.왜 내 말투.따라.따라해  재.재.재미.재밌잖아  하지.하지마 기...</td>\n",
              "    </tr>\n",
              "    <tr>\n",
              "      <th>t_241</th>\n",
              "      <td>야 일등하니까 좋냐? 어???? 만년 2등이 일등하니까 좋냐고 아. 왜그러는거야 너...</td>\n",
              "    </tr>\n",
              "    <tr>\n",
              "      <th>t_242</th>\n",
              "      <td>너 어제도 민정이에게 고백했다가 차였다며? 응. 넌 이제 정카다. 맨날 차이니까  ...</td>\n",
              "    </tr>\n",
              "    <tr>\n",
              "      <th>t_243</th>\n",
              "      <td>선희씨 오늘 퇴근하고 뭐해.  저 집에 갈거 같습니다  괜찮으면 남아서 나랑 일좀 ...</td>\n",
              "    </tr>\n",
              "    <tr>\n",
              "      <th>t_245</th>\n",
              "      <td>야 너 돈 좀 많아 보이는데 형 좀 빌려주라 안돼요 저도 돈 없단 말이예요. 뒤졌는...</td>\n",
              "    </tr>\n",
              "    <tr>\n",
              "      <th>t_246</th>\n",
              "      <td>이 대리 혹시 바쁜가 ? 아닙니다. 부장님. 혹시 무슨 일 있으신가요? 지금 우리 ...</td>\n",
              "    </tr>\n",
              "    <tr>\n",
              "      <th>t_247</th>\n",
              "      <td>야 체육복 좀 빌려주라 나 다음시간.체육인데. 나 지금 체육시간이니까 좀 빌려달라고...</td>\n",
              "    </tr>\n",
              "    <tr>\n",
              "      <th>t_248</th>\n",
              "      <td>선혜씨 빨리 좀 못나와요?  최대한 빨리 가고 있는 건데요.  오늘 아침 회의 때도...</td>\n",
              "    </tr>\n",
              "    <tr>\n",
              "      <th>t_249</th>\n",
              "      <td>나한테 먼저 빌려주기로 해놓고 다른사람 먼저 빌려줘서 올해 우리집 농사 다 망하게 ...</td>\n",
              "    </tr>\n",
              "    <tr>\n",
              "      <th>t_250</th>\n",
              "      <td>이검사 오랜만이야?  아이고 김회장님 오랜만에 뵙습니다.  요즘 내 뒤를 캔다는 소...</td>\n",
              "    </tr>\n",
              "    <tr>\n",
              "      <th>t_252</th>\n",
              "      <td>너 이제는 나 말고 다른 대표한테 붙기로 한거냐?  그걸 어떻게 알았어.? 이 바닥...</td>\n",
              "    </tr>\n",
              "    <tr>\n",
              "      <th>t_253</th>\n",
              "      <td>회식 갑시다 오늘 선약이 있어서 가볼게요 넌 또 빠져? 네? 네. 이런 애들은 사회...</td>\n",
              "    </tr>\n",
              "    <tr>\n",
              "      <th>t_254</th>\n",
              "      <td>너라면서? 내 인사고과 망친사람 네? 제가요? 누가요? 오호 너가 한게 맞나보네 전...</td>\n",
              "    </tr>\n",
              "    <tr>\n",
              "      <th>t_255</th>\n",
              "      <td>야 이 새끼 옷 입은 것 좀 봐. 구찌? 이게 뭔 구찌냐. 딱 봐도 루이비똥이구만....</td>\n",
              "    </tr>\n",
              "    <tr>\n",
              "      <th>t_257</th>\n",
              "      <td>그거 알아? 이주임님. 이번에 승진하려고 최부장님이랑 같이 출장가서 방 하나만 썼데...</td>\n",
              "    </tr>\n",
              "    <tr>\n",
              "      <th>t_258</th>\n",
              "      <td>친구야 안녕?  누구세요? 아니 형이 용돈이 좀 부족한데 친구가 좀 빌려줄래? 아 ...</td>\n",
              "    </tr>\n",
              "    <tr>\n",
              "      <th>t_259</th>\n",
              "      <td>지수씨는 뭐 하나 제대로 하는게 없어 네? 팀장님? 아니 남들처럼 빠릿하지도 않고 ...</td>\n",
              "    </tr>\n",
              "    <tr>\n",
              "      <th>t_260</th>\n",
              "      <td>원장님 저 돈좀 빌려주세요 월급 어제였잖아요 무슨일있어요? 아니요 그건 아니구요 원...</td>\n",
              "    </tr>\n",
              "    <tr>\n",
              "      <th>t_262</th>\n",
              "      <td>너 이번 과제 도와주지 않으면 저번 일 이야기할 거야 네가 그 일을 어떻게 아는데?...</td>\n",
              "    </tr>\n",
              "    <tr>\n",
              "      <th>t_263</th>\n",
              "      <td>저기요 왜 샤인머스켓 빙수에 샤인머스켓이 없는거죠?  네? 죄송합니다 고객님. 샤인...</td>\n",
              "    </tr>\n",
              "    <tr>\n",
              "      <th>t_266</th>\n",
              "      <td>야 뭐하냐? 그렇게 부르지마 야 를 라 부르지 너 손가락 2개잖아 너 진짜 그만해 ...</td>\n",
              "    </tr>\n",
              "    <tr>\n",
              "      <th>t_269</th>\n",
              "      <td>야 내것도 하나 사줘봐 미안 돈이 없어 그럴 줄 알았다 거지새끼 갑자기 왜 그래 뭐...</td>\n",
              "    </tr>\n",
              "    <tr>\n",
              "      <th>t_270</th>\n",
              "      <td>여기 지금 지하 창곤데. 내가 며칠 전에 감방에서 나왔는데. 돈이 쪼까 필요해서 어...</td>\n",
              "    </tr>\n",
              "    <tr>\n",
              "      <th>t_272</th>\n",
              "      <td>아 존나 짜증나네 내가 뭘 했다고 그냥 죽여버릴래? 그래  미안해 일단 쳐맞고 시작...</td>\n",
              "    </tr>\n",
              "    <tr>\n",
              "      <th>t_273</th>\n",
              "      <td>저기요 씨 잠깐 저기 좀 볼까요 네 지난번에 보고서 너무 못 썼어요 아 그랬어요 정...</td>\n",
              "    </tr>\n",
              "    <tr>\n",
              "      <th>t_275</th>\n",
              "      <td>야 너 내가 부르면 일단 동작멈추랬지 아 근데 차장님이 이거좀 해달라고 말하셔서. ...</td>\n",
              "    </tr>\n",
              "    <tr>\n",
              "      <th>t_276</th>\n",
              "      <td>이대리 오늘 마치고 치맥 콜?  저 약속이 있습니다 부장님  직장 상사와의 약속보다...</td>\n",
              "    </tr>\n",
              "    <tr>\n",
              "      <th>t_277</th>\n",
              "      <td>너 공부는 왜하냐 공부해도 성적도 안나오면서 공부는 뭐 아무나 하는 줄 알어 니가 ...</td>\n",
              "    </tr>\n",
              "    <tr>\n",
              "      <th>t_278</th>\n",
              "      <td>김대리 커피 네 여기요 맛이 왜이래 왜 그러시는지.? 넘 쓰잖아 다시 해와 저 이거...</td>\n",
              "    </tr>\n",
              "    <tr>\n",
              "      <th>t_279</th>\n",
              "      <td>김인턴 할 일 없으면 회사 출근은 왜 했나?  죄송합니다. 할 일 좀 주시겠어요? ...</td>\n",
              "    </tr>\n",
              "    <tr>\n",
              "      <th>t_280</th>\n",
              "      <td>야 너네집 이번에 사업 잘되더라? 아니야 우린 돈이 없어 돈 좀 빌려줘 안돼 나도 ...</td>\n",
              "    </tr>\n",
              "    <tr>\n",
              "      <th>t_281</th>\n",
              "      <td>현수야 우리 왔다 너는 아버지의 원수! 그만해라 이제 안 지겹냐 너는 지금 그런 말...</td>\n",
              "    </tr>\n",
              "    <tr>\n",
              "      <th>t_282</th>\n",
              "      <td>어이 뚱뚱보 줄넘기하냐  왜그래. 너희들  그냥 물어보는거야. 뚱뚱보야  돼지가 뛰...</td>\n",
              "    </tr>\n",
              "    <tr>\n",
              "      <th>t_283</th>\n",
              "      <td>과장님 제가 오늘 몸이 아파서 조퇴를 해야 할 것 같습니다. 어린애가 꾀병만 늘어가...</td>\n",
              "    </tr>\n",
              "    <tr>\n",
              "      <th>t_285</th>\n",
              "      <td>어이 김대리 네 대리님. 내가 맡긴 일 왜 안했어? 아무리 생각해도 대리님 일은 대...</td>\n",
              "    </tr>\n",
              "    <tr>\n",
              "      <th>t_286</th>\n",
              "      <td>니가 오빠좀 도와줘라 내가 왜 엄마가 도와줘 너는 여자라 시집갈때 돈 많이안들자나 ...</td>\n",
              "    </tr>\n",
              "    <tr>\n",
              "      <th>t_287</th>\n",
              "      <td>과장님 저 이번주 금요일에 하루 휴가 좀 써도 될까요? 휴가? 반차? 월차?  아 ...</td>\n",
              "    </tr>\n",
              "    <tr>\n",
              "      <th>t_288</th>\n",
              "      <td>멈춰! 칼 맞기 싫으면 계산대에 손 올려!  뭐. 뭐야  뭐긴 뭐야 임마 돈 다 꺼...</td>\n",
              "    </tr>\n",
              "    <tr>\n",
              "      <th>t_289</th>\n",
              "      <td>아이씨 이게 뭔 냄새야 미안 어제 엄마가게에서 일 도와드렸는데 옷에 냄새가 뱄네 아...</td>\n",
              "    </tr>\n",
              "    <tr>\n",
              "      <th>t_290</th>\n",
              "      <td>저기요 카페에서 제 노트북 가져갔죠? 착각하시고 가져간거 같은데 카페 회원정보 보고...</td>\n",
              "    </tr>\n",
              "    <tr>\n",
              "      <th>t_291</th>\n",
              "      <td>돈내놔 없어요. 방금 은행에서 나오는거 다봤어.내놔 왜이르세요 죽을래.지금당장 내놔...</td>\n",
              "    </tr>\n",
              "    <tr>\n",
              "      <th>t_292</th>\n",
              "      <td>에휴 뭔 자신감에 사진을 올려. 그렇니까. 악플이나 남겨야지. 이런애들은 욕을 먹어...</td>\n",
              "    </tr>\n",
              "    <tr>\n",
              "      <th>t_293</th>\n",
              "      <td>야 저새끼 봐 존나웃겨  진짜 병신같다 쟤 뭐하냐  시발 저딴 병신도 있네  그만 ...</td>\n",
              "    </tr>\n",
              "    <tr>\n",
              "      <th>t_294</th>\n",
              "      <td>야 신입 네 부장님.? 뭘 멀뚱거려 빨리와 넵 오늘 아들 생일인데. 아 축하드립니다...</td>\n",
              "    </tr>\n",
              "    <tr>\n",
              "      <th>t_295</th>\n",
              "      <td>동생아 내 방 좀 정리해줘 싫어 내가 왜 언니 방이니까 언니가 해 자매끼리 왜이래 ...</td>\n",
              "    </tr>\n",
              "    <tr>\n",
              "      <th>t_298</th>\n",
              "      <td>너 이 옷 어디서 났어? 엄마가 사주셨어. 예쁘지? 어. 나 빌려주라. 뭐? 안돼....</td>\n",
              "    </tr>\n",
              "    <tr>\n",
              "      <th>t_299</th>\n",
              "      <td>나랑 헤어질꺼야? 헤어질꺼야. 다시 한 번 말해봐. 헤어질꺼야. 다시 말 못하게 해...</td>\n",
              "    </tr>\n",
              "    <tr>\n",
              "      <th>t_301</th>\n",
              "      <td>니네 아빠 장애인이야? 어. 그게왜? 아빠가 장애인이면 진짜 챙피하겠다 나 우리아빠...</td>\n",
              "    </tr>\n",
              "    <tr>\n",
              "      <th>t_302</th>\n",
              "      <td>나를 버리고 만난다는 게 고작 이런 놈이야? 뭐가 어때서! 우리 헤어졌잖아. 내가 ...</td>\n",
              "    </tr>\n",
              "    <tr>\n",
              "      <th>t_303</th>\n",
              "      <td>좋은 아침 아니 박대리 왜이리 피곤해보이나 네 어제 과음을 좀해서  아니 박대리 요...</td>\n",
              "    </tr>\n",
              "    <tr>\n",
              "      <th>t_304</th>\n",
              "      <td>야. 너 이리와봐. 네? 저요? 그래. 지금 여기 니 말고 누가 있냐. 왜요? 무슨...</td>\n",
              "    </tr>\n",
              "    <tr>\n",
              "      <th>t_305</th>\n",
              "      <td>야 너 거기서 봐.  네? 저요? 누구세요  누구인지 너가 왜 궁금해  가진 거 다...</td>\n",
              "    </tr>\n",
              "    <tr>\n",
              "      <th>t_306</th>\n",
              "      <td>찬호야 꼬추 한번만 보자 그래 잘 컸나 보자 하지마 선생님한테 다 이를 거야 일러라...</td>\n",
              "    </tr>\n",
              "    <tr>\n",
              "      <th>t_307</th>\n",
              "      <td>아저씨 담배 피우고 엘리베이터 타지 마요  아 예.  남의 집 배달오는 주제에 담배...</td>\n",
              "    </tr>\n",
              "    <tr>\n",
              "      <th>t_308</th>\n",
              "      <td>아이 씨.  손님 무슨 일이세요?  여기 해물탕에 담배꽁초가 들었네.  우리 식당에...</td>\n",
              "    </tr>\n",
              "    <tr>\n",
              "      <th>t_309</th>\n",
              "      <td>미스김 커피 타와.  죄송합니다 부장님. 저 지금 급하게 할 일이 있어서요.  내가...</td>\n",
              "    </tr>\n",
              "    <tr>\n",
              "      <th>t_310</th>\n",
              "      <td>왜 운전을 그따위로 하는 거야? 그따위라니요? 말은 똑바로 하시죠! 그쪽이 먼저 앞...</td>\n",
              "    </tr>\n",
              "    <tr>\n",
              "      <th>t_311</th>\n",
              "      <td>야 너네집 부잣집이라면서? 너만 잘먹고 잘 사면 되냐? 나 용돈 좀 달라고 부모님이...</td>\n",
              "    </tr>\n",
              "    <tr>\n",
              "      <th>t_312</th>\n",
              "      <td>저 큰 마음 먹고 전자 손목시계 샀어요! 진짜 영롱하죠 야 이 사람 올린 사진 봐 ...</td>\n",
              "    </tr>\n",
              "    <tr>\n",
              "      <th>t_314</th>\n",
              "      <td>오대리. 이 서류도 정리부탁해. 네? 뭐 왜. 싫어? 저 아직 제 할일도 덜했는데요...</td>\n",
              "    </tr>\n",
              "    <tr>\n",
              "      <th>t_315</th>\n",
              "      <td>애들아 여기는 내가 쏠테니까 마음껏 먹어 예지야 고마워! 넌 여전히 통이 크구나. ...</td>\n",
              "    </tr>\n",
              "    <tr>\n",
              "      <th>t_316</th>\n",
              "      <td>야 죽고 싶지 않으면 돈내놔 싫어요 너 이 자식이 뭐 덩치도 작은 놈이 어찌 내 돈...</td>\n",
              "    </tr>\n",
              "    <tr>\n",
              "      <th>t_317</th>\n",
              "      <td>야 너 눈이 진짜 크다 어 정말? 고마워 아니 사람말은 끝까지 들어야지 어? 눈이 ...</td>\n",
              "    </tr>\n",
              "    <tr>\n",
              "      <th>t_318</th>\n",
              "      <td>야 오늘 피시방가자 피시방 좋지 어? 피시방? 나도 갈래! 어 .너도 가려고? 너랑...</td>\n",
              "    </tr>\n",
              "    <tr>\n",
              "      <th>t_319</th>\n",
              "      <td>눈알은 백만원이고 간이랑 신장은 좀 더 쳐주지. 간이랑 신장이 없으면 제가 어떻게 ...</td>\n",
              "    </tr>\n",
              "    <tr>\n",
              "      <th>t_320</th>\n",
              "      <td>철민씨 주말에 별 일 없나? 네. 스케쥴 없습니다. 그럼 이번 주말에 수락산이나 가...</td>\n",
              "    </tr>\n",
              "    <tr>\n",
              "      <th>t_321</th>\n",
              "      <td>나를 비난한 게시글을 썼더구만?! 그게 어째서 비난이냐? 내 의견인데 내맘이지 좋은...</td>\n",
              "    </tr>\n",
              "    <tr>\n",
              "      <th>t_322</th>\n",
              "      <td>저기요 아저씨 비켜요 차 앞으로 가는데 왜 길을 막고 서계세요. 야이 새끼야 니 지...</td>\n",
              "    </tr>\n",
              "    <tr>\n",
              "      <th>t_323</th>\n",
              "      <td>어이 안경! 이리 와 봐. 어.! 왜 불렀어. 뭘 왜 불러야. 나 빵 좀 사먹게 돈...</td>\n",
              "    </tr>\n",
              "    <tr>\n",
              "      <th>t_324</th>\n",
              "      <td>야 돈 있어? 오늘 안 들고 왔어 니 친구는 있을거 아냐 친구들한테 받기가 좀. 됐...</td>\n",
              "    </tr>\n",
              "    <tr>\n",
              "      <th>t_325</th>\n",
              "      <td>야 너 골목으로 쫌 와바 저.저요? 너 지금 얼마있냐 저 돈 없는데요 너 옷 다뒤져...</td>\n",
              "    </tr>\n",
              "    <tr>\n",
              "      <th>t_326</th>\n",
              "      <td>지은아 너 일요일에 입었던 옷 나 빌려주라 어? 일요일? 응 너 인스타에 올린 원피...</td>\n",
              "    </tr>\n",
              "    <tr>\n",
              "      <th>t_328</th>\n",
              "      <td>이 사원 이리와바 네 팀장님 자네 일똑바로안해? 어떤거 말씀이신지 저번에 정리하라고...</td>\n",
              "    </tr>\n",
              "    <tr>\n",
              "      <th>t_329</th>\n",
              "      <td>장애인이라고 너무 무시하시는거 아닌가요?  무시라니요. 못 따라 오는거 같아보이던데...</td>\n",
              "    </tr>\n",
              "    <tr>\n",
              "      <th>t_330</th>\n",
              "      <td>야 너네 레시피 내놔  너네 누구야? 양아치야? 미쳤어?  아니 이 아저씨가 미쳤나...</td>\n",
              "    </tr>\n",
              "    <tr>\n",
              "      <th>t_331</th>\n",
              "      <td>여기 다 모였네. 너네 오늘 제삿날이야.  살려주세요. 이렇게 될 줄 몰랐단 말이에...</td>\n",
              "    </tr>\n",
              "    <tr>\n",
              "      <th>t_332</th>\n",
              "      <td>온가족이 한날한시에 함께 죽으면 외롭지는 않겠네 저희 가족들한테까지 왜 그러십니까....</td>\n",
              "    </tr>\n",
              "    <tr>\n",
              "      <th>t_333</th>\n",
              "      <td>야 그 옷 어디서 났냐? 어? 그런 옷 어디 앞에서 증정품으로 나눠 주는거 아니냐?...</td>\n",
              "    </tr>\n",
              "    <tr>\n",
              "      <th>t_334</th>\n",
              "      <td>민철아 우리 엄마 수술비가 필요해서 그러는데 5만원만 빌려줄 수 있을까? 어? 안돼...</td>\n",
              "    </tr>\n",
              "    <tr>\n",
              "      <th>t_336</th>\n",
              "      <td>야 너 내가 카톡하면 10초 안에 보라고 했지  아. 어. 미안  근데 왜이렇게 늦...</td>\n",
              "    </tr>\n",
              "    <tr>\n",
              "      <th>t_337</th>\n",
              "      <td>그래서 이거 뿌려요 말아요? 제발 부탁합니다. 한번만 봐주세요. 아니 핸드폰에 이런...</td>\n",
              "    </tr>\n",
              "    <tr>\n",
              "      <th>t_339</th>\n",
              "      <td>아까 밥먹고 또 먹냐? 네 엄마 너무 먹는다 너 먹음 안되요? 살이 너무쪄서 안돼 ...</td>\n",
              "    </tr>\n",
              "    <tr>\n",
              "      <th>t_340</th>\n",
              "      <td>오늘까지 가져오라고 했을텐데. 일 처리를 왜 이딴 식으로 하나?  이 새끼 이거 안...</td>\n",
              "    </tr>\n",
              "    <tr>\n",
              "      <th>t_341</th>\n",
              "      <td>오늘 끝나고 회식이야 팀장님 죄송한데 전 선약이 있어서요 선약? 그게 말이되? 몇달...</td>\n",
              "    </tr>\n",
              "    <tr>\n",
              "      <th>t_342</th>\n",
              "      <td>오빠 나 피곤해 집에 가고 싶어 시끄러 가긴 어딜가 오빠 나 힘들다니깐 난 외롭다니...</td>\n",
              "    </tr>\n",
              "    <tr>\n",
              "      <th>t_343</th>\n",
              "      <td>그러니까 애 교육을 잘 시키지 그랬어. 왜 내가 애를 죽이게 만들어 다 제 잘못입니...</td>\n",
              "    </tr>\n",
              "    <tr>\n",
              "      <th>t_344</th>\n",
              "      <td>어제 사진 잘 나왔더라 당장 그 사진 지워! 왜? 그 년하고 아주 딱 붙어있더구만....</td>\n",
              "    </tr>\n",
              "    <tr>\n",
              "      <th>t_345</th>\n",
              "      <td>최인턴 참 실망이 크네. 죄송합니다. 제 나름 노력한다고 한 건데. 내가 이래서 고...</td>\n",
              "    </tr>\n",
              "    <tr>\n",
              "      <th>t_347</th>\n",
              "      <td>승현아 나 수학학원 다니느라 돈이 없는데 저녁에 밥먹을 돈이 없는데 3만원만 빌려주...</td>\n",
              "    </tr>\n",
              "    <tr>\n",
              "      <th>t_348</th>\n",
              "      <td>어이 거지 돈을 빌렸으면 갚아야지 죄송합니다.!! 참나 이 새끼가 도망을 쳐? 제발...</td>\n",
              "    </tr>\n",
              "    <tr>\n",
              "      <th>t_349</th>\n",
              "      <td>야 너 차에서 당장 내려 안 내려? 왜 그러십니까 신호 안 지키고 끼어드시려한것도 ...</td>\n",
              "    </tr>\n",
              "    <tr>\n",
              "      <th>t_350</th>\n",
              "      <td>별로 삶에 미련이 없나봐? 예? 아 아닙니다 근데 왜 이리 꾸물거려 진짜 뒤지고 싶...</td>\n",
              "    </tr>\n",
              "    <tr>\n",
              "      <th>t_351</th>\n",
              "      <td>어머 애들아 안녕  소희야 안녕 오랜만이다. 어? 유리도 와있었구나! 반갑다. 얘 ...</td>\n",
              "    </tr>\n",
              "    <tr>\n",
              "      <th>t_352</th>\n",
              "      <td>어르신 불 있어요? 담뱃값 좀 하게 돈도 좀 줘요.  이 봐 젊은 친구. 내가 돈이...</td>\n",
              "    </tr>\n",
              "    <tr>\n",
              "      <th>t_354</th>\n",
              "      <td>올 핸드폰 새로샀냐 네. 잘했다 그폰 나 줘 인제 안돼요 맞고싶냐 내가 털어갈까? ...</td>\n",
              "    </tr>\n",
              "    <tr>\n",
              "      <th>t_355</th>\n",
              "      <td>진짜 저한테 왜 그러세요? 내가 뭘? 둘이 있을 때는 괜찮지만 친구들 앞에서 구타는...</td>\n",
              "    </tr>\n",
              "    <tr>\n",
              "      <th>t_356</th>\n",
              "      <td>너 이번에도 꼴등이니? 아.응. 매일 그렇게 공부하면서 왜 자꾸 꼴등해? 그러게 ....</td>\n",
              "    </tr>\n",
              "    <tr>\n",
              "      <th>t_357</th>\n",
              "      <td>야 너 머리가 커서 멸치같다 뭐라구? 멸치같다고 어떻게 그런말을해 아니왜? 멸치가 ...</td>\n",
              "    </tr>\n",
              "    <tr>\n",
              "      <th>t_358</th>\n",
              "      <td>여보세요 ? 어이. 전화번호를 바꾸면 내가 못 찾을 줄 알았나 ? 선.선생님 ! 그...</td>\n",
              "    </tr>\n",
              "    <tr>\n",
              "      <th>t_360</th>\n",
              "      <td>지우개 가루 그만 좀 던져. 안던졌는데? 뭐가? 우리가 뭘. 너네가 하는거 맞잖아....</td>\n",
              "    </tr>\n",
              "    <tr>\n",
              "      <th>t_361</th>\n",
              "      <td>아 체육 하기 싫은데 난 체육시간이 제일 싫어. 그거 알아? 우리 학교 몇 년 전에...</td>\n",
              "    </tr>\n",
              "    <tr>\n",
              "      <th>t_362</th>\n",
              "      <td>그래 우리 사랑하는 후배야 예? 형이 지금 잠깐 일이 있는데 10만원만 좀 줘봐라 ...</td>\n",
              "    </tr>\n",
              "    <tr>\n",
              "      <th>t_363</th>\n",
              "      <td>야너돈있냐 없어 그래?있으면 어쩔래 없다니까 뒤져서 나오면 10원 당 한대다? 네가...</td>\n",
              "    </tr>\n",
              "    <tr>\n",
              "      <th>t_364</th>\n",
              "      <td>씨 이거좀 부탁해요 네 대리님 씨 이거도 오늘 퇴근 전까지 부탁해요 대리님 오늘은 ...</td>\n",
              "    </tr>\n",
              "    <tr>\n",
              "      <th>t_366</th>\n",
              "      <td>이만원에 꽃게 6마리 주쇼 네??? 이만원에요? 이만원이면 3마리가 다에요 어허 내...</td>\n",
              "    </tr>\n",
              "    <tr>\n",
              "      <th>t_367</th>\n",
              "      <td>이런식으로 밖에 일처리를 못하나? 네? 혹시 무슨 일로? 어제 제출한 서류를 이딴식...</td>\n",
              "    </tr>\n",
              "    <tr>\n",
              "      <th>t_368</th>\n",
              "      <td>안녕하세요. 위층에 사는 사람인데요.  네 무슨일이시죠?  계속 이상한 냄새가 올라...</td>\n",
              "    </tr>\n",
              "    <tr>\n",
              "      <th>t_369</th>\n",
              "      <td>야 너 이거 내꺼 아니야? 어?.이거 니가 나 가지라고 줬잖아. 무슨 소리야. 너 ...</td>\n",
              "    </tr>\n",
              "    <tr>\n",
              "      <th>t_370</th>\n",
              "      <td>야 이번달 거수했냐? 죄송합니다. 야 일 안했냐??? 그게 니가 일을 똑바로 안하니...</td>\n",
              "    </tr>\n",
              "    <tr>\n",
              "      <th>t_371</th>\n",
              "      <td>야 프론트엔드 개발자들 자네들 미쳤냐 어! 죄송하지만 야 백엔드 작업자들은 작업량이...</td>\n",
              "    </tr>\n",
              "    <tr>\n",
              "      <th>t_372</th>\n",
              "      <td>너 여기 왜왔어? 빨리 가. 안돼 같이가자. 빨리 가자. 앞으로 10분 안에 여기서...</td>\n",
              "    </tr>\n",
              "    <tr>\n",
              "      <th>t_373</th>\n",
              "      <td>팀장님 저 수요일에 연차 좀 써도 될까요? 뭐? 왜? 아 할아버지가 편찮으셔서 병문...</td>\n",
              "    </tr>\n",
              "    <tr>\n",
              "      <th>t_374</th>\n",
              "      <td>미안하게도 이번 사업에서 최과장은 선택권이 없다네. 네? 갑자기 무슨말씀이십니까 부...</td>\n",
              "    </tr>\n",
              "    <tr>\n",
              "      <th>t_375</th>\n",
              "      <td>저기요 제가 파워블로거에 맘카페까지 활동하고 있어요.  아.네. 멋지시네요!!!! ...</td>\n",
              "    </tr>\n",
              "    <tr>\n",
              "      <th>t_376</th>\n",
              "      <td>너네 집 돈 많더라  돈? 갑자기?  잘 사는것 같던데? 오 시계 좋다  야야.왜 ...</td>\n",
              "    </tr>\n",
              "    <tr>\n",
              "      <th>t_377</th>\n",
              "      <td>야. 야. 어딨는데.  어. 화장실에.  그럼 내가 얘기한 거 다했어.  아직 그걸...</td>\n",
              "    </tr>\n",
              "    <tr>\n",
              "      <th>t_378</th>\n",
              "      <td>야 거기 네? 언니가 오늘 빠마해야되는데 돈이없거던? 네? 아이 씨 귓구멍 막혔냐?...</td>\n",
              "    </tr>\n",
              "    <tr>\n",
              "      <th>t_379</th>\n",
              "      <td>야 임마 돈을 빨리 갚아야 될것 아니야 죄송합니다. 갑자기 돈이 필요하신 줄은 몰랐...</td>\n",
              "    </tr>\n",
              "    <tr>\n",
              "      <th>t_380</th>\n",
              "      <td>박사원. 잠깐 나 좀 보게. 네. 최과장님. 무슨 일이시죠? 박사원. 사원이면 사원...</td>\n",
              "    </tr>\n",
              "    <tr>\n",
              "      <th>t_381</th>\n",
              "      <td>인스타에 내사진 당장 내려  왜  왜 얼굴 나온사진을 내동의없이올려?  내마음이지 ...</td>\n",
              "    </tr>\n",
              "    <tr>\n",
              "      <th>t_382</th>\n",
              "      <td>최대리 지금 휴가를 쓰겠다 이건가? 네 사장님. 저희 아버지가 몸이 많이 안 좋으셔...</td>\n",
              "    </tr>\n",
              "    <tr>\n",
              "      <th>t_383</th>\n",
              "      <td>야 아이디어가 없으면 성의라도 보여야 할 거 아니야. 이게 보고서냐? 낙서 공책이지...</td>\n",
              "    </tr>\n",
              "    <tr>\n",
              "      <th>t_384</th>\n",
              "      <td>야 얘봐봐 존나못생기지 않았냐? 그러지마. 미친년이 어디서 말대꾸야  나 이제 가도...</td>\n",
              "    </tr>\n",
              "    <tr>\n",
              "      <th>t_385</th>\n",
              "      <td>어우 우리 합석할까 동생들? 누구세요? 아니 형아들은 저기 앉아있던 사람들이야 네 ...</td>\n",
              "    </tr>\n",
              "    <tr>\n",
              "      <th>t_387</th>\n",
              "      <td>네 딸은 내가 납치했다 지금 제 딸 어디에 있나요 나만 아는 곳에 잘 있지  우리 ...</td>\n",
              "    </tr>\n",
              "    <tr>\n",
              "      <th>t_388</th>\n",
              "      <td>이번 경기는 3라운드에서 포기해 안됩니다 그건 이번에 꼭우승해서 딸에게 우승하는 모...</td>\n",
              "    </tr>\n",
              "    <tr>\n",
              "      <th>t_389</th>\n",
              "      <td>담배 한갑줘  손님 죄송하지만 마스크 착용 부탁드립니다  나 없는데 마스크  그럼 ...</td>\n",
              "    </tr>\n",
              "    <tr>\n",
              "      <th>t_390</th>\n",
              "      <td>야 돈내놔 없어 10원당 한대 맞고싶냐? 진짜 없단말이야 가져오라면 가져와 흑흑 나...</td>\n",
              "    </tr>\n",
              "    <tr>\n",
              "      <th>t_391</th>\n",
              "      <td>왜자꾸 승질 건드려 아닌데 맞는데 아니거든 지금도 건드리거든 죽는다 진짜 왜 시비야...</td>\n",
              "    </tr>\n",
              "    <tr>\n",
              "      <th>t_392</th>\n",
              "      <td>안녕 여기서 뭐해? 전화하려고요. 아 그래? 마침 잘됐네! 네?  마침나도 전화할 ...</td>\n",
              "    </tr>\n",
              "    <tr>\n",
              "      <th>t_393</th>\n",
              "      <td>국희씨 네? 이번주말에 뭐해? 애들이랑 키즈카페 가기러했어요 어 사실 나도 아까 점...</td>\n",
              "    </tr>\n",
              "    <tr>\n",
              "      <th>t_394</th>\n",
              "      <td>얘 안녕  누구세여?  잠깐 이쪽으로 와볼래?  왜요?  너 돈 있어?  돈 없어요...</td>\n",
              "    </tr>\n",
              "    <tr>\n",
              "      <th>t_395</th>\n",
              "      <td>야!! 일병 안반우 형이 너 사랑하는 거 알지? 모.모르겠습니다. 아이.왜 몰라. ...</td>\n",
              "    </tr>\n",
              "    <tr>\n",
              "      <th>t_396</th>\n",
              "      <td>내가 먼저 앉았어! 무슨소리야 내가 먼저 봤다고! 아니 이 영감탱이가 지도영감탱이면...</td>\n",
              "    </tr>\n",
              "    <tr>\n",
              "      <th>t_398</th>\n",
              "      <td>미나야 왜? 저번에 핸드폰 사주기로한거 말야 응 왜? 그냥 돈으로 줘라. 어차피 똑...</td>\n",
              "    </tr>\n",
              "    <tr>\n",
              "      <th>t_399</th>\n",
              "      <td>야 걔랑 놀지마. 왜? 걔랑 싸웠어? 응. 그래서 니가 걔랑 안놀고 나랑만 둘이 놀...</td>\n",
              "    </tr>\n",
              "    <tr>\n",
              "      <th>t_400</th>\n",
              "      <td>아 좆같은년 지나간다 저기. 나 좀 지나갈게 어 가 누가 뭐래? 길좀. 비켜줘  가...</td>\n",
              "    </tr>\n",
              "    <tr>\n",
              "      <th>t_401</th>\n",
              "      <td>손이 왜그러세요? 아 조금 다쳤어요  아 그러시구나 우리애가 놀래서요 안보이게 주머...</td>\n",
              "    </tr>\n",
              "    <tr>\n",
              "      <th>t_402</th>\n",
              "      <td>한대리 뭐해? 네 저번에 지시하신거 마무리하고 있습니다 어머 그래? 잘했어. 그런데...</td>\n",
              "    </tr>\n",
              "    <tr>\n",
              "      <th>t_403</th>\n",
              "      <td>이봐 김실장 네? 일 똑바로 안해? 죄송함다. 니가 이러고도 사람새끼야? 죄송함다....</td>\n",
              "    </tr>\n",
              "    <tr>\n",
              "      <th>t_405</th>\n",
              "      <td>야 오늘 학교끝나고 옥상으로 와라.  왜.?  왜긴 왜야 내가 기분이 안좋으니까 너...</td>\n",
              "    </tr>\n",
              "    <tr>\n",
              "      <th>t_406</th>\n",
              "      <td>서선생!!! 끝나고 내방으로 와!!! 아.네 알겠습니다 와 교감 또그러네. 교감선생...</td>\n",
              "    </tr>\n",
              "    <tr>\n",
              "      <th>t_408</th>\n",
              "      <td>어이 소영씨. 이번 주말에 시간 좀 내지?  아 부장님. 어떤 일 때문에 그러시죠....</td>\n",
              "    </tr>\n",
              "    <tr>\n",
              "      <th>t_409</th>\n",
              "      <td>어이아저씨 우리한테 담배좀사다줘 헉 학생들 이건 나쁜짓이야 담배는 너네들이 직접사야...</td>\n",
              "    </tr>\n",
              "    <tr>\n",
              "      <th>t_410</th>\n",
              "      <td>야 너 일로와봐 저요? 그럼 너지 다른사람이겠니 왜요 너 왜 저번에 나 씹고 그냥갔...</td>\n",
              "    </tr>\n",
              "    <tr>\n",
              "      <th>t_411</th>\n",
              "      <td>아니 나 오늘 동문회 다녀 왔잖아. 근데 미선이는 아직까지도 젊고 예쁘더라. 남 여...</td>\n",
              "    </tr>\n",
              "    <tr>\n",
              "      <th>t_412</th>\n",
              "      <td>니가 애들한테 내 뒷담까고 다녔다면서? 무슨 소리야? 난 그런적 없는데. 어디서 거...</td>\n",
              "    </tr>\n",
              "    <tr>\n",
              "      <th>t_413</th>\n",
              "      <td>가은씨 이리와봐요 네 부장님 가은씨 남자친구 있어요? 네? 없습니다 . 남자 만날 ...</td>\n",
              "    </tr>\n",
              "    <tr>\n",
              "      <th>t_416</th>\n",
              "      <td>네까짓게 글을 쓴다고? 엄마 나도 내가 하고 싶은 일을 한 번쯤은 해 보고 싶어요....</td>\n",
              "    </tr>\n",
              "    <tr>\n",
              "      <th>t_418</th>\n",
              "      <td>거기학생? 네 저요? 뭐좀 물어볼께요 네 어떤거요? 가진거 다 내놔 앗. 안되요 죽...</td>\n",
              "    </tr>\n",
              "    <tr>\n",
              "      <th>t_419</th>\n",
              "      <td>니가 나랑 사귄다고 소문냈어?  웅웅 우리 만나는거 맞잖아  내가 비밀로 하자고했잖...</td>\n",
              "    </tr>\n",
              "    <tr>\n",
              "      <th>t_420</th>\n",
              "      <td>너 이번 국어 시험에서 저 친구 답지 배겼지? 아.아니? 거짓말 하지마 내가 다봤어...</td>\n",
              "    </tr>\n",
              "    <tr>\n",
              "      <th>t_421</th>\n",
              "      <td>누. 누구세요.? 너 서울대학교 붙었지 아 네 그걸 어떻게. 제발 살려주세요 왜그러...</td>\n",
              "    </tr>\n",
              "    <tr>\n",
              "      <th>t_422</th>\n",
              "      <td>야이 새끼야 내말 들을거야 말거야? 하지만 너무 위험한 일인것같아서 세상에 쉬운일이...</td>\n",
              "    </tr>\n",
              "    <tr>\n",
              "      <th>t_423</th>\n",
              "      <td>야야 너 어제 쟤 발표하는거 봤냐?  응? 왜 어땠길래  발표하다가 질질 짰잖아  ...</td>\n",
              "    </tr>\n",
              "    <tr>\n",
              "      <th>t_424</th>\n",
              "      <td>야 너 그만 좀 먹어 왜 맛있는데 내가 먹는게 싫어? 아니 먹는건 상관없는데 너 몸...</td>\n",
              "    </tr>\n",
              "    <tr>\n",
              "      <th>t_425</th>\n",
              "      <td>야 돈 가져왔어? 미안. 이번에는 진짜 못 가져와. 죽고싶어? 내가 돈 가져오라고 ...</td>\n",
              "    </tr>\n",
              "    <tr>\n",
              "      <th>t_426</th>\n",
              "      <td>현아 잘지내지? 응 잘지내. 오랜만에 연락햇네 친구야 부탁좀하자 뭔데? 큰애가 사고...</td>\n",
              "    </tr>\n",
              "    <tr>\n",
              "      <th>t_428</th>\n",
              "      <td>씨 잠깐만 와봐요 부르셨습니까 부장님 아니 지금 일을 어떻게 처리한거에요? 예? 무...</td>\n",
              "    </tr>\n",
              "    <tr>\n",
              "      <th>t_429</th>\n",
              "      <td>어떻게 나를 두고 바람을 필 수 있어? 사람이야? 남들 다 피는 거 뭘 그래. 이혼...</td>\n",
              "    </tr>\n",
              "    <tr>\n",
              "      <th>t_430</th>\n",
              "      <td>오늘 전학 온 철수라는 애 엄마 없대. 풉 진짜?  응. 따돌리기 딱이지 않냐. 완...</td>\n",
              "    </tr>\n",
              "    <tr>\n",
              "      <th>t_432</th>\n",
              "      <td>나 좀 도와줘 내가 급해서 그런데 3000만원만 빌려줘 갑자기? 그건 좀 어려운데 ...</td>\n",
              "    </tr>\n",
              "    <tr>\n",
              "      <th>t_433</th>\n",
              "      <td>여보세요. 한성전자 센터장 씨 맞으시죠. 누구세요? 지금 당신 차시트 밑에는 폭탄이...</td>\n",
              "    </tr>\n",
              "    <tr>\n",
              "      <th>t_436</th>\n",
              "      <td>갑자기 끼어드시면 어떻게해요 그쪽이 먼저 들어오셨자나요 무슨 소리예요.그쪽에서 들어...</td>\n",
              "    </tr>\n",
              "    <tr>\n",
              "      <th>t_439</th>\n",
              "      <td>팀장님 저 2주 후에 휴가 좀 쓸 수 있을까요?  무슨 일 인데?  그 날 아버지 ...</td>\n",
              "    </tr>\n",
              "    <tr>\n",
              "      <th>t_440</th>\n",
              "      <td>너 엄마 없냐? 가정교육 왜 그따구야? 진짜 너 엄마 없지? 불쌍하다 진짜. 무슨 ...</td>\n",
              "    </tr>\n",
              "    <tr>\n",
              "      <th>t_441</th>\n",
              "      <td>미안합니다. 지금 우리 딸을 살려야 해요.  그래도 이건.!  죽지 않을 만큼만 뽑...</td>\n",
              "    </tr>\n",
              "    <tr>\n",
              "      <th>t_442</th>\n",
              "      <td>이대리 당신은 이것밖에 못하나?  죄송합니다. 그러니까 당신이 43인데도 대리인거야...</td>\n",
              "    </tr>\n",
              "    <tr>\n",
              "      <th>t_443</th>\n",
              "      <td>내가 여기 12년 다닌 것도 아니고 자그마치 10년을 다녔어!!! 고객님 그래도 다...</td>\n",
              "    </tr>\n",
              "    <tr>\n",
              "      <th>t_445</th>\n",
              "      <td>서류를 이따위로 작성해 죄송합니다 이따위로 쓸 거면 회사 그만둬 민폐야 어디를 고쳐...</td>\n",
              "    </tr>\n",
              "    <tr>\n",
              "      <th>t_446</th>\n",
              "      <td>난 네 비밀을 알고있어  뭐라고?  가 죽은 그날 같이있었던거 알아  같이 있긴했지...</td>\n",
              "    </tr>\n",
              "    <tr>\n",
              "      <th>t_447</th>\n",
              "      <td>김인턴 이리 와보게 네 과장님 내가 자네를 왜 불렀는지 알겠나? 잘 모르겠습니다 왜...</td>\n",
              "    </tr>\n",
              "    <tr>\n",
              "      <th>t_448</th>\n",
              "      <td>여보세요 네 부장님 어 지금 안 바쁘지? 네 용무 있으세요? 어 아니 집에 애가 혼...</td>\n",
              "    </tr>\n",
              "    <tr>\n",
              "      <th>t_450</th>\n",
              "      <td>같이 게임하게 몇 번 방으로 들어와 나 오늘은 학원 가야 돼서 못 들어 갈 것 같아...</td>\n",
              "    </tr>\n",
              "    <tr>\n",
              "      <th>t_451</th>\n",
              "      <td>마스크좀 써주세요. 네? 여기는 사람들 통행이 많고 공공장소니까 마스크좀 써달라구요...</td>\n",
              "    </tr>\n",
              "    <tr>\n",
              "      <th>t_452</th>\n",
              "      <td>이사원은 조금 있다가 시간 좀 내게. 맡기실 업무가 있으신가요? 내가 조금 있다가 ...</td>\n",
              "    </tr>\n",
              "    <tr>\n",
              "      <th>t_453</th>\n",
              "      <td>어? 누가 못난 새끼지? 엥? 누가 못난 새끼일까? 설마 머리 큰 다현이는 아니겠지...</td>\n",
              "    </tr>\n",
              "    <tr>\n",
              "      <th>t_455</th>\n",
              "      <td>어이 형씨 네? 내가 담배가 똑 떨어졌는데 있으면 하나 줘봐 저도 이게 돛대인데요 ...</td>\n",
              "    </tr>\n",
              "    <tr>\n",
              "      <th>t_456</th>\n",
              "      <td>김사원 주말에 일 없지? 약속 있나?  아 네! 팀장님. 이번 주말에 여자친구 만나...</td>\n",
              "    </tr>\n",
              "    <tr>\n",
              "      <th>t_457</th>\n",
              "      <td>김쌤! 나좀봐 네? 도데체 오늘 키즈노트에 어떻게 썼가니 태화어머니가 난리셔? 아 ...</td>\n",
              "    </tr>\n",
              "    <tr>\n",
              "      <th>t_458</th>\n",
              "      <td>언니 내 지갑에 있던 5만원 혹시 언니가 가져갔어.? 어. 왜? 나 오늘 친구들이랑...</td>\n",
              "    </tr>\n",
              "    <tr>\n",
              "      <th>t_459</th>\n",
              "      <td>길동님 어머니 되시나요 ? 누구시죠 ? 여기는 길동병원입니다 지금 길동님께서 교통사...</td>\n",
              "    </tr>\n",
              "    <tr>\n",
              "      <th>t_461</th>\n",
              "      <td>내일 모레까지 천만원 더 준비해주세요 네? 이번달은 이미 원하시는 금액 다 맞춰드렸...</td>\n",
              "    </tr>\n",
              "    <tr>\n",
              "      <th>t_462</th>\n",
              "      <td>자네 그 사실을 자네말고 누가 알고 있나? 네? 저밖에 모릅니다 부장님 정말인가? ...</td>\n",
              "    </tr>\n",
              "    <tr>\n",
              "      <th>t_463</th>\n",
              "      <td>안녕하세요 씨 공부 잘 한다면서요 성적이 우수하다면 서요 네 아닌데요 맞다고 들었는...</td>\n",
              "    </tr>\n",
              "    <tr>\n",
              "      <th>t_464</th>\n",
              "      <td>희주씨 네???  아침에 좀 일찍 오지  네? 지금도 20분전에오는데요 아니 좀 일...</td>\n",
              "    </tr>\n",
              "    <tr>\n",
              "      <th>t_465</th>\n",
              "      <td>야. 보이냐? 개멋있지. 오백만원짜리 시계야. 응. 한번 만져나볼래? 아. 넌 본적...</td>\n",
              "    </tr>\n",
              "    <tr>\n",
              "      <th>t_466</th>\n",
              "      <td>민정아 안녕 ? 어? 어 안녕 너는 역시 아침부터 공부하고 있구나. 대단해 곧 수업...</td>\n",
              "    </tr>\n",
              "    <tr>\n",
              "      <th>t_467</th>\n",
              "      <td>우리 씨는 얼굴도 예쁜데 몸매도 예쁘네 씨는 좀 보고 배워야겠다 아유 과장님 전 마...</td>\n",
              "    </tr>\n",
              "    <tr>\n",
              "      <th>t_469</th>\n",
              "      <td>너가 어떡하면 나한테 이럴 수 있니? 내가 뭘 어쨌는데 도와준거 뿐이라고 도와줬다니...</td>\n",
              "    </tr>\n",
              "    <tr>\n",
              "      <th>t_470</th>\n",
              "      <td>인재씨 무슨 보고서를 이따위로 씁니까 그게 무슨 말씀이세요 차장님 줄간격폰트 다 엉...</td>\n",
              "    </tr>\n",
              "    <tr>\n",
              "      <th>t_471</th>\n",
              "      <td>와 이거 뭐야?  새로 산 틴트  이거 비싼거 아니야?  응 백화점에서 산거야  나...</td>\n",
              "    </tr>\n",
              "    <tr>\n",
              "      <th>t_472</th>\n",
              "      <td>제가 뭘 그렇게 잘못했죠? 일이던 뭐던 잘하는 게 뭐가 있다고 그래? 뭘 그렇게 잘...</td>\n",
              "    </tr>\n",
              "    <tr>\n",
              "      <th>t_474</th>\n",
              "      <td>영희씨 한번만 만나주세요. 저 괜찮은놈입니다 수환씨 자꾸 따라다니지 마세요 영희씨가...</td>\n",
              "    </tr>\n",
              "    <tr>\n",
              "      <th>t_475</th>\n",
              "      <td>야 박사원 너 이번 주말에 내 차 세차 좀 해라 부장님 이번 주말에 제가 약속이 있...</td>\n",
              "    </tr>\n",
              "    <tr>\n",
              "      <th>t_476</th>\n",
              "      <td>안녕?? 오랜만이다 그치? 나 기억나?  아 너 고등학교때. 맞지?  아!! 맞아 ...</td>\n",
              "    </tr>\n",
              "    <tr>\n",
              "      <th>t_479</th>\n",
              "      <td>교수님 부르셨어요?  어 왔나?  무슨 일이세요?  내일 총장님이랑 김의원님이랑 식...</td>\n",
              "    </tr>\n",
              "    <tr>\n",
              "      <th>t_481</th>\n",
              "      <td>아 냄새 야 여기 어디서 하수구 냄새 안 나 ? 아우 뭐야 이 냄새? 아 얘 냄새인...</td>\n",
              "    </tr>\n",
              "    <tr>\n",
              "      <th>t_482</th>\n",
              "      <td>아가씨 이쁜데 왜 이러세요 우리랑 좀 놀까? 싫어요. 그럼 돈 좀 빌려주던가 얼마나...</td>\n",
              "    </tr>\n",
              "    <tr>\n",
              "      <th>t_483</th>\n",
              "      <td>이거 왜 이렇게 놔! 똑바로 놓으라고 했지? 아침부터 왜 그러냐. 아니 수저통 똑바...</td>\n",
              "    </tr>\n",
              "    <tr>\n",
              "      <th>t_484</th>\n",
              "      <td>오빠 나 카드값이 밀렸어 저번이 마지막이랬자나 이번에 내가 코로나로 일도 쉬구 힘들...</td>\n",
              "    </tr>\n",
              "    <tr>\n",
              "      <th>t_485</th>\n",
              "      <td>원투 원투 야 똑바로 서 으 으윽 그만해 아이씨 서 있어봐 좀 아프다고! 어디서 소...</td>\n",
              "    </tr>\n",
              "    <tr>\n",
              "      <th>t_489</th>\n",
              "      <td>너 어제 집에 바로 안 들어갔지? 어떻게 알았어? 내가 눈이 좋아 왜 묻는건데? 너...</td>\n",
              "    </tr>\n",
              "    <tr>\n",
              "      <th>t_490</th>\n",
              "      <td>철수야 말 들어야지 싫은데 철밥통 선생아 너 선생님한테 말버릇이 뭐야 야 내가 너말...</td>\n",
              "    </tr>\n",
              "    <tr>\n",
              "      <th>t_492</th>\n",
              "      <td>동생이쁘다. 나주라 안돼 우리동생건들지마. 왜 안되냐? 좀 달라고 니 목숨값으로 동...</td>\n",
              "    </tr>\n",
              "    <tr>\n",
              "      <th>t_493</th>\n",
              "      <td>혹시 나 오늘 2만원만 빌려주만 안돼? 응? 안돼. 나도 요즘 맨날 택시타느라 택시...</td>\n",
              "    </tr>\n",
              "    <tr>\n",
              "      <th>t_494</th>\n",
              "      <td>이봐 네? 누구세요? 입다물고 가진거 다내놔 경찰에 신고할거에요 할 수 있으면 해봐...</td>\n",
              "    </tr>\n",
              "    <tr>\n",
              "      <th>t_495</th>\n",
              "      <td>미나씨 휴가 결제 올리기 전에 저랑 상의하라고 말한거 기억해요? 네 합니다. 보고서...</td>\n",
              "    </tr>\n",
              "    <tr>\n",
              "      <th>t_496</th>\n",
              "      <td>교수님 제 논문에 제 이름이 없나요?  아 무슨 논문말이야?  지난 번 냈던 논문이...</td>\n",
              "    </tr>\n",
              "    <tr>\n",
              "      <th>t_497</th>\n",
              "      <td>야 너  네 저요? 그래 너 왜요 돈좀 줘봐  돈 없어요 돈이 왜 없어 지갑은 폼이...</td>\n",
              "    </tr>\n",
              "    <tr>\n",
              "      <th>t_498</th>\n",
              "      <td>야 너 빨리 안 뛰어와? 너 이 환자 제대로 봤어 안 봤어 어제 저녁부터 계속 보다...</td>\n",
              "    </tr>\n",
              "    <tr>\n",
              "      <th>t_499</th>\n",
              "      <td>엄마 저 그 돈 안해주시면 정말 큰일나요.  이유도 말하지 않고. 몇번째니 경민아....</td>\n",
              "    </tr>\n",
              "  </tbody>\n",
              "</table>\n",
              "</div>\n",
              "    <div class=\"colab-df-buttons\">\n",
              "\n",
              "  <div class=\"colab-df-container\">\n",
              "    <button class=\"colab-df-convert\" onclick=\"convertToInteractive('df-203f1343-480d-4ef9-ba88-31003e355911')\"\n",
              "            title=\"Convert this dataframe to an interactive table.\"\n",
              "            style=\"display:none;\">\n",
              "\n",
              "  <svg xmlns=\"http://www.w3.org/2000/svg\" height=\"24px\" viewBox=\"0 -960 960 960\">\n",
              "    <path d=\"M120-120v-720h720v720H120Zm60-500h600v-160H180v160Zm220 220h160v-160H400v160Zm0 220h160v-160H400v160ZM180-400h160v-160H180v160Zm440 0h160v-160H620v160ZM180-180h160v-160H180v160Zm440 0h160v-160H620v160Z\"/>\n",
              "  </svg>\n",
              "    </button>\n",
              "\n",
              "  <style>\n",
              "    .colab-df-container {\n",
              "      display:flex;\n",
              "      gap: 12px;\n",
              "    }\n",
              "\n",
              "    .colab-df-convert {\n",
              "      background-color: #E8F0FE;\n",
              "      border: none;\n",
              "      border-radius: 50%;\n",
              "      cursor: pointer;\n",
              "      display: none;\n",
              "      fill: #1967D2;\n",
              "      height: 32px;\n",
              "      padding: 0 0 0 0;\n",
              "      width: 32px;\n",
              "    }\n",
              "\n",
              "    .colab-df-convert:hover {\n",
              "      background-color: #E2EBFA;\n",
              "      box-shadow: 0px 1px 2px rgba(60, 64, 67, 0.3), 0px 1px 3px 1px rgba(60, 64, 67, 0.15);\n",
              "      fill: #174EA6;\n",
              "    }\n",
              "\n",
              "    .colab-df-buttons div {\n",
              "      margin-bottom: 4px;\n",
              "    }\n",
              "\n",
              "    [theme=dark] .colab-df-convert {\n",
              "      background-color: #3B4455;\n",
              "      fill: #D2E3FC;\n",
              "    }\n",
              "\n",
              "    [theme=dark] .colab-df-convert:hover {\n",
              "      background-color: #434B5C;\n",
              "      box-shadow: 0px 1px 3px 1px rgba(0, 0, 0, 0.15);\n",
              "      filter: drop-shadow(0px 1px 2px rgba(0, 0, 0, 0.3));\n",
              "      fill: #FFFFFF;\n",
              "    }\n",
              "  </style>\n",
              "\n",
              "    <script>\n",
              "      const buttonEl =\n",
              "        document.querySelector('#df-203f1343-480d-4ef9-ba88-31003e355911 button.colab-df-convert');\n",
              "      buttonEl.style.display =\n",
              "        google.colab.kernel.accessAllowed ? 'block' : 'none';\n",
              "\n",
              "      async function convertToInteractive(key) {\n",
              "        const element = document.querySelector('#df-203f1343-480d-4ef9-ba88-31003e355911');\n",
              "        const dataTable =\n",
              "          await google.colab.kernel.invokeFunction('convertToInteractive',\n",
              "                                                    [key], {});\n",
              "        if (!dataTable) return;\n",
              "\n",
              "        const docLinkHtml = 'Like what you see? Visit the ' +\n",
              "          '<a target=\"_blank\" href=https://colab.research.google.com/notebooks/data_table.ipynb>data table notebook</a>'\n",
              "          + ' to learn more about interactive tables.';\n",
              "        element.innerHTML = '';\n",
              "        dataTable['output_type'] = 'display_data';\n",
              "        await google.colab.output.renderOutput(dataTable, element);\n",
              "        const docLink = document.createElement('div');\n",
              "        docLink.innerHTML = docLinkHtml;\n",
              "        element.appendChild(docLink);\n",
              "      }\n",
              "    </script>\n",
              "  </div>\n",
              "\n",
              "\n",
              "<div id=\"df-5853a297-2469-491d-adab-d09faaa595f4\">\n",
              "  <button class=\"colab-df-quickchart\" onclick=\"quickchart('df-5853a297-2469-491d-adab-d09faaa595f4')\"\n",
              "            title=\"Suggest charts.\"\n",
              "            style=\"display:none;\">\n",
              "\n",
              "<svg xmlns=\"http://www.w3.org/2000/svg\" height=\"24px\"viewBox=\"0 0 24 24\"\n",
              "     width=\"24px\">\n",
              "    <g>\n",
              "        <path d=\"M19 3H5c-1.1 0-2 .9-2 2v14c0 1.1.9 2 2 2h14c1.1 0 2-.9 2-2V5c0-1.1-.9-2-2-2zM9 17H7v-7h2v7zm4 0h-2V7h2v10zm4 0h-2v-4h2v4z\"/>\n",
              "    </g>\n",
              "</svg>\n",
              "  </button>\n",
              "\n",
              "<style>\n",
              "  .colab-df-quickchart {\n",
              "    background-color: #E8F0FE;\n",
              "    border: none;\n",
              "    border-radius: 50%;\n",
              "    cursor: pointer;\n",
              "    display: none;\n",
              "    fill: #1967D2;\n",
              "    height: 32px;\n",
              "    padding: 0 0 0 0;\n",
              "    width: 32px;\n",
              "  }\n",
              "\n",
              "  .colab-df-quickchart:hover {\n",
              "    background-color: #E2EBFA;\n",
              "    box-shadow: 0px 1px 2px rgba(60, 64, 67, 0.3), 0px 1px 3px 1px rgba(60, 64, 67, 0.15);\n",
              "    fill: #174EA6;\n",
              "  }\n",
              "\n",
              "  [theme=dark] .colab-df-quickchart {\n",
              "    background-color: #3B4455;\n",
              "    fill: #D2E3FC;\n",
              "  }\n",
              "\n",
              "  [theme=dark] .colab-df-quickchart:hover {\n",
              "    background-color: #434B5C;\n",
              "    box-shadow: 0px 1px 3px 1px rgba(0, 0, 0, 0.15);\n",
              "    filter: drop-shadow(0px 1px 2px rgba(0, 0, 0, 0.3));\n",
              "    fill: #FFFFFF;\n",
              "  }\n",
              "</style>\n",
              "\n",
              "  <script>\n",
              "    async function quickchart(key) {\n",
              "      const charts = await google.colab.kernel.invokeFunction(\n",
              "          'suggestCharts', [key], {});\n",
              "    }\n",
              "    (() => {\n",
              "      let quickchartButtonEl =\n",
              "        document.querySelector('#df-5853a297-2469-491d-adab-d09faaa595f4 button');\n",
              "      quickchartButtonEl.style.display =\n",
              "        google.colab.kernel.accessAllowed ? 'block' : 'none';\n",
              "    })();\n",
              "  </script>\n",
              "</div>\n",
              "    </div>\n",
              "  </div>\n"
            ]
          },
          "metadata": {},
          "execution_count": 131
        }
      ],
      "source": [
        "import pandas as pd\n",
        "\n",
        "# JSON 파일을 dataframe으로 로드\n",
        "df = pd.read_json('/content/drive/MyDrive/Colab/05_Colab_AIFFEL_2023/10_Main_Quest_03/data/test.json')\n",
        "df_flipped = df.transpose()\n",
        "\n",
        "# 처음 5행 출력\n",
        "df_flipped.head()\n",
        "\n",
        "pd.set_option('display.max_rows', 500)\n",
        "df_flipped"
      ]
    },
    {
      "cell_type": "markdown",
      "id": "522b9c5b",
      "metadata": {
        "id": "522b9c5b"
      },
      "source": [
        "<br>"
      ]
    },
    {
      "cell_type": "code",
      "execution_count": null,
      "id": "3e2d0c16",
      "metadata": {
        "id": "3e2d0c16"
      },
      "outputs": [],
      "source": [
        "# test.json 파일의 각 test data 예측하기"
      ]
    },
    {
      "cell_type": "code",
      "execution_count": null,
      "id": "46c37875",
      "metadata": {
        "id": "46c37875"
      },
      "outputs": [],
      "source": [
        "def get_predicted_class(new_sentence):\n",
        "    input_id = tokenizer.encode(new_sentence,\n",
        "                                max_length=max_seq_len,\n",
        "                                pad_to_max_length=True)\n",
        "    padding_count = input_id.count(tokenizer.pad_token_id)\n",
        "    attention_mask = [1] * (max_seq_len - padding_count) + [0] * padding_count\n",
        "    token_type_id = [0] * max_seq_len\n",
        "\n",
        "    input_ids = np.array([input_id])\n",
        "    attention_masks = np.array([attention_mask])\n",
        "    token_type_ids = np.array([token_type_id])\n",
        "\n",
        "    encoded_input = [input_ids, attention_masks, token_type_ids]\n",
        "    score = model.predict(encoded_input)[0]\n",
        "\n",
        "    class_names = ['협박 대화', '갈취 대화', '직장 내 괴롭힘 대화', '기타 괴롭힘 대화']\n",
        "    predicted_class = class_names[np.argmax(score)]\n",
        "\n",
        "    return predicted_class"
      ]
    },
    {
      "cell_type": "code",
      "execution_count": null,
      "id": "0a749a37",
      "metadata": {
        "id": "0a749a37"
      },
      "outputs": [],
      "source": [
        "# 예측된 클래스 값에 따른 매핑 생성\n",
        "class_mapping = {\n",
        "    '협박 대화': '00',\n",
        "    '갈취 대화': '01',\n",
        "    '직장 내 괴롭힘 대화': '02',\n",
        "    '기타 괴롭힘 대화': '03'\n",
        "}"
      ]
    },
    {
      "cell_type": "code",
      "execution_count": null,
      "id": "b9cea8b7",
      "metadata": {
        "colab": {
          "base_uri": "https://localhost:8080/"
        },
        "id": "b9cea8b7",
        "outputId": "83cbefb6-856f-4581-9349-eecbf93ef7e4"
      },
      "outputs": [
        {
          "output_type": "stream",
          "name": "stdout",
          "text": [
            "1/1 [==============================] - 0s 70ms/step\n"
          ]
        },
        {
          "output_type": "stream",
          "name": "stderr",
          "text": [
            "/usr/local/lib/python3.10/dist-packages/transformers/tokenization_utils_base.py:2418: FutureWarning: The `pad_to_max_length` argument is deprecated and will be removed in a future version, use `padding=True` or `padding='longest'` to pad to the longest sequence in the batch, or use `padding='max_length'` to pad to a max length. In this case, you can give a specific length with `max_length` (e.g. `max_length=45`) or leave max_length to None to pad to the maximal input size of the model (e.g. 512 for Bert).\n",
            "  warnings.warn(\n"
          ]
        },
        {
          "output_type": "stream",
          "name": "stdout",
          "text": [
            "1/1 [==============================] - 0s 70ms/step\n",
            "1/1 [==============================] - 0s 68ms/step\n",
            "1/1 [==============================] - 0s 67ms/step\n",
            "1/1 [==============================] - 0s 68ms/step\n",
            "1/1 [==============================] - 0s 67ms/step\n",
            "1/1 [==============================] - 0s 70ms/step\n",
            "1/1 [==============================] - 0s 67ms/step\n",
            "1/1 [==============================] - 0s 67ms/step\n",
            "1/1 [==============================] - 0s 67ms/step\n",
            "1/1 [==============================] - 0s 68ms/step\n",
            "1/1 [==============================] - 0s 69ms/step\n",
            "1/1 [==============================] - 0s 67ms/step\n",
            "1/1 [==============================] - 0s 67ms/step\n",
            "1/1 [==============================] - 0s 67ms/step\n",
            "1/1 [==============================] - 0s 67ms/step\n",
            "1/1 [==============================] - 0s 67ms/step\n",
            "1/1 [==============================] - 0s 67ms/step\n",
            "1/1 [==============================] - 0s 67ms/step\n",
            "1/1 [==============================] - 0s 66ms/step\n",
            "1/1 [==============================] - 0s 67ms/step\n",
            "1/1 [==============================] - 0s 68ms/step\n",
            "1/1 [==============================] - 0s 68ms/step\n",
            "1/1 [==============================] - 0s 67ms/step\n",
            "1/1 [==============================] - 0s 69ms/step\n",
            "1/1 [==============================] - 0s 68ms/step\n",
            "1/1 [==============================] - 0s 67ms/step\n",
            "1/1 [==============================] - 0s 69ms/step\n",
            "1/1 [==============================] - 0s 68ms/step\n",
            "1/1 [==============================] - 0s 67ms/step\n",
            "1/1 [==============================] - 0s 67ms/step\n",
            "1/1 [==============================] - 0s 67ms/step\n",
            "1/1 [==============================] - 0s 69ms/step\n",
            "1/1 [==============================] - 0s 70ms/step\n",
            "1/1 [==============================] - 0s 67ms/step\n",
            "1/1 [==============================] - 0s 66ms/step\n",
            "1/1 [==============================] - 0s 66ms/step\n",
            "1/1 [==============================] - 0s 67ms/step\n",
            "1/1 [==============================] - 0s 67ms/step\n",
            "1/1 [==============================] - 0s 68ms/step\n",
            "1/1 [==============================] - 0s 69ms/step\n",
            "1/1 [==============================] - 0s 68ms/step\n",
            "1/1 [==============================] - 0s 68ms/step\n",
            "1/1 [==============================] - 0s 69ms/step\n",
            "1/1 [==============================] - 0s 68ms/step\n",
            "1/1 [==============================] - 0s 67ms/step\n",
            "1/1 [==============================] - 0s 68ms/step\n",
            "1/1 [==============================] - 0s 67ms/step\n",
            "1/1 [==============================] - 0s 69ms/step\n",
            "1/1 [==============================] - 0s 68ms/step\n",
            "1/1 [==============================] - 0s 68ms/step\n",
            "1/1 [==============================] - 0s 66ms/step\n",
            "1/1 [==============================] - 0s 67ms/step\n",
            "1/1 [==============================] - 0s 66ms/step\n",
            "1/1 [==============================] - 0s 66ms/step\n",
            "1/1 [==============================] - 0s 67ms/step\n",
            "1/1 [==============================] - 0s 68ms/step\n",
            "1/1 [==============================] - 0s 68ms/step\n",
            "1/1 [==============================] - 0s 67ms/step\n",
            "1/1 [==============================] - 0s 66ms/step\n",
            "1/1 [==============================] - 0s 66ms/step\n",
            "1/1 [==============================] - 0s 66ms/step\n",
            "1/1 [==============================] - 0s 67ms/step\n",
            "1/1 [==============================] - 0s 67ms/step\n",
            "1/1 [==============================] - 0s 69ms/step\n",
            "1/1 [==============================] - 0s 67ms/step\n",
            "1/1 [==============================] - 0s 68ms/step\n",
            "1/1 [==============================] - 0s 67ms/step\n",
            "1/1 [==============================] - 0s 68ms/step\n",
            "1/1 [==============================] - 0s 68ms/step\n",
            "1/1 [==============================] - 0s 67ms/step\n",
            "1/1 [==============================] - 0s 67ms/step\n",
            "1/1 [==============================] - 0s 69ms/step\n",
            "1/1 [==============================] - 0s 68ms/step\n",
            "1/1 [==============================] - 0s 67ms/step\n",
            "1/1 [==============================] - 0s 67ms/step\n",
            "1/1 [==============================] - 0s 67ms/step\n",
            "1/1 [==============================] - 0s 67ms/step\n",
            "1/1 [==============================] - 0s 68ms/step\n",
            "1/1 [==============================] - 0s 68ms/step\n",
            "1/1 [==============================] - 0s 68ms/step\n",
            "1/1 [==============================] - 0s 67ms/step\n",
            "1/1 [==============================] - 0s 68ms/step\n",
            "1/1 [==============================] - 0s 67ms/step\n",
            "1/1 [==============================] - 0s 67ms/step\n",
            "1/1 [==============================] - 0s 68ms/step\n",
            "1/1 [==============================] - 0s 68ms/step\n",
            "1/1 [==============================] - 0s 68ms/step\n",
            "1/1 [==============================] - 0s 69ms/step\n",
            "1/1 [==============================] - 0s 67ms/step\n",
            "1/1 [==============================] - 0s 67ms/step\n",
            "1/1 [==============================] - 0s 67ms/step\n",
            "1/1 [==============================] - 0s 66ms/step\n",
            "1/1 [==============================] - 0s 67ms/step\n",
            "1/1 [==============================] - 0s 66ms/step\n",
            "1/1 [==============================] - 0s 67ms/step\n",
            "1/1 [==============================] - 0s 67ms/step\n",
            "1/1 [==============================] - 0s 67ms/step\n",
            "1/1 [==============================] - 0s 72ms/step\n",
            "1/1 [==============================] - 0s 68ms/step\n",
            "1/1 [==============================] - 0s 67ms/step\n",
            "1/1 [==============================] - 0s 67ms/step\n",
            "1/1 [==============================] - 0s 67ms/step\n",
            "1/1 [==============================] - 0s 68ms/step\n",
            "1/1 [==============================] - 0s 69ms/step\n",
            "1/1 [==============================] - 0s 68ms/step\n",
            "1/1 [==============================] - 0s 67ms/step\n",
            "1/1 [==============================] - 0s 69ms/step\n",
            "1/1 [==============================] - 0s 68ms/step\n",
            "1/1 [==============================] - 0s 68ms/step\n",
            "1/1 [==============================] - 0s 68ms/step\n",
            "1/1 [==============================] - 0s 69ms/step\n",
            "1/1 [==============================] - 0s 67ms/step\n",
            "1/1 [==============================] - 0s 70ms/step\n",
            "1/1 [==============================] - 0s 69ms/step\n",
            "1/1 [==============================] - 0s 67ms/step\n",
            "1/1 [==============================] - 0s 69ms/step\n",
            "1/1 [==============================] - 0s 68ms/step\n",
            "1/1 [==============================] - 0s 69ms/step\n",
            "1/1 [==============================] - 0s 69ms/step\n",
            "1/1 [==============================] - 0s 71ms/step\n",
            "1/1 [==============================] - 0s 70ms/step\n",
            "1/1 [==============================] - 0s 72ms/step\n",
            "1/1 [==============================] - 0s 71ms/step\n",
            "1/1 [==============================] - 0s 70ms/step\n",
            "1/1 [==============================] - 0s 70ms/step\n",
            "1/1 [==============================] - 0s 69ms/step\n",
            "1/1 [==============================] - 0s 68ms/step\n",
            "1/1 [==============================] - 0s 73ms/step\n",
            "1/1 [==============================] - 0s 70ms/step\n",
            "1/1 [==============================] - 0s 70ms/step\n",
            "1/1 [==============================] - 0s 69ms/step\n",
            "1/1 [==============================] - 0s 68ms/step\n",
            "1/1 [==============================] - 0s 68ms/step\n",
            "1/1 [==============================] - 0s 66ms/step\n",
            "1/1 [==============================] - 0s 67ms/step\n",
            "1/1 [==============================] - 0s 66ms/step\n",
            "1/1 [==============================] - 0s 68ms/step\n",
            "1/1 [==============================] - 0s 69ms/step\n",
            "1/1 [==============================] - 0s 69ms/step\n",
            "1/1 [==============================] - 0s 69ms/step\n",
            "1/1 [==============================] - 0s 67ms/step\n",
            "1/1 [==============================] - 0s 68ms/step\n",
            "1/1 [==============================] - 0s 68ms/step\n",
            "1/1 [==============================] - 0s 68ms/step\n",
            "1/1 [==============================] - 0s 68ms/step\n",
            "1/1 [==============================] - 0s 69ms/step\n",
            "1/1 [==============================] - 0s 67ms/step\n",
            "1/1 [==============================] - 0s 67ms/step\n",
            "1/1 [==============================] - 0s 67ms/step\n",
            "1/1 [==============================] - 0s 66ms/step\n",
            "1/1 [==============================] - 0s 67ms/step\n",
            "1/1 [==============================] - 0s 67ms/step\n",
            "1/1 [==============================] - 0s 68ms/step\n",
            "1/1 [==============================] - 0s 69ms/step\n",
            "1/1 [==============================] - 0s 68ms/step\n",
            "1/1 [==============================] - 0s 67ms/step\n",
            "1/1 [==============================] - 0s 67ms/step\n",
            "1/1 [==============================] - 0s 69ms/step\n",
            "1/1 [==============================] - 0s 67ms/step\n",
            "1/1 [==============================] - 0s 66ms/step\n",
            "1/1 [==============================] - 0s 67ms/step\n",
            "1/1 [==============================] - 0s 69ms/step\n",
            "1/1 [==============================] - 0s 67ms/step\n",
            "1/1 [==============================] - 0s 68ms/step\n",
            "1/1 [==============================] - 0s 67ms/step\n",
            "1/1 [==============================] - 0s 67ms/step\n",
            "1/1 [==============================] - 0s 67ms/step\n",
            "1/1 [==============================] - 0s 66ms/step\n",
            "1/1 [==============================] - 0s 68ms/step\n",
            "1/1 [==============================] - 0s 68ms/step\n",
            "1/1 [==============================] - 0s 69ms/step\n",
            "1/1 [==============================] - 0s 68ms/step\n",
            "1/1 [==============================] - 0s 67ms/step\n",
            "1/1 [==============================] - 0s 68ms/step\n",
            "1/1 [==============================] - 0s 68ms/step\n",
            "1/1 [==============================] - 0s 66ms/step\n",
            "1/1 [==============================] - 0s 67ms/step\n",
            "1/1 [==============================] - 0s 66ms/step\n",
            "1/1 [==============================] - 0s 68ms/step\n",
            "1/1 [==============================] - 0s 67ms/step\n",
            "1/1 [==============================] - 0s 66ms/step\n",
            "1/1 [==============================] - 0s 67ms/step\n",
            "1/1 [==============================] - 0s 67ms/step\n",
            "1/1 [==============================] - 0s 67ms/step\n",
            "1/1 [==============================] - 0s 66ms/step\n",
            "1/1 [==============================] - 0s 67ms/step\n",
            "1/1 [==============================] - 0s 66ms/step\n",
            "1/1 [==============================] - 0s 66ms/step\n",
            "1/1 [==============================] - 0s 67ms/step\n",
            "1/1 [==============================] - 0s 67ms/step\n",
            "1/1 [==============================] - 0s 66ms/step\n",
            "1/1 [==============================] - 0s 66ms/step\n",
            "1/1 [==============================] - 0s 66ms/step\n",
            "1/1 [==============================] - 0s 68ms/step\n",
            "1/1 [==============================] - 0s 68ms/step\n",
            "1/1 [==============================] - 0s 66ms/step\n",
            "1/1 [==============================] - 0s 67ms/step\n",
            "1/1 [==============================] - 0s 68ms/step\n",
            "1/1 [==============================] - 0s 72ms/step\n",
            "1/1 [==============================] - 0s 75ms/step\n",
            "1/1 [==============================] - 0s 70ms/step\n",
            "1/1 [==============================] - 0s 69ms/step\n",
            "1/1 [==============================] - 0s 70ms/step\n",
            "1/1 [==============================] - 0s 70ms/step\n",
            "1/1 [==============================] - 0s 68ms/step\n",
            "1/1 [==============================] - 0s 69ms/step\n",
            "1/1 [==============================] - 0s 70ms/step\n",
            "1/1 [==============================] - 0s 68ms/step\n",
            "1/1 [==============================] - 0s 68ms/step\n",
            "1/1 [==============================] - 0s 68ms/step\n",
            "1/1 [==============================] - 0s 68ms/step\n",
            "1/1 [==============================] - 0s 68ms/step\n",
            "1/1 [==============================] - 0s 67ms/step\n",
            "1/1 [==============================] - 0s 67ms/step\n",
            "1/1 [==============================] - 0s 67ms/step\n",
            "1/1 [==============================] - 0s 67ms/step\n",
            "1/1 [==============================] - 0s 68ms/step\n",
            "1/1 [==============================] - 0s 67ms/step\n",
            "1/1 [==============================] - 0s 70ms/step\n",
            "1/1 [==============================] - 0s 69ms/step\n",
            "1/1 [==============================] - 0s 66ms/step\n",
            "1/1 [==============================] - 0s 66ms/step\n",
            "1/1 [==============================] - 0s 66ms/step\n",
            "1/1 [==============================] - 0s 66ms/step\n",
            "1/1 [==============================] - 0s 67ms/step\n",
            "1/1 [==============================] - 0s 69ms/step\n",
            "1/1 [==============================] - 0s 71ms/step\n",
            "1/1 [==============================] - 0s 70ms/step\n",
            "1/1 [==============================] - 0s 68ms/step\n",
            "1/1 [==============================] - 0s 68ms/step\n",
            "1/1 [==============================] - 0s 69ms/step\n",
            "1/1 [==============================] - 0s 69ms/step\n",
            "1/1 [==============================] - 0s 68ms/step\n",
            "1/1 [==============================] - 0s 69ms/step\n",
            "1/1 [==============================] - 0s 69ms/step\n",
            "1/1 [==============================] - 0s 68ms/step\n",
            "1/1 [==============================] - 0s 68ms/step\n",
            "1/1 [==============================] - 0s 68ms/step\n",
            "1/1 [==============================] - 0s 68ms/step\n",
            "1/1 [==============================] - 0s 68ms/step\n",
            "1/1 [==============================] - 0s 69ms/step\n",
            "1/1 [==============================] - 0s 67ms/step\n",
            "1/1 [==============================] - 0s 68ms/step\n",
            "1/1 [==============================] - 0s 71ms/step\n",
            "1/1 [==============================] - 0s 72ms/step\n",
            "1/1 [==============================] - 0s 71ms/step\n",
            "1/1 [==============================] - 0s 71ms/step\n",
            "1/1 [==============================] - 0s 70ms/step\n",
            "1/1 [==============================] - 0s 70ms/step\n",
            "1/1 [==============================] - 0s 69ms/step\n",
            "1/1 [==============================] - 0s 69ms/step\n",
            "1/1 [==============================] - 0s 71ms/step\n",
            "1/1 [==============================] - 0s 70ms/step\n",
            "1/1 [==============================] - 0s 70ms/step\n",
            "1/1 [==============================] - 0s 70ms/step\n",
            "1/1 [==============================] - 0s 68ms/step\n",
            "1/1 [==============================] - 0s 69ms/step\n",
            "1/1 [==============================] - 0s 69ms/step\n",
            "1/1 [==============================] - 0s 71ms/step\n",
            "1/1 [==============================] - 0s 69ms/step\n",
            "1/1 [==============================] - 0s 67ms/step\n",
            "1/1 [==============================] - 0s 66ms/step\n",
            "1/1 [==============================] - 0s 68ms/step\n",
            "1/1 [==============================] - 0s 67ms/step\n",
            "1/1 [==============================] - 0s 67ms/step\n",
            "1/1 [==============================] - 0s 68ms/step\n",
            "1/1 [==============================] - 0s 67ms/step\n",
            "1/1 [==============================] - 0s 67ms/step\n",
            "1/1 [==============================] - 0s 68ms/step\n",
            "1/1 [==============================] - 0s 68ms/step\n",
            "1/1 [==============================] - 0s 71ms/step\n",
            "1/1 [==============================] - 0s 67ms/step\n",
            "1/1 [==============================] - 0s 69ms/step\n",
            "1/1 [==============================] - 0s 67ms/step\n",
            "1/1 [==============================] - 0s 67ms/step\n",
            "1/1 [==============================] - 0s 66ms/step\n",
            "1/1 [==============================] - 0s 66ms/step\n",
            "1/1 [==============================] - 0s 66ms/step\n",
            "1/1 [==============================] - 0s 67ms/step\n",
            "1/1 [==============================] - 0s 67ms/step\n",
            "1/1 [==============================] - 0s 67ms/step\n",
            "1/1 [==============================] - 0s 67ms/step\n",
            "1/1 [==============================] - 0s 68ms/step\n",
            "1/1 [==============================] - 0s 68ms/step\n",
            "1/1 [==============================] - 0s 68ms/step\n",
            "1/1 [==============================] - 0s 67ms/step\n",
            "1/1 [==============================] - 0s 66ms/step\n",
            "1/1 [==============================] - 0s 67ms/step\n",
            "1/1 [==============================] - 0s 65ms/step\n",
            "1/1 [==============================] - 0s 66ms/step\n",
            "1/1 [==============================] - 0s 67ms/step\n",
            "1/1 [==============================] - 0s 68ms/step\n",
            "1/1 [==============================] - 0s 67ms/step\n",
            "1/1 [==============================] - 0s 66ms/step\n",
            "1/1 [==============================] - 0s 67ms/step\n",
            "1/1 [==============================] - 0s 67ms/step\n",
            "1/1 [==============================] - 0s 67ms/step\n",
            "1/1 [==============================] - 0s 66ms/step\n",
            "1/1 [==============================] - 0s 66ms/step\n",
            "1/1 [==============================] - 0s 65ms/step\n",
            "1/1 [==============================] - 0s 66ms/step\n",
            "1/1 [==============================] - 0s 68ms/step\n",
            "1/1 [==============================] - 0s 67ms/step\n",
            "1/1 [==============================] - 0s 68ms/step\n",
            "1/1 [==============================] - 0s 67ms/step\n",
            "1/1 [==============================] - 0s 67ms/step\n",
            "1/1 [==============================] - 0s 67ms/step\n",
            "1/1 [==============================] - 0s 67ms/step\n",
            "1/1 [==============================] - 0s 66ms/step\n",
            "1/1 [==============================] - 0s 67ms/step\n",
            "1/1 [==============================] - 0s 65ms/step\n",
            "1/1 [==============================] - 0s 68ms/step\n",
            "1/1 [==============================] - 0s 66ms/step\n",
            "1/1 [==============================] - 0s 66ms/step\n",
            "1/1 [==============================] - 0s 68ms/step\n",
            "1/1 [==============================] - 0s 67ms/step\n",
            "1/1 [==============================] - 0s 67ms/step\n",
            "1/1 [==============================] - 0s 67ms/step\n",
            "1/1 [==============================] - 0s 66ms/step\n",
            "1/1 [==============================] - 0s 66ms/step\n",
            "1/1 [==============================] - 0s 67ms/step\n",
            "1/1 [==============================] - 0s 67ms/step\n",
            "1/1 [==============================] - 0s 67ms/step\n",
            "1/1 [==============================] - 0s 67ms/step\n",
            "1/1 [==============================] - 0s 67ms/step\n",
            "1/1 [==============================] - 0s 70ms/step\n",
            "1/1 [==============================] - 0s 67ms/step\n",
            "1/1 [==============================] - 0s 66ms/step\n",
            "1/1 [==============================] - 0s 68ms/step\n",
            "1/1 [==============================] - 0s 67ms/step\n",
            "1/1 [==============================] - 0s 68ms/step\n",
            "1/1 [==============================] - 0s 67ms/step\n",
            "1/1 [==============================] - 0s 68ms/step\n",
            "1/1 [==============================] - 0s 68ms/step\n",
            "1/1 [==============================] - 0s 67ms/step\n",
            "1/1 [==============================] - 0s 66ms/step\n",
            "1/1 [==============================] - 0s 67ms/step\n",
            "1/1 [==============================] - 0s 66ms/step\n",
            "1/1 [==============================] - 0s 67ms/step\n",
            "1/1 [==============================] - 0s 67ms/step\n",
            "1/1 [==============================] - 0s 68ms/step\n",
            "1/1 [==============================] - 0s 68ms/step\n",
            "1/1 [==============================] - 0s 68ms/step\n",
            "1/1 [==============================] - 0s 67ms/step\n",
            "1/1 [==============================] - 0s 68ms/step\n",
            "1/1 [==============================] - 0s 67ms/step\n",
            "1/1 [==============================] - 0s 67ms/step\n",
            "1/1 [==============================] - 0s 66ms/step\n",
            "1/1 [==============================] - 0s 68ms/step\n",
            "1/1 [==============================] - 0s 68ms/step\n",
            "1/1 [==============================] - 0s 68ms/step\n",
            "1/1 [==============================] - 0s 67ms/step\n",
            "1/1 [==============================] - 0s 67ms/step\n",
            "1/1 [==============================] - 0s 67ms/step\n",
            "1/1 [==============================] - 0s 66ms/step\n",
            "1/1 [==============================] - 0s 69ms/step\n",
            "1/1 [==============================] - 0s 69ms/step\n",
            "1/1 [==============================] - 0s 68ms/step\n",
            "1/1 [==============================] - 0s 68ms/step\n",
            "1/1 [==============================] - 0s 68ms/step\n",
            "1/1 [==============================] - 0s 68ms/step\n",
            "1/1 [==============================] - 0s 67ms/step\n",
            "1/1 [==============================] - 0s 67ms/step\n",
            "1/1 [==============================] - 0s 68ms/step\n",
            "1/1 [==============================] - 0s 68ms/step\n",
            "1/1 [==============================] - 0s 68ms/step\n",
            "1/1 [==============================] - 0s 69ms/step\n",
            "1/1 [==============================] - 0s 69ms/step\n",
            "1/1 [==============================] - 0s 69ms/step\n",
            "1/1 [==============================] - 0s 69ms/step\n",
            "1/1 [==============================] - 0s 67ms/step\n",
            "1/1 [==============================] - 0s 67ms/step\n",
            "1/1 [==============================] - 0s 69ms/step\n",
            "1/1 [==============================] - 0s 69ms/step\n",
            "1/1 [==============================] - 0s 70ms/step\n",
            "1/1 [==============================] - 0s 70ms/step\n",
            "1/1 [==============================] - 0s 68ms/step\n",
            "1/1 [==============================] - 0s 69ms/step\n",
            "1/1 [==============================] - 0s 71ms/step\n",
            "1/1 [==============================] - 0s 69ms/step\n",
            "1/1 [==============================] - 0s 69ms/step\n",
            "1/1 [==============================] - 0s 69ms/step\n",
            "1/1 [==============================] - 0s 70ms/step\n",
            "1/1 [==============================] - 0s 70ms/step\n",
            "1/1 [==============================] - 0s 69ms/step\n",
            "1/1 [==============================] - 0s 69ms/step\n",
            "1/1 [==============================] - 0s 69ms/step\n",
            "1/1 [==============================] - 0s 70ms/step\n",
            "1/1 [==============================] - 0s 68ms/step\n",
            "1/1 [==============================] - 0s 67ms/step\n",
            "1/1 [==============================] - 0s 66ms/step\n",
            "1/1 [==============================] - 0s 69ms/step\n",
            "1/1 [==============================] - 0s 69ms/step\n",
            "1/1 [==============================] - 0s 70ms/step\n",
            "1/1 [==============================] - 0s 70ms/step\n",
            "1/1 [==============================] - 0s 74ms/step\n",
            "1/1 [==============================] - 0s 73ms/step\n",
            "1/1 [==============================] - 0s 73ms/step\n",
            "1/1 [==============================] - 0s 71ms/step\n"
          ]
        }
      ],
      "source": [
        "# df_flipped의 각 문장에 대해 예측 클래스를 얻습니다.\n",
        "df_flipped['predicted_class'] = df_flipped['text'].apply(get_predicted_class)"
      ]
    },
    {
      "cell_type": "code",
      "execution_count": null,
      "id": "bd9cb990",
      "metadata": {
        "id": "bd9cb990"
      },
      "outputs": [],
      "source": [
        "# 예측된 클래스를 코드로 매핑\n",
        "df_flipped['class'] = df_flipped['predicted_class'].map(class_mapping)"
      ]
    },
    {
      "cell_type": "code",
      "execution_count": null,
      "id": "1d5e6e1d",
      "metadata": {
        "id": "1d5e6e1d"
      },
      "outputs": [],
      "source": [
        "df_flipped.drop(columns=['text'], inplace=True)\n",
        "df_flipped.drop(columns=['predicted_class'], inplace=True)"
      ]
    },
    {
      "cell_type": "code",
      "execution_count": null,
      "id": "558d2307",
      "metadata": {
        "colab": {
          "base_uri": "https://localhost:8080/"
        },
        "id": "558d2307",
        "outputId": "31855a37-f8f4-4029-fb41-8d3cb9db3ecd"
      },
      "outputs": [
        {
          "output_type": "stream",
          "name": "stdout",
          "text": [
            "      class\n",
            "t_000    01\n",
            "t_001    02\n",
            "t_002    02\n",
            "t_004    03\n",
            "t_005    00\n"
          ]
        }
      ],
      "source": [
        "# 변환된 dataframe의 처음 5행 출력(확인용)\n",
        "print(df_flipped.head())"
      ]
    },
    {
      "cell_type": "code",
      "execution_count": null,
      "id": "e5781994",
      "metadata": {
        "colab": {
          "base_uri": "https://localhost:8080/",
          "height": 206
        },
        "id": "e5781994",
        "outputId": "269c2f98-ad5f-46ee-f986-c4e06f913c62"
      },
      "outputs": [
        {
          "output_type": "execute_result",
          "data": {
            "text/plain": [
              "      class\n",
              "t_000    01\n",
              "t_001    02\n",
              "t_002    02\n",
              "t_004    03\n",
              "t_005    00"
            ],
            "text/html": [
              "\n",
              "  <div id=\"df-f4ba2f9a-d967-4cc0-a4b9-af7e827630b5\" class=\"colab-df-container\">\n",
              "    <div>\n",
              "<style scoped>\n",
              "    .dataframe tbody tr th:only-of-type {\n",
              "        vertical-align: middle;\n",
              "    }\n",
              "\n",
              "    .dataframe tbody tr th {\n",
              "        vertical-align: top;\n",
              "    }\n",
              "\n",
              "    .dataframe thead th {\n",
              "        text-align: right;\n",
              "    }\n",
              "</style>\n",
              "<table border=\"1\" class=\"dataframe\">\n",
              "  <thead>\n",
              "    <tr style=\"text-align: right;\">\n",
              "      <th></th>\n",
              "      <th>class</th>\n",
              "    </tr>\n",
              "  </thead>\n",
              "  <tbody>\n",
              "    <tr>\n",
              "      <th>t_000</th>\n",
              "      <td>01</td>\n",
              "    </tr>\n",
              "    <tr>\n",
              "      <th>t_001</th>\n",
              "      <td>02</td>\n",
              "    </tr>\n",
              "    <tr>\n",
              "      <th>t_002</th>\n",
              "      <td>02</td>\n",
              "    </tr>\n",
              "    <tr>\n",
              "      <th>t_004</th>\n",
              "      <td>03</td>\n",
              "    </tr>\n",
              "    <tr>\n",
              "      <th>t_005</th>\n",
              "      <td>00</td>\n",
              "    </tr>\n",
              "  </tbody>\n",
              "</table>\n",
              "</div>\n",
              "    <div class=\"colab-df-buttons\">\n",
              "\n",
              "  <div class=\"colab-df-container\">\n",
              "    <button class=\"colab-df-convert\" onclick=\"convertToInteractive('df-f4ba2f9a-d967-4cc0-a4b9-af7e827630b5')\"\n",
              "            title=\"Convert this dataframe to an interactive table.\"\n",
              "            style=\"display:none;\">\n",
              "\n",
              "  <svg xmlns=\"http://www.w3.org/2000/svg\" height=\"24px\" viewBox=\"0 -960 960 960\">\n",
              "    <path d=\"M120-120v-720h720v720H120Zm60-500h600v-160H180v160Zm220 220h160v-160H400v160Zm0 220h160v-160H400v160ZM180-400h160v-160H180v160Zm440 0h160v-160H620v160ZM180-180h160v-160H180v160Zm440 0h160v-160H620v160Z\"/>\n",
              "  </svg>\n",
              "    </button>\n",
              "\n",
              "  <style>\n",
              "    .colab-df-container {\n",
              "      display:flex;\n",
              "      gap: 12px;\n",
              "    }\n",
              "\n",
              "    .colab-df-convert {\n",
              "      background-color: #E8F0FE;\n",
              "      border: none;\n",
              "      border-radius: 50%;\n",
              "      cursor: pointer;\n",
              "      display: none;\n",
              "      fill: #1967D2;\n",
              "      height: 32px;\n",
              "      padding: 0 0 0 0;\n",
              "      width: 32px;\n",
              "    }\n",
              "\n",
              "    .colab-df-convert:hover {\n",
              "      background-color: #E2EBFA;\n",
              "      box-shadow: 0px 1px 2px rgba(60, 64, 67, 0.3), 0px 1px 3px 1px rgba(60, 64, 67, 0.15);\n",
              "      fill: #174EA6;\n",
              "    }\n",
              "\n",
              "    .colab-df-buttons div {\n",
              "      margin-bottom: 4px;\n",
              "    }\n",
              "\n",
              "    [theme=dark] .colab-df-convert {\n",
              "      background-color: #3B4455;\n",
              "      fill: #D2E3FC;\n",
              "    }\n",
              "\n",
              "    [theme=dark] .colab-df-convert:hover {\n",
              "      background-color: #434B5C;\n",
              "      box-shadow: 0px 1px 3px 1px rgba(0, 0, 0, 0.15);\n",
              "      filter: drop-shadow(0px 1px 2px rgba(0, 0, 0, 0.3));\n",
              "      fill: #FFFFFF;\n",
              "    }\n",
              "  </style>\n",
              "\n",
              "    <script>\n",
              "      const buttonEl =\n",
              "        document.querySelector('#df-f4ba2f9a-d967-4cc0-a4b9-af7e827630b5 button.colab-df-convert');\n",
              "      buttonEl.style.display =\n",
              "        google.colab.kernel.accessAllowed ? 'block' : 'none';\n",
              "\n",
              "      async function convertToInteractive(key) {\n",
              "        const element = document.querySelector('#df-f4ba2f9a-d967-4cc0-a4b9-af7e827630b5');\n",
              "        const dataTable =\n",
              "          await google.colab.kernel.invokeFunction('convertToInteractive',\n",
              "                                                    [key], {});\n",
              "        if (!dataTable) return;\n",
              "\n",
              "        const docLinkHtml = 'Like what you see? Visit the ' +\n",
              "          '<a target=\"_blank\" href=https://colab.research.google.com/notebooks/data_table.ipynb>data table notebook</a>'\n",
              "          + ' to learn more about interactive tables.';\n",
              "        element.innerHTML = '';\n",
              "        dataTable['output_type'] = 'display_data';\n",
              "        await google.colab.output.renderOutput(dataTable, element);\n",
              "        const docLink = document.createElement('div');\n",
              "        docLink.innerHTML = docLinkHtml;\n",
              "        element.appendChild(docLink);\n",
              "      }\n",
              "    </script>\n",
              "  </div>\n",
              "\n",
              "\n",
              "<div id=\"df-3f139177-0b2b-44af-968f-0472cd6f0fba\">\n",
              "  <button class=\"colab-df-quickchart\" onclick=\"quickchart('df-3f139177-0b2b-44af-968f-0472cd6f0fba')\"\n",
              "            title=\"Suggest charts.\"\n",
              "            style=\"display:none;\">\n",
              "\n",
              "<svg xmlns=\"http://www.w3.org/2000/svg\" height=\"24px\"viewBox=\"0 0 24 24\"\n",
              "     width=\"24px\">\n",
              "    <g>\n",
              "        <path d=\"M19 3H5c-1.1 0-2 .9-2 2v14c0 1.1.9 2 2 2h14c1.1 0 2-.9 2-2V5c0-1.1-.9-2-2-2zM9 17H7v-7h2v7zm4 0h-2V7h2v10zm4 0h-2v-4h2v4z\"/>\n",
              "    </g>\n",
              "</svg>\n",
              "  </button>\n",
              "\n",
              "<style>\n",
              "  .colab-df-quickchart {\n",
              "    background-color: #E8F0FE;\n",
              "    border: none;\n",
              "    border-radius: 50%;\n",
              "    cursor: pointer;\n",
              "    display: none;\n",
              "    fill: #1967D2;\n",
              "    height: 32px;\n",
              "    padding: 0 0 0 0;\n",
              "    width: 32px;\n",
              "  }\n",
              "\n",
              "  .colab-df-quickchart:hover {\n",
              "    background-color: #E2EBFA;\n",
              "    box-shadow: 0px 1px 2px rgba(60, 64, 67, 0.3), 0px 1px 3px 1px rgba(60, 64, 67, 0.15);\n",
              "    fill: #174EA6;\n",
              "  }\n",
              "\n",
              "  [theme=dark] .colab-df-quickchart {\n",
              "    background-color: #3B4455;\n",
              "    fill: #D2E3FC;\n",
              "  }\n",
              "\n",
              "  [theme=dark] .colab-df-quickchart:hover {\n",
              "    background-color: #434B5C;\n",
              "    box-shadow: 0px 1px 3px 1px rgba(0, 0, 0, 0.15);\n",
              "    filter: drop-shadow(0px 1px 2px rgba(0, 0, 0, 0.3));\n",
              "    fill: #FFFFFF;\n",
              "  }\n",
              "</style>\n",
              "\n",
              "  <script>\n",
              "    async function quickchart(key) {\n",
              "      const charts = await google.colab.kernel.invokeFunction(\n",
              "          'suggestCharts', [key], {});\n",
              "    }\n",
              "    (() => {\n",
              "      let quickchartButtonEl =\n",
              "        document.querySelector('#df-3f139177-0b2b-44af-968f-0472cd6f0fba button');\n",
              "      quickchartButtonEl.style.display =\n",
              "        google.colab.kernel.accessAllowed ? 'block' : 'none';\n",
              "    })();\n",
              "  </script>\n",
              "</div>\n",
              "    </div>\n",
              "  </div>\n"
            ]
          },
          "metadata": {},
          "execution_count": 138
        }
      ],
      "source": [
        "# 변환된 dataframe의 처음 5행 출력(확인용)\n",
        "df_flipped.head()"
      ]
    },
    {
      "cell_type": "code",
      "execution_count": null,
      "id": "f5cf4f49",
      "metadata": {
        "colab": {
          "base_uri": "https://localhost:8080/"
        },
        "id": "f5cf4f49",
        "outputId": "3e41bc7f-483b-419b-c780-5e880ffad918"
      },
      "outputs": [
        {
          "output_type": "stream",
          "name": "stdout",
          "text": [
            "      class\n",
            "t_000    01\n",
            "t_001    02\n",
            "t_002    02\n",
            "t_004    03\n",
            "t_005    00\n"
          ]
        }
      ],
      "source": [
        "# 'class' 열의 값을 두 자리 숫자로 변환\n",
        "df_flipped['class'] = df_flipped['class'].astype(int).apply(lambda x: f\"{x:02}\")\n",
        "\n",
        "# 변환된 dataframe의 처음 5행 출력(확인용)\n",
        "print(df_flipped.head())"
      ]
    },
    {
      "cell_type": "code",
      "execution_count": null,
      "id": "6426776b",
      "metadata": {
        "colab": {
          "base_uri": "https://localhost:8080/",
          "height": 206
        },
        "id": "6426776b",
        "outputId": "df107f0f-ebcb-4847-f3a1-5282ae43fc03"
      },
      "outputs": [
        {
          "output_type": "execute_result",
          "data": {
            "text/plain": [
              "      class\n",
              "t_000    01\n",
              "t_001    02\n",
              "t_002    02\n",
              "t_004    03\n",
              "t_005    00"
            ],
            "text/html": [
              "\n",
              "  <div id=\"df-5740afd7-8ed7-467e-b556-c61e0f15c242\" class=\"colab-df-container\">\n",
              "    <div>\n",
              "<style scoped>\n",
              "    .dataframe tbody tr th:only-of-type {\n",
              "        vertical-align: middle;\n",
              "    }\n",
              "\n",
              "    .dataframe tbody tr th {\n",
              "        vertical-align: top;\n",
              "    }\n",
              "\n",
              "    .dataframe thead th {\n",
              "        text-align: right;\n",
              "    }\n",
              "</style>\n",
              "<table border=\"1\" class=\"dataframe\">\n",
              "  <thead>\n",
              "    <tr style=\"text-align: right;\">\n",
              "      <th></th>\n",
              "      <th>class</th>\n",
              "    </tr>\n",
              "  </thead>\n",
              "  <tbody>\n",
              "    <tr>\n",
              "      <th>t_000</th>\n",
              "      <td>01</td>\n",
              "    </tr>\n",
              "    <tr>\n",
              "      <th>t_001</th>\n",
              "      <td>02</td>\n",
              "    </tr>\n",
              "    <tr>\n",
              "      <th>t_002</th>\n",
              "      <td>02</td>\n",
              "    </tr>\n",
              "    <tr>\n",
              "      <th>t_004</th>\n",
              "      <td>03</td>\n",
              "    </tr>\n",
              "    <tr>\n",
              "      <th>t_005</th>\n",
              "      <td>00</td>\n",
              "    </tr>\n",
              "  </tbody>\n",
              "</table>\n",
              "</div>\n",
              "    <div class=\"colab-df-buttons\">\n",
              "\n",
              "  <div class=\"colab-df-container\">\n",
              "    <button class=\"colab-df-convert\" onclick=\"convertToInteractive('df-5740afd7-8ed7-467e-b556-c61e0f15c242')\"\n",
              "            title=\"Convert this dataframe to an interactive table.\"\n",
              "            style=\"display:none;\">\n",
              "\n",
              "  <svg xmlns=\"http://www.w3.org/2000/svg\" height=\"24px\" viewBox=\"0 -960 960 960\">\n",
              "    <path d=\"M120-120v-720h720v720H120Zm60-500h600v-160H180v160Zm220 220h160v-160H400v160Zm0 220h160v-160H400v160ZM180-400h160v-160H180v160Zm440 0h160v-160H620v160ZM180-180h160v-160H180v160Zm440 0h160v-160H620v160Z\"/>\n",
              "  </svg>\n",
              "    </button>\n",
              "\n",
              "  <style>\n",
              "    .colab-df-container {\n",
              "      display:flex;\n",
              "      gap: 12px;\n",
              "    }\n",
              "\n",
              "    .colab-df-convert {\n",
              "      background-color: #E8F0FE;\n",
              "      border: none;\n",
              "      border-radius: 50%;\n",
              "      cursor: pointer;\n",
              "      display: none;\n",
              "      fill: #1967D2;\n",
              "      height: 32px;\n",
              "      padding: 0 0 0 0;\n",
              "      width: 32px;\n",
              "    }\n",
              "\n",
              "    .colab-df-convert:hover {\n",
              "      background-color: #E2EBFA;\n",
              "      box-shadow: 0px 1px 2px rgba(60, 64, 67, 0.3), 0px 1px 3px 1px rgba(60, 64, 67, 0.15);\n",
              "      fill: #174EA6;\n",
              "    }\n",
              "\n",
              "    .colab-df-buttons div {\n",
              "      margin-bottom: 4px;\n",
              "    }\n",
              "\n",
              "    [theme=dark] .colab-df-convert {\n",
              "      background-color: #3B4455;\n",
              "      fill: #D2E3FC;\n",
              "    }\n",
              "\n",
              "    [theme=dark] .colab-df-convert:hover {\n",
              "      background-color: #434B5C;\n",
              "      box-shadow: 0px 1px 3px 1px rgba(0, 0, 0, 0.15);\n",
              "      filter: drop-shadow(0px 1px 2px rgba(0, 0, 0, 0.3));\n",
              "      fill: #FFFFFF;\n",
              "    }\n",
              "  </style>\n",
              "\n",
              "    <script>\n",
              "      const buttonEl =\n",
              "        document.querySelector('#df-5740afd7-8ed7-467e-b556-c61e0f15c242 button.colab-df-convert');\n",
              "      buttonEl.style.display =\n",
              "        google.colab.kernel.accessAllowed ? 'block' : 'none';\n",
              "\n",
              "      async function convertToInteractive(key) {\n",
              "        const element = document.querySelector('#df-5740afd7-8ed7-467e-b556-c61e0f15c242');\n",
              "        const dataTable =\n",
              "          await google.colab.kernel.invokeFunction('convertToInteractive',\n",
              "                                                    [key], {});\n",
              "        if (!dataTable) return;\n",
              "\n",
              "        const docLinkHtml = 'Like what you see? Visit the ' +\n",
              "          '<a target=\"_blank\" href=https://colab.research.google.com/notebooks/data_table.ipynb>data table notebook</a>'\n",
              "          + ' to learn more about interactive tables.';\n",
              "        element.innerHTML = '';\n",
              "        dataTable['output_type'] = 'display_data';\n",
              "        await google.colab.output.renderOutput(dataTable, element);\n",
              "        const docLink = document.createElement('div');\n",
              "        docLink.innerHTML = docLinkHtml;\n",
              "        element.appendChild(docLink);\n",
              "      }\n",
              "    </script>\n",
              "  </div>\n",
              "\n",
              "\n",
              "<div id=\"df-0dc98d95-c4f5-44fa-bad5-fec5010a79f8\">\n",
              "  <button class=\"colab-df-quickchart\" onclick=\"quickchart('df-0dc98d95-c4f5-44fa-bad5-fec5010a79f8')\"\n",
              "            title=\"Suggest charts.\"\n",
              "            style=\"display:none;\">\n",
              "\n",
              "<svg xmlns=\"http://www.w3.org/2000/svg\" height=\"24px\"viewBox=\"0 0 24 24\"\n",
              "     width=\"24px\">\n",
              "    <g>\n",
              "        <path d=\"M19 3H5c-1.1 0-2 .9-2 2v14c0 1.1.9 2 2 2h14c1.1 0 2-.9 2-2V5c0-1.1-.9-2-2-2zM9 17H7v-7h2v7zm4 0h-2V7h2v10zm4 0h-2v-4h2v4z\"/>\n",
              "    </g>\n",
              "</svg>\n",
              "  </button>\n",
              "\n",
              "<style>\n",
              "  .colab-df-quickchart {\n",
              "    background-color: #E8F0FE;\n",
              "    border: none;\n",
              "    border-radius: 50%;\n",
              "    cursor: pointer;\n",
              "    display: none;\n",
              "    fill: #1967D2;\n",
              "    height: 32px;\n",
              "    padding: 0 0 0 0;\n",
              "    width: 32px;\n",
              "  }\n",
              "\n",
              "  .colab-df-quickchart:hover {\n",
              "    background-color: #E2EBFA;\n",
              "    box-shadow: 0px 1px 2px rgba(60, 64, 67, 0.3), 0px 1px 3px 1px rgba(60, 64, 67, 0.15);\n",
              "    fill: #174EA6;\n",
              "  }\n",
              "\n",
              "  [theme=dark] .colab-df-quickchart {\n",
              "    background-color: #3B4455;\n",
              "    fill: #D2E3FC;\n",
              "  }\n",
              "\n",
              "  [theme=dark] .colab-df-quickchart:hover {\n",
              "    background-color: #434B5C;\n",
              "    box-shadow: 0px 1px 3px 1px rgba(0, 0, 0, 0.15);\n",
              "    filter: drop-shadow(0px 1px 2px rgba(0, 0, 0, 0.3));\n",
              "    fill: #FFFFFF;\n",
              "  }\n",
              "</style>\n",
              "\n",
              "  <script>\n",
              "    async function quickchart(key) {\n",
              "      const charts = await google.colab.kernel.invokeFunction(\n",
              "          'suggestCharts', [key], {});\n",
              "    }\n",
              "    (() => {\n",
              "      let quickchartButtonEl =\n",
              "        document.querySelector('#df-0dc98d95-c4f5-44fa-bad5-fec5010a79f8 button');\n",
              "      quickchartButtonEl.style.display =\n",
              "        google.colab.kernel.accessAllowed ? 'block' : 'none';\n",
              "    })();\n",
              "  </script>\n",
              "</div>\n",
              "    </div>\n",
              "  </div>\n"
            ]
          },
          "metadata": {},
          "execution_count": 140
        }
      ],
      "source": [
        "df_flipped.head()"
      ]
    },
    {
      "cell_type": "markdown",
      "id": "88b8a2ea",
      "metadata": {
        "id": "88b8a2ea"
      },
      "source": [
        "<br>"
      ]
    },
    {
      "cell_type": "code",
      "execution_count": null,
      "id": "04f75029",
      "metadata": {
        "id": "04f75029"
      },
      "outputs": [],
      "source": [
        "# submission 파일 생성"
      ]
    },
    {
      "cell_type": "code",
      "execution_count": null,
      "id": "17169e56",
      "metadata": {
        "id": "17169e56"
      },
      "outputs": [],
      "source": [
        "import datetime\n",
        "\n",
        "# 현재 날짜와 시간 가져오기\n",
        "now = datetime.datetime.now()\n",
        "\n",
        "# 날짜와 시간을 원하는 형식으로 포맷팅\n",
        "date_time_str = now.strftime(\"%Y%m%dT%H%M\")\n",
        "\n",
        "# 파일명 생성\n",
        "file_name = f\"submission{date_time_str}.csv\"\n",
        "\n",
        "# submission.csv 파일을 날짜패턴 합쳐 만들기\n",
        "df_flipped.to_csv(file_name)"
      ]
    }
  ],
  "metadata": {
    "kernelspec": {
      "display_name": "Python 3",
      "name": "python3"
    },
    "language_info": {
      "codemirror_mode": {
        "name": "ipython",
        "version": 3
      },
      "file_extension": ".py",
      "mimetype": "text/x-python",
      "name": "python",
      "nbconvert_exporter": "python",
      "pygments_lexer": "ipython3",
      "version": "3.9.7"
    },
    "colab": {
      "provenance": [],
      "machine_shape": "hm",
      "gpuType": "T4"
    },
    "accelerator": "GPU",
    "widgets": {
      "application/vnd.jupyter.widget-state+json": {
        "631e20056a214651a476d921e4bcfa4d": {
          "model_module": "@jupyter-widgets/controls",
          "model_name": "HBoxModel",
          "model_module_version": "1.5.0",
          "state": {
            "_dom_classes": [],
            "_model_module": "@jupyter-widgets/controls",
            "_model_module_version": "1.5.0",
            "_model_name": "HBoxModel",
            "_view_count": null,
            "_view_module": "@jupyter-widgets/controls",
            "_view_module_version": "1.5.0",
            "_view_name": "HBoxView",
            "box_style": "",
            "children": [
              "IPY_MODEL_80b78b7be6a448afbaa0e3e27481a571",
              "IPY_MODEL_9073dee0c3d24f49a38cacb4efd7cc7e",
              "IPY_MODEL_40e65369f4a249888007584771648a31"
            ],
            "layout": "IPY_MODEL_0471f21e2bfe409fa7894d4ebe272f19"
          }
        },
        "80b78b7be6a448afbaa0e3e27481a571": {
          "model_module": "@jupyter-widgets/controls",
          "model_name": "HTMLModel",
          "model_module_version": "1.5.0",
          "state": {
            "_dom_classes": [],
            "_model_module": "@jupyter-widgets/controls",
            "_model_module_version": "1.5.0",
            "_model_name": "HTMLModel",
            "_view_count": null,
            "_view_module": "@jupyter-widgets/controls",
            "_view_module_version": "1.5.0",
            "_view_name": "HTMLView",
            "description": "",
            "description_tooltip": null,
            "layout": "IPY_MODEL_d0f1c61cb08d4129a9f830b46c90756c",
            "placeholder": "​",
            "style": "IPY_MODEL_d8fe2598b0f84ae0a5c2d710120a24d6",
            "value": "Downloading (…)solve/main/vocab.txt: 100%"
          }
        },
        "9073dee0c3d24f49a38cacb4efd7cc7e": {
          "model_module": "@jupyter-widgets/controls",
          "model_name": "FloatProgressModel",
          "model_module_version": "1.5.0",
          "state": {
            "_dom_classes": [],
            "_model_module": "@jupyter-widgets/controls",
            "_model_module_version": "1.5.0",
            "_model_name": "FloatProgressModel",
            "_view_count": null,
            "_view_module": "@jupyter-widgets/controls",
            "_view_module_version": "1.5.0",
            "_view_name": "ProgressView",
            "bar_style": "success",
            "description": "",
            "description_tooltip": null,
            "layout": "IPY_MODEL_4f67445218e94ed58d315b97bf14bc88",
            "max": 248477,
            "min": 0,
            "orientation": "horizontal",
            "style": "IPY_MODEL_dbd579a4d6e441779bd4a272f694a639",
            "value": 248477
          }
        },
        "40e65369f4a249888007584771648a31": {
          "model_module": "@jupyter-widgets/controls",
          "model_name": "HTMLModel",
          "model_module_version": "1.5.0",
          "state": {
            "_dom_classes": [],
            "_model_module": "@jupyter-widgets/controls",
            "_model_module_version": "1.5.0",
            "_model_name": "HTMLModel",
            "_view_count": null,
            "_view_module": "@jupyter-widgets/controls",
            "_view_module_version": "1.5.0",
            "_view_name": "HTMLView",
            "description": "",
            "description_tooltip": null,
            "layout": "IPY_MODEL_7d2470e9df9a472da1983066ce479f13",
            "placeholder": "​",
            "style": "IPY_MODEL_85f7d03bf90a405f9cfa1a6e48fbad42",
            "value": " 248k/248k [00:00&lt;00:00, 1.29MB/s]"
          }
        },
        "0471f21e2bfe409fa7894d4ebe272f19": {
          "model_module": "@jupyter-widgets/base",
          "model_name": "LayoutModel",
          "model_module_version": "1.2.0",
          "state": {
            "_model_module": "@jupyter-widgets/base",
            "_model_module_version": "1.2.0",
            "_model_name": "LayoutModel",
            "_view_count": null,
            "_view_module": "@jupyter-widgets/base",
            "_view_module_version": "1.2.0",
            "_view_name": "LayoutView",
            "align_content": null,
            "align_items": null,
            "align_self": null,
            "border": null,
            "bottom": null,
            "display": null,
            "flex": null,
            "flex_flow": null,
            "grid_area": null,
            "grid_auto_columns": null,
            "grid_auto_flow": null,
            "grid_auto_rows": null,
            "grid_column": null,
            "grid_gap": null,
            "grid_row": null,
            "grid_template_areas": null,
            "grid_template_columns": null,
            "grid_template_rows": null,
            "height": null,
            "justify_content": null,
            "justify_items": null,
            "left": null,
            "margin": null,
            "max_height": null,
            "max_width": null,
            "min_height": null,
            "min_width": null,
            "object_fit": null,
            "object_position": null,
            "order": null,
            "overflow": null,
            "overflow_x": null,
            "overflow_y": null,
            "padding": null,
            "right": null,
            "top": null,
            "visibility": null,
            "width": null
          }
        },
        "d0f1c61cb08d4129a9f830b46c90756c": {
          "model_module": "@jupyter-widgets/base",
          "model_name": "LayoutModel",
          "model_module_version": "1.2.0",
          "state": {
            "_model_module": "@jupyter-widgets/base",
            "_model_module_version": "1.2.0",
            "_model_name": "LayoutModel",
            "_view_count": null,
            "_view_module": "@jupyter-widgets/base",
            "_view_module_version": "1.2.0",
            "_view_name": "LayoutView",
            "align_content": null,
            "align_items": null,
            "align_self": null,
            "border": null,
            "bottom": null,
            "display": null,
            "flex": null,
            "flex_flow": null,
            "grid_area": null,
            "grid_auto_columns": null,
            "grid_auto_flow": null,
            "grid_auto_rows": null,
            "grid_column": null,
            "grid_gap": null,
            "grid_row": null,
            "grid_template_areas": null,
            "grid_template_columns": null,
            "grid_template_rows": null,
            "height": null,
            "justify_content": null,
            "justify_items": null,
            "left": null,
            "margin": null,
            "max_height": null,
            "max_width": null,
            "min_height": null,
            "min_width": null,
            "object_fit": null,
            "object_position": null,
            "order": null,
            "overflow": null,
            "overflow_x": null,
            "overflow_y": null,
            "padding": null,
            "right": null,
            "top": null,
            "visibility": null,
            "width": null
          }
        },
        "d8fe2598b0f84ae0a5c2d710120a24d6": {
          "model_module": "@jupyter-widgets/controls",
          "model_name": "DescriptionStyleModel",
          "model_module_version": "1.5.0",
          "state": {
            "_model_module": "@jupyter-widgets/controls",
            "_model_module_version": "1.5.0",
            "_model_name": "DescriptionStyleModel",
            "_view_count": null,
            "_view_module": "@jupyter-widgets/base",
            "_view_module_version": "1.2.0",
            "_view_name": "StyleView",
            "description_width": ""
          }
        },
        "4f67445218e94ed58d315b97bf14bc88": {
          "model_module": "@jupyter-widgets/base",
          "model_name": "LayoutModel",
          "model_module_version": "1.2.0",
          "state": {
            "_model_module": "@jupyter-widgets/base",
            "_model_module_version": "1.2.0",
            "_model_name": "LayoutModel",
            "_view_count": null,
            "_view_module": "@jupyter-widgets/base",
            "_view_module_version": "1.2.0",
            "_view_name": "LayoutView",
            "align_content": null,
            "align_items": null,
            "align_self": null,
            "border": null,
            "bottom": null,
            "display": null,
            "flex": null,
            "flex_flow": null,
            "grid_area": null,
            "grid_auto_columns": null,
            "grid_auto_flow": null,
            "grid_auto_rows": null,
            "grid_column": null,
            "grid_gap": null,
            "grid_row": null,
            "grid_template_areas": null,
            "grid_template_columns": null,
            "grid_template_rows": null,
            "height": null,
            "justify_content": null,
            "justify_items": null,
            "left": null,
            "margin": null,
            "max_height": null,
            "max_width": null,
            "min_height": null,
            "min_width": null,
            "object_fit": null,
            "object_position": null,
            "order": null,
            "overflow": null,
            "overflow_x": null,
            "overflow_y": null,
            "padding": null,
            "right": null,
            "top": null,
            "visibility": null,
            "width": null
          }
        },
        "dbd579a4d6e441779bd4a272f694a639": {
          "model_module": "@jupyter-widgets/controls",
          "model_name": "ProgressStyleModel",
          "model_module_version": "1.5.0",
          "state": {
            "_model_module": "@jupyter-widgets/controls",
            "_model_module_version": "1.5.0",
            "_model_name": "ProgressStyleModel",
            "_view_count": null,
            "_view_module": "@jupyter-widgets/base",
            "_view_module_version": "1.2.0",
            "_view_name": "StyleView",
            "bar_color": null,
            "description_width": ""
          }
        },
        "7d2470e9df9a472da1983066ce479f13": {
          "model_module": "@jupyter-widgets/base",
          "model_name": "LayoutModel",
          "model_module_version": "1.2.0",
          "state": {
            "_model_module": "@jupyter-widgets/base",
            "_model_module_version": "1.2.0",
            "_model_name": "LayoutModel",
            "_view_count": null,
            "_view_module": "@jupyter-widgets/base",
            "_view_module_version": "1.2.0",
            "_view_name": "LayoutView",
            "align_content": null,
            "align_items": null,
            "align_self": null,
            "border": null,
            "bottom": null,
            "display": null,
            "flex": null,
            "flex_flow": null,
            "grid_area": null,
            "grid_auto_columns": null,
            "grid_auto_flow": null,
            "grid_auto_rows": null,
            "grid_column": null,
            "grid_gap": null,
            "grid_row": null,
            "grid_template_areas": null,
            "grid_template_columns": null,
            "grid_template_rows": null,
            "height": null,
            "justify_content": null,
            "justify_items": null,
            "left": null,
            "margin": null,
            "max_height": null,
            "max_width": null,
            "min_height": null,
            "min_width": null,
            "object_fit": null,
            "object_position": null,
            "order": null,
            "overflow": null,
            "overflow_x": null,
            "overflow_y": null,
            "padding": null,
            "right": null,
            "top": null,
            "visibility": null,
            "width": null
          }
        },
        "85f7d03bf90a405f9cfa1a6e48fbad42": {
          "model_module": "@jupyter-widgets/controls",
          "model_name": "DescriptionStyleModel",
          "model_module_version": "1.5.0",
          "state": {
            "_model_module": "@jupyter-widgets/controls",
            "_model_module_version": "1.5.0",
            "_model_name": "DescriptionStyleModel",
            "_view_count": null,
            "_view_module": "@jupyter-widgets/base",
            "_view_module_version": "1.2.0",
            "_view_name": "StyleView",
            "description_width": ""
          }
        },
        "8e8407104335457580fd66d7fd0af0ad": {
          "model_module": "@jupyter-widgets/controls",
          "model_name": "HBoxModel",
          "model_module_version": "1.5.0",
          "state": {
            "_dom_classes": [],
            "_model_module": "@jupyter-widgets/controls",
            "_model_module_version": "1.5.0",
            "_model_name": "HBoxModel",
            "_view_count": null,
            "_view_module": "@jupyter-widgets/controls",
            "_view_module_version": "1.5.0",
            "_view_name": "HBoxView",
            "box_style": "",
            "children": [
              "IPY_MODEL_da1f388c56864845a6af4c51f4abc44e",
              "IPY_MODEL_4bb68458fbc44e69b60b8338d5073157",
              "IPY_MODEL_c8252e7d356548eab669d272fa7ea848"
            ],
            "layout": "IPY_MODEL_37f57089138341ffad26256edbdfb4ff"
          }
        },
        "da1f388c56864845a6af4c51f4abc44e": {
          "model_module": "@jupyter-widgets/controls",
          "model_name": "HTMLModel",
          "model_module_version": "1.5.0",
          "state": {
            "_dom_classes": [],
            "_model_module": "@jupyter-widgets/controls",
            "_model_module_version": "1.5.0",
            "_model_name": "HTMLModel",
            "_view_count": null,
            "_view_module": "@jupyter-widgets/controls",
            "_view_module_version": "1.5.0",
            "_view_name": "HTMLView",
            "description": "",
            "description_tooltip": null,
            "layout": "IPY_MODEL_294dd3e39e8f4921a6272572d68a5302",
            "placeholder": "​",
            "style": "IPY_MODEL_1d73b369921a4b71b66c8fabbcbb075b",
            "value": "Downloading (…)cial_tokens_map.json: 100%"
          }
        },
        "4bb68458fbc44e69b60b8338d5073157": {
          "model_module": "@jupyter-widgets/controls",
          "model_name": "FloatProgressModel",
          "model_module_version": "1.5.0",
          "state": {
            "_dom_classes": [],
            "_model_module": "@jupyter-widgets/controls",
            "_model_module_version": "1.5.0",
            "_model_name": "FloatProgressModel",
            "_view_count": null,
            "_view_module": "@jupyter-widgets/controls",
            "_view_module_version": "1.5.0",
            "_view_name": "ProgressView",
            "bar_style": "success",
            "description": "",
            "description_tooltip": null,
            "layout": "IPY_MODEL_87107d2342c448a0bfddcb4e2e1eed13",
            "max": 125,
            "min": 0,
            "orientation": "horizontal",
            "style": "IPY_MODEL_5040d51a005943fc8b701b4d3339b120",
            "value": 125
          }
        },
        "c8252e7d356548eab669d272fa7ea848": {
          "model_module": "@jupyter-widgets/controls",
          "model_name": "HTMLModel",
          "model_module_version": "1.5.0",
          "state": {
            "_dom_classes": [],
            "_model_module": "@jupyter-widgets/controls",
            "_model_module_version": "1.5.0",
            "_model_name": "HTMLModel",
            "_view_count": null,
            "_view_module": "@jupyter-widgets/controls",
            "_view_module_version": "1.5.0",
            "_view_name": "HTMLView",
            "description": "",
            "description_tooltip": null,
            "layout": "IPY_MODEL_5ba16f3735a949d499b0e6219a7f3d48",
            "placeholder": "​",
            "style": "IPY_MODEL_a47e9affa04a4331a742f7ba9489ba65",
            "value": " 125/125 [00:00&lt;00:00, 11.6kB/s]"
          }
        },
        "37f57089138341ffad26256edbdfb4ff": {
          "model_module": "@jupyter-widgets/base",
          "model_name": "LayoutModel",
          "model_module_version": "1.2.0",
          "state": {
            "_model_module": "@jupyter-widgets/base",
            "_model_module_version": "1.2.0",
            "_model_name": "LayoutModel",
            "_view_count": null,
            "_view_module": "@jupyter-widgets/base",
            "_view_module_version": "1.2.0",
            "_view_name": "LayoutView",
            "align_content": null,
            "align_items": null,
            "align_self": null,
            "border": null,
            "bottom": null,
            "display": null,
            "flex": null,
            "flex_flow": null,
            "grid_area": null,
            "grid_auto_columns": null,
            "grid_auto_flow": null,
            "grid_auto_rows": null,
            "grid_column": null,
            "grid_gap": null,
            "grid_row": null,
            "grid_template_areas": null,
            "grid_template_columns": null,
            "grid_template_rows": null,
            "height": null,
            "justify_content": null,
            "justify_items": null,
            "left": null,
            "margin": null,
            "max_height": null,
            "max_width": null,
            "min_height": null,
            "min_width": null,
            "object_fit": null,
            "object_position": null,
            "order": null,
            "overflow": null,
            "overflow_x": null,
            "overflow_y": null,
            "padding": null,
            "right": null,
            "top": null,
            "visibility": null,
            "width": null
          }
        },
        "294dd3e39e8f4921a6272572d68a5302": {
          "model_module": "@jupyter-widgets/base",
          "model_name": "LayoutModel",
          "model_module_version": "1.2.0",
          "state": {
            "_model_module": "@jupyter-widgets/base",
            "_model_module_version": "1.2.0",
            "_model_name": "LayoutModel",
            "_view_count": null,
            "_view_module": "@jupyter-widgets/base",
            "_view_module_version": "1.2.0",
            "_view_name": "LayoutView",
            "align_content": null,
            "align_items": null,
            "align_self": null,
            "border": null,
            "bottom": null,
            "display": null,
            "flex": null,
            "flex_flow": null,
            "grid_area": null,
            "grid_auto_columns": null,
            "grid_auto_flow": null,
            "grid_auto_rows": null,
            "grid_column": null,
            "grid_gap": null,
            "grid_row": null,
            "grid_template_areas": null,
            "grid_template_columns": null,
            "grid_template_rows": null,
            "height": null,
            "justify_content": null,
            "justify_items": null,
            "left": null,
            "margin": null,
            "max_height": null,
            "max_width": null,
            "min_height": null,
            "min_width": null,
            "object_fit": null,
            "object_position": null,
            "order": null,
            "overflow": null,
            "overflow_x": null,
            "overflow_y": null,
            "padding": null,
            "right": null,
            "top": null,
            "visibility": null,
            "width": null
          }
        },
        "1d73b369921a4b71b66c8fabbcbb075b": {
          "model_module": "@jupyter-widgets/controls",
          "model_name": "DescriptionStyleModel",
          "model_module_version": "1.5.0",
          "state": {
            "_model_module": "@jupyter-widgets/controls",
            "_model_module_version": "1.5.0",
            "_model_name": "DescriptionStyleModel",
            "_view_count": null,
            "_view_module": "@jupyter-widgets/base",
            "_view_module_version": "1.2.0",
            "_view_name": "StyleView",
            "description_width": ""
          }
        },
        "87107d2342c448a0bfddcb4e2e1eed13": {
          "model_module": "@jupyter-widgets/base",
          "model_name": "LayoutModel",
          "model_module_version": "1.2.0",
          "state": {
            "_model_module": "@jupyter-widgets/base",
            "_model_module_version": "1.2.0",
            "_model_name": "LayoutModel",
            "_view_count": null,
            "_view_module": "@jupyter-widgets/base",
            "_view_module_version": "1.2.0",
            "_view_name": "LayoutView",
            "align_content": null,
            "align_items": null,
            "align_self": null,
            "border": null,
            "bottom": null,
            "display": null,
            "flex": null,
            "flex_flow": null,
            "grid_area": null,
            "grid_auto_columns": null,
            "grid_auto_flow": null,
            "grid_auto_rows": null,
            "grid_column": null,
            "grid_gap": null,
            "grid_row": null,
            "grid_template_areas": null,
            "grid_template_columns": null,
            "grid_template_rows": null,
            "height": null,
            "justify_content": null,
            "justify_items": null,
            "left": null,
            "margin": null,
            "max_height": null,
            "max_width": null,
            "min_height": null,
            "min_width": null,
            "object_fit": null,
            "object_position": null,
            "order": null,
            "overflow": null,
            "overflow_x": null,
            "overflow_y": null,
            "padding": null,
            "right": null,
            "top": null,
            "visibility": null,
            "width": null
          }
        },
        "5040d51a005943fc8b701b4d3339b120": {
          "model_module": "@jupyter-widgets/controls",
          "model_name": "ProgressStyleModel",
          "model_module_version": "1.5.0",
          "state": {
            "_model_module": "@jupyter-widgets/controls",
            "_model_module_version": "1.5.0",
            "_model_name": "ProgressStyleModel",
            "_view_count": null,
            "_view_module": "@jupyter-widgets/base",
            "_view_module_version": "1.2.0",
            "_view_name": "StyleView",
            "bar_color": null,
            "description_width": ""
          }
        },
        "5ba16f3735a949d499b0e6219a7f3d48": {
          "model_module": "@jupyter-widgets/base",
          "model_name": "LayoutModel",
          "model_module_version": "1.2.0",
          "state": {
            "_model_module": "@jupyter-widgets/base",
            "_model_module_version": "1.2.0",
            "_model_name": "LayoutModel",
            "_view_count": null,
            "_view_module": "@jupyter-widgets/base",
            "_view_module_version": "1.2.0",
            "_view_name": "LayoutView",
            "align_content": null,
            "align_items": null,
            "align_self": null,
            "border": null,
            "bottom": null,
            "display": null,
            "flex": null,
            "flex_flow": null,
            "grid_area": null,
            "grid_auto_columns": null,
            "grid_auto_flow": null,
            "grid_auto_rows": null,
            "grid_column": null,
            "grid_gap": null,
            "grid_row": null,
            "grid_template_areas": null,
            "grid_template_columns": null,
            "grid_template_rows": null,
            "height": null,
            "justify_content": null,
            "justify_items": null,
            "left": null,
            "margin": null,
            "max_height": null,
            "max_width": null,
            "min_height": null,
            "min_width": null,
            "object_fit": null,
            "object_position": null,
            "order": null,
            "overflow": null,
            "overflow_x": null,
            "overflow_y": null,
            "padding": null,
            "right": null,
            "top": null,
            "visibility": null,
            "width": null
          }
        },
        "a47e9affa04a4331a742f7ba9489ba65": {
          "model_module": "@jupyter-widgets/controls",
          "model_name": "DescriptionStyleModel",
          "model_module_version": "1.5.0",
          "state": {
            "_model_module": "@jupyter-widgets/controls",
            "_model_module_version": "1.5.0",
            "_model_name": "DescriptionStyleModel",
            "_view_count": null,
            "_view_module": "@jupyter-widgets/base",
            "_view_module_version": "1.2.0",
            "_view_name": "StyleView",
            "description_width": ""
          }
        },
        "08e47ac22b09492caae2129255d333e9": {
          "model_module": "@jupyter-widgets/controls",
          "model_name": "HBoxModel",
          "model_module_version": "1.5.0",
          "state": {
            "_dom_classes": [],
            "_model_module": "@jupyter-widgets/controls",
            "_model_module_version": "1.5.0",
            "_model_name": "HBoxModel",
            "_view_count": null,
            "_view_module": "@jupyter-widgets/controls",
            "_view_module_version": "1.5.0",
            "_view_name": "HBoxView",
            "box_style": "",
            "children": [
              "IPY_MODEL_5475741e35114d98a3d8cb79df4aa31b",
              "IPY_MODEL_777e2a233b60467a98e9be04a8f45356",
              "IPY_MODEL_6f8acf7e9bdb4ccbb9091bff68a132e5"
            ],
            "layout": "IPY_MODEL_99e9c17a91784a4c81bf5b1cdcad9d60"
          }
        },
        "5475741e35114d98a3d8cb79df4aa31b": {
          "model_module": "@jupyter-widgets/controls",
          "model_name": "HTMLModel",
          "model_module_version": "1.5.0",
          "state": {
            "_dom_classes": [],
            "_model_module": "@jupyter-widgets/controls",
            "_model_module_version": "1.5.0",
            "_model_name": "HTMLModel",
            "_view_count": null,
            "_view_module": "@jupyter-widgets/controls",
            "_view_module_version": "1.5.0",
            "_view_name": "HTMLView",
            "description": "",
            "description_tooltip": null,
            "layout": "IPY_MODEL_55dd52efbfad45dd8f2c844db1de2067",
            "placeholder": "​",
            "style": "IPY_MODEL_c8b3a33906e24d36981d70a84af61c1a",
            "value": "Downloading (…)okenizer_config.json: 100%"
          }
        },
        "777e2a233b60467a98e9be04a8f45356": {
          "model_module": "@jupyter-widgets/controls",
          "model_name": "FloatProgressModel",
          "model_module_version": "1.5.0",
          "state": {
            "_dom_classes": [],
            "_model_module": "@jupyter-widgets/controls",
            "_model_module_version": "1.5.0",
            "_model_name": "FloatProgressModel",
            "_view_count": null,
            "_view_module": "@jupyter-widgets/controls",
            "_view_module_version": "1.5.0",
            "_view_name": "ProgressView",
            "bar_style": "success",
            "description": "",
            "description_tooltip": null,
            "layout": "IPY_MODEL_455dbb47ca4c4d71b07d4e4e47bb61d2",
            "max": 289,
            "min": 0,
            "orientation": "horizontal",
            "style": "IPY_MODEL_18221bee438842509fb43db07cdec380",
            "value": 289
          }
        },
        "6f8acf7e9bdb4ccbb9091bff68a132e5": {
          "model_module": "@jupyter-widgets/controls",
          "model_name": "HTMLModel",
          "model_module_version": "1.5.0",
          "state": {
            "_dom_classes": [],
            "_model_module": "@jupyter-widgets/controls",
            "_model_module_version": "1.5.0",
            "_model_name": "HTMLModel",
            "_view_count": null,
            "_view_module": "@jupyter-widgets/controls",
            "_view_module_version": "1.5.0",
            "_view_name": "HTMLView",
            "description": "",
            "description_tooltip": null,
            "layout": "IPY_MODEL_b9c9c86dfbff42949e778b5b03df4222",
            "placeholder": "​",
            "style": "IPY_MODEL_ed7c3ebde76c49a7b544899c426040d8",
            "value": " 289/289 [00:00&lt;00:00, 27.2kB/s]"
          }
        },
        "99e9c17a91784a4c81bf5b1cdcad9d60": {
          "model_module": "@jupyter-widgets/base",
          "model_name": "LayoutModel",
          "model_module_version": "1.2.0",
          "state": {
            "_model_module": "@jupyter-widgets/base",
            "_model_module_version": "1.2.0",
            "_model_name": "LayoutModel",
            "_view_count": null,
            "_view_module": "@jupyter-widgets/base",
            "_view_module_version": "1.2.0",
            "_view_name": "LayoutView",
            "align_content": null,
            "align_items": null,
            "align_self": null,
            "border": null,
            "bottom": null,
            "display": null,
            "flex": null,
            "flex_flow": null,
            "grid_area": null,
            "grid_auto_columns": null,
            "grid_auto_flow": null,
            "grid_auto_rows": null,
            "grid_column": null,
            "grid_gap": null,
            "grid_row": null,
            "grid_template_areas": null,
            "grid_template_columns": null,
            "grid_template_rows": null,
            "height": null,
            "justify_content": null,
            "justify_items": null,
            "left": null,
            "margin": null,
            "max_height": null,
            "max_width": null,
            "min_height": null,
            "min_width": null,
            "object_fit": null,
            "object_position": null,
            "order": null,
            "overflow": null,
            "overflow_x": null,
            "overflow_y": null,
            "padding": null,
            "right": null,
            "top": null,
            "visibility": null,
            "width": null
          }
        },
        "55dd52efbfad45dd8f2c844db1de2067": {
          "model_module": "@jupyter-widgets/base",
          "model_name": "LayoutModel",
          "model_module_version": "1.2.0",
          "state": {
            "_model_module": "@jupyter-widgets/base",
            "_model_module_version": "1.2.0",
            "_model_name": "LayoutModel",
            "_view_count": null,
            "_view_module": "@jupyter-widgets/base",
            "_view_module_version": "1.2.0",
            "_view_name": "LayoutView",
            "align_content": null,
            "align_items": null,
            "align_self": null,
            "border": null,
            "bottom": null,
            "display": null,
            "flex": null,
            "flex_flow": null,
            "grid_area": null,
            "grid_auto_columns": null,
            "grid_auto_flow": null,
            "grid_auto_rows": null,
            "grid_column": null,
            "grid_gap": null,
            "grid_row": null,
            "grid_template_areas": null,
            "grid_template_columns": null,
            "grid_template_rows": null,
            "height": null,
            "justify_content": null,
            "justify_items": null,
            "left": null,
            "margin": null,
            "max_height": null,
            "max_width": null,
            "min_height": null,
            "min_width": null,
            "object_fit": null,
            "object_position": null,
            "order": null,
            "overflow": null,
            "overflow_x": null,
            "overflow_y": null,
            "padding": null,
            "right": null,
            "top": null,
            "visibility": null,
            "width": null
          }
        },
        "c8b3a33906e24d36981d70a84af61c1a": {
          "model_module": "@jupyter-widgets/controls",
          "model_name": "DescriptionStyleModel",
          "model_module_version": "1.5.0",
          "state": {
            "_model_module": "@jupyter-widgets/controls",
            "_model_module_version": "1.5.0",
            "_model_name": "DescriptionStyleModel",
            "_view_count": null,
            "_view_module": "@jupyter-widgets/base",
            "_view_module_version": "1.2.0",
            "_view_name": "StyleView",
            "description_width": ""
          }
        },
        "455dbb47ca4c4d71b07d4e4e47bb61d2": {
          "model_module": "@jupyter-widgets/base",
          "model_name": "LayoutModel",
          "model_module_version": "1.2.0",
          "state": {
            "_model_module": "@jupyter-widgets/base",
            "_model_module_version": "1.2.0",
            "_model_name": "LayoutModel",
            "_view_count": null,
            "_view_module": "@jupyter-widgets/base",
            "_view_module_version": "1.2.0",
            "_view_name": "LayoutView",
            "align_content": null,
            "align_items": null,
            "align_self": null,
            "border": null,
            "bottom": null,
            "display": null,
            "flex": null,
            "flex_flow": null,
            "grid_area": null,
            "grid_auto_columns": null,
            "grid_auto_flow": null,
            "grid_auto_rows": null,
            "grid_column": null,
            "grid_gap": null,
            "grid_row": null,
            "grid_template_areas": null,
            "grid_template_columns": null,
            "grid_template_rows": null,
            "height": null,
            "justify_content": null,
            "justify_items": null,
            "left": null,
            "margin": null,
            "max_height": null,
            "max_width": null,
            "min_height": null,
            "min_width": null,
            "object_fit": null,
            "object_position": null,
            "order": null,
            "overflow": null,
            "overflow_x": null,
            "overflow_y": null,
            "padding": null,
            "right": null,
            "top": null,
            "visibility": null,
            "width": null
          }
        },
        "18221bee438842509fb43db07cdec380": {
          "model_module": "@jupyter-widgets/controls",
          "model_name": "ProgressStyleModel",
          "model_module_version": "1.5.0",
          "state": {
            "_model_module": "@jupyter-widgets/controls",
            "_model_module_version": "1.5.0",
            "_model_name": "ProgressStyleModel",
            "_view_count": null,
            "_view_module": "@jupyter-widgets/base",
            "_view_module_version": "1.2.0",
            "_view_name": "StyleView",
            "bar_color": null,
            "description_width": ""
          }
        },
        "b9c9c86dfbff42949e778b5b03df4222": {
          "model_module": "@jupyter-widgets/base",
          "model_name": "LayoutModel",
          "model_module_version": "1.2.0",
          "state": {
            "_model_module": "@jupyter-widgets/base",
            "_model_module_version": "1.2.0",
            "_model_name": "LayoutModel",
            "_view_count": null,
            "_view_module": "@jupyter-widgets/base",
            "_view_module_version": "1.2.0",
            "_view_name": "LayoutView",
            "align_content": null,
            "align_items": null,
            "align_self": null,
            "border": null,
            "bottom": null,
            "display": null,
            "flex": null,
            "flex_flow": null,
            "grid_area": null,
            "grid_auto_columns": null,
            "grid_auto_flow": null,
            "grid_auto_rows": null,
            "grid_column": null,
            "grid_gap": null,
            "grid_row": null,
            "grid_template_areas": null,
            "grid_template_columns": null,
            "grid_template_rows": null,
            "height": null,
            "justify_content": null,
            "justify_items": null,
            "left": null,
            "margin": null,
            "max_height": null,
            "max_width": null,
            "min_height": null,
            "min_width": null,
            "object_fit": null,
            "object_position": null,
            "order": null,
            "overflow": null,
            "overflow_x": null,
            "overflow_y": null,
            "padding": null,
            "right": null,
            "top": null,
            "visibility": null,
            "width": null
          }
        },
        "ed7c3ebde76c49a7b544899c426040d8": {
          "model_module": "@jupyter-widgets/controls",
          "model_name": "DescriptionStyleModel",
          "model_module_version": "1.5.0",
          "state": {
            "_model_module": "@jupyter-widgets/controls",
            "_model_module_version": "1.5.0",
            "_model_name": "DescriptionStyleModel",
            "_view_count": null,
            "_view_module": "@jupyter-widgets/base",
            "_view_module_version": "1.2.0",
            "_view_name": "StyleView",
            "description_width": ""
          }
        },
        "9899d0c05edf4c289b15305b15842eb2": {
          "model_module": "@jupyter-widgets/controls",
          "model_name": "HBoxModel",
          "model_module_version": "1.5.0",
          "state": {
            "_dom_classes": [],
            "_model_module": "@jupyter-widgets/controls",
            "_model_module_version": "1.5.0",
            "_model_name": "HBoxModel",
            "_view_count": null,
            "_view_module": "@jupyter-widgets/controls",
            "_view_module_version": "1.5.0",
            "_view_name": "HBoxView",
            "box_style": "",
            "children": [
              "IPY_MODEL_7abadbae39214752a28d7f0e3f09e915",
              "IPY_MODEL_8b9568ef03a540258c09d6f89459f122",
              "IPY_MODEL_27c473c61c6341e896df987e029c74b9"
            ],
            "layout": "IPY_MODEL_11ed1e6aaa3d477ca6fd63012db4e7c7"
          }
        },
        "7abadbae39214752a28d7f0e3f09e915": {
          "model_module": "@jupyter-widgets/controls",
          "model_name": "HTMLModel",
          "model_module_version": "1.5.0",
          "state": {
            "_dom_classes": [],
            "_model_module": "@jupyter-widgets/controls",
            "_model_module_version": "1.5.0",
            "_model_name": "HTMLModel",
            "_view_count": null,
            "_view_module": "@jupyter-widgets/controls",
            "_view_module_version": "1.5.0",
            "_view_name": "HTMLView",
            "description": "",
            "description_tooltip": null,
            "layout": "IPY_MODEL_978d7313c94e46ae94311583062d485c",
            "placeholder": "​",
            "style": "IPY_MODEL_ab0cca7fdb5742bda502fffe6dc6bd5a",
            "value": "Downloading (…)lve/main/config.json: 100%"
          }
        },
        "8b9568ef03a540258c09d6f89459f122": {
          "model_module": "@jupyter-widgets/controls",
          "model_name": "FloatProgressModel",
          "model_module_version": "1.5.0",
          "state": {
            "_dom_classes": [],
            "_model_module": "@jupyter-widgets/controls",
            "_model_module_version": "1.5.0",
            "_model_name": "FloatProgressModel",
            "_view_count": null,
            "_view_module": "@jupyter-widgets/controls",
            "_view_module_version": "1.5.0",
            "_view_name": "ProgressView",
            "bar_style": "success",
            "description": "",
            "description_tooltip": null,
            "layout": "IPY_MODEL_fd953a2185584922b4a1e3fc36aabf79",
            "max": 425,
            "min": 0,
            "orientation": "horizontal",
            "style": "IPY_MODEL_0871ed09c475445e809c2d2ae5165e0f",
            "value": 425
          }
        },
        "27c473c61c6341e896df987e029c74b9": {
          "model_module": "@jupyter-widgets/controls",
          "model_name": "HTMLModel",
          "model_module_version": "1.5.0",
          "state": {
            "_dom_classes": [],
            "_model_module": "@jupyter-widgets/controls",
            "_model_module_version": "1.5.0",
            "_model_name": "HTMLModel",
            "_view_count": null,
            "_view_module": "@jupyter-widgets/controls",
            "_view_module_version": "1.5.0",
            "_view_name": "HTMLView",
            "description": "",
            "description_tooltip": null,
            "layout": "IPY_MODEL_7dcdb0f38f344108b6759805a2e0938d",
            "placeholder": "​",
            "style": "IPY_MODEL_4d1e5a53f87d4af0bf799d0ef26b49a6",
            "value": " 425/425 [00:00&lt;00:00, 39.8kB/s]"
          }
        },
        "11ed1e6aaa3d477ca6fd63012db4e7c7": {
          "model_module": "@jupyter-widgets/base",
          "model_name": "LayoutModel",
          "model_module_version": "1.2.0",
          "state": {
            "_model_module": "@jupyter-widgets/base",
            "_model_module_version": "1.2.0",
            "_model_name": "LayoutModel",
            "_view_count": null,
            "_view_module": "@jupyter-widgets/base",
            "_view_module_version": "1.2.0",
            "_view_name": "LayoutView",
            "align_content": null,
            "align_items": null,
            "align_self": null,
            "border": null,
            "bottom": null,
            "display": null,
            "flex": null,
            "flex_flow": null,
            "grid_area": null,
            "grid_auto_columns": null,
            "grid_auto_flow": null,
            "grid_auto_rows": null,
            "grid_column": null,
            "grid_gap": null,
            "grid_row": null,
            "grid_template_areas": null,
            "grid_template_columns": null,
            "grid_template_rows": null,
            "height": null,
            "justify_content": null,
            "justify_items": null,
            "left": null,
            "margin": null,
            "max_height": null,
            "max_width": null,
            "min_height": null,
            "min_width": null,
            "object_fit": null,
            "object_position": null,
            "order": null,
            "overflow": null,
            "overflow_x": null,
            "overflow_y": null,
            "padding": null,
            "right": null,
            "top": null,
            "visibility": null,
            "width": null
          }
        },
        "978d7313c94e46ae94311583062d485c": {
          "model_module": "@jupyter-widgets/base",
          "model_name": "LayoutModel",
          "model_module_version": "1.2.0",
          "state": {
            "_model_module": "@jupyter-widgets/base",
            "_model_module_version": "1.2.0",
            "_model_name": "LayoutModel",
            "_view_count": null,
            "_view_module": "@jupyter-widgets/base",
            "_view_module_version": "1.2.0",
            "_view_name": "LayoutView",
            "align_content": null,
            "align_items": null,
            "align_self": null,
            "border": null,
            "bottom": null,
            "display": null,
            "flex": null,
            "flex_flow": null,
            "grid_area": null,
            "grid_auto_columns": null,
            "grid_auto_flow": null,
            "grid_auto_rows": null,
            "grid_column": null,
            "grid_gap": null,
            "grid_row": null,
            "grid_template_areas": null,
            "grid_template_columns": null,
            "grid_template_rows": null,
            "height": null,
            "justify_content": null,
            "justify_items": null,
            "left": null,
            "margin": null,
            "max_height": null,
            "max_width": null,
            "min_height": null,
            "min_width": null,
            "object_fit": null,
            "object_position": null,
            "order": null,
            "overflow": null,
            "overflow_x": null,
            "overflow_y": null,
            "padding": null,
            "right": null,
            "top": null,
            "visibility": null,
            "width": null
          }
        },
        "ab0cca7fdb5742bda502fffe6dc6bd5a": {
          "model_module": "@jupyter-widgets/controls",
          "model_name": "DescriptionStyleModel",
          "model_module_version": "1.5.0",
          "state": {
            "_model_module": "@jupyter-widgets/controls",
            "_model_module_version": "1.5.0",
            "_model_name": "DescriptionStyleModel",
            "_view_count": null,
            "_view_module": "@jupyter-widgets/base",
            "_view_module_version": "1.2.0",
            "_view_name": "StyleView",
            "description_width": ""
          }
        },
        "fd953a2185584922b4a1e3fc36aabf79": {
          "model_module": "@jupyter-widgets/base",
          "model_name": "LayoutModel",
          "model_module_version": "1.2.0",
          "state": {
            "_model_module": "@jupyter-widgets/base",
            "_model_module_version": "1.2.0",
            "_model_name": "LayoutModel",
            "_view_count": null,
            "_view_module": "@jupyter-widgets/base",
            "_view_module_version": "1.2.0",
            "_view_name": "LayoutView",
            "align_content": null,
            "align_items": null,
            "align_self": null,
            "border": null,
            "bottom": null,
            "display": null,
            "flex": null,
            "flex_flow": null,
            "grid_area": null,
            "grid_auto_columns": null,
            "grid_auto_flow": null,
            "grid_auto_rows": null,
            "grid_column": null,
            "grid_gap": null,
            "grid_row": null,
            "grid_template_areas": null,
            "grid_template_columns": null,
            "grid_template_rows": null,
            "height": null,
            "justify_content": null,
            "justify_items": null,
            "left": null,
            "margin": null,
            "max_height": null,
            "max_width": null,
            "min_height": null,
            "min_width": null,
            "object_fit": null,
            "object_position": null,
            "order": null,
            "overflow": null,
            "overflow_x": null,
            "overflow_y": null,
            "padding": null,
            "right": null,
            "top": null,
            "visibility": null,
            "width": null
          }
        },
        "0871ed09c475445e809c2d2ae5165e0f": {
          "model_module": "@jupyter-widgets/controls",
          "model_name": "ProgressStyleModel",
          "model_module_version": "1.5.0",
          "state": {
            "_model_module": "@jupyter-widgets/controls",
            "_model_module_version": "1.5.0",
            "_model_name": "ProgressStyleModel",
            "_view_count": null,
            "_view_module": "@jupyter-widgets/base",
            "_view_module_version": "1.2.0",
            "_view_name": "StyleView",
            "bar_color": null,
            "description_width": ""
          }
        },
        "7dcdb0f38f344108b6759805a2e0938d": {
          "model_module": "@jupyter-widgets/base",
          "model_name": "LayoutModel",
          "model_module_version": "1.2.0",
          "state": {
            "_model_module": "@jupyter-widgets/base",
            "_model_module_version": "1.2.0",
            "_model_name": "LayoutModel",
            "_view_count": null,
            "_view_module": "@jupyter-widgets/base",
            "_view_module_version": "1.2.0",
            "_view_name": "LayoutView",
            "align_content": null,
            "align_items": null,
            "align_self": null,
            "border": null,
            "bottom": null,
            "display": null,
            "flex": null,
            "flex_flow": null,
            "grid_area": null,
            "grid_auto_columns": null,
            "grid_auto_flow": null,
            "grid_auto_rows": null,
            "grid_column": null,
            "grid_gap": null,
            "grid_row": null,
            "grid_template_areas": null,
            "grid_template_columns": null,
            "grid_template_rows": null,
            "height": null,
            "justify_content": null,
            "justify_items": null,
            "left": null,
            "margin": null,
            "max_height": null,
            "max_width": null,
            "min_height": null,
            "min_width": null,
            "object_fit": null,
            "object_position": null,
            "order": null,
            "overflow": null,
            "overflow_x": null,
            "overflow_y": null,
            "padding": null,
            "right": null,
            "top": null,
            "visibility": null,
            "width": null
          }
        },
        "4d1e5a53f87d4af0bf799d0ef26b49a6": {
          "model_module": "@jupyter-widgets/controls",
          "model_name": "DescriptionStyleModel",
          "model_module_version": "1.5.0",
          "state": {
            "_model_module": "@jupyter-widgets/controls",
            "_model_module_version": "1.5.0",
            "_model_name": "DescriptionStyleModel",
            "_view_count": null,
            "_view_module": "@jupyter-widgets/base",
            "_view_module_version": "1.2.0",
            "_view_name": "StyleView",
            "description_width": ""
          }
        }
      }
    }
  },
  "nbformat": 4,
  "nbformat_minor": 5
}