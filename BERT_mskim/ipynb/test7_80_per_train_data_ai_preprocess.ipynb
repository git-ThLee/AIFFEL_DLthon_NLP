{
 "cells": [
  {
   "cell_type": "markdown",
   "id": "da0f8860",
   "metadata": {},
   "source": [
    "## 모듈 선언"
   ]
  },
  {
   "cell_type": "code",
   "execution_count": 1,
   "id": "7b5aad7b",
   "metadata": {},
   "outputs": [],
   "source": [
    "import os\n",
    "import pandas as pd\n",
    "import tensorflow as tf\n",
    "from transformers import BertTokenizer, TFBertForSequenceClassification\n",
    "from sklearn.model_selection import train_test_split\n",
    "from tensorflow.keras.utils import plot_model\n",
    "import json\n",
    "from soynlp.normalizer import *\n",
    "from tqdm import tqdm\n",
    "import re\n",
    "import matplotlib.pyplot as plt\n",
    "import numpy as np"
   ]
  },
  {
   "cell_type": "markdown",
   "id": "d298c583",
   "metadata": {},
   "source": [
    "`from soynlp.normalizer import *`  \n",
    "한국어 분석을 위한 pure python code\n",
    "- 학습데이터를 이용하지 않으면서 데이터에 존재하는 단어를 찾거나, 문장을 단어열로 분해, 혹은 품사 판별을 할 수 있는 비지도학습 접근법을 지향합니다.\n",
    "- [Github Link](https://github.com/lovit/soynlp)\n",
    "\n",
    "---\n",
    "\n"
   ]
  },
  {
   "cell_type": "markdown",
   "id": "5e1fa557",
   "metadata": {},
   "source": [
    "## 파일 읽기"
   ]
  },
  {
   "cell_type": "markdown",
   "id": "f943db0b",
   "metadata": {},
   "source": [
    "### 1) Train Data"
   ]
  },
  {
   "cell_type": "markdown",
   "id": "636291d1",
   "metadata": {},
   "source": [
    "#### CSV file read (as DataFrame)"
   ]
  },
  {
   "cell_type": "code",
   "execution_count": 2,
   "id": "a59d0e9c",
   "metadata": {},
   "outputs": [],
   "source": [
    "train_data_path =\"/aiffel/aiffel/train_ai_last.csv\"\n",
    "train_data = pd.read_csv(train_data_path)"
   ]
  },
  {
   "cell_type": "markdown",
   "id": "b2c4a7a9",
   "metadata": {},
   "source": [
    "### 2) Validation Data"
   ]
  },
  {
   "cell_type": "markdown",
   "id": "ae10532d",
   "metadata": {},
   "source": [
    "#### CSV file read (as DataFrame)"
   ]
  },
  {
   "cell_type": "code",
   "execution_count": 3,
   "id": "48bac21f",
   "metadata": {},
   "outputs": [],
   "source": [
    "val_data_path = \"/aiffel/aiffel/val.csv\"\n",
    "val_data = pd.read_csv(val_data_path)"
   ]
  },
  {
   "cell_type": "markdown",
   "id": "94ac02e7",
   "metadata": {},
   "source": [
    "#### Data Read (with `tail`)"
   ]
  },
  {
   "cell_type": "markdown",
   "id": "a9dcf0ef",
   "metadata": {},
   "source": [
    "##### Train Data"
   ]
  },
  {
   "cell_type": "code",
   "execution_count": 4,
   "id": "36c4f1ca",
   "metadata": {},
   "outputs": [
    {
     "data": {
      "text/html": [
       "<div>\n",
       "<style scoped>\n",
       "    .dataframe tbody tr th:only-of-type {\n",
       "        vertical-align: middle;\n",
       "    }\n",
       "\n",
       "    .dataframe tbody tr th {\n",
       "        vertical-align: top;\n",
       "    }\n",
       "\n",
       "    .dataframe thead th {\n",
       "        text-align: right;\n",
       "    }\n",
       "</style>\n",
       "<table border=\"1\" class=\"dataframe\">\n",
       "  <thead>\n",
       "    <tr style=\"text-align: right;\">\n",
       "      <th></th>\n",
       "      <th>Unnamed: 0</th>\n",
       "      <th>idx</th>\n",
       "      <th>class</th>\n",
       "      <th>conversation</th>\n",
       "    </tr>\n",
       "  </thead>\n",
       "  <tbody>\n",
       "    <tr>\n",
       "      <th>3945</th>\n",
       "      <td>3945</td>\n",
       "      <td>3945</td>\n",
       "      <td>기타 괴롭힘 대화</td>\n",
       "      <td>준하야 넌 대가리가 왜이렇게 크냐?\\n밥먹으면 대가리만 크냐 너는?\\n주위를 둘러봐...</td>\n",
       "    </tr>\n",
       "    <tr>\n",
       "      <th>3946</th>\n",
       "      <td>3946</td>\n",
       "      <td>3946</td>\n",
       "      <td>갈취 대화</td>\n",
       "      <td>내가 지금 너 아들 김길준 데리고 있어. 살리고 싶으면 계좌에 1억만 보내\\n말로?...</td>\n",
       "    </tr>\n",
       "    <tr>\n",
       "      <th>3947</th>\n",
       "      <td>3947</td>\n",
       "      <td>3947</td>\n",
       "      <td>직장 내 괴롭힘 대화</td>\n",
       "      <td>나는 씨 같은 사람 보면 참 신기하더라. 어떻게 저렇게 살지.\\n들리라고 해. 아니...</td>\n",
       "    </tr>\n",
       "    <tr>\n",
       "      <th>3948</th>\n",
       "      <td>3948</td>\n",
       "      <td>3948</td>\n",
       "      <td>갈취 대화</td>\n",
       "      <td>누구맘대로 여기서 장사하래?\\n남의 구역에서 장사하려면 자릿세를 내야지.\\n그거랑 ...</td>\n",
       "    </tr>\n",
       "    <tr>\n",
       "      <th>3949</th>\n",
       "      <td>3949</td>\n",
       "      <td>3949</td>\n",
       "      <td>직장 내 괴롭힘 대화</td>\n",
       "      <td>네?\\n갑자기 왜그러세요?\\n네 여름이라 기분전환으로.\\n그냥 파스텔톤으로만 칠한건...</td>\n",
       "    </tr>\n",
       "  </tbody>\n",
       "</table>\n",
       "</div>"
      ],
      "text/plain": [
       "      Unnamed: 0   idx        class  \\\n",
       "3945        3945  3945    기타 괴롭힘 대화   \n",
       "3946        3946  3946        갈취 대화   \n",
       "3947        3947  3947  직장 내 괴롭힘 대화   \n",
       "3948        3948  3948        갈취 대화   \n",
       "3949        3949  3949  직장 내 괴롭힘 대화   \n",
       "\n",
       "                                           conversation  \n",
       "3945  준하야 넌 대가리가 왜이렇게 크냐?\\n밥먹으면 대가리만 크냐 너는?\\n주위를 둘러봐...  \n",
       "3946  내가 지금 너 아들 김길준 데리고 있어. 살리고 싶으면 계좌에 1억만 보내\\n말로?...  \n",
       "3947  나는 씨 같은 사람 보면 참 신기하더라. 어떻게 저렇게 살지.\\n들리라고 해. 아니...  \n",
       "3948  누구맘대로 여기서 장사하래?\\n남의 구역에서 장사하려면 자릿세를 내야지.\\n그거랑 ...  \n",
       "3949  네?\\n갑자기 왜그러세요?\\n네 여름이라 기분전환으로.\\n그냥 파스텔톤으로만 칠한건...  "
      ]
     },
     "execution_count": 4,
     "metadata": {},
     "output_type": "execute_result"
    }
   ],
   "source": [
    "train_data.tail()"
   ]
  },
  {
   "cell_type": "markdown",
   "id": "c4dc5b82",
   "metadata": {},
   "source": [
    "##### Validation Data"
   ]
  },
  {
   "cell_type": "code",
   "execution_count": 5,
   "id": "e8579629",
   "metadata": {},
   "outputs": [
    {
     "data": {
      "text/html": [
       "<div>\n",
       "<style scoped>\n",
       "    .dataframe tbody tr th:only-of-type {\n",
       "        vertical-align: middle;\n",
       "    }\n",
       "\n",
       "    .dataframe tbody tr th {\n",
       "        vertical-align: top;\n",
       "    }\n",
       "\n",
       "    .dataframe thead th {\n",
       "        text-align: right;\n",
       "    }\n",
       "</style>\n",
       "<table border=\"1\" class=\"dataframe\">\n",
       "  <thead>\n",
       "    <tr style=\"text-align: right;\">\n",
       "      <th></th>\n",
       "      <th>class</th>\n",
       "      <th>conversation</th>\n",
       "    </tr>\n",
       "  </thead>\n",
       "  <tbody>\n",
       "    <tr>\n",
       "      <th>785</th>\n",
       "      <td>직장 내 괴롭힘 대화</td>\n",
       "      <td>씨 요즘 얼굴 좋아보이네 아 감사합니다 씨는 성격이 참 좋은 것 같아 눈치가 없는건...</td>\n",
       "    </tr>\n",
       "    <tr>\n",
       "      <th>786</th>\n",
       "      <td>직장 내 괴롭힘 대화</td>\n",
       "      <td>길동씨 아파요 네 아뇨 얼굴이 죽은사람같네 죽은사람이라뇨 립스틱이라도 발라 화장했는...</td>\n",
       "    </tr>\n",
       "    <tr>\n",
       "      <th>787</th>\n",
       "      <td>갈취 대화</td>\n",
       "      <td>저기 학생 돈 좀 얼마 줄 수 있나 아 할머니 얼마나 필요하세요 만원정도 필요해 죄...</td>\n",
       "    </tr>\n",
       "    <tr>\n",
       "      <th>788</th>\n",
       "      <td>직장 내 괴롭힘 대화</td>\n",
       "      <td>어이 너희들 용모가 왜이리 단정하지 못하냐 중대장님 왜그러 십니까 전역이 코앞입니다...</td>\n",
       "    </tr>\n",
       "    <tr>\n",
       "      <th>789</th>\n",
       "      <td>직장 내 괴롭힘 대화</td>\n",
       "      <td>너 이거 왜이리 못해 몇번을 말해야 알아먹어 죄송해요 맨날 죄송하다는 말만하니 죄송...</td>\n",
       "    </tr>\n",
       "  </tbody>\n",
       "</table>\n",
       "</div>"
      ],
      "text/plain": [
       "           class                                       conversation\n",
       "785  직장 내 괴롭힘 대화  씨 요즘 얼굴 좋아보이네 아 감사합니다 씨는 성격이 참 좋은 것 같아 눈치가 없는건...\n",
       "786  직장 내 괴롭힘 대화  길동씨 아파요 네 아뇨 얼굴이 죽은사람같네 죽은사람이라뇨 립스틱이라도 발라 화장했는...\n",
       "787        갈취 대화  저기 학생 돈 좀 얼마 줄 수 있나 아 할머니 얼마나 필요하세요 만원정도 필요해 죄...\n",
       "788  직장 내 괴롭힘 대화  어이 너희들 용모가 왜이리 단정하지 못하냐 중대장님 왜그러 십니까 전역이 코앞입니다...\n",
       "789  직장 내 괴롭힘 대화  너 이거 왜이리 못해 몇번을 말해야 알아먹어 죄송해요 맨날 죄송하다는 말만하니 죄송..."
      ]
     },
     "execution_count": 5,
     "metadata": {},
     "output_type": "execute_result"
    }
   ],
   "source": [
    "val_data.tail()"
   ]
  },
  {
   "cell_type": "markdown",
   "id": "20e39d0a",
   "metadata": {},
   "source": [
    "---"
   ]
  },
  {
   "cell_type": "markdown",
   "id": "1f270290",
   "metadata": {},
   "source": [
    "## 데이터 변환"
   ]
  },
  {
   "cell_type": "markdown",
   "id": "8681bdaa",
   "metadata": {},
   "source": [
    "### 1-1. Train data를 `sentences`에 저장"
   ]
  },
  {
   "cell_type": "code",
   "execution_count": 6,
   "id": "d1ada780",
   "metadata": {},
   "outputs": [
    {
     "name": "stderr",
     "output_type": "stream",
     "text": [
      "Generate sentences..: 100%|██████████| 3950/3950 [00:00<00:00, 2078472.06it/s]\n"
     ]
    }
   ],
   "source": [
    "# 학습할 문장이 담길 배열\n",
    "sentences = []\n",
    "\n",
    "for val in tqdm(train_data['conversation'], desc=\"Generate sentences..\"):\n",
    "    # 전처리가 된 conversation을 val로 받아오기\n",
    "    sentences.append(val)"
   ]
  },
  {
   "cell_type": "code",
   "execution_count": 7,
   "id": "f44db8a9",
   "metadata": {},
   "outputs": [
    {
     "data": {
      "text/plain": [
       "3950"
      ]
     },
     "execution_count": 7,
     "metadata": {},
     "output_type": "execute_result"
    }
   ],
   "source": [
    "len(sentences)"
   ]
  },
  {
   "cell_type": "markdown",
   "id": "bb431dbd",
   "metadata": {},
   "source": [
    "### 1-2. Validation data를 `sentences2`에 저장"
   ]
  },
  {
   "cell_type": "code",
   "execution_count": 8,
   "id": "2e5d9aaa",
   "metadata": {},
   "outputs": [
    {
     "name": "stderr",
     "output_type": "stream",
     "text": [
      "Generate sentences..: 100%|██████████| 790/790 [00:00<00:00, 1605377.98it/s]\n"
     ]
    }
   ],
   "source": [
    "# 학습할 문장이 담길 배열\n",
    "sentences2 = []\n",
    "\n",
    "for val in tqdm(val_data['conversation'], desc=\"Generate sentences..\"):\n",
    "    # 전처리가 된 conversation을 val로 받아오기\n",
    "    sentences2.append(val)"
   ]
  },
  {
   "cell_type": "code",
   "execution_count": 9,
   "id": "a71bb25b",
   "metadata": {},
   "outputs": [
    {
     "data": {
      "text/plain": [
       "790"
      ]
     },
     "execution_count": 9,
     "metadata": {},
     "output_type": "execute_result"
    }
   ],
   "source": [
    "len(sentences2)"
   ]
  },
  {
   "cell_type": "markdown",
   "id": "bb581e92",
   "metadata": {},
   "source": [
    "---"
   ]
  },
  {
   "cell_type": "markdown",
   "id": "b1cf9de2",
   "metadata": {},
   "source": [
    "#### `class` 값은 숫자로 변환하여 저장한다\n",
    "- `협박 관련 대화` &rarr; `0`\n",
    "- `갈취 관련 대화` &rarr; `1`\n",
    "- `직장 관련 대화` &rarr; `2`  \n",
    "- `기타 관련 대화` &rarr; `3`"
   ]
  },
  {
   "cell_type": "markdown",
   "id": "1b648c1c",
   "metadata": {},
   "source": [
    "### 2-1. Train data의 클래스를  `lables`에 저장"
   ]
  },
  {
   "cell_type": "code",
   "execution_count": 10,
   "id": "7cd65334",
   "metadata": {},
   "outputs": [
    {
     "name": "stderr",
     "output_type": "stream",
     "text": [
      "class label convert to num...: 100%|██████████| 3950/3950 [00:00<00:00, 1340087.42it/s]\n"
     ]
    }
   ],
   "source": [
    "labels = []\n",
    "\n",
    "for val in tqdm(train_data['class'], desc=\"class label convert to num...\"):    \n",
    "    if '갈취' in val:\n",
    "        labels.append(1)\n",
    "    if '기타' in val:\n",
    "        labels.append(3)\n",
    "    if '직장' in val:\n",
    "        labels.append(2)\n",
    "    if '협박' in val:\n",
    "        labels.append(0)"
   ]
  },
  {
   "cell_type": "code",
   "execution_count": 11,
   "id": "b473daaf",
   "metadata": {},
   "outputs": [
    {
     "data": {
      "text/plain": [
       "3950"
      ]
     },
     "execution_count": 11,
     "metadata": {},
     "output_type": "execute_result"
    }
   ],
   "source": [
    "len(labels)"
   ]
  },
  {
   "cell_type": "markdown",
   "id": "3a85bf5d",
   "metadata": {},
   "source": [
    "### 2-2. Validation data의 클래스를 `labels2`에 저장"
   ]
  },
  {
   "cell_type": "code",
   "execution_count": 12,
   "id": "c8340066",
   "metadata": {},
   "outputs": [
    {
     "name": "stderr",
     "output_type": "stream",
     "text": [
      "class label convert to num...: 100%|██████████| 790/790 [00:00<00:00, 1041326.26it/s]\n"
     ]
    }
   ],
   "source": [
    "labels2 = []\n",
    "\n",
    "for val in tqdm(val_data['class'], desc=\"class label convert to num...\"):    \n",
    "    if '갈취' in val:\n",
    "        labels2.append(1)\n",
    "    if '기타' in val:\n",
    "        labels2.append(3)\n",
    "    if '직장' in val:\n",
    "        labels2.append(2)\n",
    "    if '협박' in val:\n",
    "        labels2.append(0)"
   ]
  },
  {
   "cell_type": "code",
   "execution_count": 13,
   "id": "6095f43b",
   "metadata": {},
   "outputs": [
    {
     "data": {
      "text/plain": [
       "790"
      ]
     },
     "execution_count": 13,
     "metadata": {},
     "output_type": "execute_result"
    }
   ],
   "source": [
    "len(labels2)"
   ]
  },
  {
   "cell_type": "markdown",
   "id": "af66de02",
   "metadata": {},
   "source": [
    "---"
   ]
  },
  {
   "cell_type": "markdown",
   "id": "5ee3c76b",
   "metadata": {},
   "source": [
    "## 모델 학습 준비"
   ]
  },
  {
   "cell_type": "markdown",
   "id": "e22f3352",
   "metadata": {},
   "source": [
    "### 1) 모델 학습용 파라미터 선언"
   ]
  },
  {
   "cell_type": "code",
   "execution_count": 14,
   "id": "3f24ed80",
   "metadata": {},
   "outputs": [],
   "source": [
    "# 토큰 최대 길이\n",
    "MAX_LEN = 128\n",
    "# 데이터 묶음 크기\n",
    "BATCH_SIZE = 16\n",
    "# Learning Rate\n",
    "lr = 1e-5\n",
    "# 훈련 횟수\n",
    "EPOCH = 6"
   ]
  },
  {
   "cell_type": "markdown",
   "id": "72dd1f4d",
   "metadata": {},
   "source": [
    "### 2) 데이터셋 분할"
   ]
  },
  {
   "cell_type": "code",
   "execution_count": 15,
   "id": "e12e80b7",
   "metadata": {},
   "outputs": [],
   "source": [
    "# Train data\n",
    "train_sentences = sentences\n",
    "\n",
    "# Val data\n",
    "val_sentences = sentences2\n",
    "\n",
    "# Train Label\n",
    "train_labels = labels\n",
    "\n",
    "# Val Label\n",
    "val_labels = labels2"
   ]
  },
  {
   "cell_type": "markdown",
   "id": "1a76131d",
   "metadata": {},
   "source": [
    "### 3) 사용하지 않는 변수 초기화"
   ]
  },
  {
   "cell_type": "code",
   "execution_count": 16,
   "id": "718e1b70",
   "metadata": {},
   "outputs": [],
   "source": [
    "# 메모리 관리\n",
    "del sentences\n",
    "del sentences2\n",
    "del labels\n",
    "del labels2"
   ]
  },
  {
   "cell_type": "markdown",
   "id": "e3bdeb1b",
   "metadata": {},
   "source": [
    "### 4) 모델 선언\n",
    "1. 모델: `bert-base-multilingual-cased`\n",
    "2. BERT 토크나이저 사용"
   ]
  },
  {
   "cell_type": "code",
   "execution_count": 17,
   "id": "49accf7b",
   "metadata": {},
   "outputs": [
    {
     "name": "stderr",
     "output_type": "stream",
     "text": [
      "All model checkpoint layers were used when initializing TFBertForSequenceClassification.\n",
      "\n",
      "Some layers of TFBertForSequenceClassification were not initialized from the model checkpoint at bert-base-multilingual-cased and are newly initialized: ['classifier']\n",
      "You should probably TRAIN this model on a down-stream task to be able to use it for predictions and inference.\n"
     ]
    }
   ],
   "source": [
    "# BERT 토크나이저와 모델 준비\n",
    "tokenizer = BertTokenizer.from_pretrained(\"bert-base-multilingual-cased\")\n",
    "model = TFBertForSequenceClassification.from_pretrained(\"bert-base-multilingual-cased\", num_labels=4)"
   ]
  },
  {
   "cell_type": "markdown",
   "id": "48a2ecbc",
   "metadata": {},
   "source": [
    "### 5) 데이터(`train`, `validation`)를 BERT 형식으로 변환\n",
    "1. `예시` &rarr; `[CLS] 안녕하세요 [SEP]`\n",
    "2. 문장 구분 토큰을 추가하여 Encoding"
   ]
  },
  {
   "cell_type": "code",
   "execution_count": 18,
   "id": "3311a08a",
   "metadata": {},
   "outputs": [],
   "source": [
    "# 데이터셋을 BERT 입력 형식으로 변환\n",
    "train_encodings = tokenizer(train_sentences, truncation=True, padding=True, max_length=MAX_LEN) # 뒤쪽에 패딩\n",
    "val_encodings = tokenizer(val_sentences, truncation=True, padding=True, max_length=MAX_LEN)"
   ]
  },
  {
   "cell_type": "markdown",
   "id": "be5c18d1",
   "metadata": {},
   "source": [
    "### 6) Tensor 데이터셋 생성"
   ]
  },
  {
   "cell_type": "code",
   "execution_count": 19,
   "id": "a68de5b5",
   "metadata": {},
   "outputs": [
    {
     "name": "stdout",
     "output_type": "stream",
     "text": [
      "Train tensor dataset generated!\n"
     ]
    }
   ],
   "source": [
    "train_dataset = tf.data.Dataset.from_tensor_slices((\n",
    "    dict(train_encodings),\n",
    "    train_labels\n",
    ")).shuffle(100).batch(BATCH_SIZE)\n",
    "\n",
    "print(\"Train tensor dataset generated!\")"
   ]
  },
  {
   "cell_type": "code",
   "execution_count": 20,
   "id": "32cef929",
   "metadata": {},
   "outputs": [
    {
     "name": "stdout",
     "output_type": "stream",
     "text": [
      "Validation tensor dataset generated!\n"
     ]
    }
   ],
   "source": [
    "val_dataset = tf.data.Dataset.from_tensor_slices((\n",
    "    dict(val_encodings),\n",
    "    val_labels\n",
    ")).batch(BATCH_SIZE)\n",
    "\n",
    "print(\"Validation tensor dataset generated!\")"
   ]
  },
  {
   "cell_type": "markdown",
   "id": "ca655457",
   "metadata": {},
   "source": [
    "---"
   ]
  },
  {
   "cell_type": "markdown",
   "id": "8f4c1a5c",
   "metadata": {},
   "source": [
    "## 모델 훈련"
   ]
  },
  {
   "cell_type": "markdown",
   "id": "6fa784db",
   "metadata": {},
   "source": [
    "### 1) 모델 컴파일"
   ]
  },
  {
   "cell_type": "code",
   "execution_count": 21,
   "id": "17a7ab10",
   "metadata": {},
   "outputs": [],
   "source": [
    "model.compile(optimizer=tf.keras.optimizers.Adam(learning_rate=lr),\n",
    "              loss=tf.keras.losses.SparseCategoricalCrossentropy(from_logits=True),\n",
    "              metrics=['accuracy'])"
   ]
  },
  {
   "cell_type": "markdown",
   "id": "a200d491",
   "metadata": {},
   "source": [
    "---"
   ]
  },
  {
   "cell_type": "markdown",
   "id": "5c67e320",
   "metadata": {},
   "source": [
    "### 2) 모델 구조 시각화"
   ]
  },
  {
   "cell_type": "code",
   "execution_count": 22,
   "id": "a4ef0523",
   "metadata": {},
   "outputs": [
    {
     "data": {
      "image/png": "[encoded data removed]",
      "text/plain": [
       "<IPython.core.display.Image object>"
      ]
     },
     "execution_count": 22,
     "metadata": {},
     "output_type": "execute_result"
    }
   ],
   "source": [
    "plot_model(model, show_shapes=True, show_layer_names=True)"
   ]
  },
  {
   "cell_type": "markdown",
   "id": "dbbb3706",
   "metadata": {},
   "source": [
    "### 3) 모델 훈련"
   ]
  },
  {
   "cell_type": "code",
   "execution_count": 23,
   "id": "f57615ff",
   "metadata": {
    "scrolled": true
   },
   "outputs": [
    {
     "name": "stdout",
     "output_type": "stream",
     "text": [
      "Epoch 1/6\n",
      "247/247 [==============================] - 135s 486ms/step - loss: 0.9928 - accuracy: 0.5841 - val_loss: 0.5957 - val_accuracy: 0.7772\n",
      "Epoch 2/6\n",
      "247/247 [==============================] - 119s 480ms/step - loss: 0.5435 - accuracy: 0.8091 - val_loss: 0.4543 - val_accuracy: 0.8430\n",
      "Epoch 3/6\n",
      "247/247 [==============================] - 119s 480ms/step - loss: 0.3997 - accuracy: 0.8648 - val_loss: 0.4433 - val_accuracy: 0.8468\n",
      "Epoch 4/6\n",
      "247/247 [==============================] - 119s 480ms/step - loss: 0.3139 - accuracy: 0.8985 - val_loss: 0.3996 - val_accuracy: 0.8722\n",
      "Epoch 5/6\n",
      "247/247 [==============================] - 119s 480ms/step - loss: 0.2456 - accuracy: 0.9215 - val_loss: 0.3289 - val_accuracy: 0.8899\n",
      "Epoch 6/6\n",
      "247/247 [==============================] - 119s 480ms/step - loss: 0.1680 - accuracy: 0.9491 - val_loss: 0.3053 - val_accuracy: 0.9076\n"
     ]
    },
    {
     "data": {
      "text/plain": [
       "<keras.callbacks.History at 0x7fbd20585100>"
      ]
     },
     "execution_count": 23,
     "metadata": {},
     "output_type": "execute_result"
    }
   ],
   "source": [
    "model.fit(train_dataset, validation_data=val_dataset, epochs=EPOCH)"
   ]
  },
  {
   "cell_type": "markdown",
   "id": "81abc0d6",
   "metadata": {},
   "source": [
    "### 4) 모델 평가"
   ]
  },
  {
   "cell_type": "code",
   "execution_count": 24,
   "id": "450793e0",
   "metadata": {},
   "outputs": [
    {
     "name": "stdout",
     "output_type": "stream",
     "text": [
      "50/50 [==============================] - 7s 143ms/step - loss: 0.3053 - accuracy: 0.9076\n"
     ]
    }
   ],
   "source": [
    "evaluation = model.evaluate(val_dataset)"
   ]
  },
  {
   "cell_type": "markdown",
   "id": "c57165e9",
   "metadata": {},
   "source": [
    "---"
   ]
  },
  {
   "cell_type": "markdown",
   "id": "7bcd134a",
   "metadata": {},
   "source": [
    "## submission.csv 생성해보기"
   ]
  },
  {
   "cell_type": "markdown",
   "id": "b05698db",
   "metadata": {},
   "source": [
    "### 1) 파일 읽기 (`test.json`)"
   ]
  },
  {
   "cell_type": "code",
   "execution_count": 25,
   "id": "7a6922e9",
   "metadata": {},
   "outputs": [],
   "source": [
    "test_data_path =\"/aiffel/aiffel/dktc/data/test.json\"\n",
    "\n",
    "with open(test_data_path, \"r\", encoding=\"utf-8\") as json_file:\n",
    "    test = json.load(json_file)"
   ]
  },
  {
   "cell_type": "markdown",
   "id": "cad0b3a6",
   "metadata": {},
   "source": [
    "### 2) 테스트 데이터 읽으면서 예측해보기"
   ]
  },
  {
   "cell_type": "code",
   "execution_count": 26,
   "id": "cd2fcda1",
   "metadata": {},
   "outputs": [],
   "source": [
    "test_predicst = list()\n",
    "\n",
    "for key in test:\n",
    "    test_sentence = test[key]['text']\n",
    "    \n",
    "    test_encodings = tokenizer(test_sentence, truncation=True, padding=True, max_length=128, return_tensors=\"tf\")\n",
    "    \n",
    "    test_predictions = model.predict({\n",
    "        \"input_ids\": test_encodings[\"input_ids\"],\n",
    "        \"token_type_ids\": test_encodings[\"token_type_ids\"],\n",
    "        \"attention_mask\": test_encodings[\"attention_mask\"]\n",
    "    }) # [ 0.7805823,  2.6188664, -2.0281641, -0.9672525]\n",
    "    test_class_probabilities = tf.nn.softmax(test_predictions.logits, axis=-1).numpy() # [[0.13297564 0.8358507  0.00801584 0.02315779]]\n",
    "    test_predicted_class = np.argmax(test_class_probabilities, axis=1) # [ 1 ]\n",
    "    test_predicst.append(test_predicted_class[0])"
   ]
  },
  {
   "cell_type": "markdown",
   "id": "7cfd4ddc",
   "metadata": {},
   "source": [
    "### 3) `submission.csv` 파일을 위한 `DataFrame` 생성"
   ]
  },
  {
   "cell_type": "code",
   "execution_count": 27,
   "id": "0761818a",
   "metadata": {},
   "outputs": [
    {
     "data": {
      "text/html": [
       "<div>\n",
       "<style scoped>\n",
       "    .dataframe tbody tr th:only-of-type {\n",
       "        vertical-align: middle;\n",
       "    }\n",
       "\n",
       "    .dataframe tbody tr th {\n",
       "        vertical-align: top;\n",
       "    }\n",
       "\n",
       "    .dataframe thead th {\n",
       "        text-align: right;\n",
       "    }\n",
       "</style>\n",
       "<table border=\"1\" class=\"dataframe\">\n",
       "  <thead>\n",
       "    <tr style=\"text-align: right;\">\n",
       "      <th></th>\n",
       "      <th>class</th>\n",
       "    </tr>\n",
       "  </thead>\n",
       "  <tbody>\n",
       "    <tr>\n",
       "      <th>t_000</th>\n",
       "      <td>01</td>\n",
       "    </tr>\n",
       "    <tr>\n",
       "      <th>t_001</th>\n",
       "      <td>02</td>\n",
       "    </tr>\n",
       "    <tr>\n",
       "      <th>t_002</th>\n",
       "      <td>02</td>\n",
       "    </tr>\n",
       "    <tr>\n",
       "      <th>t_004</th>\n",
       "      <td>03</td>\n",
       "    </tr>\n",
       "    <tr>\n",
       "      <th>t_005</th>\n",
       "      <td>00</td>\n",
       "    </tr>\n",
       "    <tr>\n",
       "      <th>...</th>\n",
       "      <td>...</td>\n",
       "    </tr>\n",
       "    <tr>\n",
       "      <th>t_495</th>\n",
       "      <td>02</td>\n",
       "    </tr>\n",
       "    <tr>\n",
       "      <th>t_496</th>\n",
       "      <td>03</td>\n",
       "    </tr>\n",
       "    <tr>\n",
       "      <th>t_497</th>\n",
       "      <td>01</td>\n",
       "    </tr>\n",
       "    <tr>\n",
       "      <th>t_498</th>\n",
       "      <td>00</td>\n",
       "    </tr>\n",
       "    <tr>\n",
       "      <th>t_499</th>\n",
       "      <td>00</td>\n",
       "    </tr>\n",
       "  </tbody>\n",
       "</table>\n",
       "<p>400 rows × 1 columns</p>\n",
       "</div>"
      ],
      "text/plain": [
       "      class\n",
       "t_000    01\n",
       "t_001    02\n",
       "t_002    02\n",
       "t_004    03\n",
       "t_005    00\n",
       "...     ...\n",
       "t_495    02\n",
       "t_496    03\n",
       "t_497    01\n",
       "t_498    00\n",
       "t_499    00\n",
       "\n",
       "[400 rows x 1 columns]"
      ]
     },
     "execution_count": 27,
     "metadata": {},
     "output_type": "execute_result"
    }
   ],
   "source": [
    "def labelnum_to_text(x):\n",
    "    if x == 1 : # 갈취\n",
    "        return '01'\n",
    "    if x == 2 : # 직장\n",
    "        return '02'\n",
    "    if x == 3 : # 기타\n",
    "        return '03'\n",
    "    if x == 0 : # 협박 \n",
    "        return '00'\n",
    "\n",
    "submission = pd.DataFrame({'class':test_predicst}, index=list(test.keys()))\n",
    "submission['class'] = submission['class'].apply(labelnum_to_text)\n",
    "submission"
   ]
  },
  {
   "cell_type": "markdown",
   "id": "a3110a09",
   "metadata": {},
   "source": [
    "### 4) CSV 파일 저장"
   ]
  },
  {
   "cell_type": "code",
   "execution_count": 28,
   "id": "3085e87d",
   "metadata": {},
   "outputs": [],
   "source": [
    "# 파일명 설정\n",
    "file_name = \"submission_test7_80_per_train_data_ai_preprocess.csv\""
   ]
  },
  {
   "cell_type": "code",
   "execution_count": 29,
   "id": "f127abb5",
   "metadata": {},
   "outputs": [],
   "source": [
    "# 파일 생성\n",
    "submission.to_csv(file_name)"
   ]
  },
  {
   "cell_type": "markdown",
   "id": "397fd344",
   "metadata": {},
   "source": [
    "# 테스트 회고"
   ]
  },
  {
   "cell_type": "markdown",
   "id": "49b909fc",
   "metadata": {},
   "source": [
    "1. `OOM Error`로 인해 `MAX_LEN`를 크게 테스트 해보지 못했다. (ex: `300`)\n",
    "    - 약간의 파라미터 수정은 수행하였다.\n",
    "        - `learning rate`, `EPOCH`\n",
    "2. 검증 데이터를 증강하지 않고 미리 분류하였다.\n",
    "3. `from soynlp.normalizer import *`로 전처리된 CSV 파일을 가지고 수행하였다.\n",
    "4. 데이터 EDA 관련해서 클래스에 유의미한 정보는 현재 설정한 `128` 값보다 뒤에 있는 경우가 많음을 알게 되었다.\n",
    "    - 편향성 증가 우려가 있음\n",
    "5. 훈련 데이터 전처리를 `chat gpt`를 통해 수행하였다.\n",
    "    - 가해자 문장만 추출하기\n",
    "    - 균일하지 않은 경우가 발생\n",
    "    - 화자가 2인을 초과할 경우 정확하게 가해자, 피해자를 구분하기 어려운 이슈보임"
   ]
  }
 ],
 "metadata": {
  "kernelspec": {
   "display_name": "Python 3 (ipykernel)",
   "language": "python",
   "name": "python3"
  },
  "language_info": {
   "codemirror_mode": {
    "name": "ipython",
    "version": 3
   },
   "file_extension": ".py",
   "mimetype": "text/x-python",
   "name": "python",
   "nbconvert_exporter": "python",
   "pygments_lexer": "ipython3",
   "version": "3.9.7"
  }
 },
 "nbformat": 4,
 "nbformat_minor": 5
}
