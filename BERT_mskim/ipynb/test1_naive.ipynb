{
 "cells": [
  {
   "cell_type": "markdown",
   "id": "c7f51682",
   "metadata": {},
   "source": [
    "## 모듈 선언"
   ]
  },
  {
   "cell_type": "code",
   "execution_count": 1,
   "id": "3ce36ff1",
   "metadata": {},
   "outputs": [],
   "source": [
    "import os\n",
    "import pandas as pd\n",
    "import tensorflow as tf\n",
    "from transformers import BertTokenizer, TFBertForSequenceClassification\n",
    "from sklearn.model_selection import train_test_split\n",
    "from tensorflow.keras.utils import plot_model\n",
    "import json\n",
    "from tqdm import tqdm\n",
    "import matplotlib.pyplot as plt\n",
    "import numpy as np"
   ]
  },
  {
   "cell_type": "markdown",
   "id": "958fef1d",
   "metadata": {},
   "source": [
    "---"
   ]
  },
  {
   "cell_type": "markdown",
   "id": "cfdaa910",
   "metadata": {},
   "source": [
    "## 파일 읽기"
   ]
  },
  {
   "cell_type": "markdown",
   "id": "53019ebb",
   "metadata": {},
   "source": [
    "### 1) Train Data"
   ]
  },
  {
   "cell_type": "markdown",
   "id": "fe2771b6",
   "metadata": {},
   "source": [
    "#### CSV file read (as DataFrame)"
   ]
  },
  {
   "cell_type": "code",
   "execution_count": 2,
   "id": "8871456e",
   "metadata": {},
   "outputs": [],
   "source": [
    "train_data_path =\"/aiffel/aiffel/dktc/data/train.csv\"\n",
    "train_data = pd.read_csv(train_data_path)"
   ]
  },
  {
   "cell_type": "markdown",
   "id": "6d5720f9",
   "metadata": {},
   "source": [
    "#### Data Read (with `tail`)"
   ]
  },
  {
   "cell_type": "code",
   "execution_count": 3,
   "id": "d17894ca",
   "metadata": {},
   "outputs": [
    {
     "data": {
      "text/html": [
       "<div>\n",
       "<style scoped>\n",
       "    .dataframe tbody tr th:only-of-type {\n",
       "        vertical-align: middle;\n",
       "    }\n",
       "\n",
       "    .dataframe tbody tr th {\n",
       "        vertical-align: top;\n",
       "    }\n",
       "\n",
       "    .dataframe thead th {\n",
       "        text-align: right;\n",
       "    }\n",
       "</style>\n",
       "<table border=\"1\" class=\"dataframe\">\n",
       "  <thead>\n",
       "    <tr style=\"text-align: right;\">\n",
       "      <th></th>\n",
       "      <th>idx</th>\n",
       "      <th>class</th>\n",
       "      <th>conversation</th>\n",
       "    </tr>\n",
       "  </thead>\n",
       "  <tbody>\n",
       "    <tr>\n",
       "      <th>3945</th>\n",
       "      <td>3945</td>\n",
       "      <td>기타 괴롭힘 대화</td>\n",
       "      <td>준하야 넌 대가리가 왜이렇게 크냐?\\n내 머리가 뭐.\\n밥먹으면 대가리만 크냐 너는...</td>\n",
       "    </tr>\n",
       "    <tr>\n",
       "      <th>3946</th>\n",
       "      <td>3946</td>\n",
       "      <td>갈취 대화</td>\n",
       "      <td>내가 지금 너 아들 김길준 데리고 있어. 살리고 싶으면 계좌에 1억만 보내\\n예.?...</td>\n",
       "    </tr>\n",
       "    <tr>\n",
       "      <th>3947</th>\n",
       "      <td>3947</td>\n",
       "      <td>직장 내 괴롭힘 대화</td>\n",
       "      <td>나는 씨 같은 사람 보면 참 신기하더라. 어떻게 저렇게 살지.\\n왜 그래. 들리겠어...</td>\n",
       "    </tr>\n",
       "    <tr>\n",
       "      <th>3948</th>\n",
       "      <td>3948</td>\n",
       "      <td>갈취 대화</td>\n",
       "      <td>누구맘대로 여기서 장사하래?\\n이게 무슨일입니까?\\n남의 구역에서 장사하려면 자릿세...</td>\n",
       "    </tr>\n",
       "    <tr>\n",
       "      <th>3949</th>\n",
       "      <td>3949</td>\n",
       "      <td>직장 내 괴롭힘 대화</td>\n",
       "      <td>희정씨\\n네?\\n주말에 시간이 넘쳐나나봐\\n갑자기 왜그러세요?\\n손이 빤짝빤짝 네일...</td>\n",
       "    </tr>\n",
       "  </tbody>\n",
       "</table>\n",
       "</div>"
      ],
      "text/plain": [
       "       idx        class                                       conversation\n",
       "3945  3945    기타 괴롭힘 대화  준하야 넌 대가리가 왜이렇게 크냐?\\n내 머리가 뭐.\\n밥먹으면 대가리만 크냐 너는...\n",
       "3946  3946        갈취 대화  내가 지금 너 아들 김길준 데리고 있어. 살리고 싶으면 계좌에 1억만 보내\\n예.?...\n",
       "3947  3947  직장 내 괴롭힘 대화  나는 씨 같은 사람 보면 참 신기하더라. 어떻게 저렇게 살지.\\n왜 그래. 들리겠어...\n",
       "3948  3948        갈취 대화  누구맘대로 여기서 장사하래?\\n이게 무슨일입니까?\\n남의 구역에서 장사하려면 자릿세...\n",
       "3949  3949  직장 내 괴롭힘 대화  희정씨\\n네?\\n주말에 시간이 넘쳐나나봐\\n갑자기 왜그러세요?\\n손이 빤짝빤짝 네일..."
      ]
     },
     "execution_count": 3,
     "metadata": {},
     "output_type": "execute_result"
    }
   ],
   "source": [
    "train_data.tail()"
   ]
  },
  {
   "cell_type": "markdown",
   "id": "6b182d26",
   "metadata": {},
   "source": [
    "---"
   ]
  },
  {
   "cell_type": "markdown",
   "id": "2d7d9d3a",
   "metadata": {},
   "source": [
    "## 데이터 변환"
   ]
  },
  {
   "cell_type": "markdown",
   "id": "31dfa78b",
   "metadata": {},
   "source": [
    "### 1) 대화 데이터(`conversation`)를 `senteces`에 저장"
   ]
  },
  {
   "cell_type": "code",
   "execution_count": 4,
   "id": "62ef690c",
   "metadata": {},
   "outputs": [],
   "source": [
    "sentences = [val for val in train_data['conversation']]"
   ]
  },
  {
   "cell_type": "code",
   "execution_count": 5,
   "id": "b26235cc",
   "metadata": {},
   "outputs": [
    {
     "data": {
      "text/plain": [
       "3950"
      ]
     },
     "execution_count": 5,
     "metadata": {},
     "output_type": "execute_result"
    }
   ],
   "source": [
    "# 대화 데이터 개수 파악\n",
    "len(sentences)"
   ]
  },
  {
   "cell_type": "markdown",
   "id": "2dd948ab",
   "metadata": {},
   "source": [
    "### 2) 대화 분류값(`class`)를 `labels`에 저장"
   ]
  },
  {
   "cell_type": "markdown",
   "id": "e175974e",
   "metadata": {},
   "source": [
    "#### `class` 값은 숫자로 변환하여 `labels`에 저장한다\n",
    "- `협박 관련 대화` &rarr; `0`\n",
    "- `갈취 관련 대화` &rarr; `1`\n",
    "- `직장 관련 대화` &rarr; `2`  \n",
    "- `기타 관련 대화` &rarr; `3`"
   ]
  },
  {
   "cell_type": "code",
   "execution_count": 6,
   "id": "87f979fc",
   "metadata": {},
   "outputs": [
    {
     "name": "stderr",
     "output_type": "stream",
     "text": [
      "change class value to int num...: 100%|██████████| 3950/3950 [00:00<00:00, 1328269.13it/s]\n"
     ]
    }
   ],
   "source": [
    "labels = []\n",
    "\n",
    "for val in tqdm(train_data['class'], desc=\"change class value to int num...\"):\n",
    "    if '갈취' in val:\n",
    "        labels.append(1)\n",
    "    if '기타' in val:\n",
    "        labels.append(3)\n",
    "    if '직장' in val:\n",
    "        labels.append(2)\n",
    "    if '협박' in val:\n",
    "        labels.append(0)"
   ]
  },
  {
   "cell_type": "code",
   "execution_count": 7,
   "id": "e66e941e",
   "metadata": {},
   "outputs": [
    {
     "data": {
      "text/plain": [
       "3950"
      ]
     },
     "execution_count": 7,
     "metadata": {},
     "output_type": "execute_result"
    }
   ],
   "source": [
    "# labels 개수 파악\n",
    "len(labels)"
   ]
  },
  {
   "cell_type": "markdown",
   "id": "956249ca",
   "metadata": {},
   "source": [
    "#### 3) 사용하지 않는 변수 초기화"
   ]
  },
  {
   "cell_type": "code",
   "execution_count": 8,
   "id": "b36a509a",
   "metadata": {},
   "outputs": [],
   "source": [
    "del train_data"
   ]
  },
  {
   "cell_type": "markdown",
   "id": "5af790b5",
   "metadata": {},
   "source": [
    "---"
   ]
  },
  {
   "cell_type": "markdown",
   "id": "d0e40aae",
   "metadata": {},
   "source": [
    "## 모델 학습 준비"
   ]
  },
  {
   "cell_type": "markdown",
   "id": "bfda2c1f",
   "metadata": {},
   "source": [
    "### 1) 모델 학습용 파라미터 선언"
   ]
  },
  {
   "cell_type": "code",
   "execution_count": 9,
   "id": "a6f23e9f",
   "metadata": {},
   "outputs": [],
   "source": [
    "MAX_LEN = 128\n",
    "BATCH_SIZE = 16\n",
    "LEARNING_RATE = 1e-5\n",
    "EPOCH = 3"
   ]
  },
  {
   "cell_type": "markdown",
   "id": "439d955e",
   "metadata": {},
   "source": [
    "### 2) 데이터셋 분할\n",
    "1. `sentences`와 `labels`를 활용\n",
    "2. `8:2` 비율로 `train`, `validation` 데이터셋으로 분할"
   ]
  },
  {
   "cell_type": "code",
   "execution_count": 10,
   "id": "f036090c",
   "metadata": {},
   "outputs": [],
   "source": [
    "# 데이터셋 분할\n",
    "train_sentences, val_sentences, train_labels, val_labels = train_test_split(\n",
    "    sentences, labels, test_size=0.2, random_state=42\n",
    ")"
   ]
  },
  {
   "cell_type": "markdown",
   "id": "64d8738b",
   "metadata": {},
   "source": [
    "### 3) 모델 선언\n",
    "1. 모델: `bert-base-multilingual-cased`\n",
    "2. BERT 토크나이저 사용"
   ]
  },
  {
   "cell_type": "code",
   "execution_count": 11,
   "id": "b012da74",
   "metadata": {},
   "outputs": [
    {
     "name": "stderr",
     "output_type": "stream",
     "text": [
      "All model checkpoint layers were used when initializing TFBertForSequenceClassification.\n",
      "\n",
      "Some layers of TFBertForSequenceClassification were not initialized from the model checkpoint at bert-base-multilingual-cased and are newly initialized: ['classifier']\n",
      "You should probably TRAIN this model on a down-stream task to be able to use it for predictions and inference.\n"
     ]
    }
   ],
   "source": [
    "# BERT 토크나이저와 모델 준비\n",
    "tokenizer = BertTokenizer.from_pretrained(\"bert-base-multilingual-cased\")\n",
    "model = TFBertForSequenceClassification.from_pretrained(\"bert-base-multilingual-cased\", num_labels=4)"
   ]
  },
  {
   "cell_type": "markdown",
   "id": "369924ad",
   "metadata": {},
   "source": [
    "### 4) 데이터(`train`, `validation`)를 BERT 형식으로 변환\n",
    "1. `예시` &rarr; `[CLS] 안녕하세요 [SEP]`\n",
    "2. 문장 구분 토큰을 추가하여 Encoding"
   ]
  },
  {
   "cell_type": "code",
   "execution_count": 12,
   "id": "d4ff8c52",
   "metadata": {},
   "outputs": [],
   "source": [
    "# 데이터셋을 BERT 입력 형식으로 변환\n",
    "train_encodings = tokenizer(train_sentences, truncation=True, padding=True, max_length=MAX_LEN)\n",
    "val_encodings = tokenizer(val_sentences, truncation=True, padding=True, max_length=MAX_LEN)"
   ]
  },
  {
   "cell_type": "markdown",
   "id": "08210676",
   "metadata": {},
   "source": [
    "### 5) Tensor 데이터셋 생성"
   ]
  },
  {
   "cell_type": "code",
   "execution_count": 13,
   "id": "239131d1",
   "metadata": {},
   "outputs": [
    {
     "name": "stdout",
     "output_type": "stream",
     "text": [
      "Train tensor dataset generated!\n"
     ]
    }
   ],
   "source": [
    "train_dataset = tf.data.Dataset.from_tensor_slices((\n",
    "    dict(train_encodings),\n",
    "    train_labels\n",
    ")).shuffle(100).batch(BATCH_SIZE)\n",
    "\n",
    "print(\"Train tensor dataset generated!\")"
   ]
  },
  {
   "cell_type": "code",
   "execution_count": 14,
   "id": "1e7745ee",
   "metadata": {},
   "outputs": [
    {
     "name": "stdout",
     "output_type": "stream",
     "text": [
      "Validation tensor dataset generated!\n"
     ]
    }
   ],
   "source": [
    "val_dataset = tf.data.Dataset.from_tensor_slices((\n",
    "    dict(val_encodings),\n",
    "    val_labels\n",
    ")).batch(BATCH_SIZE)\n",
    "\n",
    "print(\"Validation tensor dataset generated!\")"
   ]
  },
  {
   "cell_type": "markdown",
   "id": "b3cdc867",
   "metadata": {},
   "source": [
    "---"
   ]
  },
  {
   "cell_type": "markdown",
   "id": "61147ca8",
   "metadata": {},
   "source": [
    "## 모델 훈련"
   ]
  },
  {
   "cell_type": "markdown",
   "id": "dc1dd319",
   "metadata": {},
   "source": [
    "### 1) 모델 컴파일"
   ]
  },
  {
   "cell_type": "code",
   "execution_count": 15,
   "id": "f46569ed",
   "metadata": {},
   "outputs": [],
   "source": [
    "model.compile(optimizer=tf.keras.optimizers.Adam(learning_rate=LEARNING_RATE),\n",
    "              loss=tf.keras.losses.SparseCategoricalCrossentropy(from_logits=True),\n",
    "              metrics=[ 'accuracy' ])"
   ]
  },
  {
   "cell_type": "markdown",
   "id": "4563e27e",
   "metadata": {},
   "source": [
    "### 2) 모델 구조 시각화"
   ]
  },
  {
   "cell_type": "code",
   "execution_count": 16,
   "id": "c4868ff0",
   "metadata": {},
   "outputs": [
    {
     "data": {
      "image/png": "[encoded data removed]",
      "text/plain": [
       "<IPython.core.display.Image object>"
      ]
     },
     "execution_count": 16,
     "metadata": {},
     "output_type": "execute_result"
    }
   ],
   "source": [
    "plot_model(model, show_shapes=True, show_layer_names=True)"
   ]
  },
  {
   "cell_type": "markdown",
   "id": "65bbba0c",
   "metadata": {},
   "source": [
    "### 3) 모델 훈련"
   ]
  },
  {
   "cell_type": "code",
   "execution_count": 17,
   "id": "d4bb4d04",
   "metadata": {},
   "outputs": [
    {
     "name": "stdout",
     "output_type": "stream",
     "text": [
      "Epoch 1/3\n",
      "198/198 [==============================] - 116s 508ms/step - loss: 1.0994 - accuracy: 0.5215 - val_loss: 0.6966 - val_accuracy: 0.7532\n",
      "Epoch 2/3\n",
      "198/198 [==============================] - 98s 493ms/step - loss: 0.5830 - accuracy: 0.7924 - val_loss: 0.5299 - val_accuracy: 0.8253\n",
      "Epoch 3/3\n",
      "198/198 [==============================] - 98s 493ms/step - loss: 0.4066 - accuracy: 0.8684 - val_loss: 0.5592 - val_accuracy: 0.8203\n"
     ]
    },
    {
     "data": {
      "text/plain": [
       "<keras.callbacks.History at 0x7f3fa0263c10>"
      ]
     },
     "execution_count": 17,
     "metadata": {},
     "output_type": "execute_result"
    }
   ],
   "source": [
    "model.fit(train_dataset, validation_data=val_dataset, epochs=EPOCH)"
   ]
  },
  {
   "cell_type": "markdown",
   "id": "74b08d06",
   "metadata": {},
   "source": [
    "### 4) 모델 평가"
   ]
  },
  {
   "cell_type": "code",
   "execution_count": 18,
   "id": "83f4c42b",
   "metadata": {},
   "outputs": [
    {
     "name": "stdout",
     "output_type": "stream",
     "text": [
      "50/50 [==============================] - 7s 143ms/step - loss: 0.5592 - accuracy: 0.8203\n"
     ]
    }
   ],
   "source": [
    "evaluation = model.evaluate(val_dataset)"
   ]
  },
  {
   "cell_type": "markdown",
   "id": "2bf0d767",
   "metadata": {},
   "source": [
    "---"
   ]
  },
  {
   "cell_type": "markdown",
   "id": "3f8a0d68",
   "metadata": {},
   "source": [
    "## submission.csv 생성해보기"
   ]
  },
  {
   "cell_type": "markdown",
   "id": "4ac66221",
   "metadata": {},
   "source": [
    "### 1) 파일 읽기 (`test.json`)"
   ]
  },
  {
   "cell_type": "code",
   "execution_count": 24,
   "id": "8badf06a",
   "metadata": {},
   "outputs": [],
   "source": [
    "test_data_path =\"/aiffel/aiffel/dktc/data/test.json\"\n",
    "\n",
    "with open(test_data_path, \"r\", encoding=\"utf-8\") as json_file:\n",
    "    test = json.load(json_file)"
   ]
  },
  {
   "cell_type": "markdown",
   "id": "313e2661",
   "metadata": {},
   "source": [
    "### 2) 테스트 데이터 읽으면서 예측해보기"
   ]
  },
  {
   "cell_type": "code",
   "execution_count": 25,
   "id": "550679da",
   "metadata": {},
   "outputs": [],
   "source": [
    "test_predicst = list()\n",
    "\n",
    "for key in test:\n",
    "    test_sentence = test[key]['text']\n",
    "    \n",
    "    test_encodings = tokenizer(test_sentence, truncation=True, padding=True, max_length=128, return_tensors=\"tf\")\n",
    "    \n",
    "    test_predictions = model.predict({\n",
    "        \"input_ids\": test_encodings[\"input_ids\"],\n",
    "        \"token_type_ids\": test_encodings[\"token_type_ids\"],\n",
    "        \"attention_mask\": test_encodings[\"attention_mask\"]\n",
    "    }) # [ 0.7805823,  2.6188664, -2.0281641, -0.9672525]\n",
    "    test_class_probabilities = tf.nn.softmax(test_predictions.logits, axis=-1).numpy() # [[0.13297564 0.8358507  0.00801584 0.02315779]]\n",
    "    test_predicted_class = np.argmax(test_class_probabilities, axis=1) # [ 1 ]\n",
    "    test_predicst.append(test_predicted_class[0])"
   ]
  },
  {
   "cell_type": "markdown",
   "id": "28b7672a",
   "metadata": {},
   "source": [
    "### 3) `submission.csv` 파일을 위한 `DataFrame` 생성"
   ]
  },
  {
   "cell_type": "code",
   "execution_count": 26,
   "id": "c6186b7e",
   "metadata": {},
   "outputs": [
    {
     "data": {
      "text/html": [
       "<div>\n",
       "<style scoped>\n",
       "    .dataframe tbody tr th:only-of-type {\n",
       "        vertical-align: middle;\n",
       "    }\n",
       "\n",
       "    .dataframe tbody tr th {\n",
       "        vertical-align: top;\n",
       "    }\n",
       "\n",
       "    .dataframe thead th {\n",
       "        text-align: right;\n",
       "    }\n",
       "</style>\n",
       "<table border=\"1\" class=\"dataframe\">\n",
       "  <thead>\n",
       "    <tr style=\"text-align: right;\">\n",
       "      <th></th>\n",
       "      <th>class</th>\n",
       "    </tr>\n",
       "  </thead>\n",
       "  <tbody>\n",
       "    <tr>\n",
       "      <th>t_000</th>\n",
       "      <td>01</td>\n",
       "    </tr>\n",
       "    <tr>\n",
       "      <th>t_001</th>\n",
       "      <td>02</td>\n",
       "    </tr>\n",
       "    <tr>\n",
       "      <th>t_002</th>\n",
       "      <td>02</td>\n",
       "    </tr>\n",
       "    <tr>\n",
       "      <th>t_004</th>\n",
       "      <td>03</td>\n",
       "    </tr>\n",
       "    <tr>\n",
       "      <th>t_005</th>\n",
       "      <td>03</td>\n",
       "    </tr>\n",
       "    <tr>\n",
       "      <th>...</th>\n",
       "      <td>...</td>\n",
       "    </tr>\n",
       "    <tr>\n",
       "      <th>t_495</th>\n",
       "      <td>02</td>\n",
       "    </tr>\n",
       "    <tr>\n",
       "      <th>t_496</th>\n",
       "      <td>02</td>\n",
       "    </tr>\n",
       "    <tr>\n",
       "      <th>t_497</th>\n",
       "      <td>01</td>\n",
       "    </tr>\n",
       "    <tr>\n",
       "      <th>t_498</th>\n",
       "      <td>02</td>\n",
       "    </tr>\n",
       "    <tr>\n",
       "      <th>t_499</th>\n",
       "      <td>00</td>\n",
       "    </tr>\n",
       "  </tbody>\n",
       "</table>\n",
       "<p>400 rows × 1 columns</p>\n",
       "</div>"
      ],
      "text/plain": [
       "      class\n",
       "t_000    01\n",
       "t_001    02\n",
       "t_002    02\n",
       "t_004    03\n",
       "t_005    03\n",
       "...     ...\n",
       "t_495    02\n",
       "t_496    02\n",
       "t_497    01\n",
       "t_498    02\n",
       "t_499    00\n",
       "\n",
       "[400 rows x 1 columns]"
      ]
     },
     "execution_count": 26,
     "metadata": {},
     "output_type": "execute_result"
    }
   ],
   "source": [
    "def labelnum_to_text(x):\n",
    "    if x == 1 : # 갈취\n",
    "        return '01'\n",
    "    if x == 2 : # 직장\n",
    "        return '02'\n",
    "    if x == 3 : # 기타\n",
    "        return '03'\n",
    "    if x == 0 : # 협박 \n",
    "        return '00'\n",
    "\n",
    "submission = pd.DataFrame({'class':test_predicst}, index=list(test.keys()))\n",
    "submission['class'] = submission['class'].apply(labelnum_to_text)\n",
    "submission"
   ]
  },
  {
   "cell_type": "markdown",
   "id": "ea1c75cf",
   "metadata": {},
   "source": [
    "### 4) CSV 파일 저장"
   ]
  },
  {
   "cell_type": "code",
   "execution_count": 27,
   "id": "cceb0f73",
   "metadata": {},
   "outputs": [],
   "source": [
    "# 파일명 설정\n",
    "file_name = \"submission_test1_naive.csv\""
   ]
  },
  {
   "cell_type": "code",
   "execution_count": 28,
   "id": "bb3304e1",
   "metadata": {},
   "outputs": [],
   "source": [
    "# 파일 생성\n",
    "submission.to_csv(file_name)"
   ]
  },
  {
   "cell_type": "markdown",
   "id": "30eb41d4",
   "metadata": {},
   "source": [
    "---"
   ]
  },
  {
   "cell_type": "markdown",
   "id": "bb0c32ce",
   "metadata": {},
   "source": [
    "# 테스트 회고"
   ]
  },
  {
   "cell_type": "markdown",
   "id": "38fdf9e8",
   "metadata": {},
   "source": [
    "1. `OOM Error`로 인해 `MAX_LEN`를 크게 테스트 해보지 못했다. (ex: `300`)\n",
    "2. 검증 데이터를 임의로 설정하였다. (`train.csv` 파일로부터)\n",
    "3. 데이터에 대해 전처리를 하지 않고 모델 실행에만 목적을 두어보았다.\n",
    "4. 추가로 `model.compile()`에서 Metrics 항목을 추가하려고 했는데 잘못 선언했던것 같다. (현재는 `accuracy`만 설정하여 훈련함)"
   ]
  }
 ],
 "metadata": {
  "kernelspec": {
   "display_name": "Python 3 (ipykernel)",
   "language": "python",
   "name": "python3"
  },
  "language_info": {
   "codemirror_mode": {
    "name": "ipython",
    "version": 3
   },
   "file_extension": ".py",
   "mimetype": "text/x-python",
   "name": "python",
   "nbconvert_exporter": "python",
   "pygments_lexer": "ipython3",
   "version": "3.9.7"
  }
 },
 "nbformat": 4,
 "nbformat_minor": 5
}
